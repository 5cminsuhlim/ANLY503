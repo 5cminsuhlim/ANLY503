{
 "cells": [
  {
   "cell_type": "code",
   "execution_count": 1,
   "id": "ecacf861",
   "metadata": {},
   "outputs": [
    {
     "name": "stderr",
     "output_type": "stream",
     "text": [
      "/var/folders/0l/7994y9sn0l1d6cxc7lqc26p80000gn/T/ipykernel_92553/2368589522.py:20: DeprecationWarning:\n",
      "\n",
      "`set_matplotlib_formats` is deprecated since IPython 7.23, directly use `matplotlib_inline.backend_inline.set_matplotlib_formats()`\n",
      "\n"
     ]
    },
    {
     "name": "stdout",
     "output_type": "stream",
     "text": [
      "{\"/Users/jameshickman/miniconda3/envs/anly503/lib/python3.10/importlib/_bootstrap.py\": 1669106276.0, \"/Users/jameshickman/miniconda3/envs/anly503/lib/python3.10/importlib/_bootstrap_external.py\": 1669106276.0, \"/Users/jameshickman/miniconda3/envs/anly503/lib/python3.10/codecs.py\": 1669106273.0, \"/Users/jameshickman/miniconda3/envs/anly503/lib/python3.10/encodings/aliases.py\": 1669106275.0, \"/Users/jameshickman/miniconda3/envs/anly503/lib/python3.10/encodings/__init__.py\": 1669106275.0, \"/Users/jameshickman/miniconda3/envs/anly503/lib/python3.10/encodings/utf_8.py\": 1669106276.0, \"/Users/jameshickman/miniconda3/envs/anly503/lib/python3.10/abc.py\": 1669106273.0, \"/Users/jameshickman/miniconda3/envs/anly503/lib/python3.10/io.py\": 1669106274.0, \"/Users/jameshickman/miniconda3/envs/anly503/lib/python3.10/stat.py\": 1669106274.0, \"/Users/jameshickman/miniconda3/envs/anly503/lib/python3.10/_collections_abc.py\": 1669106273.0, \"/Users/jameshickman/miniconda3/envs/anly503/lib/python3.10/genericpath.py\": 1669106274.0, \"/Users/jameshickman/miniconda3/envs/anly503/lib/python3.10/posixpath.py\": 1669106274.0, \"/Users/jameshickman/miniconda3/envs/anly503/lib/python3.10/os.py\": 1669106274.0, \"/Users/jameshickman/miniconda3/envs/anly503/lib/python3.10/_sitebuiltins.py\": 1669106273.0, \"/Users/jameshickman/miniconda3/envs/anly503/lib/python3.10/site-packages/_distutils_hack/__init__.py\": 1673837147.0, \"/Users/jameshickman/miniconda3/envs/anly503/lib/python3.10/types.py\": 1669106274.0, \"/Users/jameshickman/miniconda3/envs/anly503/lib/python3.10/warnings.py\": 1669106274.0, \"/Users/jameshickman/miniconda3/envs/anly503/lib/python3.10/importlib/__init__.py\": 1669106276.0, \"/Users/jameshickman/miniconda3/envs/anly503/lib/python3.10/importlib/_abc.py\": 1669106276.0, \"/Users/jameshickman/miniconda3/envs/anly503/lib/python3.10/keyword.py\": 1669106274.0, \"/Users/jameshickman/miniconda3/envs/anly503/lib/python3.10/operator.py\": 1669106274.0, \"/Users/jameshickman/miniconda3/envs/anly503/lib/python3.10/reprlib.py\": 1669106274.0, \"/Users/jameshickman/miniconda3/envs/anly503/lib/python3.10/collections/__init__.py\": 1669106274.0, \"/Users/jameshickman/miniconda3/envs/anly503/lib/python3.10/functools.py\": 1669106273.0, \"/Users/jameshickman/miniconda3/envs/anly503/lib/python3.10/contextlib.py\": 1669106273.0, \"/Users/jameshickman/miniconda3/envs/anly503/lib/python3.10/importlib/util.py\": 1669106276.0, \"/Users/jameshickman/miniconda3/envs/anly503/lib/python3.10/importlib/machinery.py\": 1669106276.0, \"/Users/jameshickman/miniconda3/envs/anly503/lib/python3.10/site.py\": 1669106274.0, \"/Users/jameshickman/miniconda3/envs/anly503/lib/python3.10/runpy.py\": 1669106274.0, \"/Users/jameshickman/miniconda3/envs/anly503/lib/python3.10/enum.py\": 1669106273.0, \"/Users/jameshickman/miniconda3/envs/anly503/lib/python3.10/sre_constants.py\": 1669106274.0, \"/Users/jameshickman/miniconda3/envs/anly503/lib/python3.10/sre_parse.py\": 1669106274.0, \"/Users/jameshickman/miniconda3/envs/anly503/lib/python3.10/sre_compile.py\": 1669106274.0, \"/Users/jameshickman/miniconda3/envs/anly503/lib/python3.10/copyreg.py\": 1669106273.0, \"/Users/jameshickman/miniconda3/envs/anly503/lib/python3.10/re.py\": 1669106274.0, \"/Users/jameshickman/miniconda3/envs/anly503/lib/python3.10/collections/abc.py\": 1669106274.0, \"/Users/jameshickman/miniconda3/envs/anly503/lib/python3.10/typing.py\": 1669106274.0, \"/Users/jameshickman/miniconda3/envs/anly503/lib/python3.10/site-packages/ipykernel/_version.py\": 1673895061.758145, \"/Users/jameshickman/miniconda3/envs/anly503/lib/python3.10/lib-dynload/_json.cpython-310-darwin.so\": 1669106324.0, \"/Users/jameshickman/miniconda3/envs/anly503/lib/python3.10/json/scanner.py\": 1669106276.0, \"/Users/jameshickman/miniconda3/envs/anly503/lib/python3.10/json/decoder.py\": 1669106276.0, \"/Users/jameshickman/miniconda3/envs/anly503/lib/python3.10/json/encoder.py\": 1669106276.0, \"/Users/jameshickman/miniconda3/envs/anly503/lib/python3.10/json/__init__.py\": 1669106276.0, \"/Users/jameshickman/miniconda3/envs/anly503/lib/python3.10/signal.py\": 1669106274.0, \"/Users/jameshickman/miniconda3/envs/anly503/lib/python3.10/_weakrefset.py\": 1669106273.0, \"/Users/jameshickman/miniconda3/envs/anly503/lib/python3.10/threading.py\": 1669106274.0, \"/Users/jameshickman/miniconda3/envs/anly503/lib/python3.10/lib-dynload/fcntl.cpython-310-darwin.so\": 1669106326.0, \"/Users/jameshickman/miniconda3/envs/anly503/lib/python3.10/lib-dynload/_posixsubprocess.cpython-310-darwin.so\": 1669106324.0, \"/Users/jameshickman/miniconda3/envs/anly503/lib/python3.10/lib-dynload/select.cpython-310-darwin.so\": 1669106324.0, \"/Users/jameshickman/miniconda3/envs/anly503/lib/python3.10/lib-dynload/math.cpython-310-darwin.so\": 1669106324.0, \"/Users/jameshickman/miniconda3/envs/anly503/lib/python3.10/selectors.py\": 1669106274.0, \"/Users/jameshickman/miniconda3/envs/anly503/lib/python3.10/subprocess.py\": 1669106274.0, \"/Users/jameshickman/miniconda3/envs/anly503/lib/python3.10/site-packages/jupyter_client/_version.py\": 1673616102.959195, \"/Users/jameshickman/miniconda3/envs/anly503/lib/python3.10/ast.py\": 1669106273.0, \"/Users/jameshickman/miniconda3/envs/anly503/lib/python3.10/lib-dynload/_opcode.cpython-310-darwin.so\": 1669106322.0, \"/Users/jameshickman/miniconda3/envs/anly503/lib/python3.10/opcode.py\": 1669106274.0, \"/Users/jameshickman/miniconda3/envs/anly503/lib/python3.10/dis.py\": 1669106273.0, \"/Users/jameshickman/miniconda3/envs/anly503/lib/python3.10/token.py\": 1669106274.0, \"/Users/jameshickman/miniconda3/envs/anly503/lib/python3.10/tokenize.py\": 1669106274.0, \"/Users/jameshickman/miniconda3/envs/anly503/lib/python3.10/linecache.py\": 1669106274.0, \"/Users/jameshickman/miniconda3/envs/anly503/lib/python3.10/inspect.py\": 1669106274.0, \"/Users/jameshickman/miniconda3/envs/anly503/lib/python3.10/fnmatch.py\": 1669106273.0, \"/Users/jameshickman/miniconda3/envs/anly503/lib/python3.10/ntpath.py\": 1669106274.0, \"/Users/jameshickman/miniconda3/envs/anly503/lib/python3.10/urllib/__init__.py\": 1669106277.0, \"/Users/jameshickman/miniconda3/envs/anly503/lib/python3.10/urllib/parse.py\": 1669106277.0, \"/Users/jameshickman/miniconda3/envs/anly503/lib/python3.10/pathlib.py\": 1669106274.0, \"/Users/jameshickman/miniconda3/envs/anly503/lib/python3.10/site-packages/traitlets/utils/__init__.py\": 1673360127.083274, \"/Users/jameshickman/miniconda3/envs/anly503/lib/python3.10/site-packages/traitlets/utils/bunch.py\": 1673360127.083274, \"/Users/jameshickman/miniconda3/envs/anly503/lib/python3.10/site-packages/traitlets/utils/descriptions.py\": 1673360127.083274, \"/Users/jameshickman/miniconda3/envs/anly503/lib/python3.10/site-packages/traitlets/utils/getargspec.py\": 1673360127.083274, \"/Users/jameshickman/miniconda3/envs/anly503/lib/python3.10/site-packages/traitlets/utils/importstring.py\": 1673360127.083274, \"/Users/jameshickman/miniconda3/envs/anly503/lib/python3.10/site-packages/traitlets/utils/sentinel.py\": 1673360127.083274, \"/Users/jameshickman/miniconda3/envs/anly503/lib/python3.10/site-packages/traitlets/traitlets.py\": 1673360127.075274, \"/Users/jameshickman/miniconda3/envs/anly503/lib/python3.10/site-packages/traitlets/_version.py\": 1673360127.075274, \"/Users/jameshickman/miniconda3/envs/anly503/lib/python3.10/weakref.py\": 1669106274.0, \"/Users/jameshickman/miniconda3/envs/anly503/lib/python3.10/copy.py\": 1669106273.0, \"/Users/jameshickman/miniconda3/envs/anly503/lib/python3.10/site-packages/traitlets/utils/decorators.py\": 1673360127.083274, \"/Users/jameshickman/miniconda3/envs/anly503/lib/python3.10/site-packages/traitlets/__init__.py\": 1673360127.075274, \"/Users/jameshickman/miniconda3/envs/anly503/lib/python3.10/concurrent/__init__.py\": 1669106274.0, \"/Users/jameshickman/miniconda3/envs/anly503/lib/python3.10/traceback.py\": 1669106274.0, \"/Users/jameshickman/miniconda3/envs/anly503/lib/python3.10/string.py\": 1669106274.0, \"/Users/jameshickman/miniconda3/envs/anly503/lib/python3.10/logging/__init__.py\": 1669106277.0, \"/Users/jameshickman/miniconda3/envs/anly503/lib/python3.10/concurrent/futures/_base.py\": 1669106274.0, \"/Users/jameshickman/miniconda3/envs/anly503/lib/python3.10/concurrent/futures/__init__.py\": 1669106274.0, \"/Users/jameshickman/miniconda3/envs/anly503/lib/python3.10/lib-dynload/_heapq.cpython-310-darwin.so\": 1669106325.0, \"/Users/jameshickman/miniconda3/envs/anly503/lib/python3.10/heapq.py\": 1669106274.0, \"/Users/jameshickman/miniconda3/envs/anly503/lib/python3.10/lib-dynload/_socket.cpython-310-darwin.so\": 1669106318.0, \"/Users/jameshickman/miniconda3/envs/anly503/lib/python3.10/lib-dynload/array.cpython-310-darwin.so\": 1669106327.0, \"/Users/jameshickman/miniconda3/envs/anly503/lib/python3.10/socket.py\": 1669106274.0, \"/Users/jameshickman/miniconda3/envs/anly503/lib/python3.10/lib-dynload/_ssl.cpython-310-darwin.so\": 1669106325.0, \"/Users/jameshickman/miniconda3/envs/anly503/lib/python3.10/lib-dynload/_struct.cpython-310-darwin.so\": 1669106326.0, \"/Users/jameshickman/miniconda3/envs/anly503/lib/python3.10/struct.py\": 1669106274.0, \"/Users/jameshickman/miniconda3/envs/anly503/lib/python3.10/lib-dynload/binascii.cpython-310-darwin.so\": 1669106314.0, \"/Users/jameshickman/miniconda3/envs/anly503/lib/python3.10/base64.py\": 1669106273.0, \"/Users/jameshickman/miniconda3/envs/anly503/lib/python3.10/ssl.py\": 1669106274.0, \"/Users/jameshickman/miniconda3/envs/anly503/lib/python3.10/asyncio/constants.py\": 1669106274.0, \"/Users/jameshickman/miniconda3/envs/anly503/lib/python3.10/asyncio/format_helpers.py\": 1669106274.0, \"/Users/jameshickman/miniconda3/envs/anly503/lib/python3.10/asyncio/base_futures.py\": 1669106274.0, \"/Users/jameshickman/miniconda3/envs/anly503/lib/python3.10/asyncio/log.py\": 1669106274.0, \"/Users/jameshickman/miniconda3/envs/anly503/lib/python3.10/asyncio/coroutines.py\": 1669106274.0, \"/Users/jameshickman/miniconda3/envs/anly503/lib/python3.10/lib-dynload/_contextvars.cpython-310-darwin.so\": 1669106323.0, \"/Users/jameshickman/miniconda3/envs/anly503/lib/python3.10/contextvars.py\": 1669106273.0, \"/Users/jameshickman/miniconda3/envs/anly503/lib/python3.10/asyncio/exceptions.py\": 1669106274.0, \"/Users/jameshickman/miniconda3/envs/anly503/lib/python3.10/asyncio/base_tasks.py\": 1669106274.0, \"/Users/jameshickman/miniconda3/envs/anly503/lib/python3.10/lib-dynload/_asyncio.cpython-310-darwin.so\": 1669106319.0, \"/Users/jameshickman/miniconda3/envs/anly503/lib/python3.10/asyncio/events.py\": 1669106274.0, \"/Users/jameshickman/miniconda3/envs/anly503/lib/python3.10/asyncio/futures.py\": 1669106274.0, \"/Users/jameshickman/miniconda3/envs/anly503/lib/python3.10/asyncio/protocols.py\": 1669106274.0, \"/Users/jameshickman/miniconda3/envs/anly503/lib/python3.10/asyncio/transports.py\": 1669106274.0, \"/Users/jameshickman/miniconda3/envs/anly503/lib/python3.10/asyncio/sslproto.py\": 1669106274.0, \"/Users/jameshickman/miniconda3/envs/anly503/lib/python3.10/asyncio/mixins.py\": 1669106274.0, \"/Users/jameshickman/miniconda3/envs/anly503/lib/python3.10/asyncio/tasks.py\": 1669106274.0, \"/Users/jameshickman/miniconda3/envs/anly503/lib/python3.10/asyncio/locks.py\": 1669106274.0, \"/Users/jameshickman/miniconda3/envs/anly503/lib/python3.10/asyncio/staggered.py\": 1669106274.0, \"/Users/jameshickman/miniconda3/envs/anly503/lib/python3.10/asyncio/trsock.py\": 1669106274.0, \"/Users/jameshickman/miniconda3/envs/anly503/lib/python3.10/asyncio/base_events.py\": 1669106274.0, \"/Users/jameshickman/miniconda3/envs/anly503/lib/python3.10/asyncio/runners.py\": 1669106274.0, \"/Users/jameshickman/miniconda3/envs/anly503/lib/python3.10/asyncio/queues.py\": 1669106274.0, \"/Users/jameshickman/miniconda3/envs/anly503/lib/python3.10/asyncio/streams.py\": 1669106274.0, \"/Users/jameshickman/miniconda3/envs/anly503/lib/python3.10/asyncio/subprocess.py\": 1669106274.0, \"/Users/jameshickman/miniconda3/envs/anly503/lib/python3.10/asyncio/threads.py\": 1669106274.0, \"/Users/jameshickman/miniconda3/envs/anly503/lib/python3.10/asyncio/base_subprocess.py\": 1669106274.0, \"/Users/jameshickman/miniconda3/envs/anly503/lib/python3.10/asyncio/selector_events.py\": 1669106274.0, \"/Users/jameshickman/miniconda3/envs/anly503/lib/python3.10/asyncio/unix_events.py\": 1669106274.0, \"/Users/jameshickman/miniconda3/envs/anly503/lib/python3.10/asyncio/__init__.py\": 1669106274.0, \"/Users/jameshickman/miniconda3/envs/anly503/lib/python3.10/lib-dynload/_queue.cpython-310-darwin.so\": 1669106326.0, \"/Users/jameshickman/miniconda3/envs/anly503/lib/python3.10/queue.py\": 1669106274.0, \"/Users/jameshickman/miniconda3/envs/anly503/lib/python3.10/platform.py\": 1669106274.0, \"/Users/jameshickman/miniconda3/envs/anly503/lib/python3.10/lib-dynload/_ctypes.cpython-310-darwin.so\": 1669106318.0, \"/Users/jameshickman/miniconda3/envs/anly503/lib/python3.10/ctypes/_endian.py\": 1669106274.0, \"/Users/jameshickman/miniconda3/envs/anly503/lib/python3.10/ctypes/__init__.py\": 1669106274.0, \"/Users/jameshickman/miniconda3/envs/anly503/lib/python3.10/site-packages/zmq/backend/select.py\": 1673613104.684652, \"/Users/jameshickman/miniconda3/envs/anly503/lib/python3.10/site-packages/zmq/error.py\": 1673613104.679361, \"/Users/jameshickman/miniconda3/envs/anly503/lib/python3.10/site-packages/zmq/backend/cython/context.cpython-310-darwin.so\": 1673613112.401803, \"/Users/jameshickman/miniconda3/envs/anly503/lib/python3.10/site-packages/zmq/backend/cython/message.cpython-310-darwin.so\": 1673613112.600654, \"/Users/jameshickman/miniconda3/envs/anly503/lib/python3.10/lib-dynload/_bisect.cpython-310-darwin.so\": 1669106314.0, \"/Users/jameshickman/miniconda3/envs/anly503/lib/python3.10/bisect.py\": 1669106273.0, \"/Users/jameshickman/miniconda3/envs/anly503/lib/python3.10/lib-dynload/_random.cpython-310-darwin.so\": 1669106322.0, \"/Users/jameshickman/miniconda3/envs/anly503/lib/python3.10/lib-dynload/_sha512.cpython-310-darwin.so\": 1669106317.0, \"/Users/jameshickman/miniconda3/envs/anly503/lib/python3.10/random.py\": 1669106274.0, \"/Users/jameshickman/miniconda3/envs/anly503/lib/python3.10/_compat_pickle.py\": 1669106273.0, \"/Users/jameshickman/miniconda3/envs/anly503/lib/python3.10/lib-dynload/_pickle.cpython-310-darwin.so\": 1669106323.0, \"/Users/jameshickman/miniconda3/envs/anly503/lib/python3.10/pickle.py\": 1669106274.0, \"/Users/jameshickman/miniconda3/envs/anly503/lib/python3.10/site-packages/zmq/constants.py\": 1673613104.678103, \"/Users/jameshickman/miniconda3/envs/anly503/lib/python3.10/site-packages/zmq/backend/cython/socket.cpython-310-darwin.so\": 1673613110.953539, \"/Users/jameshickman/miniconda3/envs/anly503/lib/python3.10/site-packages/zmq/backend/cython/_device.cpython-310-darwin.so\": 1673613113.001624, \"/Users/jameshickman/miniconda3/envs/anly503/lib/python3.10/site-packages/zmq/backend/cython/_poll.cpython-310-darwin.so\": 1673613111.183723, \"/Users/jameshickman/miniconda3/envs/anly503/lib/python3.10/site-packages/zmq/backend/cython/_proxy_steerable.cpython-310-darwin.so\": 1673613112.176838, \"/Users/jameshickman/miniconda3/envs/anly503/lib/python3.10/site-packages/zmq/backend/cython/_version.cpython-310-darwin.so\": 1673613112.801817, \"/Users/jameshickman/miniconda3/envs/anly503/lib/python3.10/site-packages/zmq/backend/cython/error.cpython-310-darwin.so\": 1673613111.85462, \"/Users/jameshickman/miniconda3/envs/anly503/lib/python3.10/site-packages/zmq/backend/cython/utils.cpython-310-darwin.so\": 1673613111.621219, \"/Users/jameshickman/miniconda3/envs/anly503/lib/python3.10/site-packages/zmq/backend/cython/__init__.py\": 1673613104.69056, \"/Users/jameshickman/miniconda3/envs/anly503/lib/python3.10/site-packages/zmq/backend/__init__.py\": 1673613104.683656, \"/Users/jameshickman/miniconda3/envs/anly503/lib/python3.10/site-packages/zmq/utils/__init__.py\": 1673613104.744128, \"/Users/jameshickman/miniconda3/envs/anly503/lib/python3.10/site-packages/zmq/utils/interop.py\": 1673613104.747358, \"/Users/jameshickman/miniconda3/envs/anly503/lib/python3.10/site-packages/zmq/sugar/attrsettr.py\": 1673613104.719623, \"/Users/jameshickman/miniconda3/envs/anly503/lib/python3.10/site-packages/zmq/_typing.py\": 1673613104.676987, \"/Users/jameshickman/miniconda3/envs/anly503/lib/python3.10/site-packages/zmq/utils/jsonapi.py\": 1673613104.748381, \"/Users/jameshickman/miniconda3/envs/anly503/lib/python3.10/site-packages/zmq/sugar/poll.py\": 1673613104.721302, \"/Users/jameshickman/miniconda3/envs/anly503/lib/python3.10/site-packages/zmq/sugar/socket.py\": 1673613104.721937, \"/Users/jameshickman/miniconda3/envs/anly503/lib/python3.10/site-packages/zmq/sugar/context.py\": 1673613104.720181, \"/Users/jameshickman/miniconda3/envs/anly503/lib/python3.10/site-packages/zmq/sugar/frame.py\": 1673613104.72071, \"/Users/jameshickman/miniconda3/envs/anly503/lib/python3.10/site-packages/zmq/sugar/tracker.py\": 1673613104.723083, \"/Users/jameshickman/miniconda3/envs/anly503/lib/python3.10/site-packages/zmq/sugar/version.py\": 1673613104.723586, \"/Users/jameshickman/miniconda3/envs/anly503/lib/python3.10/site-packages/zmq/sugar/stopwatch.py\": 1673613104.722531, \"/Users/jameshickman/miniconda3/envs/anly503/lib/python3.10/site-packages/zmq/sugar/__init__.py\": 1673613104.718454, \"/Users/jameshickman/miniconda3/envs/anly503/lib/python3.10/site-packages/zmq/__init__.py\": 1673613104.675393, \"/Users/jameshickman/miniconda3/envs/anly503/lib/python3.10/site-packages/zmq/_future.py\": 1673613104.67649, \"/Users/jameshickman/miniconda3/envs/anly503/lib/python3.10/site-packages/zmq/asyncio.py\": 1673613104.677499, \"/Users/jameshickman/miniconda3/envs/anly503/lib/python3.10/site-packages/jupyter_client/channelsabc.py\": 1673616102.959195, \"/Users/jameshickman/miniconda3/envs/anly503/lib/python3.10/lib-dynload/_hashlib.cpython-310-darwin.so\": 1669106323.0, \"/Users/jameshickman/miniconda3/envs/anly503/lib/python3.10/lib-dynload/_blake2.cpython-310-darwin.so\": 1669106316.0, \"/Users/jameshickman/miniconda3/envs/anly503/lib/python3.10/hashlib.py\": 1669106274.0, \"/Users/jameshickman/miniconda3/envs/anly503/lib/python3.10/hmac.py\": 1669106274.0, \"/Users/jameshickman/miniconda3/envs/anly503/lib/python3.10/dataclasses.py\": 1669106273.0, \"/Users/jameshickman/miniconda3/envs/anly503/lib/python3.10/pprint.py\": 1669106274.0, \"/Users/jameshickman/miniconda3/envs/anly503/lib/python3.10/lib-dynload/_datetime.cpython-310-darwin.so\": 1669106320.0, \"/Users/jameshickman/miniconda3/envs/anly503/lib/python3.10/datetime.py\": 1669106273.0, \"/Users/jameshickman/miniconda3/envs/anly503/lib/python3.10/site-packages/tornado/__init__.py\": 1666788909.0, \"/Users/jameshickman/miniconda3/envs/anly503/lib/python3.10/numbers.py\": 1669106274.0, \"/Users/jameshickman/miniconda3/envs/anly503/lib/python3.10/logging/handlers.py\": 1669106277.0, \"/Users/jameshickman/miniconda3/envs/anly503/lib/python3.10/html/entities.py\": 1669106276.0, \"/Users/jameshickman/miniconda3/envs/anly503/lib/python3.10/html/__init__.py\": 1669106276.0, \"/Users/jameshickman/miniconda3/envs/anly503/lib/python3.10/lib-dynload/zlib.cpython-310-darwin.so\": 1669106326.0, \"/Users/jameshickman/miniconda3/envs/anly503/lib/python3.10/site-packages/tornado/speedups.abi3.so\": 1666788913.0, \"/Users/jameshickman/miniconda3/envs/anly503/lib/python3.10/site-packages/tornado/util.py\": 1666788909.0, \"/Users/jameshickman/miniconda3/envs/anly503/lib/python3.10/site-packages/tornado/escape.py\": 1666788909.0, \"/Users/jameshickman/miniconda3/envs/anly503/lib/python3.10/site-packages/colorama/ansi.py\": 1666700775.0, \"/Users/jameshickman/miniconda3/envs/anly503/lib/python3.10/site-packages/colorama/win32.py\": 1666700775.0, \"/Users/jameshickman/miniconda3/envs/anly503/lib/python3.10/site-packages/colorama/winterm.py\": 1666700775.0, \"/Users/jameshickman/miniconda3/envs/anly503/lib/python3.10/site-packages/colorama/ansitowin32.py\": 1666700775.0, \"/Users/jameshickman/miniconda3/envs/anly503/lib/python3.10/site-packages/colorama/initialise.py\": 1666700775.0, \"/Users/jameshickman/miniconda3/envs/anly503/lib/python3.10/site-packages/colorama/__init__.py\": 1666700775.0, \"/Users/jameshickman/miniconda3/envs/anly503/lib/python3.10/lib-dynload/_curses.cpython-310-darwin.so\": 1669106326.0, \"/Users/jameshickman/miniconda3/envs/anly503/lib/python3.10/curses/__init__.py\": 1669106274.0, \"/Users/jameshickman/miniconda3/envs/anly503/lib/python3.10/site-packages/tornado/log.py\": 1666788909.0, \"/Users/jameshickman/miniconda3/envs/anly503/lib/python3.10/site-packages/tornado/concurrent.py\": 1666788909.0, \"/Users/jameshickman/miniconda3/envs/anly503/lib/python3.10/site-packages/tornado/ioloop.py\": 1666788909.0, \"/Users/jameshickman/miniconda3/envs/anly503/lib/python3.10/socketserver.py\": 1669106274.0, \"/Users/jameshickman/miniconda3/envs/anly503/lib/python3.10/logging/config.py\": 1669106277.0, \"/Users/jameshickman/miniconda3/envs/anly503/lib/python3.10/textwrap.py\": 1669106274.0, \"/Users/jameshickman/miniconda3/envs/anly503/lib/python3.10/site-packages/traitlets/utils/text.py\": 1673360127.083274, \"/Users/jameshickman/miniconda3/envs/anly503/lib/python3.10/gettext.py\": 1669106274.0, \"/Users/jameshickman/miniconda3/envs/anly503/lib/python3.10/argparse.py\": 1669106273.0, \"/Users/jameshickman/miniconda3/envs/anly503/lib/python3.10/site-packages/traitlets/config/loader.py\": 1673360127.079274, \"/Users/jameshickman/miniconda3/envs/anly503/lib/python3.10/site-packages/traitlets/config/configurable.py\": 1673360127.079274, \"/Users/jameshickman/miniconda3/envs/anly503/lib/python3.10/site-packages/traitlets/utils/nested_update.py\": 1673360127.083274, \"/Users/jameshickman/miniconda3/envs/anly503/lib/python3.10/site-packages/traitlets/config/application.py\": 1673360127.075274, \"/Users/jameshickman/miniconda3/envs/anly503/lib/python3.10/site-packages/traitlets/config/__init__.py\": 1673360127.075274, \"/Users/jameshickman/miniconda3/envs/anly503/lib/python3.10/site-packages/traitlets/log.py\": 1673360127.075274, \"/Users/jameshickman/miniconda3/envs/anly503/lib/python3.10/site-packages/zmq/eventloop/__init__.py\": 1673613104.70834, \"/Users/jameshickman/miniconda3/envs/anly503/lib/python3.10/site-packages/zmq/eventloop/zmqstream.py\": 1673613104.710598, \"/Users/jameshickman/miniconda3/envs/anly503/lib/python3.10/site-packages/jupyter_client/adapter.py\": 1673616102.959195, \"/Users/jameshickman/miniconda3/envs/anly503/lib/python3.10/site-packages/dateutil/_version.py\": 1626286447.0, \"/Users/jameshickman/miniconda3/envs/anly503/lib/python3.10/site-packages/dateutil/__init__.py\": 1626286447.0, \"/Users/jameshickman/miniconda3/envs/anly503/lib/python3.10/__future__.py\": 1669106273.0, \"/Users/jameshickman/miniconda3/envs/anly503/lib/python3.10/locale.py\": 1669106274.0, \"/Users/jameshickman/miniconda3/envs/anly503/lib/python3.10/calendar.py\": 1669106273.0, \"/Users/jameshickman/miniconda3/envs/anly503/lib/python3.10/site-packages/six.py\": 1620240337.0, \"/Users/jameshickman/miniconda3/envs/anly503/lib/python3.10/lib-dynload/_decimal.cpython-310-darwin.so\": 1669106323.0, \"/Users/jameshickman/miniconda3/envs/anly503/lib/python3.10/decimal.py\": 1669106273.0, \"/Users/jameshickman/miniconda3/envs/anly503/lib/python3.10/site-packages/dateutil/_common.py\": 1626286447.0, \"/Users/jameshickman/miniconda3/envs/anly503/lib/python3.10/site-packages/dateutil/relativedelta.py\": 1626286447.0, \"/Users/jameshickman/miniconda3/envs/anly503/lib/python3.10/site-packages/dateutil/tz/_common.py\": 1626286447.0, \"/Users/jameshickman/miniconda3/envs/anly503/lib/python3.10/site-packages/dateutil/tz/_factories.py\": 1626286447.0, \"/Users/jameshickman/miniconda3/envs/anly503/lib/python3.10/site-packages/dateutil/tz/tz.py\": 1626286447.0, \"/Users/jameshickman/miniconda3/envs/anly503/lib/python3.10/site-packages/dateutil/tz/__init__.py\": 1626286447.0, \"/Users/jameshickman/miniconda3/envs/anly503/lib/python3.10/site-packages/dateutil/parser/_parser.py\": 1626286447.0, \"/Users/jameshickman/miniconda3/envs/anly503/lib/python3.10/site-packages/dateutil/parser/isoparser.py\": 1626286447.0, \"/Users/jameshickman/miniconda3/envs/anly503/lib/python3.10/site-packages/dateutil/parser/__init__.py\": 1626286447.0, \"/Users/jameshickman/miniconda3/envs/anly503/lib/python3.10/_strptime.py\": 1669106273.0, \"/Users/jameshickman/miniconda3/envs/anly503/lib/python3.10/site-packages/jupyter_client/jsonutil.py\": 1673616102.963195, \"/Users/jameshickman/miniconda3/envs/anly503/lib/python3.10/site-packages/jupyter_client/session.py\": 1673616102.963195, \"/Users/jameshickman/miniconda3/envs/anly503/lib/python3.10/site-packages/jupyter_client/channels.py\": 1673616102.959195, \"/Users/jameshickman/miniconda3/envs/anly503/lib/python3.10/lib-dynload/termios.cpython-310-darwin.so\": 1669106316.0, \"/Users/jameshickman/miniconda3/envs/anly503/lib/python3.10/getpass.py\": 1669106274.0, \"/Users/jameshickman/miniconda3/envs/anly503/lib/python3.10/site-packages/jupyter_client/clientabc.py\": 1673616102.959195, \"/Users/jameshickman/miniconda3/envs/anly503/lib/python3.10/glob.py\": 1669106274.0, \"/Users/jameshickman/miniconda3/envs/anly503/lib/python3.10/_compression.py\": 1669106273.0, \"/Users/jameshickman/miniconda3/envs/anly503/lib/python3.10/lib-dynload/_bz2.cpython-310-darwin.so\": 1669106321.0, \"/Users/jameshickman/miniconda3/envs/anly503/lib/python3.10/bz2.py\": 1669106273.0, \"/Users/jameshickman/miniconda3/envs/anly503/lib/python3.10/lib-dynload/_lzma.cpython-310-darwin.so\": 1669106314.0, \"/Users/jameshickman/miniconda3/envs/anly503/lib/python3.10/lzma.py\": 1669106274.0, \"/Users/jameshickman/miniconda3/envs/anly503/lib/python3.10/shutil.py\": 1669106274.0, \"/Users/jameshickman/miniconda3/envs/anly503/lib/python3.10/tempfile.py\": 1669106274.0, \"/Users/jameshickman/miniconda3/envs/anly503/lib/python3.10/site-packages/jupyter_core/version.py\": 1673310498.0, \"/Users/jameshickman/miniconda3/envs/anly503/lib/python3.10/site-packages/jupyter_core/__init__.py\": 1673310498.0, \"/Users/jameshickman/miniconda3/envs/anly503/lib/python3.10/site-packages/platformdirs/api.py\": 1672264984.016536, \"/Users/jameshickman/miniconda3/envs/anly503/lib/python3.10/site-packages/platformdirs/version.py\": 1672264984.016536, \"/Users/jameshickman/miniconda3/envs/anly503/lib/python3.10/site-packages/platformdirs/macos.py\": 1672264984.016536, \"/Users/jameshickman/miniconda3/envs/anly503/lib/python3.10/site-packages/platformdirs/__init__.py\": 1672264984.016536, \"/Users/jameshickman/miniconda3/envs/anly503/lib/python3.10/site-packages/jupyter_core/utils/__init__.py\": 1673310498.0, \"/Users/jameshickman/miniconda3/envs/anly503/lib/python3.10/site-packages/jupyter_core/paths.py\": 1673310498.0, \"/Users/jameshickman/miniconda3/envs/anly503/lib/python3.10/site-packages/jupyter_client/localinterfaces.py\": 1673616102.963195, \"/Users/jameshickman/miniconda3/envs/anly503/lib/python3.10/site-packages/jupyter_client/utils.py\": 1673616102.963195, \"/Users/jameshickman/miniconda3/envs/anly503/lib/python3.10/site-packages/jupyter_client/connect.py\": 1673616102.963195, \"/Users/jameshickman/miniconda3/envs/anly503/lib/python3.10/site-packages/jupyter_client/client.py\": 1673616102.959195, \"/Users/jameshickman/miniconda3/envs/anly503/lib/python3.10/site-packages/jupyter_client/asynchronous/client.py\": 1673616102.963195, \"/Users/jameshickman/miniconda3/envs/anly503/lib/python3.10/site-packages/jupyter_client/asynchronous/__init__.py\": 1673616102.963195, \"/Users/jameshickman/miniconda3/envs/anly503/lib/python3.10/site-packages/jupyter_client/blocking/client.py\": 1673616102.967195, \"/Users/jameshickman/miniconda3/envs/anly503/lib/python3.10/site-packages/jupyter_client/blocking/__init__.py\": 1673616102.963195, \"/Users/jameshickman/miniconda3/envs/anly503/lib/python3.10/site-packages/jupyter_client/launcher.py\": 1673616102.963195, \"/Users/jameshickman/miniconda3/envs/anly503/lib/python3.10/lib-dynload/_uuid.cpython-310-darwin.so\": 1669106320.0, \"/Users/jameshickman/miniconda3/envs/anly503/lib/python3.10/uuid.py\": 1669106274.0, \"/Users/jameshickman/miniconda3/envs/anly503/lib/python3.10/site-packages/jupyter_client/managerabc.py\": 1673616102.963195, \"/Users/jameshickman/miniconda3/envs/anly503/lib/python3.10/zipfile.py\": 1669106274.0, \"/Users/jameshickman/miniconda3/envs/anly503/lib/python3.10/configparser.py\": 1669106273.0, \"/Users/jameshickman/miniconda3/envs/anly503/lib/python3.10/site-packages/entrypoints.py\": 1643888355.0, \"/Users/jameshickman/miniconda3/envs/anly503/lib/python3.10/site-packages/jupyter_client/provisioning/provisioner_base.py\": 1673616102.967195, \"/Users/jameshickman/miniconda3/envs/anly503/lib/python3.10/site-packages/jupyter_client/provisioning/factory.py\": 1673616102.967195, \"/Users/jameshickman/miniconda3/envs/anly503/lib/python3.10/site-packages/jupyter_client/provisioning/local_provisioner.py\": 1673616102.967195, \"/Users/jameshickman/miniconda3/envs/anly503/lib/python3.10/site-packages/jupyter_client/provisioning/__init__.py\": 1673616102.967195, \"/Users/jameshickman/miniconda3/envs/anly503/lib/python3.10/site-packages/jupyter_client/kernelspec.py\": 1673616102.963195, \"/Users/jameshickman/miniconda3/envs/anly503/lib/python3.10/site-packages/jupyter_client/manager.py\": 1673616102.963195, \"/Users/jameshickman/miniconda3/envs/anly503/lib/python3.10/site-packages/jupyter_client/multikernelmanager.py\": 1673616102.963195, \"/Users/jameshickman/miniconda3/envs/anly503/lib/python3.10/site-packages/jupyter_client/__init__.py\": 1673616102.959195, \"/Users/jameshickman/miniconda3/envs/anly503/lib/python3.10/site-packages/ipykernel/connect.py\": 1673895061.759117, \"/Users/jameshickman/miniconda3/envs/anly503/lib/python3.10/site-packages/ipykernel/__init__.py\": 1673895061.756562, \"/Users/jameshickman/miniconda3/envs/anly503/lib/python3.10/site-packages/IPython/core/__init__.py\": 1672758871.0, \"/Users/jameshickman/miniconda3/envs/anly503/lib/python3.10/site-packages/IPython/core/getipython.py\": 1672758871.0, \"/Users/jameshickman/miniconda3/envs/anly503/lib/python3.10/site-packages/IPython/core/release.py\": 1672758871.0, \"/Users/jameshickman/miniconda3/envs/anly503/lib/python3.10/pkgutil.py\": 1669106274.0, \"/Users/jameshickman/miniconda3/envs/anly503/lib/python3.10/sysconfig.py\": 1669106274.0, \"/Users/jameshickman/miniconda3/envs/anly503/lib/python3.10/_sysconfigdata__darwin_darwin.py\": 1674068032.5235302, \"/Users/jameshickman/miniconda3/envs/anly503/lib/python3.10/_osx_support.py\": 1669106273.0, \"/Users/jameshickman/miniconda3/envs/anly503/lib/python3.10/pydoc.py\": 1669106274.0, \"/Users/jameshickman/miniconda3/envs/anly503/lib/python3.10/site-packages/executing/executing.py\": 1667317461.0, \"/Users/jameshickman/miniconda3/envs/anly503/lib/python3.10/site-packages/executing/version.py\": 1667317461.0, \"/Users/jameshickman/miniconda3/envs/anly503/lib/python3.10/site-packages/executing/__init__.py\": 1667317461.0, \"/Users/jameshickman/miniconda3/envs/anly503/lib/python3.10/site-packages/asttokens/line_numbers.py\": 1670264087.456879, \"/Users/jameshickman/miniconda3/envs/anly503/lib/python3.10/site-packages/asttokens/util.py\": 1670264087.456879, \"/Users/jameshickman/miniconda3/envs/anly503/lib/python3.10/site-packages/asttokens/asttokens.py\": 1670264087.456879, \"/Users/jameshickman/miniconda3/envs/anly503/lib/python3.10/site-packages/asttokens/__init__.py\": 1670264087.456879, \"/Users/jameshickman/miniconda3/envs/anly503/lib/python3.10/fractions.py\": 1669106273.0, \"/Users/jameshickman/miniconda3/envs/anly503/lib/python3.10/site-packages/pure_eval/utils.py\": 1642876053.0, \"/Users/jameshickman/miniconda3/envs/anly503/lib/python3.10/site-packages/pure_eval/my_getattr_static.py\": 1642876053.0, \"/Users/jameshickman/miniconda3/envs/anly503/lib/python3.10/site-packages/pure_eval/core.py\": 1642876053.0, \"/Users/jameshickman/miniconda3/envs/anly503/lib/python3.10/site-packages/pure_eval/version.py\": 1642876053.0, \"/Users/jameshickman/miniconda3/envs/anly503/lib/python3.10/site-packages/pure_eval/__init__.py\": 1642876053.0, \"/Users/jameshickman/miniconda3/envs/anly503/lib/python3.10/site-packages/stack_data/utils.py\": 1669632201.0, \"/Users/jameshickman/miniconda3/envs/anly503/lib/python3.10/site-packages/stack_data/core.py\": 1669632201.0, \"/Users/jameshickman/miniconda3/envs/anly503/lib/python3.10/site-packages/stack_data/formatting.py\": 1669632201.0, \"/Users/jameshickman/miniconda3/envs/anly503/lib/python3.10/site-packages/stack_data/serializing.py\": 1669632201.0, \"/Users/jameshickman/miniconda3/envs/anly503/lib/python3.10/site-packages/stack_data/version.py\": 1669632201.0, \"/Users/jameshickman/miniconda3/envs/anly503/lib/python3.10/site-packages/stack_data/__init__.py\": 1669632201.0, \"/Users/jameshickman/miniconda3/envs/anly503/lib/python3.10/site-packages/pygments/__init__.py\": 1672682133.014084, \"/Users/jameshickman/miniconda3/envs/anly503/lib/python3.10/site-packages/pygments/formatters/_mapping.py\": 1672682133.022084, \"/Users/jameshickman/miniconda3/envs/anly503/lib/python3.10/site-packages/pygments/plugin.py\": 1672682133.018084, \"/Users/jameshickman/miniconda3/envs/anly503/lib/python3.10/site-packages/pygments/util.py\": 1672682133.018084, \"/Users/jameshickman/miniconda3/envs/anly503/lib/python3.10/site-packages/pygments/formatters/__init__.py\": 1672682133.022084, \"/Users/jameshickman/miniconda3/envs/anly503/lib/python3.10/site-packages/pygments/styles/__init__.py\": 1672682133.090084, \"/Users/jameshickman/miniconda3/envs/anly503/lib/python3.10/site-packages/pygments/formatter.py\": 1672682133.018084, \"/Users/jameshickman/miniconda3/envs/anly503/lib/python3.10/site-packages/pygments/console.py\": 1672682133.014084, \"/Users/jameshickman/miniconda3/envs/anly503/lib/python3.10/site-packages/pygments/token.py\": 1672682133.018084, \"/Users/jameshickman/miniconda3/envs/anly503/lib/python3.10/site-packages/pygments/style.py\": 1672682133.018084, \"/Users/jameshickman/miniconda3/envs/anly503/lib/python3.10/site-packages/pygments/formatters/terminal256.py\": 1672682133.022084, \"/Users/jameshickman/miniconda3/envs/anly503/lib/python3.10/site-packages/IPython/utils/__init__.py\": 1672758871.0, \"/Users/jameshickman/miniconda3/envs/anly503/lib/python3.10/site-packages/IPython/utils/ipstruct.py\": 1672758871.0, \"/Users/jameshickman/miniconda3/envs/anly503/lib/python3.10/site-packages/IPython/utils/coloransi.py\": 1672758871.0, \"/Users/jameshickman/miniconda3/envs/anly503/lib/python3.10/site-packages/IPython/utils/colorable.py\": 1672758871.0, \"/Users/jameshickman/miniconda3/envs/anly503/lib/python3.10/site-packages/IPython/utils/PyColorize.py\": 1672758871.0, \"/Users/jameshickman/miniconda3/envs/anly503/lib/python3.10/site-packages/IPython/utils/encoding.py\": 1672758871.0, \"/Users/jameshickman/miniconda3/envs/anly503/lib/python3.10/site-packages/IPython/utils/py3compat.py\": 1672758871.0, \"/Users/jameshickman/miniconda3/envs/anly503/lib/python3.10/site-packages/IPython/core/excolors.py\": 1672758871.0, \"/Users/jameshickman/miniconda3/envs/anly503/lib/python3.10/cmd.py\": 1669106273.0, \"/Users/jameshickman/miniconda3/envs/anly503/lib/python3.10/bdb.py\": 1669106273.0, \"/Users/jameshickman/miniconda3/envs/anly503/lib/python3.10/codeop.py\": 1669106273.0, \"/Users/jameshickman/miniconda3/envs/anly503/lib/python3.10/code.py\": 1669106273.0, \"/Users/jameshickman/miniconda3/envs/anly503/lib/python3.10/pdb.py\": 1669106274.0, \"/Users/jameshickman/miniconda3/envs/anly503/lib/python3.10/site-packages/IPython/core/debugger.py\": 1672758871.0, \"/Users/jameshickman/miniconda3/envs/anly503/lib/python3.10/site-packages/IPython/core/display_trap.py\": 1672758871.0, \"/Users/jameshickman/miniconda3/envs/anly503/lib/python3.10/site-packages/pexpect/exceptions.py\": 1667297616.0, \"/Users/jameshickman/miniconda3/envs/anly503/lib/python3.10/site-packages/pexpect/utils.py\": 1667297616.0, \"/Users/jameshickman/miniconda3/envs/anly503/lib/python3.10/site-packages/pexpect/expect.py\": 1667297616.0, \"/Users/jameshickman/miniconda3/envs/anly503/lib/python3.10/tty.py\": 1669106274.0, \"/Users/jameshickman/miniconda3/envs/anly503/lib/python3.10/pty.py\": 1669106274.0, \"/Users/jameshickman/miniconda3/envs/anly503/lib/python3.10/lib-dynload/resource.cpython-310-darwin.so\": 1669106315.0, \"/Users/jameshickman/miniconda3/envs/anly503/lib/python3.10/site-packages/ptyprocess/util.py\": 1609419416.0, \"/Users/jameshickman/miniconda3/envs/anly503/lib/python3.10/site-packages/ptyprocess/ptyprocess.py\": 1609419416.0, \"/Users/jameshickman/miniconda3/envs/anly503/lib/python3.10/site-packages/ptyprocess/__init__.py\": 1609419416.0, \"/Users/jameshickman/miniconda3/envs/anly503/lib/python3.10/site-packages/pexpect/spawnbase.py\": 1667297616.0, \"/Users/jameshickman/miniconda3/envs/anly503/lib/python3.10/site-packages/pexpect/pty_spawn.py\": 1667297616.0, \"/Users/jameshickman/miniconda3/envs/anly503/lib/python3.10/site-packages/pexpect/run.py\": 1667297616.0, \"/Users/jameshickman/miniconda3/envs/anly503/lib/python3.10/site-packages/pexpect/__init__.py\": 1667297616.0, \"/Users/jameshickman/miniconda3/envs/anly503/lib/python3.10/shlex.py\": 1669106274.0, \"/Users/jameshickman/miniconda3/envs/anly503/lib/python3.10/site-packages/IPython/utils/_process_common.py\": 1672758871.0, \"/Users/jameshickman/miniconda3/envs/anly503/lib/python3.10/site-packages/IPython/utils/_process_posix.py\": 1672758871.0, \"/Users/jameshickman/miniconda3/envs/anly503/lib/python3.10/site-packages/IPython/utils/process.py\": 1672758871.0, \"/Users/jameshickman/miniconda3/envs/anly503/lib/python3.10/site-packages/IPython/utils/path.py\": 1672758871.0, \"/Users/jameshickman/miniconda3/envs/anly503/lib/python3.10/site-packages/IPython/utils/terminal.py\": 1672758871.0, \"/Users/jameshickman/miniconda3/envs/anly503/lib/python3.10/site-packages/IPython/core/ultratb.py\": 1672758871.0, \"/Users/jameshickman/miniconda3/envs/anly503/lib/python3.10/site-packages/IPython/utils/_sysinfo.py\": 1672758871.0, \"/Users/jameshickman/miniconda3/envs/anly503/lib/python3.10/site-packages/IPython/utils/sysinfo.py\": 1672758871.0, \"/Users/jameshickman/miniconda3/envs/anly503/lib/python3.10/site-packages/IPython/core/crashhandler.py\": 1672758871.0, \"/Users/jameshickman/miniconda3/envs/anly503/lib/python3.10/site-packages/IPython/utils/importstring.py\": 1672758871.0, \"/Users/jameshickman/miniconda3/envs/anly503/lib/python3.10/site-packages/IPython/paths.py\": 1672758871.0, \"/Users/jameshickman/miniconda3/envs/anly503/lib/python3.10/site-packages/IPython/core/profiledir.py\": 1672758871.0, \"/Users/jameshickman/miniconda3/envs/anly503/lib/python3.10/site-packages/IPython/core/application.py\": 1672758871.0, \"/Users/jameshickman/miniconda3/envs/anly503/lib/python3.10/site-packages/IPython/terminal/__init__.py\": 1672758871.0, \"/Users/jameshickman/miniconda3/envs/anly503/lib/python3.10/site-packages/IPython/core/compilerop.py\": 1672758871.0, \"/Users/jameshickman/miniconda3/envs/anly503/lib/python3.10/site-packages/IPython/core/error.py\": 1672758871.0, \"/Users/jameshickman/miniconda3/envs/anly503/lib/python3.10/site-packages/IPython/utils/docs.py\": 1672758871.0, \"/Users/jameshickman/miniconda3/envs/anly503/lib/python3.10/site-packages/IPython/utils/decorators.py\": 1672758871.0, \"/Users/jameshickman/miniconda3/envs/anly503/lib/python3.10/site-packages/IPython/utils/text.py\": 1672758871.0, \"/Users/jameshickman/miniconda3/envs/anly503/lib/python3.10/site-packages/IPython/core/magic_arguments.py\": 1672758871.0, \"/Users/jameshickman/miniconda3/envs/anly503/lib/python3.10/getopt.py\": 1669106274.0, \"/Users/jameshickman/miniconda3/envs/anly503/lib/python3.10/site-packages/IPython/core/display_functions.py\": 1672758871.0, \"/Users/jameshickman/miniconda3/envs/anly503/lib/python3.10/mimetypes.py\": 1669106274.0, \"/Users/jameshickman/miniconda3/envs/anly503/lib/python3.10/site-packages/IPython/testing/__init__.py\": 1672758871.0, \"/Users/jameshickman/miniconda3/envs/anly503/lib/python3.10/site-packages/IPython/testing/skipdoctest.py\": 1672758871.0, \"/Users/jameshickman/miniconda3/envs/anly503/lib/python3.10/site-packages/IPython/core/display.py\": 1672758871.0, \"/Users/jameshickman/miniconda3/envs/anly503/lib/python3.10/site-packages/IPython/lib/__init__.py\": 1672758871.0, \"/Users/jameshickman/miniconda3/envs/anly503/lib/python3.10/site-packages/IPython/lib/display.py\": 1672758871.0, \"/Users/jameshickman/miniconda3/envs/anly503/lib/python3.10/site-packages/IPython/display.py\": 1672758871.0, \"/Users/jameshickman/miniconda3/envs/anly503/lib/python3.10/site-packages/IPython/utils/data.py\": 1672758871.0, \"/Users/jameshickman/miniconda3/envs/anly503/lib/python3.10/site-packages/IPython/core/page.py\": 1672758871.0, \"/Users/jameshickman/miniconda3/envs/anly503/lib/python3.10/site-packages/IPython/lib/pretty.py\": 1672758871.0, \"/Users/jameshickman/miniconda3/envs/anly503/lib/python3.10/site-packages/IPython/utils/openpy.py\": 1672758871.0, \"/Users/jameshickman/miniconda3/envs/anly503/lib/python3.10/site-packages/IPython/utils/dir2.py\": 1672758871.0, \"/Users/jameshickman/miniconda3/envs/anly503/lib/python3.10/site-packages/IPython/utils/wildcard.py\": 1672758871.0, \"/Users/jameshickman/miniconda3/envs/anly503/lib/python3.10/site-packages/pygments/lexers/_mapping.py\": 1672682133.030084, \"/Users/jameshickman/miniconda3/envs/anly503/lib/python3.10/site-packages/pygments/modeline.py\": 1672682133.018084, \"/Users/jameshickman/miniconda3/envs/anly503/lib/python3.10/site-packages/pygments/lexers/__init__.py\": 1672682133.022084, \"/Users/jameshickman/miniconda3/envs/anly503/lib/python3.10/site-packages/pygments/filter.py\": 1672682133.018084, \"/Users/jameshickman/miniconda3/envs/anly503/lib/python3.10/site-packages/pygments/filters/__init__.py\": 1672682133.018084, \"/Users/jameshickman/miniconda3/envs/anly503/lib/python3.10/site-packages/pygments/regexopt.py\": 1672682133.018084, \"/Users/jameshickman/miniconda3/envs/anly503/lib/python3.10/site-packages/pygments/lexer.py\": 1672682133.018084, \"/Users/jameshickman/miniconda3/envs/anly503/lib/python3.10/site-packages/pygments/unistring.py\": 1672682133.018084, \"/Users/jameshickman/miniconda3/envs/anly503/lib/python3.10/site-packages/pygments/lexers/python.py\": 1672682133.070084, \"/Users/jameshickman/miniconda3/envs/anly503/lib/python3.10/site-packages/pygments/formatters/html.py\": 1672682133.022084, \"/Users/jameshickman/miniconda3/envs/anly503/lib/python3.10/site-packages/IPython/core/oinspect.py\": 1672758871.0, \"/Users/jameshickman/miniconda3/envs/anly503/lib/python3.10/site-packages/IPython/core/inputtransformer2.py\": 1672758871.0, \"/Users/jameshickman/miniconda3/envs/anly503/lib/python3.10/site-packages/IPython/core/magic.py\": 1672758871.0, \"/Users/jameshickman/miniconda3/envs/anly503/lib/python3.10/site-packages/pickleshare.py\": 1602536311.0, \"/Users/jameshickman/miniconda3/envs/anly503/lib/python3.10/site-packages/IPython/core/hooks.py\": 1672758871.0, \"/Users/jameshickman/miniconda3/envs/anly503/lib/python3.10/site-packages/IPython/core/autocall.py\": 1672758871.0, \"/Users/jameshickman/miniconda3/envs/anly503/lib/python3.10/site-packages/IPython/core/macro.py\": 1672758871.0, \"/Users/jameshickman/miniconda3/envs/anly503/lib/python3.10/site-packages/IPython/core/splitinput.py\": 1672758871.0, \"/Users/jameshickman/miniconda3/envs/anly503/lib/python3.10/site-packages/IPython/core/prefilter.py\": 1672758871.0, \"/Users/jameshickman/miniconda3/envs/anly503/lib/python3.10/site-packages/IPython/core/alias.py\": 1672758871.0, \"/Users/jameshickman/miniconda3/envs/anly503/lib/python3.10/site-packages/IPython/core/builtin_trap.py\": 1672758871.0, \"/Users/jameshickman/miniconda3/envs/anly503/lib/python3.10/site-packages/IPython/core/displayhook.py\": 1672758871.0, \"/Users/jameshickman/miniconda3/envs/anly503/lib/python3.10/site-packages/IPython/core/displaypub.py\": 1672758871.0, \"/Users/jameshickman/miniconda3/envs/anly503/lib/python3.10/site-packages/backcall/backcall.py\": 1592338489.0, \"/Users/jameshickman/miniconda3/envs/anly503/lib/python3.10/site-packages/backcall/__init__.py\": 1592338489.0, \"/Users/jameshickman/miniconda3/envs/anly503/lib/python3.10/site-packages/IPython/core/events.py\": 1672758871.0, \"/Users/jameshickman/miniconda3/envs/anly503/lib/python3.10/site-packages/IPython/core/extensions.py\": 1672758871.0, \"/Users/jameshickman/miniconda3/envs/anly503/lib/python3.10/site-packages/decorator.py\": 1641555713.0, \"/Users/jameshickman/miniconda3/envs/anly503/lib/python3.10/site-packages/IPython/utils/sentinel.py\": 1672758871.0, \"/Users/jameshickman/miniconda3/envs/anly503/lib/python3.10/site-packages/IPython/core/formatters.py\": 1672758871.0, \"/Users/jameshickman/miniconda3/envs/anly503/lib/python3.10/lib-dynload/_sqlite3.cpython-310-darwin.so\": 1669106319.0, \"/Users/jameshickman/miniconda3/envs/anly503/lib/python3.10/sqlite3/dbapi2.py\": 1669106277.0, \"/Users/jameshickman/miniconda3/envs/anly503/lib/python3.10/sqlite3/__init__.py\": 1669106277.0, \"/Users/jameshickman/miniconda3/envs/anly503/lib/python3.10/site-packages/IPython/core/history.py\": 1672758871.0, \"/Users/jameshickman/miniconda3/envs/anly503/lib/python3.10/site-packages/IPython/core/logger.py\": 1672758871.0, \"/Users/jameshickman/miniconda3/envs/anly503/lib/python3.10/site-packages/IPython/core/payload.py\": 1672758871.0, \"/Users/jameshickman/miniconda3/envs/anly503/lib/python3.10/site-packages/IPython/core/usage.py\": 1672758871.0, \"/Users/jameshickman/miniconda3/envs/anly503/lib/python3.10/site-packages/IPython/utils/capture.py\": 1672758871.0, \"/Users/jameshickman/miniconda3/envs/anly503/lib/python3.10/site-packages/IPython/utils/io.py\": 1672758871.0, \"/Users/jameshickman/miniconda3/envs/anly503/lib/python3.10/site-packages/IPython/utils/strdispatch.py\": 1672758871.0, \"/Users/jameshickman/miniconda3/envs/anly503/lib/python3.10/site-packages/IPython/utils/syspathcontext.py\": 1672758871.0, \"/Users/jameshickman/miniconda3/envs/anly503/lib/python3.10/site-packages/IPython/core/async_helpers.py\": 1672758871.0, \"/Users/jameshickman/miniconda3/envs/anly503/lib/python3.10/site-packages/IPython/core/interactiveshell.py\": 1672758871.0, \"/Users/jameshickman/miniconda3/envs/anly503/lib/python3.10/site-packages/prompt_toolkit/application/current.py\": 1670414883.802273, \"/Users/jameshickman/miniconda3/envs/anly503/lib/python3.10/site-packages/prompt_toolkit/eventloop/async_context_manager.py\": 1670414883.810273, \"/Users/jameshickman/miniconda3/envs/anly503/lib/python3.10/site-packages/prompt_toolkit/eventloop/utils.py\": 1670414883.810273, \"/Users/jameshickman/miniconda3/envs/anly503/lib/python3.10/site-packages/prompt_toolkit/eventloop/async_generator.py\": 1670414883.810273, \"/Users/jameshickman/miniconda3/envs/anly503/lib/python3.10/site-packages/prompt_toolkit/eventloop/inputhook.py\": 1670414883.810273, \"/Users/jameshickman/miniconda3/envs/anly503/lib/python3.10/site-packages/prompt_toolkit/eventloop/__init__.py\": 1670414883.810273, \"/Users/jameshickman/miniconda3/envs/anly503/lib/python3.10/site-packages/prompt_toolkit/application/run_in_terminal.py\": 1670414883.802273, \"/Users/jameshickman/miniconda3/envs/anly503/lib/python3.10/site-packages/prompt_toolkit/selection.py\": 1670414883.802273, \"/Users/jameshickman/miniconda3/envs/anly503/lib/python3.10/site-packages/prompt_toolkit/clipboard/base.py\": 1670414883.806273, \"/Users/jameshickman/miniconda3/envs/anly503/lib/python3.10/site-packages/prompt_toolkit/clipboard/in_memory.py\": 1670414883.806273, \"/Users/jameshickman/miniconda3/envs/anly503/lib/python3.10/site-packages/prompt_toolkit/clipboard/__init__.py\": 1670414883.806273, \"/Users/jameshickman/miniconda3/envs/anly503/lib/python3.10/site-packages/prompt_toolkit/cache.py\": 1670414883.798273, \"/Users/jameshickman/miniconda3/envs/anly503/lib/python3.10/site-packages/prompt_toolkit/enums.py\": 1670414883.802273, \"/Users/jameshickman/miniconda3/envs/anly503/lib/python3.10/site-packages/prompt_toolkit/filters/base.py\": 1670414883.810273, \"/Users/jameshickman/miniconda3/envs/anly503/lib/python3.10/site-packages/prompt_toolkit/filters/app.py\": 1670414883.810273, \"/Users/jameshickman/miniconda3/envs/anly503/lib/python3.10/site-packages/prompt_toolkit/filters/cli.py\": 1670414883.810273, \"/Users/jameshickman/miniconda3/envs/anly503/lib/python3.10/site-packages/prompt_toolkit/filters/utils.py\": 1670414883.810273, \"/Users/jameshickman/miniconda3/envs/anly503/lib/python3.10/site-packages/prompt_toolkit/filters/__init__.py\": 1670414883.810273, \"/Users/jameshickman/miniconda3/envs/anly503/lib/python3.10/site-packages/prompt_toolkit/document.py\": 1670414883.802273, \"/Users/jameshickman/miniconda3/envs/anly503/lib/python3.10/site-packages/prompt_toolkit/auto_suggest.py\": 1670414883.798273, \"/Users/jameshickman/miniconda3/envs/anly503/lib/python3.10/site-packages/prompt_toolkit/keys.py\": 1670414883.802273, \"/Users/jameshickman/miniconda3/envs/anly503/lib/python3.10/site-packages/prompt_toolkit/key_binding/key_bindings.py\": 1670414883.814273, \"/Users/jameshickman/miniconda3/envs/anly503/lib/python3.10/site-packages/wcwidth/table_wide.py\": 1673864745.090817, \"/Users/jameshickman/miniconda3/envs/anly503/lib/python3.10/site-packages/wcwidth/table_zero.py\": 1673864745.090817, \"/Users/jameshickman/miniconda3/envs/anly503/lib/python3.10/site-packages/wcwidth/unicode_versions.py\": 1673864745.090817, \"/Users/jameshickman/miniconda3/envs/anly503/lib/python3.10/site-packages/wcwidth/wcwidth.py\": 1673864745.090817, \"/Users/jameshickman/miniconda3/envs/anly503/lib/python3.10/site-packages/wcwidth/__init__.py\": 1673864745.090817, \"/Users/jameshickman/miniconda3/envs/anly503/lib/python3.10/site-packages/prompt_toolkit/utils.py\": 1670414883.802273, \"/Users/jameshickman/miniconda3/envs/anly503/lib/python3.10/site-packages/prompt_toolkit/key_binding/key_processor.py\": 1670414883.814273, \"/Users/jameshickman/miniconda3/envs/anly503/lib/python3.10/site-packages/prompt_toolkit/key_binding/__init__.py\": 1670414883.814273, \"/Users/jameshickman/miniconda3/envs/anly503/lib/python3.10/site-packages/prompt_toolkit/key_binding/vi_state.py\": 1670414883.814273, \"/Users/jameshickman/miniconda3/envs/anly503/lib/python3.10/site-packages/prompt_toolkit/cursor_shapes.py\": 1670414883.798273, \"/Users/jameshickman/miniconda3/envs/anly503/lib/python3.10/site-packages/prompt_toolkit/data_structures.py\": 1670414883.802273, \"/Users/jameshickman/miniconda3/envs/anly503/lib/python3.10/site-packages/prompt_toolkit/styles/base.py\": 1670414883.826273, \"/Users/jameshickman/miniconda3/envs/anly503/lib/python3.10/site-packages/prompt_toolkit/styles/named_colors.py\": 1670414883.826273, \"/Users/jameshickman/miniconda3/envs/anly503/lib/python3.10/site-packages/prompt_toolkit/styles/style.py\": 1670414883.826273, \"/Users/jameshickman/miniconda3/envs/anly503/lib/python3.10/site-packages/prompt_toolkit/styles/defaults.py\": 1670414883.826273, \"/Users/jameshickman/miniconda3/envs/anly503/lib/python3.10/site-packages/prompt_toolkit/styles/pygments.py\": 1670414883.826273, \"/Users/jameshickman/miniconda3/envs/anly503/lib/python3.10/colorsys.py\": 1669106273.0, \"/Users/jameshickman/miniconda3/envs/anly503/lib/python3.10/site-packages/prompt_toolkit/styles/style_transformation.py\": 1670414883.826273, \"/Users/jameshickman/miniconda3/envs/anly503/lib/python3.10/site-packages/prompt_toolkit/styles/__init__.py\": 1670414883.826273, \"/Users/jameshickman/miniconda3/envs/anly503/lib/python3.10/site-packages/prompt_toolkit/output/color_depth.py\": 1670414883.822273, \"/Users/jameshickman/miniconda3/envs/anly503/lib/python3.10/site-packages/prompt_toolkit/output/base.py\": 1670414883.822273, \"/Users/jameshickman/miniconda3/envs/anly503/lib/python3.10/site-packages/prompt_toolkit/output/flush_stdout.py\": 1670414883.822273, \"/Users/jameshickman/miniconda3/envs/anly503/lib/python3.10/site-packages/prompt_toolkit/output/plain_text.py\": 1670414883.822273, \"/Users/jameshickman/miniconda3/envs/anly503/lib/python3.10/site-packages/prompt_toolkit/output/defaults.py\": 1670414883.822273, \"/Users/jameshickman/miniconda3/envs/anly503/lib/python3.10/site-packages/prompt_toolkit/output/__init__.py\": 1670414883.822273, \"/Users/jameshickman/miniconda3/envs/anly503/lib/python3.10/site-packages/prompt_toolkit/output/vt100.py\": 1670414883.822273, \"/Users/jameshickman/miniconda3/envs/anly503/lib/python3.10/site-packages/prompt_toolkit/mouse_events.py\": 1670414883.802273, \"/Users/jameshickman/miniconda3/envs/anly503/lib/python3.10/site-packages/prompt_toolkit/formatted_text/base.py\": 1670414883.810273, \"/Users/jameshickman/miniconda3/envs/anly503/lib/python3.10/site-packages/prompt_toolkit/formatted_text/ansi.py\": 1670414883.810273, \"/Users/jameshickman/miniconda3/envs/anly503/lib/python3.10/xml/__init__.py\": 1669106277.0, \"/Users/jameshickman/miniconda3/envs/anly503/lib/python3.10/xml/dom/domreg.py\": 1669106277.0, \"/Users/jameshickman/miniconda3/envs/anly503/lib/python3.10/xml/dom/__init__.py\": 1669106277.0, \"/Users/jameshickman/miniconda3/envs/anly503/lib/python3.10/xml/dom/minicompat.py\": 1669106277.0, \"/Users/jameshickman/miniconda3/envs/anly503/lib/python3.10/xml/dom/NodeFilter.py\": 1669106277.0, \"/Users/jameshickman/miniconda3/envs/anly503/lib/python3.10/xml/dom/xmlbuilder.py\": 1669106277.0, \"/Users/jameshickman/miniconda3/envs/anly503/lib/python3.10/xml/dom/minidom.py\": 1669106277.0, \"/Users/jameshickman/miniconda3/envs/anly503/lib/python3.10/site-packages/prompt_toolkit/formatted_text/html.py\": 1670414883.810273, \"/Users/jameshickman/miniconda3/envs/anly503/lib/python3.10/site-packages/prompt_toolkit/formatted_text/pygments.py\": 1670414883.810273, \"/Users/jameshickman/miniconda3/envs/anly503/lib/python3.10/site-packages/prompt_toolkit/formatted_text/utils.py\": 1670414883.810273, \"/Users/jameshickman/miniconda3/envs/anly503/lib/python3.10/site-packages/prompt_toolkit/formatted_text/__init__.py\": 1670414883.810273, \"/Users/jameshickman/miniconda3/envs/anly503/lib/python3.10/site-packages/prompt_toolkit/completion/base.py\": 1670414883.806273, \"/Users/jameshickman/miniconda3/envs/anly503/lib/python3.10/site-packages/prompt_toolkit/completion/deduplicate.py\": 1670414883.806273, \"/Users/jameshickman/miniconda3/envs/anly503/lib/python3.10/site-packages/prompt_toolkit/completion/filesystem.py\": 1670414883.806273, \"/Users/jameshickman/miniconda3/envs/anly503/lib/python3.10/site-packages/prompt_toolkit/completion/word_completer.py\": 1670414883.806273, \"/Users/jameshickman/miniconda3/envs/anly503/lib/python3.10/site-packages/prompt_toolkit/completion/fuzzy_completer.py\": 1670414883.806273, \"/Users/jameshickman/miniconda3/envs/anly503/lib/python3.10/site-packages/prompt_toolkit/completion/nested.py\": 1670414883.806273, \"/Users/jameshickman/miniconda3/envs/anly503/lib/python3.10/site-packages/prompt_toolkit/completion/__init__.py\": 1670414883.806273, \"/Users/jameshickman/miniconda3/envs/anly503/lib/python3.10/site-packages/prompt_toolkit/history.py\": 1670414883.802273, \"/Users/jameshickman/miniconda3/envs/anly503/lib/python3.10/site-packages/prompt_toolkit/search.py\": 1670414883.802273, \"/Users/jameshickman/miniconda3/envs/anly503/lib/python3.10/site-packages/prompt_toolkit/validation.py\": 1670414883.802273, \"/Users/jameshickman/miniconda3/envs/anly503/lib/python3.10/site-packages/prompt_toolkit/buffer.py\": 1670414883.798273, \"/Users/jameshickman/miniconda3/envs/anly503/lib/python3.10/site-packages/prompt_toolkit/input/base.py\": 1670414883.810273, \"/Users/jameshickman/miniconda3/envs/anly503/lib/python3.10/site-packages/prompt_toolkit/input/defaults.py\": 1670414883.810273, \"/Users/jameshickman/miniconda3/envs/anly503/lib/python3.10/site-packages/prompt_toolkit/input/__init__.py\": 1670414883.810273, \"/Users/jameshickman/miniconda3/envs/anly503/lib/python3.10/site-packages/prompt_toolkit/input/typeahead.py\": 1670414883.814273, \"/Users/jameshickman/miniconda3/envs/anly503/lib/python3.10/site-packages/prompt_toolkit/key_binding/bindings/__init__.py\": 1670414883.814273, \"/Users/jameshickman/miniconda3/envs/anly503/lib/python3.10/site-packages/prompt_toolkit/key_binding/bindings/scroll.py\": 1670414883.818273, \"/Users/jameshickman/miniconda3/envs/anly503/lib/python3.10/site-packages/prompt_toolkit/key_binding/bindings/page_navigation.py\": 1670414883.818273, \"/Users/jameshickman/miniconda3/envs/anly503/lib/python3.10/site-packages/prompt_toolkit/lexers/base.py\": 1670414883.822273, \"/Users/jameshickman/miniconda3/envs/anly503/lib/python3.10/site-packages/prompt_toolkit/lexers/pygments.py\": 1670414883.822273, \"/Users/jameshickman/miniconda3/envs/anly503/lib/python3.10/site-packages/prompt_toolkit/lexers/__init__.py\": 1670414883.822273, \"/Users/jameshickman/miniconda3/envs/anly503/lib/python3.10/site-packages/prompt_toolkit/layout/utils.py\": 1670414883.822273, \"/Users/jameshickman/miniconda3/envs/anly503/lib/python3.10/site-packages/prompt_toolkit/layout/processors.py\": 1670414883.818273, \"/Users/jameshickman/miniconda3/envs/anly503/lib/python3.10/site-packages/prompt_toolkit/layout/controls.py\": 1670414883.818273, \"/Users/jameshickman/miniconda3/envs/anly503/lib/python3.10/site-packages/prompt_toolkit/layout/dimension.py\": 1670414883.818273, \"/Users/jameshickman/miniconda3/envs/anly503/lib/python3.10/site-packages/prompt_toolkit/layout/margins.py\": 1670414883.818273, \"/Users/jameshickman/miniconda3/envs/anly503/lib/python3.10/site-packages/prompt_toolkit/layout/mouse_handlers.py\": 1670414883.818273, \"/Users/jameshickman/miniconda3/envs/anly503/lib/python3.10/site-packages/prompt_toolkit/layout/screen.py\": 1670414883.822273, \"/Users/jameshickman/miniconda3/envs/anly503/lib/python3.10/site-packages/prompt_toolkit/layout/containers.py\": 1670414883.818273, \"/Users/jameshickman/miniconda3/envs/anly503/lib/python3.10/site-packages/prompt_toolkit/layout/layout.py\": 1670414883.818273, \"/Users/jameshickman/miniconda3/envs/anly503/lib/python3.10/site-packages/prompt_toolkit/layout/menus.py\": 1670414883.818273, \"/Users/jameshickman/miniconda3/envs/anly503/lib/python3.10/site-packages/prompt_toolkit/layout/scrollable_pane.py\": 1670414883.822273, \"/Users/jameshickman/miniconda3/envs/anly503/lib/python3.10/site-packages/prompt_toolkit/layout/__init__.py\": 1670414883.818273, \"/Users/jameshickman/miniconda3/envs/anly503/lib/python3.10/site-packages/prompt_toolkit/key_binding/bindings/completion.py\": 1670414883.814273, \"/Users/jameshickman/miniconda3/envs/anly503/lib/python3.10/site-packages/prompt_toolkit/key_binding/bindings/named_commands.py\": 1670414883.818273, \"/Users/jameshickman/miniconda3/envs/anly503/lib/python3.10/site-packages/prompt_toolkit/key_binding/bindings/basic.py\": 1670414883.814273, \"/Users/jameshickman/miniconda3/envs/anly503/lib/python3.10/site-packages/prompt_toolkit/key_binding/bindings/cpr.py\": 1670414883.814273, \"/Users/jameshickman/miniconda3/envs/anly503/lib/python3.10/site-packages/prompt_toolkit/key_binding/bindings/emacs.py\": 1670414883.814273, \"/Users/jameshickman/miniconda3/envs/anly503/lib/python3.10/site-packages/prompt_toolkit/key_binding/bindings/mouse.py\": 1670414883.814273, \"/Users/jameshickman/miniconda3/envs/anly503/lib/python3.10/site-packages/prompt_toolkit/input/ansi_escape_sequences.py\": 1670414883.810273, \"/Users/jameshickman/miniconda3/envs/anly503/lib/python3.10/site-packages/prompt_toolkit/input/vt100_parser.py\": 1670414883.814273, \"/Users/jameshickman/miniconda3/envs/anly503/lib/python3.10/site-packages/prompt_toolkit/key_binding/digraphs.py\": 1670414883.814273, \"/Users/jameshickman/miniconda3/envs/anly503/lib/python3.10/site-packages/prompt_toolkit/key_binding/bindings/vi.py\": 1670414883.818273, \"/Users/jameshickman/miniconda3/envs/anly503/lib/python3.10/site-packages/prompt_toolkit/key_binding/defaults.py\": 1670414883.814273, \"/Users/jameshickman/miniconda3/envs/anly503/lib/python3.10/site-packages/prompt_toolkit/key_binding/emacs_state.py\": 1670414883.814273, \"/Users/jameshickman/miniconda3/envs/anly503/lib/python3.10/site-packages/prompt_toolkit/layout/dummy.py\": 1670414883.818273, \"/Users/jameshickman/miniconda3/envs/anly503/lib/python3.10/site-packages/prompt_toolkit/renderer.py\": 1670414883.802273, \"/Users/jameshickman/miniconda3/envs/anly503/lib/python3.10/site-packages/prompt_toolkit/application/application.py\": 1670414883.802273, \"/Users/jameshickman/miniconda3/envs/anly503/lib/python3.10/site-packages/prompt_toolkit/application/dummy.py\": 1670414883.802273, \"/Users/jameshickman/miniconda3/envs/anly503/lib/python3.10/site-packages/prompt_toolkit/application/__init__.py\": 1670414883.802273, \"/Users/jameshickman/miniconda3/envs/anly503/lib/python3.10/site-packages/prompt_toolkit/key_binding/bindings/focus.py\": 1670414883.814273, \"/Users/jameshickman/miniconda3/envs/anly503/lib/python3.10/site-packages/prompt_toolkit/widgets/toolbars.py\": 1670414883.826273, \"/Users/jameshickman/miniconda3/envs/anly503/lib/python3.10/site-packages/prompt_toolkit/widgets/base.py\": 1670414883.826273, \"/Users/jameshickman/miniconda3/envs/anly503/lib/python3.10/site-packages/prompt_toolkit/widgets/dialogs.py\": 1670414883.826273, \"/Users/jameshickman/miniconda3/envs/anly503/lib/python3.10/site-packages/prompt_toolkit/widgets/menus.py\": 1670414883.826273, \"/Users/jameshickman/miniconda3/envs/anly503/lib/python3.10/site-packages/prompt_toolkit/widgets/__init__.py\": 1670414883.826273, \"/Users/jameshickman/miniconda3/envs/anly503/lib/python3.10/site-packages/prompt_toolkit/shortcuts/dialogs.py\": 1670414883.822273, \"/Users/jameshickman/miniconda3/envs/anly503/lib/python3.10/site-packages/prompt_toolkit/shortcuts/progress_bar/formatters.py\": 1670414883.826273, \"/Users/jameshickman/miniconda3/envs/anly503/lib/python3.10/site-packages/prompt_toolkit/shortcuts/progress_bar/base.py\": 1670414883.826273, \"/Users/jameshickman/miniconda3/envs/anly503/lib/python3.10/site-packages/prompt_toolkit/shortcuts/progress_bar/__init__.py\": 1670414883.822273, \"/Users/jameshickman/miniconda3/envs/anly503/lib/python3.10/site-packages/prompt_toolkit/key_binding/bindings/auto_suggest.py\": 1670414883.814273, \"/Users/jameshickman/miniconda3/envs/anly503/lib/python3.10/site-packages/prompt_toolkit/key_binding/bindings/open_in_editor.py\": 1670414883.818273, \"/Users/jameshickman/miniconda3/envs/anly503/lib/python3.10/site-packages/prompt_toolkit/shortcuts/prompt.py\": 1670414883.822273, \"/Users/jameshickman/miniconda3/envs/anly503/lib/python3.10/site-packages/prompt_toolkit/shortcuts/utils.py\": 1670414883.822273, \"/Users/jameshickman/miniconda3/envs/anly503/lib/python3.10/site-packages/prompt_toolkit/shortcuts/__init__.py\": 1670414883.822273, \"/Users/jameshickman/miniconda3/envs/anly503/lib/python3.10/site-packages/prompt_toolkit/__init__.py\": 1670414883.798273, \"/Users/jameshickman/miniconda3/envs/anly503/lib/python3.10/site-packages/prompt_toolkit/patch_stdout.py\": 1670414883.802273, \"/Users/jameshickman/miniconda3/envs/anly503/lib/python3.10/lib-dynload/unicodedata.cpython-310-darwin.so\": 1669106323.0, \"/Users/jameshickman/miniconda3/envs/anly503/lib/python3.10/site-packages/IPython/core/guarded_eval.py\": 1672758871.0, \"/Users/jameshickman/miniconda3/envs/anly503/lib/python3.10/site-packages/IPython/core/latex_symbols.py\": 1672758871.0, \"/Users/jameshickman/miniconda3/envs/anly503/lib/python3.10/site-packages/IPython/utils/generics.py\": 1672758871.0, \"/Users/jameshickman/miniconda3/envs/anly503/lib/python3.10/site-packages/parso/utils.py\": 1638335053.0, \"/Users/jameshickman/miniconda3/envs/anly503/lib/python3.10/site-packages/parso/tree.py\": 1638335053.0, \"/Users/jameshickman/miniconda3/envs/anly503/lib/python3.10/site-packages/parso/python/__init__.py\": 1638335053.0, \"/Users/jameshickman/miniconda3/envs/anly503/lib/python3.10/site-packages/parso/python/token.py\": 1638335053.0, \"/Users/jameshickman/miniconda3/envs/anly503/lib/python3.10/site-packages/parso/python/tokenize.py\": 1638335053.0, \"/Users/jameshickman/miniconda3/envs/anly503/lib/python3.10/site-packages/parso/pgen2/grammar_parser.py\": 1638335053.0, \"/Users/jameshickman/miniconda3/envs/anly503/lib/python3.10/site-packages/parso/pgen2/generator.py\": 1638335053.0, \"/Users/jameshickman/miniconda3/envs/anly503/lib/python3.10/site-packages/parso/pgen2/__init__.py\": 1638335053.0, \"/Users/jameshickman/miniconda3/envs/anly503/lib/python3.10/site-packages/parso/parser.py\": 1638335053.0, \"/Users/jameshickman/miniconda3/envs/anly503/lib/python3.10/site-packages/parso/_compatibility.py\": 1638335053.0, \"/Users/jameshickman/miniconda3/envs/anly503/lib/python3.10/difflib.py\": 1669106273.0, \"/Users/jameshickman/miniconda3/envs/anly503/lib/python3.10/site-packages/parso/python/prefix.py\": 1638335053.0, \"/Users/jameshickman/miniconda3/envs/anly503/lib/python3.10/site-packages/parso/python/tree.py\": 1638335053.0, \"/Users/jameshickman/miniconda3/envs/anly503/lib/python3.10/site-packages/parso/python/parser.py\": 1638335053.0, \"/Users/jameshickman/miniconda3/envs/anly503/lib/python3.10/site-packages/parso/python/diff.py\": 1638335053.0, \"/Users/jameshickman/miniconda3/envs/anly503/lib/python3.10/site-packages/parso/cache.py\": 1638335053.0, \"/Users/jameshickman/miniconda3/envs/anly503/lib/python3.10/site-packages/parso/normalizer.py\": 1638335053.0, \"/Users/jameshickman/miniconda3/envs/anly503/lib/python3.10/site-packages/parso/python/errors.py\": 1638335053.0, \"/Users/jameshickman/miniconda3/envs/anly503/lib/python3.10/site-packages/parso/python/pep8.py\": 1638335053.0, \"/Users/jameshickman/miniconda3/envs/anly503/lib/python3.10/site-packages/parso/file_io.py\": 1638335053.0, \"/Users/jameshickman/miniconda3/envs/anly503/lib/python3.10/site-packages/parso/grammar.py\": 1638335053.0, \"/Users/jameshickman/miniconda3/envs/anly503/lib/python3.10/site-packages/parso/__init__.py\": 1638335053.0, \"/Users/jameshickman/miniconda3/envs/anly503/lib/python3.10/site-packages/jedi/parser_utils.py\": 1669134426.0, \"/Users/jameshickman/miniconda3/envs/anly503/lib/python3.10/site-packages/jedi/debug.py\": 1669134426.0, \"/Users/jameshickman/miniconda3/envs/anly503/lib/python3.10/site-packages/jedi/settings.py\": 1669134426.0, \"/Users/jameshickman/miniconda3/envs/anly503/lib/python3.10/site-packages/jedi/cache.py\": 1669134426.0, \"/Users/jameshickman/miniconda3/envs/anly503/lib/python3.10/site-packages/jedi/file_io.py\": 1669134426.0, \"/Users/jameshickman/miniconda3/envs/anly503/lib/python3.10/site-packages/jedi/inference/cache.py\": 1669134426.0, \"/Users/jameshickman/miniconda3/envs/anly503/lib/python3.10/site-packages/jedi/inference/helpers.py\": 1669134426.0, \"/Users/jameshickman/miniconda3/envs/anly503/lib/python3.10/site-packages/jedi/inference/utils.py\": 1669134426.0, \"/Users/jameshickman/miniconda3/envs/anly503/lib/python3.10/site-packages/jedi/inference/base_value.py\": 1669134426.0, \"/Users/jameshickman/miniconda3/envs/anly503/lib/python3.10/site-packages/jedi/inference/sys_path.py\": 1669134426.0, \"/Users/jameshickman/miniconda3/envs/anly503/lib/python3.10/site-packages/jedi/inference/recursion.py\": 1669134426.0, \"/Users/jameshickman/miniconda3/envs/anly503/lib/python3.10/site-packages/jedi/inference/flow_analysis.py\": 1669134426.0, \"/Users/jameshickman/miniconda3/envs/anly503/lib/python3.10/site-packages/jedi/common.py\": 1669134426.0, \"/Users/jameshickman/miniconda3/envs/anly503/lib/python3.10/site-packages/jedi/inference/lazy_value.py\": 1669134426.0, \"/Users/jameshickman/miniconda3/envs/anly503/lib/python3.10/site-packages/jedi/inference/docstrings.py\": 1669134426.0, \"/Users/jameshickman/miniconda3/envs/anly503/lib/python3.10/site-packages/jedi/plugins/__init__.py\": 1669134426.0, \"/Users/jameshickman/miniconda3/envs/anly503/lib/python3.10/site-packages/jedi/inference/names.py\": 1669134426.0, \"/Users/jameshickman/miniconda3/envs/anly503/lib/python3.10/site-packages/jedi/inference/filters.py\": 1669134426.0, \"/Users/jameshickman/miniconda3/envs/anly503/lib/python3.10/site-packages/jedi/inference/compiled/getattr_static.py\": 1669134426.0, \"/Users/jameshickman/miniconda3/envs/anly503/lib/python3.10/site-packages/jedi/inference/compiled/access.py\": 1669134426.0, \"/Users/jameshickman/miniconda3/envs/anly503/lib/python3.10/site-packages/jedi/inference/signature.py\": 1669134426.0, \"/Users/jameshickman/miniconda3/envs/anly503/lib/python3.10/site-packages/jedi/inference/context.py\": 1669134426.0, \"/Users/jameshickman/miniconda3/envs/anly503/lib/python3.10/site-packages/jedi/inference/compiled/value.py\": 1669134426.0, \"/Users/jameshickman/miniconda3/envs/anly503/lib/python3.10/site-packages/jedi/inference/compiled/__init__.py\": 1669134426.0, \"/Users/jameshickman/miniconda3/envs/anly503/lib/python3.10/site-packages/jedi/inference/analysis.py\": 1669134426.0, \"/Users/jameshickman/miniconda3/envs/anly503/lib/python3.10/site-packages/jedi/inference/gradual/__init__.py\": 1669134426.0, \"/Users/jameshickman/miniconda3/envs/anly503/lib/python3.10/site-packages/jedi/inference/value/module.py\": 1669134426.0, \"/Users/jameshickman/miniconda3/envs/anly503/lib/python3.10/site-packages/jedi/inference/value/dynamic_arrays.py\": 1669134426.0, \"/Users/jameshickman/miniconda3/envs/anly503/lib/python3.10/site-packages/jedi/inference/value/iterable.py\": 1669134426.0, \"/Users/jameshickman/miniconda3/envs/anly503/lib/python3.10/site-packages/jedi/inference/arguments.py\": 1669134426.0, \"/Users/jameshickman/miniconda3/envs/anly503/lib/python3.10/site-packages/jedi/inference/parser_cache.py\": 1669134426.0, \"/Users/jameshickman/miniconda3/envs/anly503/lib/python3.10/site-packages/jedi/inference/gradual/generics.py\": 1669134426.0, \"/Users/jameshickman/miniconda3/envs/anly503/lib/python3.10/site-packages/jedi/inference/value/function.py\": 1669134426.0, \"/Users/jameshickman/miniconda3/envs/anly503/lib/python3.10/site-packages/jedi/inference/value/klass.py\": 1669134426.0, \"/Users/jameshickman/miniconda3/envs/anly503/lib/python3.10/site-packages/jedi/inference/value/instance.py\": 1669134426.0, \"/Users/jameshickman/miniconda3/envs/anly503/lib/python3.10/site-packages/jedi/inference/value/__init__.py\": 1669134426.0, \"/Users/jameshickman/miniconda3/envs/anly503/lib/python3.10/site-packages/jedi/inference/gradual/base.py\": 1669134426.0, \"/Users/jameshickman/miniconda3/envs/anly503/lib/python3.10/site-packages/jedi/inference/gradual/type_var.py\": 1669134426.0, \"/Users/jameshickman/miniconda3/envs/anly503/lib/python3.10/site-packages/jedi/inference/gradual/typing.py\": 1669134426.0, \"/Users/jameshickman/miniconda3/envs/anly503/lib/python3.10/site-packages/jedi/inference/gradual/stub_value.py\": 1669134426.0, \"/Users/jameshickman/miniconda3/envs/anly503/lib/python3.10/site-packages/jedi/inference/gradual/typeshed.py\": 1669134426.0, \"/Users/jameshickman/miniconda3/envs/anly503/lib/python3.10/site-packages/jedi/_compatibility.py\": 1669134426.0, \"/Users/jameshickman/miniconda3/envs/anly503/lib/python3.10/site-packages/jedi/inference/compiled/subprocess/functions.py\": 1669134426.0, \"/Users/jameshickman/miniconda3/envs/anly503/lib/python3.10/site-packages/jedi/api/exceptions.py\": 1669134426.0, \"/Users/jameshickman/miniconda3/envs/anly503/lib/python3.10/site-packages/jedi/inference/compiled/subprocess/__init__.py\": 1669134426.0, \"/Users/jameshickman/miniconda3/envs/anly503/lib/python3.10/site-packages/jedi/inference/imports.py\": 1669134426.0, \"/Users/jameshickman/miniconda3/envs/anly503/lib/python3.10/site-packages/jedi/inference/param.py\": 1669134426.0, \"/Users/jameshickman/miniconda3/envs/anly503/lib/python3.10/site-packages/jedi/inference/gradual/annotation.py\": 1669134426.0, \"/Users/jameshickman/miniconda3/envs/anly503/lib/python3.10/site-packages/jedi/inference/value/decorator.py\": 1669134426.0, \"/Users/jameshickman/miniconda3/envs/anly503/lib/python3.10/site-packages/jedi/inference/syntax_tree.py\": 1669134426.0, \"/Users/jameshickman/miniconda3/envs/anly503/lib/python3.10/site-packages/jedi/inference/__init__.py\": 1669134426.0, \"/Users/jameshickman/miniconda3/envs/anly503/lib/python3.10/site-packages/jedi/inference/gradual/conversion.py\": 1669134426.0, \"/Users/jameshickman/miniconda3/envs/anly503/lib/python3.10/site-packages/jedi/inference/compiled/mixed.py\": 1669134426.0, \"/Users/jameshickman/miniconda3/envs/anly503/lib/python3.10/pydoc_data/__init__.py\": 1669106277.0, \"/Users/jameshickman/miniconda3/envs/anly503/lib/python3.10/pydoc_data/topics.py\": 1669106277.0, \"/Users/jameshickman/miniconda3/envs/anly503/lib/python3.10/site-packages/jedi/api/keywords.py\": 1669134426.0, \"/Users/jameshickman/miniconda3/envs/anly503/lib/python3.10/site-packages/jedi/api/completion_cache.py\": 1669134426.0, \"/Users/jameshickman/miniconda3/envs/anly503/lib/python3.10/site-packages/jedi/api/helpers.py\": 1669134426.0, \"/Users/jameshickman/miniconda3/envs/anly503/lib/python3.10/site-packages/jedi/api/classes.py\": 1669134426.0, \"/Users/jameshickman/miniconda3/envs/anly503/lib/python3.10/site-packages/jedi/api/interpreter.py\": 1669134426.0, \"/Users/jameshickman/miniconda3/envs/anly503/lib/python3.10/site-packages/jedi/api/strings.py\": 1669134426.0, \"/Users/jameshickman/miniconda3/envs/anly503/lib/python3.10/site-packages/jedi/api/file_name.py\": 1669134426.0, \"/Users/jameshickman/miniconda3/envs/anly503/lib/python3.10/site-packages/jedi/inference/docstring_utils.py\": 1669134426.0, \"/Users/jameshickman/miniconda3/envs/anly503/lib/python3.10/site-packages/jedi/api/completion.py\": 1669134426.0, \"/Users/jameshickman/miniconda3/envs/anly503/lib/python3.10/filecmp.py\": 1669106273.0, \"/Users/jameshickman/miniconda3/envs/anly503/lib/python3.10/site-packages/jedi/api/environment.py\": 1669134426.0, \"/Users/jameshickman/miniconda3/envs/anly503/lib/python3.10/site-packages/jedi/inference/references.py\": 1669134426.0, \"/Users/jameshickman/miniconda3/envs/anly503/lib/python3.10/site-packages/jedi/api/project.py\": 1669134426.0, \"/Users/jameshickman/miniconda3/envs/anly503/lib/python3.10/site-packages/jedi/api/errors.py\": 1669134426.0, \"/Users/jameshickman/miniconda3/envs/anly503/lib/python3.10/site-packages/jedi/api/refactoring/__init__.py\": 1669134426.0, \"/Users/jameshickman/miniconda3/envs/anly503/lib/python3.10/site-packages/jedi/api/refactoring/extract.py\": 1669134426.0, \"/Users/jameshickman/miniconda3/envs/anly503/lib/python3.10/site-packages/jedi/inference/gradual/utils.py\": 1669134426.0, \"/Users/jameshickman/miniconda3/envs/anly503/lib/python3.10/site-packages/jedi/api/__init__.py\": 1669134426.0, \"/Users/jameshickman/miniconda3/envs/anly503/lib/python3.10/site-packages/jedi/plugins/stdlib.py\": 1669134426.0, \"/Users/jameshickman/miniconda3/envs/anly503/lib/python3.10/site-packages/jedi/plugins/flask.py\": 1669134426.0, \"/Users/jameshickman/miniconda3/envs/anly503/lib/python3.10/site-packages/jedi/plugins/pytest.py\": 1669134426.0, \"/Users/jameshickman/miniconda3/envs/anly503/lib/python3.10/site-packages/jedi/plugins/django.py\": 1669134426.0, \"/Users/jameshickman/miniconda3/envs/anly503/lib/python3.10/site-packages/jedi/plugins/registry.py\": 1669134426.0, \"/Users/jameshickman/miniconda3/envs/anly503/lib/python3.10/site-packages/jedi/__init__.py\": 1669134426.0, \"/Users/jameshickman/miniconda3/envs/anly503/lib/python3.10/site-packages/IPython/core/completer.py\": 1672758871.0, \"/Users/jameshickman/miniconda3/envs/anly503/lib/python3.10/site-packages/IPython/terminal/ptutils.py\": 1672758871.0, \"/Users/jameshickman/miniconda3/envs/anly503/lib/python3.10/site-packages/IPython/terminal/shortcuts.py\": 1672758871.0, \"/Users/jameshickman/miniconda3/envs/anly503/lib/python3.10/concurrent/futures/thread.py\": 1669106274.0, \"/Users/jameshickman/miniconda3/envs/anly503/lib/python3.10/site-packages/IPython/terminal/debugger.py\": 1672758871.0, \"/Users/jameshickman/miniconda3/envs/anly503/lib/python3.10/site-packages/IPython/lib/clipboard.py\": 1672758871.0, \"/Users/jameshickman/miniconda3/envs/anly503/lib/python3.10/site-packages/IPython/terminal/magics.py\": 1672758871.0, \"/Users/jameshickman/miniconda3/envs/anly503/lib/python3.10/site-packages/IPython/terminal/pt_inputhooks/__init__.py\": 1672758871.0, \"/Users/jameshickman/miniconda3/envs/anly503/lib/python3.10/site-packages/IPython/terminal/prompts.py\": 1672758871.0, \"/Users/jameshickman/miniconda3/envs/anly503/lib/python3.10/site-packages/IPython/terminal/interactiveshell.py\": 1672758871.0, \"/Users/jameshickman/miniconda3/envs/anly503/lib/python3.10/site-packages/IPython/core/magics/auto.py\": 1672758871.0, \"/Users/jameshickman/miniconda3/envs/anly503/lib/python3.10/site-packages/IPython/core/magics/basic.py\": 1672758871.0, \"/Users/jameshickman/miniconda3/envs/anly503/lib/python3.10/email/__init__.py\": 1669106275.0, \"/Users/jameshickman/miniconda3/envs/anly503/lib/python3.10/http/__init__.py\": 1669106276.0, \"/Users/jameshickman/miniconda3/envs/anly503/lib/python3.10/email/errors.py\": 1669106275.0, \"/Users/jameshickman/miniconda3/envs/anly503/lib/python3.10/email/quoprimime.py\": 1669106275.0, \"/Users/jameshickman/miniconda3/envs/anly503/lib/python3.10/email/base64mime.py\": 1669106275.0, \"/Users/jameshickman/miniconda3/envs/anly503/lib/python3.10/quopri.py\": 1669106274.0, \"/Users/jameshickman/miniconda3/envs/anly503/lib/python3.10/email/encoders.py\": 1669106275.0, \"/Users/jameshickman/miniconda3/envs/anly503/lib/python3.10/email/charset.py\": 1669106275.0, \"/Users/jameshickman/miniconda3/envs/anly503/lib/python3.10/email/header.py\": 1669106275.0, \"/Users/jameshickman/miniconda3/envs/anly503/lib/python3.10/email/_parseaddr.py\": 1669106275.0, \"/Users/jameshickman/miniconda3/envs/anly503/lib/python3.10/email/utils.py\": 1669106275.0, \"/Users/jameshickman/miniconda3/envs/anly503/lib/python3.10/email/_policybase.py\": 1669106275.0, \"/Users/jameshickman/miniconda3/envs/anly503/lib/python3.10/email/feedparser.py\": 1669106275.0, \"/Users/jameshickman/miniconda3/envs/anly503/lib/python3.10/email/parser.py\": 1669106275.0, \"/Users/jameshickman/miniconda3/envs/anly503/lib/python3.10/uu.py\": 1669106274.0, \"/Users/jameshickman/miniconda3/envs/anly503/lib/python3.10/email/_encoded_words.py\": 1669106275.0, \"/Users/jameshickman/miniconda3/envs/anly503/lib/python3.10/email/iterators.py\": 1669106275.0, \"/Users/jameshickman/miniconda3/envs/anly503/lib/python3.10/email/message.py\": 1669106275.0, \"/Users/jameshickman/miniconda3/envs/anly503/lib/python3.10/http/client.py\": 1669106276.0, \"/Users/jameshickman/miniconda3/envs/anly503/lib/python3.10/urllib/response.py\": 1669106277.0, \"/Users/jameshickman/miniconda3/envs/anly503/lib/python3.10/urllib/error.py\": 1669106277.0, \"/Users/jameshickman/miniconda3/envs/anly503/lib/python3.10/lib-dynload/_scproxy.cpython-310-darwin.so\": 1669106321.0, \"/Users/jameshickman/miniconda3/envs/anly503/lib/python3.10/urllib/request.py\": 1669106277.0, \"/Users/jameshickman/miniconda3/envs/anly503/lib/python3.10/site-packages/IPython/utils/contexts.py\": 1672758871.0, \"/Users/jameshickman/miniconda3/envs/anly503/lib/python3.10/site-packages/IPython/core/magics/code.py\": 1672758871.0, \"/Users/jameshickman/miniconda3/envs/anly503/lib/python3.10/site-packages/IPython/core/magics/config.py\": 1672758871.0, \"/Users/jameshickman/miniconda3/envs/anly503/lib/python3.10/site-packages/IPython/core/magics/display.py\": 1672758871.0, \"/Users/jameshickman/miniconda3/envs/anly503/lib/python3.10/lib-dynload/_lsprof.cpython-310-darwin.so\": 1669106327.0, \"/Users/jameshickman/miniconda3/envs/anly503/lib/python3.10/profile.py\": 1669106274.0, \"/Users/jameshickman/miniconda3/envs/anly503/lib/python3.10/cProfile.py\": 1669106273.0, \"/Users/jameshickman/miniconda3/envs/anly503/lib/python3.10/pstats.py\": 1669106274.0, \"/Users/jameshickman/miniconda3/envs/anly503/lib/python3.10/timeit.py\": 1669106274.0, \"/Users/jameshickman/miniconda3/envs/anly503/lib/python3.10/site-packages/IPython/utils/module_paths.py\": 1672758871.0, \"/Users/jameshickman/miniconda3/envs/anly503/lib/python3.10/site-packages/IPython/utils/timing.py\": 1672758871.0, \"/Users/jameshickman/miniconda3/envs/anly503/lib/python3.10/site-packages/IPython/core/magics/execution.py\": 1672758871.0, \"/Users/jameshickman/miniconda3/envs/anly503/lib/python3.10/site-packages/IPython/core/magics/extension.py\": 1672758871.0, \"/Users/jameshickman/miniconda3/envs/anly503/lib/python3.10/site-packages/IPython/core/magics/history.py\": 1672758871.0, \"/Users/jameshickman/miniconda3/envs/anly503/lib/python3.10/site-packages/IPython/core/magics/logging.py\": 1672758871.0, \"/Users/jameshickman/miniconda3/envs/anly503/lib/python3.10/site-packages/IPython/core/magics/namespace.py\": 1672758871.0, \"/Users/jameshickman/miniconda3/envs/anly503/lib/python3.10/site-packages/IPython/core/magics/osm.py\": 1672758871.0, \"/Users/jameshickman/miniconda3/envs/anly503/lib/python3.10/site-packages/IPython/core/magics/packaging.py\": 1672758871.0, \"/Users/jameshickman/miniconda3/envs/anly503/lib/python3.10/site-packages/IPython/core/pylabtools.py\": 1672758871.0, \"/Users/jameshickman/miniconda3/envs/anly503/lib/python3.10/site-packages/IPython/core/magics/pylab.py\": 1672758871.0, \"/Users/jameshickman/miniconda3/envs/anly503/lib/python3.10/site-packages/IPython/core/magics/script.py\": 1672758871.0, \"/Users/jameshickman/miniconda3/envs/anly503/lib/python3.10/site-packages/IPython/core/magics/__init__.py\": 1672758871.0, \"/Users/jameshickman/miniconda3/envs/anly503/lib/python3.10/site-packages/IPython/core/shellapp.py\": 1672758871.0, \"/Users/jameshickman/miniconda3/envs/anly503/lib/python3.10/site-packages/IPython/extensions/__init__.py\": 1672758871.0, \"/Users/jameshickman/miniconda3/envs/anly503/lib/python3.10/site-packages/IPython/extensions/storemagic.py\": 1672758871.0, \"/Users/jameshickman/miniconda3/envs/anly503/lib/python3.10/site-packages/IPython/terminal/ipapp.py\": 1672758871.0, \"/Users/jameshickman/miniconda3/envs/anly503/lib/python3.10/site-packages/IPython/terminal/embed.py\": 1672758871.0, \"/Users/jameshickman/miniconda3/envs/anly503/lib/python3.10/site-packages/IPython/utils/frame.py\": 1672758871.0, \"/Users/jameshickman/miniconda3/envs/anly503/lib/python3.10/site-packages/IPython/__init__.py\": 1672758871.0, \"/Users/jameshickman/miniconda3/envs/anly503/lib/python3.10/site-packages/ipykernel/control.py\": 1673895061.759594, \"/Users/jameshickman/miniconda3/envs/anly503/lib/python3.10/site-packages/ipykernel/heartbeat.py\": 1673895061.762883, \"/Users/jameshickman/miniconda3/envs/anly503/lib/python3.10/site-packages/ipykernel/iostream.py\": 1673895061.763431, \"/Users/jameshickman/miniconda3/envs/anly503/lib/python3.10/site-packages/comm/base_comm.py\": 1670575178.310704, \"/Users/jameshickman/miniconda3/envs/anly503/lib/python3.10/site-packages/comm/__init__.py\": 1670575178.310704, \"/Users/jameshickman/miniconda3/envs/anly503/lib/python3.10/site-packages/IPython/utils/tokenutil.py\": 1672758871.0, \"/Users/jameshickman/miniconda3/envs/anly503/lib/python3.10/site-packages/ipykernel/jsonutil.py\": 1673895061.764472, \"/Users/jameshickman/miniconda3/envs/anly503/lib/python3.10/site-packages/psutil/_common.py\": 1667886257.0, \"/Users/jameshickman/miniconda3/envs/anly503/lib/python3.10/site-packages/psutil/_compat.py\": 1667886257.0, \"/Users/jameshickman/miniconda3/envs/anly503/lib/python3.10/site-packages/psutil/_psutil_osx.abi3.so\": 1667886270.0, \"/Users/jameshickman/miniconda3/envs/anly503/lib/python3.10/site-packages/psutil/_psposix.py\": 1667886257.0, \"/Users/jameshickman/miniconda3/envs/anly503/lib/python3.10/site-packages/psutil/_psutil_posix.abi3.so\": 1667886270.0, \"/Users/jameshickman/miniconda3/envs/anly503/lib/python3.10/site-packages/psutil/_psosx.py\": 1667886257.0, \"/Users/jameshickman/miniconda3/envs/anly503/lib/python3.10/site-packages/psutil/__init__.py\": 1667886257.0, \"/Users/jameshickman/miniconda3/envs/anly503/lib/python3.10/site-packages/tornado/gen.py\": 1666788909.0, \"/Users/jameshickman/miniconda3/envs/anly503/lib/python3.10/site-packages/tornado/locks.py\": 1666788909.0, \"/Users/jameshickman/miniconda3/envs/anly503/lib/python3.10/site-packages/tornado/queues.py\": 1666788909.0, \"/Users/jameshickman/miniconda3/envs/anly503/lib/python3.10/site-packages/ipykernel/kernelbase.py\": 1673895061.765847, \"/Users/jameshickman/miniconda3/envs/anly503/lib/python3.10/site-packages/ipykernel/comm/comm.py\": 1673895061.77091, \"/Users/jameshickman/miniconda3/envs/anly503/lib/python3.10/site-packages/ipykernel/comm/manager.py\": 1673895061.771358, \"/Users/jameshickman/miniconda3/envs/anly503/lib/python3.10/site-packages/ipykernel/comm/__init__.py\": 1673895061.770439, \"/Users/jameshickman/miniconda3/envs/anly503/lib/python3.10/site-packages/ipykernel/compiler.py\": 1673895061.758627, \"/Users/jameshickman/miniconda3/envs/anly503/lib/python3.10/site-packages/debugpy/_version.py\": 1672984562.0, \"/Users/jameshickman/miniconda3/envs/anly503/lib/python3.10/site-packages/debugpy/public_api.py\": 1672984562.0, \"/Users/jameshickman/miniconda3/envs/anly503/lib/python3.10/site-packages/debugpy/__init__.py\": 1672984562.0, \"/Users/jameshickman/miniconda3/envs/anly503/lib/python3.10/site-packages/debugpy/_vendored/_util.py\": 1672984562.0, \"/Users/jameshickman/miniconda3/envs/anly503/lib/python3.10/site-packages/debugpy/_vendored/__init__.py\": 1672984562.0, \"/Users/jameshickman/miniconda3/envs/anly503/lib/python3.10/site-packages/debugpy/_vendored/pydevd/_pydevd_bundle/__init__.py\": 1672984562.0, \"/Users/jameshickman/miniconda3/envs/anly503/lib/python3.10/encodings/ascii.py\": 1669106275.0, \"/Users/jameshickman/miniconda3/envs/anly503/lib/python3.10/encodings/latin_1.py\": 1669106275.0, \"/Users/jameshickman/miniconda3/envs/anly503/lib/python3.10/stringprep.py\": 1669106274.0, \"/Users/jameshickman/miniconda3/envs/anly503/lib/python3.10/encodings/idna.py\": 1669106275.0, \"/Users/jameshickman/miniconda3/envs/anly503/lib/python3.10/site-packages/debugpy/_vendored/pydevd/_pydevd_bundle/pydevd_vm_type.py\": 1672984562.0, \"/Users/jameshickman/miniconda3/envs/anly503/lib/python3.10/site-packages/debugpy/_vendored/pydevd/_pydev_bundle/__init__.py\": 1672984562.0, \"/Users/jameshickman/miniconda3/envs/anly503/lib/python3.10/xmlrpc/__init__.py\": 1669106277.0, \"/Users/jameshickman/miniconda3/envs/anly503/lib/python3.10/xml/parsers/__init__.py\": 1669106277.0, \"/Users/jameshickman/miniconda3/envs/anly503/lib/python3.10/lib-dynload/pyexpat.cpython-310-darwin.so\": 1669106317.0, \"/Users/jameshickman/miniconda3/envs/anly503/lib/python3.10/xml/parsers/expat.py\": 1669106277.0, \"/Users/jameshickman/miniconda3/envs/anly503/lib/python3.10/gzip.py\": 1669106274.0, \"/Users/jameshickman/miniconda3/envs/anly503/lib/python3.10/xmlrpc/client.py\": 1669106277.0, \"/Users/jameshickman/miniconda3/envs/anly503/lib/python3.10/http/server.py\": 1669106276.0, \"/Users/jameshickman/miniconda3/envs/anly503/lib/python3.10/xmlrpc/server.py\": 1669106277.0, \"/Users/jameshickman/miniconda3/envs/anly503/lib/python3.10/site-packages/debugpy/_vendored/pydevd/_pydev_bundle/_pydev_saved_modules.py\": 1672984562.0, \"/Users/jameshickman/miniconda3/envs/anly503/lib/python3.10/site-packages/debugpy/_vendored/pydevd/_pydevd_bundle/pydevd_constants.py\": 1672984562.0, \"/Users/jameshickman/miniconda3/envs/anly503/lib/python3.10/site-packages/debugpy/_vendored/pydevd/_pydev_runfiles/__init__.py\": 1672984562.0, \"/Users/jameshickman/miniconda3/envs/anly503/lib/python3.10/site-packages/debugpy/_vendored/pydevd/_pydevd_frame_eval/__init__.py\": 1672984562.0, \"/Users/jameshickman/miniconda3/envs/anly503/lib/python3.10/site-packages/debugpy/_vendored/pydevd/pydev_ipython/__init__.py\": 1672984562.0, \"/Users/jameshickman/miniconda3/envs/anly503/lib/python3.10/plistlib.py\": 1669106274.0, \"/Users/jameshickman/miniconda3/envs/anly503/lib/python3.10/site-packages/pkg_resources/extern/__init__.py\": 1673837147.0, \"/Users/jameshickman/miniconda3/envs/anly503/lib/python3.10/site-packages/pkg_resources/_vendor/__init__.py\": 1673837147.0, \"/Users/jameshickman/miniconda3/envs/anly503/lib/python3.10/site-packages/pkg_resources/_vendor/jaraco/__init__.py\": 1673837147.0, \"/Users/jameshickman/miniconda3/envs/anly503/lib/python3.10/importlib/abc.py\": 1669106276.0, \"/Users/jameshickman/miniconda3/envs/anly503/lib/python3.10/importlib/_adapters.py\": 1669106276.0, \"/Users/jameshickman/miniconda3/envs/anly503/lib/python3.10/importlib/_common.py\": 1669106276.0, \"/Users/jameshickman/miniconda3/envs/anly503/lib/python3.10/importlib/resources.py\": 1669106276.0, \"/Users/jameshickman/miniconda3/envs/anly503/lib/python3.10/site-packages/pkg_resources/_vendor/more_itertools/recipes.py\": 1673837147.0, \"/Users/jameshickman/miniconda3/envs/anly503/lib/python3.10/site-packages/pkg_resources/_vendor/more_itertools/more.py\": 1673837147.0, \"/Users/jameshickman/miniconda3/envs/anly503/lib/python3.10/site-packages/pkg_resources/_vendor/more_itertools/__init__.py\": 1673837147.0, \"/Users/jameshickman/miniconda3/envs/anly503/lib/python3.10/site-packages/pkg_resources/_vendor/jaraco/functools.py\": 1673837147.0, \"/Users/jameshickman/miniconda3/envs/anly503/lib/python3.10/site-packages/pkg_resources/_vendor/jaraco/context.py\": 1673837147.0, \"/Users/jameshickman/miniconda3/envs/anly503/lib/python3.10/site-packages/pkg_resources/_vendor/jaraco/text/__init__.py\": 1673837147.0, \"/Users/jameshickman/miniconda3/envs/anly503/lib/python3.10/site-packages/pkg_resources/_vendor/platformdirs/api.py\": 1673837147.0, \"/Users/jameshickman/miniconda3/envs/anly503/lib/python3.10/site-packages/pkg_resources/_vendor/platformdirs/version.py\": 1673837147.0, \"/Users/jameshickman/miniconda3/envs/anly503/lib/python3.10/site-packages/pkg_resources/_vendor/platformdirs/macos.py\": 1673837147.0, \"/Users/jameshickman/miniconda3/envs/anly503/lib/python3.10/site-packages/pkg_resources/_vendor/platformdirs/__init__.py\": 1673837147.0, \"/Users/jameshickman/miniconda3/envs/anly503/lib/python3.10/site-packages/pkg_resources/_vendor/packaging/__about__.py\": 1673837147.0, \"/Users/jameshickman/miniconda3/envs/anly503/lib/python3.10/site-packages/pkg_resources/_vendor/packaging/__init__.py\": 1673837147.0, \"/Users/jameshickman/miniconda3/envs/anly503/lib/python3.10/site-packages/pkg_resources/_vendor/packaging/_structures.py\": 1673837147.0, \"/Users/jameshickman/miniconda3/envs/anly503/lib/python3.10/site-packages/pkg_resources/_vendor/packaging/version.py\": 1673837147.0, \"/Users/jameshickman/miniconda3/envs/anly503/lib/python3.10/site-packages/pkg_resources/_vendor/packaging/_manylinux.py\": 1673837147.0, \"/Users/jameshickman/miniconda3/envs/anly503/lib/python3.10/site-packages/pkg_resources/_vendor/packaging/_musllinux.py\": 1673837147.0, \"/Users/jameshickman/miniconda3/envs/anly503/lib/python3.10/site-packages/pkg_resources/_vendor/packaging/tags.py\": 1673837147.0, \"/Users/jameshickman/miniconda3/envs/anly503/lib/python3.10/site-packages/pkg_resources/_vendor/packaging/utils.py\": 1673837147.0, \"/Users/jameshickman/miniconda3/envs/anly503/lib/python3.10/site-packages/pkg_resources/_vendor/packaging/specifiers.py\": 1673837147.0, \"/Users/jameshickman/miniconda3/envs/anly503/lib/python3.10/site-packages/pkg_resources/_vendor/pyparsing/util.py\": 1673837147.0, \"/Users/jameshickman/miniconda3/envs/anly503/lib/python3.10/site-packages/pkg_resources/_vendor/pyparsing/unicode.py\": 1673837147.0, \"/Users/jameshickman/miniconda3/envs/anly503/lib/python3.10/site-packages/pkg_resources/_vendor/pyparsing/exceptions.py\": 1673837147.0, \"/Users/jameshickman/miniconda3/envs/anly503/lib/python3.10/site-packages/pkg_resources/_vendor/pyparsing/actions.py\": 1673837147.0, \"/Users/jameshickman/miniconda3/envs/anly503/lib/python3.10/site-packages/pkg_resources/_vendor/pyparsing/results.py\": 1673837147.0, \"/Users/jameshickman/miniconda3/envs/anly503/lib/python3.10/site-packages/pkg_resources/_vendor/pyparsing/core.py\": 1673837147.0, \"/Users/jameshickman/miniconda3/envs/anly503/lib/python3.10/site-packages/pkg_resources/_vendor/pyparsing/helpers.py\": 1673837147.0, \"/Users/jameshickman/miniconda3/envs/anly503/lib/python3.10/site-packages/pkg_resources/_vendor/pyparsing/testing.py\": 1673837147.0, \"/Users/jameshickman/miniconda3/envs/anly503/lib/python3.10/site-packages/pkg_resources/_vendor/pyparsing/common.py\": 1673837147.0, \"/Users/jameshickman/miniconda3/envs/anly503/lib/python3.10/site-packages/pkg_resources/_vendor/pyparsing/__init__.py\": 1673837147.0, \"/Users/jameshickman/miniconda3/envs/anly503/lib/python3.10/site-packages/pkg_resources/_vendor/packaging/markers.py\": 1673837147.0, \"/Users/jameshickman/miniconda3/envs/anly503/lib/python3.10/site-packages/pkg_resources/_vendor/packaging/requirements.py\": 1673837147.0, \"/Users/jameshickman/miniconda3/envs/anly503/lib/python3.10/site-packages/pkg_resources/__init__.py\": 1673837147.0, \"/Users/jameshickman/miniconda3/envs/anly503/lib/python3.10/site-packages/debugpy/_vendored/pydevd/pydevd_plugins/__init__.py\": 1672984562.0, \"/Users/jameshickman/miniconda3/envs/anly503/lib/python3.10/site-packages/debugpy/_vendored/pydevd/_pydev_bundle/pydev_log.py\": 1672984562.0, \"/Users/jameshickman/miniconda3/envs/anly503/lib/python3.10/site-packages/debugpy/_vendored/pydevd/_pydev_bundle/_pydev_filesystem_encoding.py\": 1672984562.0, \"/Users/jameshickman/miniconda3/envs/anly503/lib/python3.10/site-packages/debugpy/_vendored/pydevd/_pydevd_bundle/pydevd_comm_constants.py\": 1672984562.0, \"/Users/jameshickman/miniconda3/envs/anly503/lib/python3.10/site-packages/debugpy/_vendored/pydevd/pydevd_file_utils.py\": 1672984562.0, \"/Users/jameshickman/miniconda3/envs/anly503/lib/python3.10/site-packages/debugpy/_vendored/pydevd/_pydev_bundle/_pydev_execfile.py\": 1672984562.0, \"/Users/jameshickman/miniconda3/envs/anly503/lib/python3.10/site-packages/debugpy/_vendored/pydevd/_pydevd_bundle/pydevd_exec2.py\": 1672984562.0, \"/Users/jameshickman/miniconda3/envs/anly503/lib/python3.10/site-packages/debugpy/_vendored/pydevd/_pydev_bundle/pydev_imports.py\": 1672984562.0, \"/Users/jameshickman/miniconda3/envs/anly503/lib/python3.10/site-packages/debugpy/_vendored/pydevd/_pydev_bundle/pydev_is_thread_alive.py\": 1672984562.0, \"/Users/jameshickman/miniconda3/envs/anly503/lib/python3.10/site-packages/debugpy/_vendored/pydevd/_pydev_bundle/pydev_override.py\": 1672984562.0, \"/Users/jameshickman/miniconda3/envs/anly503/lib/python3.10/site-packages/debugpy/_vendored/pydevd/pydevd_plugins/extensions/__init__.py\": 1672984562.0, \"/Users/jameshickman/miniconda3/envs/anly503/lib/python3.10/site-packages/debugpy/_vendored/pydevd/_pydevd_bundle/pydevd_extension_utils.py\": 1672984562.0, \"/Users/jameshickman/miniconda3/envs/anly503/lib/python3.10/site-packages/debugpy/_vendored/pydevd/_pydevd_bundle/pydevd_frame_utils.py\": 1672984562.0, \"/Users/jameshickman/miniconda3/envs/anly503/lib/python3.10/site-packages/debugpy/_vendored/pydevd/_pydevd_bundle/pydevd_filtering.py\": 1672984562.0, \"/Users/jameshickman/miniconda3/envs/anly503/lib/python3.10/site-packages/debugpy/_vendored/pydevd/_pydevd_bundle/pydevd_io.py\": 1672984562.0, \"/Users/jameshickman/miniconda3/envs/anly503/lib/python3.10/site-packages/debugpy/_vendored/pydevd/_pydevd_bundle/pydevd_defaults.py\": 1672984562.0, \"/Users/jameshickman/miniconda3/envs/anly503/lib/python3.10/site-packages/debugpy/_vendored/pydevd/_pydevd_bundle/pydevd_utils.py\": 1672984562.0, \"/Users/jameshickman/miniconda3/envs/anly503/lib/python3.10/site-packages/debugpy/_vendored/pydevd/_pydevd_bundle/pydevd_runpy.py\": 1672984562.0, \"/Users/jameshickman/miniconda3/envs/anly503/lib/python3.10/site-packages/debugpy/_vendored/pydevd/_pydev_bundle/_pydev_tipper_common.py\": 1672984562.0, \"/Users/jameshickman/miniconda3/envs/anly503/lib/python3.10/site-packages/debugpy/_vendored/pydevd/_pydev_bundle/_pydev_imports_tipper.py\": 1672984562.0, \"/Users/jameshickman/miniconda3/envs/anly503/lib/python3.10/site-packages/debugpy/_vendored/pydevd/_pydev_bundle/_pydev_calltip_util.py\": 1672984562.0, \"/Users/jameshickman/miniconda3/envs/anly503/lib/python3.10/site-packages/debugpy/_vendored/pydevd/_pydevd_bundle/pydevd_safe_repr.py\": 1672984562.0, \"/Users/jameshickman/miniconda3/envs/anly503/lib/python3.10/site-packages/debugpy/_vendored/pydevd/_pydevd_bundle/pydevd_resolver.py\": 1672984562.0, \"/Users/jameshickman/miniconda3/envs/anly503/lib/python3.10/site-packages/debugpy/_vendored/pydevd/_pydevd_bundle/pydevd_extension_api.py\": 1672984562.0, \"/Users/jameshickman/miniconda3/envs/anly503/lib/python3.10/site-packages/debugpy/_vendored/pydevd/_pydevd_bundle/pydevd_xml.py\": 1672984562.0, \"/Users/jameshickman/miniconda3/envs/anly503/lib/python3.10/site-packages/debugpy/_vendored/pydevd/_pydevd_bundle/pydevd_dont_trace.py\": 1672984562.0, \"/Users/jameshickman/miniconda3/envs/anly503/lib/python3.10/site-packages/debugpy/_vendored/pydevd/_pydevd_frame_eval/vendored/__init__.py\": 1672984562.0, \"/Users/jameshickman/miniconda3/envs/anly503/lib/python3.10/site-packages/debugpy/_vendored/pydevd/_pydevd_frame_eval/vendored/bytecode/flags.py\": 1672984562.0, \"/Users/jameshickman/miniconda3/envs/anly503/lib/python3.10/site-packages/debugpy/_vendored/pydevd/_pydevd_frame_eval/vendored/bytecode/instr.py\": 1672984562.0, \"/Users/jameshickman/miniconda3/envs/anly503/lib/python3.10/site-packages/debugpy/_vendored/pydevd/_pydevd_frame_eval/vendored/bytecode/bytecode.py\": 1672984562.0, \"/Users/jameshickman/miniconda3/envs/anly503/lib/python3.10/site-packages/debugpy/_vendored/pydevd/_pydevd_frame_eval/vendored/bytecode/concrete.py\": 1672984562.0, \"/Users/jameshickman/miniconda3/envs/anly503/lib/python3.10/site-packages/debugpy/_vendored/pydevd/_pydevd_frame_eval/vendored/bytecode/cfg.py\": 1672984562.0, \"/Users/jameshickman/miniconda3/envs/anly503/lib/python3.10/site-packages/debugpy/_vendored/pydevd/_pydevd_frame_eval/vendored/bytecode/__init__.py\": 1672984562.0, \"/Users/jameshickman/miniconda3/envs/anly503/lib/python3.10/site-packages/debugpy/_vendored/pydevd/_pydevd_bundle/pydevd_bytecode_utils.py\": 1672984562.0, \"/Users/jameshickman/miniconda3/envs/anly503/lib/python3.10/site-packages/debugpy/_vendored/pydevd/_pydevd_bundle/pydevd_cython.cpython-310-darwin.so\": 1672984572.0, \"/Users/jameshickman/miniconda3/envs/anly503/lib/python3.10/site-packages/debugpy/_vendored/pydevd/_pydevd_bundle/pydevd_cython_wrapper.py\": 1672984562.0, \"/Users/jameshickman/miniconda3/envs/anly503/lib/python3.10/site-packages/debugpy/_vendored/pydevd/_pydevd_bundle/pydevd_additional_thread_info.py\": 1672984562.0, \"/Users/jameshickman/miniconda3/envs/anly503/lib/python3.10/site-packages/debugpy/_vendored/pydevd/_pydevd_bundle/pydevd_thread_lifecycle.py\": 1672984562.0, \"/Users/jameshickman/miniconda3/envs/anly503/lib/python3.10/site-packages/debugpy/_vendored/pydevd/_pydevd_bundle/pydevd_save_locals.py\": 1672984562.0, \"/Users/jameshickman/miniconda3/envs/anly503/lib/python3.10/site-packages/debugpy/_vendored/pydevd/_pydev_bundle/pydev_monkey.py\": 1672984562.0, \"/Users/jameshickman/miniconda3/envs/anly503/lib/python3.10/site-packages/debugpy/_vendored/pydevd/pydevd_tracing.py\": 1672984562.0, \"/Users/jameshickman/miniconda3/envs/anly503/lib/python3.10/site-packages/debugpy/_vendored/pydevd/_pydevd_bundle/pydevd_collect_bytecode_info.py\": 1672984562.0, \"/Users/jameshickman/miniconda3/envs/anly503/lib/python3.10/site-packages/debugpy/_vendored/pydevd/_pydevd_bundle/pydevd_daemon_thread.py\": 1672984562.0, \"/Users/jameshickman/miniconda3/envs/anly503/lib/python3.10/site-packages/debugpy/_vendored/pydevd/_pydevd_bundle/pydevd_timeout.py\": 1672984562.0, \"/Users/jameshickman/miniconda3/envs/anly503/lib/python3.10/site-packages/debugpy/_vendored/pydevd/_pydevd_bundle/pydevd_vars.py\": 1672984562.0, \"/Users/jameshickman/miniconda3/envs/anly503/lib/python3.10/site-packages/debugpy/_vendored/pydevd/_pydev_bundle/pydev_console_utils.py\": 1672984562.0, \"/Users/jameshickman/miniconda3/envs/anly503/lib/python3.10/site-packages/debugpy/_vendored/pydevd/_pydevd_bundle/pydevd_import_class.py\": 1672984562.0, \"/Users/jameshickman/miniconda3/envs/anly503/lib/python3.10/site-packages/debugpy/_vendored/pydevd/_pydevd_bundle/pydevd_breakpoints.py\": 1672984562.0, \"/Users/jameshickman/miniconda3/envs/anly503/lib/python3.10/site-packages/debugpy/_vendored/pydevd/_pydevd_bundle/pydevd_custom_frames.py\": 1672984562.0, \"/Users/jameshickman/miniconda3/envs/anly503/lib/python3.10/site-packages/debugpy/_vendored/pydevd/_pydevd_bundle/pydevd_dont_trace_files.py\": 1672984562.0, \"/Users/jameshickman/miniconda3/envs/anly503/lib/python3.10/site-packages/debugpy/_vendored/pydevd/_pydevd_bundle/pydevd_net_command.py\": 1672984562.0, \"/Users/jameshickman/miniconda3/envs/anly503/lib/python3.10/site-packages/debugpy/_vendored/pydevd/_pydevd_bundle/pydevconsole_code.py\": 1672984562.0, \"/Users/jameshickman/miniconda3/envs/anly503/lib/python3.10/site-packages/debugpy/_vendored/pydevd/_pydev_bundle/pydev_umd.py\": 1672984562.0, \"/Users/jameshickman/miniconda3/envs/anly503/lib/python3.10/site-packages/debugpy/_vendored/pydevd/pydevconsole.py\": 1672984562.0, \"/Users/jameshickman/miniconda3/envs/anly503/lib/python3.10/site-packages/debugpy/_vendored/pydevd/_pydev_bundle/_pydev_completer.py\": 1672984562.0, \"/Users/jameshickman/miniconda3/envs/anly503/lib/python3.10/site-packages/debugpy/_vendored/pydevd/_pydevd_bundle/pydevd_net_command_factory_xml.py\": 1672984562.0, \"/Users/jameshickman/miniconda3/envs/anly503/lib/python3.10/site-packages/debugpy/_vendored/pydevd/_pydevd_bundle/pydevd_frame.py\": 1672984562.0, \"/Users/jameshickman/miniconda3/envs/anly503/lib/python3.10/site-packages/debugpy/_vendored/pydevd/_pydevd_bundle/pydevd_additional_thread_info_regular.py\": 1672984562.0, \"/Users/jameshickman/miniconda3/envs/anly503/lib/python3.10/site-packages/debugpy/_vendored/pydevd/_pydevd_bundle/pydevd_trace_dispatch.py\": 1672984562.0, \"/Users/jameshickman/miniconda3/envs/anly503/lib/python3.10/site-packages/debugpy/_vendored/pydevd/_pydevd_bundle/_debug_adapter/__init__.py\": 1672984562.0, \"/Users/jameshickman/miniconda3/envs/anly503/lib/python3.10/site-packages/debugpy/_vendored/pydevd/_pydevd_bundle/_debug_adapter/pydevd_schema_log.py\": 1672984562.0, \"/Users/jameshickman/miniconda3/envs/anly503/lib/python3.10/site-packages/debugpy/_vendored/pydevd/_pydevd_bundle/_debug_adapter/pydevd_base_schema.py\": 1672984562.0, \"/Users/jameshickman/miniconda3/envs/anly503/lib/python3.10/site-packages/debugpy/_vendored/pydevd/_pydevd_bundle/_debug_adapter/pydevd_schema.py\": 1672984562.0, \"/Users/jameshickman/miniconda3/envs/anly503/lib/python3.10/site-packages/debugpy/_vendored/pydevd/_pydevd_bundle/pydevd_reload.py\": 1672984562.0, \"/Users/jameshickman/miniconda3/envs/anly503/lib/python3.10/site-packages/debugpy/_vendored/pydevd/_pydev_bundle/fsnotify/__init__.py\": 1672984562.0, \"/Users/jameshickman/miniconda3/envs/anly503/lib/python3.10/site-packages/debugpy/_vendored/pydevd/_pydevd_bundle/pydevd_console.py\": 1672984562.0, \"/Users/jameshickman/miniconda3/envs/anly503/lib/python3.10/site-packages/debugpy/_vendored/pydevd/_pydevd_bundle/pydevd_comm.py\": 1672984562.0, \"/Users/jameshickman/miniconda3/envs/anly503/lib/python3.10/site-packages/debugpy/_vendored/pydevd/_pydevd_frame_eval/pydevd_frame_tracing.py\": 1672984562.0, \"/Users/jameshickman/miniconda3/envs/anly503/lib/python3.10/site-packages/debugpy/_vendored/pydevd/_pydevd_frame_eval/pydevd_modify_bytecode.py\": 1672984562.0, \"/Users/jameshickman/miniconda3/envs/anly503/lib/python3.10/site-packages/debugpy/_vendored/pydevd/_pydevd_frame_eval/pydevd_frame_evaluator.cpython-310-darwin.so\": 1672984572.0, \"/Users/jameshickman/miniconda3/envs/anly503/lib/python3.10/site-packages/debugpy/_vendored/pydevd/_pydevd_frame_eval/pydevd_frame_eval_cython_wrapper.py\": 1672984562.0, \"/Users/jameshickman/miniconda3/envs/anly503/lib/python3.10/site-packages/debugpy/_vendored/pydevd/_pydevd_frame_eval/pydevd_frame_eval_main.py\": 1672984562.0, \"/Users/jameshickman/miniconda3/envs/anly503/lib/python3.10/site-packages/debugpy/_vendored/pydevd/_pydevd_bundle/pydevd_source_mapping.py\": 1672984562.0, \"/Users/jameshickman/miniconda3/envs/anly503/lib/python3.10/site-packages/debugpy/_vendored/pydevd/_pydevd_bundle/pydevd_concurrency_analyser/__init__.py\": 1672984562.0, \"/Users/jameshickman/miniconda3/envs/anly503/lib/python3.10/site-packages/debugpy/_vendored/pydevd/_pydevd_bundle/pydevd_concurrency_analyser/pydevd_thread_wrappers.py\": 1672984562.0, \"/Users/jameshickman/miniconda3/envs/anly503/lib/python3.10/site-packages/debugpy/_vendored/pydevd/_pydevd_bundle/pydevd_concurrency_analyser/pydevd_concurrency_logger.py\": 1672984562.0, \"/Users/jameshickman/miniconda3/envs/anly503/lib/python3.10/site-packages/debugpy/_vendored/pydevd/_pydevd_bundle/pydevd_net_command_factory_json.py\": 1672984562.0, \"/Users/jameshickman/miniconda3/envs/anly503/lib/python3.10/site-packages/debugpy/_vendored/pydevd/_pydevd_bundle/pydevd_api.py\": 1672984562.0, \"/Users/jameshickman/miniconda3/envs/anly503/lib/python3.10/site-packages/debugpy/_vendored/pydevd/_pydevd_bundle/pydevd_json_debug_options.py\": 1672984562.0, \"/Users/jameshickman/miniconda3/envs/anly503/lib/python3.10/site-packages/debugpy/_vendored/pydevd/_pydevd_bundle/pydevd_process_net_command_json.py\": 1672984562.0, \"/Users/jameshickman/miniconda3/envs/anly503/lib/python3.10/site-packages/debugpy/_vendored/pydevd/_pydevd_bundle/pydevd_traceproperty.py\": 1672984562.0, \"/Users/jameshickman/miniconda3/envs/anly503/lib/python3.10/site-packages/debugpy/_vendored/pydevd/_pydevd_bundle/pydevd_process_net_command.py\": 1672984562.0, \"/Users/jameshickman/miniconda3/envs/anly503/lib/python3.10/site-packages/debugpy/_vendored/pydevd/_pydevd_bundle/pydevd_suspended_frames.py\": 1672984562.0, \"/Users/jameshickman/miniconda3/envs/anly503/lib/python3.10/site-packages/debugpy/_vendored/pydevd/_pydevd_bundle/pydevd_trace_api.py\": 1672984562.0, \"/Users/jameshickman/miniconda3/envs/anly503/lib/python3.10/site-packages/debugpy/_vendored/pydevd/pydevd_plugins/pydevd_line_validation.py\": 1672984562.0, \"/Users/jameshickman/miniconda3/envs/anly503/lib/python3.10/site-packages/debugpy/_vendored/pydevd/pydevd_plugins/django_debug.py\": 1672984562.0, \"/Users/jameshickman/miniconda3/envs/anly503/lib/python3.10/site-packages/debugpy/_vendored/pydevd/pydevd_plugins/jinja2_debug.py\": 1672984562.0, \"/Users/jameshickman/miniconda3/envs/anly503/lib/python3.10/site-packages/debugpy/_vendored/pydevd/_pydevd_bundle/pydevd_plugin_utils.py\": 1672984562.0, \"/Users/jameshickman/miniconda3/envs/anly503/lib/python3.10/site-packages/debugpy/_vendored/pydevd/pydevd_plugins/extensions/types/__init__.py\": 1672984562.0, \"/Users/jameshickman/miniconda3/envs/anly503/lib/python3.10/site-packages/debugpy/_vendored/pydevd/pydevd_plugins/extensions/types/pydevd_helpers.py\": 1672984562.0, \"/Users/jameshickman/miniconda3/envs/anly503/lib/python3.10/site-packages/debugpy/_vendored/pydevd/pydevd_plugins/extensions/types/pydevd_plugin_numpy_types.py\": 1672984562.0, \"/Users/jameshickman/miniconda3/envs/anly503/lib/python3.10/site-packages/debugpy/_vendored/pydevd/pydevd_plugins/extensions/types/pydevd_plugin_pandas_types.py\": 1672984562.0, \"/Users/jameshickman/miniconda3/envs/anly503/lib/python3.10/site-packages/debugpy/_vendored/pydevd/pydevd_plugins/extensions/types/pydevd_plugins_django_form_str.py\": 1672984562.0, \"/Users/jameshickman/miniconda3/envs/anly503/lib/python3.10/site-packages/debugpy/_vendored/pydevd/pydevd.py\": 1672984562.0, \"/Users/jameshickman/miniconda3/envs/anly503/lib/python3.10/site-packages/debugpy/_vendored/force_pydevd.py\": 1672984562.0, \"/Users/jameshickman/miniconda3/envs/anly503/lib/python3.10/site-packages/debugpy/server/__init__.py\": 1672984562.0, \"/Users/jameshickman/miniconda3/envs/anly503/lib/python3.10/site-packages/debugpy/adapter/__init__.py\": 1672984562.0, \"/Users/jameshickman/miniconda3/envs/anly503/lib/python3.10/site-packages/debugpy/common/__init__.py\": 1672984562.0, \"/Users/jameshickman/miniconda3/envs/anly503/lib/python3.10/site-packages/debugpy/common/json.py\": 1672984562.0, \"/Users/jameshickman/miniconda3/envs/anly503/lib/python3.10/site-packages/debugpy/common/timestamp.py\": 1672984562.0, \"/Users/jameshickman/miniconda3/envs/anly503/lib/python3.10/site-packages/debugpy/common/util.py\": 1672984562.0, \"/Users/jameshickman/miniconda3/envs/anly503/lib/python3.10/site-packages/debugpy/common/log.py\": 1672984562.0, \"/Users/jameshickman/miniconda3/envs/anly503/lib/python3.10/site-packages/debugpy/common/sockets.py\": 1672984562.0, \"/Users/jameshickman/miniconda3/envs/anly503/lib/python3.10/site-packages/debugpy/server/api.py\": 1672984562.0, \"/Users/jameshickman/miniconda3/envs/anly503/lib/python3.10/site-packages/ipykernel/debugger.py\": 1673895061.760695, \"/Users/jameshickman/miniconda3/envs/anly503/lib/python3.10/site-packages/packaging/__init__.py\": 1673482282.14553, \"/Users/jameshickman/miniconda3/envs/anly503/lib/python3.10/site-packages/packaging/_structures.py\": 1673482282.14553, \"/Users/jameshickman/miniconda3/envs/anly503/lib/python3.10/site-packages/packaging/version.py\": 1673482282.14953, \"/Users/jameshickman/miniconda3/envs/anly503/lib/python3.10/site-packages/ipykernel/eventloops.py\": 1673895061.762393, \"/Users/jameshickman/miniconda3/envs/anly503/lib/python3.10/site-packages/IPython/core/payloadpage.py\": 1672758871.0, \"/Users/jameshickman/miniconda3/envs/anly503/lib/python3.10/site-packages/ipykernel/displayhook.py\": 1673895061.761328, \"/Users/jameshickman/miniconda3/envs/anly503/lib/python3.10/site-packages/ipykernel/zmqshell.py\": 1673895061.769878, \"/Users/jameshickman/miniconda3/envs/anly503/lib/python3.10/site-packages/ipykernel/ipkernel.py\": 1673895061.763994, \"/Users/jameshickman/miniconda3/envs/anly503/lib/python3.10/site-packages/ipykernel/parentpoller.py\": 1673895061.767342, \"/Users/jameshickman/miniconda3/envs/anly503/lib/python3.10/site-packages/ipykernel/kernelapp.py\": 1673895061.765065, \"/Users/jameshickman/miniconda3/envs/anly503/lib/python3.10/site-packages/tornado/platform/__init__.py\": 1666788909.0, \"/Users/jameshickman/miniconda3/envs/anly503/lib/python3.10/site-packages/tornado/platform/asyncio.py\": 1666788909.0, \"/Users/jameshickman/miniconda3/envs/anly503/lib/python3.10/site-packages/IPython/core/completerlib.py\": 1672758871.0, \"/Users/jameshickman/miniconda3/envs/anly503/lib/python3.10/ctypes/macholib/__init__.py\": 1669106274.0, \"/Users/jameshickman/miniconda3/envs/anly503/lib/python3.10/ctypes/macholib/framework.py\": 1669106274.0, \"/Users/jameshickman/miniconda3/envs/anly503/lib/python3.10/ctypes/macholib/dylib.py\": 1669106274.0, \"/Users/jameshickman/miniconda3/envs/anly503/lib/python3.10/ctypes/macholib/dyld.py\": 1669106274.0, \"/Users/jameshickman/miniconda3/envs/anly503/lib/python3.10/ctypes/util.py\": 1669106274.0, \"/Users/jameshickman/miniconda3/envs/anly503/lib/python3.10/site-packages/appnope/_nope.py\": 1649077760.0, \"/Users/jameshickman/miniconda3/envs/anly503/lib/python3.10/site-packages/appnope/__init__.py\": 1649077760.0, \"/Users/jameshickman/miniconda3/envs/anly503/lib/python3.10/site-packages/numpy/_globals.py\": 1668919700.0, \"/Users/jameshickman/miniconda3/envs/anly503/lib/python3.10/site-packages/numpy/__config__.py\": 1674068035.9068289, \"/Users/jameshickman/miniconda3/envs/anly503/lib/python3.10/site-packages/numpy/_distributor_init.py\": 1668919700.0, \"/Users/jameshickman/miniconda3/envs/anly503/lib/python3.10/site-packages/numpy/_version.py\": 1668919700.0, \"/Users/jameshickman/miniconda3/envs/anly503/lib/python3.10/site-packages/numpy/version.py\": 1668919700.0, \"/Users/jameshickman/miniconda3/envs/anly503/lib/python3.10/site-packages/numpy/core/_multiarray_umath.cpython-310-darwin.so\": 1668919718.0, \"/Users/jameshickman/miniconda3/envs/anly503/lib/python3.10/site-packages/numpy/compat/_inspect.py\": 1668919700.0, \"/Users/jameshickman/miniconda3/envs/anly503/lib/python3.10/site-packages/numpy/compat/_pep440.py\": 1668919700.0, \"/Users/jameshickman/miniconda3/envs/anly503/lib/python3.10/site-packages/numpy/compat/py3k.py\": 1668919700.0, \"/Users/jameshickman/miniconda3/envs/anly503/lib/python3.10/site-packages/numpy/compat/__init__.py\": 1668919700.0, \"/Users/jameshickman/miniconda3/envs/anly503/lib/python3.10/site-packages/numpy/core/overrides.py\": 1668919700.0, \"/Users/jameshickman/miniconda3/envs/anly503/lib/python3.10/site-packages/numpy/core/multiarray.py\": 1668919700.0, \"/Users/jameshickman/miniconda3/envs/anly503/lib/python3.10/site-packages/numpy/core/umath.py\": 1668919700.0, \"/Users/jameshickman/miniconda3/envs/anly503/lib/python3.10/site-packages/numpy/core/_string_helpers.py\": 1668919700.0, \"/Users/jameshickman/miniconda3/envs/anly503/lib/python3.10/site-packages/numpy/core/_dtype.py\": 1668919700.0, \"/Users/jameshickman/miniconda3/envs/anly503/lib/python3.10/site-packages/numpy/core/_type_aliases.py\": 1668919700.0, \"/Users/jameshickman/miniconda3/envs/anly503/lib/python3.10/site-packages/numpy/core/numerictypes.py\": 1668919700.0, \"/Users/jameshickman/miniconda3/envs/anly503/lib/python3.10/site-packages/numpy/core/_exceptions.py\": 1668919700.0, \"/Users/jameshickman/miniconda3/envs/anly503/lib/python3.10/site-packages/numpy/core/_methods.py\": 1668919700.0, \"/Users/jameshickman/miniconda3/envs/anly503/lib/python3.10/site-packages/numpy/core/fromnumeric.py\": 1668919700.0, \"/Users/jameshickman/miniconda3/envs/anly503/lib/python3.10/site-packages/numpy/core/shape_base.py\": 1668919700.0, \"/Users/jameshickman/miniconda3/envs/anly503/lib/python3.10/site-packages/numpy/core/_ufunc_config.py\": 1668919700.0, \"/Users/jameshickman/miniconda3/envs/anly503/lib/python3.10/site-packages/numpy/core/arrayprint.py\": 1668919700.0, \"/Users/jameshickman/miniconda3/envs/anly503/lib/python3.10/site-packages/numpy/core/_asarray.py\": 1668919700.0, \"/Users/jameshickman/miniconda3/envs/anly503/lib/python3.10/site-packages/numpy/core/numeric.py\": 1668919700.0, \"/Users/jameshickman/miniconda3/envs/anly503/lib/python3.10/site-packages/numpy/core/defchararray.py\": 1668919700.0, \"/Users/jameshickman/miniconda3/envs/anly503/lib/python3.10/site-packages/numpy/core/records.py\": 1668919700.0, \"/Users/jameshickman/miniconda3/envs/anly503/lib/python3.10/site-packages/numpy/core/memmap.py\": 1668919700.0, \"/Users/jameshickman/miniconda3/envs/anly503/lib/python3.10/site-packages/numpy/core/function_base.py\": 1668919700.0, \"/Users/jameshickman/miniconda3/envs/anly503/lib/python3.10/site-packages/numpy/core/_machar.py\": 1668919700.0, \"/Users/jameshickman/miniconda3/envs/anly503/lib/python3.10/site-packages/numpy/core/getlimits.py\": 1668919700.0, \"/Users/jameshickman/miniconda3/envs/anly503/lib/python3.10/site-packages/numpy/core/einsumfunc.py\": 1668919700.0, \"/Users/jameshickman/miniconda3/envs/anly503/lib/python3.10/site-packages/numpy/core/_multiarray_tests.cpython-310-darwin.so\": 1668919721.0, \"/Users/jameshickman/miniconda3/envs/anly503/lib/python3.10/site-packages/numpy/core/_add_newdocs.py\": 1668919700.0, \"/Users/jameshickman/miniconda3/envs/anly503/lib/python3.10/site-packages/numpy/core/_add_newdocs_scalars.py\": 1668919700.0, \"/Users/jameshickman/miniconda3/envs/anly503/lib/python3.10/site-packages/numpy/core/_dtype_ctypes.py\": 1668919700.0, \"/Users/jameshickman/miniconda3/envs/anly503/lib/python3.10/site-packages/numpy/core/_internal.py\": 1668919700.0, \"/Users/jameshickman/miniconda3/envs/anly503/lib/python3.10/site-packages/numpy/_pytesttester.py\": 1668919700.0, \"/Users/jameshickman/miniconda3/envs/anly503/lib/python3.10/site-packages/numpy/core/__init__.py\": 1668919700.0, \"/Users/jameshickman/miniconda3/envs/anly503/lib/python3.10/site-packages/numpy/lib/mixins.py\": 1668919700.0, \"/Users/jameshickman/miniconda3/envs/anly503/lib/python3.10/site-packages/numpy/lib/ufunclike.py\": 1668919700.0, \"/Users/jameshickman/miniconda3/envs/anly503/lib/python3.10/site-packages/numpy/lib/type_check.py\": 1668919700.0, \"/Users/jameshickman/miniconda3/envs/anly503/lib/python3.10/site-packages/numpy/lib/scimath.py\": 1668919700.0, \"/Users/jameshickman/miniconda3/envs/anly503/lib/python3.10/site-packages/numpy/lib/stride_tricks.py\": 1668919700.0, \"/Users/jameshickman/miniconda3/envs/anly503/lib/python3.10/site-packages/numpy/lib/twodim_base.py\": 1668919700.0, \"/Users/jameshickman/miniconda3/envs/anly503/lib/python3.10/site-packages/numpy/linalg/_umath_linalg.cpython-310-darwin.so\": 1668919719.0, \"/Users/jameshickman/miniconda3/envs/anly503/lib/python3.10/site-packages/numpy/linalg/linalg.py\": 1668919701.0, \"/Users/jameshickman/miniconda3/envs/anly503/lib/python3.10/site-packages/numpy/linalg/__init__.py\": 1668919701.0, \"/Users/jameshickman/miniconda3/envs/anly503/lib/python3.10/site-packages/numpy/matrixlib/defmatrix.py\": 1668919701.0, \"/Users/jameshickman/miniconda3/envs/anly503/lib/python3.10/site-packages/numpy/matrixlib/__init__.py\": 1668919701.0, \"/Users/jameshickman/miniconda3/envs/anly503/lib/python3.10/site-packages/numpy/lib/histograms.py\": 1668919700.0, \"/Users/jameshickman/miniconda3/envs/anly503/lib/python3.10/site-packages/numpy/lib/function_base.py\": 1668919700.0, \"/Users/jameshickman/miniconda3/envs/anly503/lib/python3.10/site-packages/numpy/lib/index_tricks.py\": 1668919700.0, \"/Users/jameshickman/miniconda3/envs/anly503/lib/python3.10/site-packages/numpy/lib/nanfunctions.py\": 1668919700.0, \"/Users/jameshickman/miniconda3/envs/anly503/lib/python3.10/site-packages/numpy/lib/shape_base.py\": 1668919700.0, \"/Users/jameshickman/miniconda3/envs/anly503/lib/python3.10/site-packages/numpy/lib/polynomial.py\": 1668919700.0, \"/Users/jameshickman/miniconda3/envs/anly503/lib/python3.10/site-packages/numpy/lib/utils.py\": 1668919700.0, \"/Users/jameshickman/miniconda3/envs/anly503/lib/python3.10/site-packages/numpy/lib/arraysetops.py\": 1668919700.0, \"/Users/jameshickman/miniconda3/envs/anly503/lib/python3.10/site-packages/numpy/lib/format.py\": 1668919700.0, \"/Users/jameshickman/miniconda3/envs/anly503/lib/python3.10/site-packages/numpy/lib/_datasource.py\": 1668919700.0, \"/Users/jameshickman/miniconda3/envs/anly503/lib/python3.10/site-packages/numpy/lib/_iotools.py\": 1668919700.0, \"/Users/jameshickman/miniconda3/envs/anly503/lib/python3.10/site-packages/numpy/lib/npyio.py\": 1668919700.0, \"/Users/jameshickman/miniconda3/envs/anly503/lib/python3.10/site-packages/numpy/lib/arrayterator.py\": 1668919700.0, \"/Users/jameshickman/miniconda3/envs/anly503/lib/python3.10/site-packages/numpy/lib/arraypad.py\": 1668919700.0, \"/Users/jameshickman/miniconda3/envs/anly503/lib/python3.10/site-packages/numpy/lib/_version.py\": 1668919700.0, \"/Users/jameshickman/miniconda3/envs/anly503/lib/python3.10/site-packages/numpy/lib/__init__.py\": 1668919700.0, \"/Users/jameshickman/miniconda3/envs/anly503/lib/python3.10/site-packages/numpy/fft/_pocketfft_internal.cpython-310-darwin.so\": 1668919719.0, \"/Users/jameshickman/miniconda3/envs/anly503/lib/python3.10/site-packages/numpy/fft/_pocketfft.py\": 1668919700.0, \"/Users/jameshickman/miniconda3/envs/anly503/lib/python3.10/site-packages/numpy/fft/helper.py\": 1668919700.0, \"/Users/jameshickman/miniconda3/envs/anly503/lib/python3.10/site-packages/numpy/fft/__init__.py\": 1668919700.0, \"/Users/jameshickman/miniconda3/envs/anly503/lib/python3.10/site-packages/numpy/polynomial/polyutils.py\": 1668919701.0, \"/Users/jameshickman/miniconda3/envs/anly503/lib/python3.10/site-packages/numpy/polynomial/_polybase.py\": 1668919701.0, \"/Users/jameshickman/miniconda3/envs/anly503/lib/python3.10/site-packages/numpy/polynomial/polynomial.py\": 1668919701.0, \"/Users/jameshickman/miniconda3/envs/anly503/lib/python3.10/site-packages/numpy/polynomial/chebyshev.py\": 1668919701.0, \"/Users/jameshickman/miniconda3/envs/anly503/lib/python3.10/site-packages/numpy/polynomial/legendre.py\": 1668919701.0, \"/Users/jameshickman/miniconda3/envs/anly503/lib/python3.10/site-packages/numpy/polynomial/hermite.py\": 1668919701.0, \"/Users/jameshickman/miniconda3/envs/anly503/lib/python3.10/site-packages/numpy/polynomial/hermite_e.py\": 1668919701.0, \"/Users/jameshickman/miniconda3/envs/anly503/lib/python3.10/site-packages/numpy/polynomial/laguerre.py\": 1668919701.0, \"/Users/jameshickman/miniconda3/envs/anly503/lib/python3.10/site-packages/numpy/polynomial/__init__.py\": 1668919701.0, \"/Users/jameshickman/miniconda3/envs/anly503/lib/python3.10/site-packages/numpy/random/_common.cpython-310-darwin.so\": 1668919720.0, \"/Users/jameshickman/miniconda3/envs/anly503/lib/python3.10/secrets.py\": 1669106274.0, \"/Users/jameshickman/miniconda3/envs/anly503/lib/python3.10/site-packages/numpy/random/bit_generator.cpython-310-darwin.so\": 1668919720.0, \"/Users/jameshickman/miniconda3/envs/anly503/lib/python3.10/site-packages/numpy/random/_bounded_integers.cpython-310-darwin.so\": 1668919719.0, \"/Users/jameshickman/miniconda3/envs/anly503/lib/python3.10/site-packages/numpy/random/_mt19937.cpython-310-darwin.so\": 1668919718.0, \"/Users/jameshickman/miniconda3/envs/anly503/lib/python3.10/site-packages/numpy/random/mtrand.cpython-310-darwin.so\": 1668919720.0, \"/Users/jameshickman/miniconda3/envs/anly503/lib/python3.10/site-packages/numpy/random/_philox.cpython-310-darwin.so\": 1668919718.0, \"/Users/jameshickman/miniconda3/envs/anly503/lib/python3.10/site-packages/numpy/random/_pcg64.cpython-310-darwin.so\": 1668919721.0, \"/Users/jameshickman/miniconda3/envs/anly503/lib/python3.10/site-packages/numpy/random/_sfc64.cpython-310-darwin.so\": 1668919718.0, \"/Users/jameshickman/miniconda3/envs/anly503/lib/python3.10/site-packages/numpy/random/_generator.cpython-310-darwin.so\": 1668919720.0, \"/Users/jameshickman/miniconda3/envs/anly503/lib/python3.10/site-packages/numpy/random/_pickle.py\": 1668919701.0, \"/Users/jameshickman/miniconda3/envs/anly503/lib/python3.10/site-packages/numpy/random/__init__.py\": 1668919701.0, \"/Users/jameshickman/miniconda3/envs/anly503/lib/python3.10/site-packages/numpy/ctypeslib.py\": 1668919700.0, \"/Users/jameshickman/miniconda3/envs/anly503/lib/python3.10/site-packages/numpy/ma/core.py\": 1668919701.0, \"/Users/jameshickman/miniconda3/envs/anly503/lib/python3.10/site-packages/numpy/ma/extras.py\": 1668919701.0, \"/Users/jameshickman/miniconda3/envs/anly503/lib/python3.10/site-packages/numpy/ma/__init__.py\": 1668919701.0, \"/Users/jameshickman/miniconda3/envs/anly503/lib/python3.10/site-packages/numpy/__init__.py\": 1668919700.0, \"/Users/jameshickman/miniconda3/envs/anly503/lib/python3.10/site-packages/matplotlib/_api/deprecation.py\": 1667505297.0, \"/Users/jameshickman/miniconda3/envs/anly503/lib/python3.10/site-packages/matplotlib/_api/__init__.py\": 1667505297.0, \"/Users/jameshickman/miniconda3/envs/anly503/lib/python3.10/site-packages/matplotlib/_version.py\": 1667505297.0, \"/Users/jameshickman/miniconda3/envs/anly503/lib/python3.10/site-packages/matplotlib/_c_internal_utils.cpython-310-darwin.so\": 1667505303.0, \"/Users/jameshickman/miniconda3/envs/anly503/lib/python3.10/site-packages/matplotlib/cbook/__init__.py\": 1667505297.0, \"/Users/jameshickman/miniconda3/envs/anly503/lib/python3.10/site-packages/matplotlib/_docstring.py\": 1667505297.0, \"/Users/jameshickman/miniconda3/envs/anly503/lib/python3.10/site-packages/PIL/_version.py\": 1672675710.0, \"/Users/jameshickman/miniconda3/envs/anly503/lib/python3.10/site-packages/PIL/__init__.py\": 1672675710.0, \"/Users/jameshickman/miniconda3/envs/anly503/lib/python3.10/site-packages/defusedxml/common.py\": 1615232387.0, \"/Users/jameshickman/miniconda3/envs/anly503/lib/python3.10/site-packages/defusedxml/__init__.py\": 1615232387.0, \"/Users/jameshickman/miniconda3/envs/anly503/lib/python3.10/xml/etree/__init__.py\": 1669106277.0, \"/Users/jameshickman/miniconda3/envs/anly503/lib/python3.10/xml/etree/ElementPath.py\": 1669106277.0, \"/Users/jameshickman/miniconda3/envs/anly503/lib/python3.10/lib-dynload/_elementtree.cpython-310-darwin.so\": 1669106316.0, \"/Users/jameshickman/miniconda3/envs/anly503/lib/python3.10/xml/etree/ElementTree.py\": 1669106277.0, \"/Users/jameshickman/miniconda3/envs/anly503/lib/python3.10/site-packages/defusedxml/ElementTree.py\": 1615232387.0, \"/Users/jameshickman/miniconda3/envs/anly503/lib/python3.10/site-packages/PIL/ExifTags.py\": 1672675710.0, \"/Users/jameshickman/miniconda3/envs/anly503/lib/python3.10/site-packages/PIL/ImageMode.py\": 1672675710.0, \"/Users/jameshickman/miniconda3/envs/anly503/lib/python3.10/site-packages/PIL/TiffTags.py\": 1672675710.0, \"/Users/jameshickman/miniconda3/envs/anly503/lib/python3.10/site-packages/PIL/_binary.py\": 1672675710.0, \"/Users/jameshickman/miniconda3/envs/anly503/lib/python3.10/site-packages/PIL/_deprecate.py\": 1672675710.0, \"/Users/jameshickman/miniconda3/envs/anly503/lib/python3.10/site-packages/PIL/_util.py\": 1672675710.0, \"/Users/jameshickman/miniconda3/envs/anly503/lib/python3.10/site-packages/PIL/_imaging.cpython-310-darwin.so\": 1672675716.0, \"/Users/jameshickman/miniconda3/envs/anly503/lib/python3.10/site-packages/cffi/lock.py\": 1671179666.0, \"/Users/jameshickman/miniconda3/envs/anly503/lib/python3.10/site-packages/cffi/error.py\": 1671179666.0, \"/Users/jameshickman/miniconda3/envs/anly503/lib/python3.10/site-packages/cffi/model.py\": 1671179666.0, \"/Users/jameshickman/miniconda3/envs/anly503/lib/python3.10/site-packages/cffi/api.py\": 1671179666.0, \"/Users/jameshickman/miniconda3/envs/anly503/lib/python3.10/site-packages/cffi/__init__.py\": 1671179666.0, \"/Users/jameshickman/miniconda3/envs/anly503/lib/python3.10/site-packages/PIL/Image.py\": 1672675710.0, \"/Users/jameshickman/miniconda3/envs/anly503/lib/python3.10/site-packages/PIL/ImageChops.py\": 1672675710.0, \"/Users/jameshickman/miniconda3/envs/anly503/lib/python3.10/site-packages/PIL/ImageFile.py\": 1672675710.0, \"/Users/jameshickman/miniconda3/envs/anly503/lib/python3.10/site-packages/PIL/GimpGradientFile.py\": 1672675710.0, \"/Users/jameshickman/miniconda3/envs/anly503/lib/python3.10/site-packages/PIL/GimpPaletteFile.py\": 1672675710.0, \"/Users/jameshickman/miniconda3/envs/anly503/lib/python3.10/site-packages/PIL/ImageColor.py\": 1672675710.0, \"/Users/jameshickman/miniconda3/envs/anly503/lib/python3.10/site-packages/PIL/PaletteFile.py\": 1672675710.0, \"/Users/jameshickman/miniconda3/envs/anly503/lib/python3.10/site-packages/PIL/ImagePalette.py\": 1672675710.0, \"/Users/jameshickman/miniconda3/envs/anly503/lib/python3.10/site-packages/PIL/ImageSequence.py\": 1672675710.0, \"/Users/jameshickman/miniconda3/envs/anly503/lib/python3.10/site-packages/PIL/PngImagePlugin.py\": 1672675710.0, \"/Users/jameshickman/miniconda3/envs/anly503/lib/python3.10/site-packages/matplotlib/_cm.py\": 1667505297.0, \"/Users/jameshickman/miniconda3/envs/anly503/lib/python3.10/site-packages/matplotlib/_path.cpython-310-darwin.so\": 1667505304.0, \"/Users/jameshickman/miniconda3/envs/anly503/lib/python3.10/site-packages/matplotlib/bezier.py\": 1667505297.0, \"/Users/jameshickman/miniconda3/envs/anly503/lib/python3.10/site-packages/matplotlib/path.py\": 1667505297.0, \"/Users/jameshickman/miniconda3/envs/anly503/lib/python3.10/site-packages/matplotlib/transforms.py\": 1667505297.0, \"/Users/jameshickman/miniconda3/envs/anly503/lib/python3.10/site-packages/matplotlib/ticker.py\": 1667505297.0, \"/Users/jameshickman/miniconda3/envs/anly503/lib/python3.10/site-packages/matplotlib/scale.py\": 1667505297.0, \"/Users/jameshickman/miniconda3/envs/anly503/lib/python3.10/site-packages/matplotlib/_color_data.py\": 1667505297.0, \"/Users/jameshickman/miniconda3/envs/anly503/lib/python3.10/site-packages/matplotlib/colors.py\": 1667505297.0, \"/Users/jameshickman/miniconda3/envs/anly503/lib/python3.10/site-packages/pyparsing/util.py\": 1652235494.0, \"/Users/jameshickman/miniconda3/envs/anly503/lib/python3.10/site-packages/pyparsing/unicode.py\": 1652235494.0, \"/Users/jameshickman/miniconda3/envs/anly503/lib/python3.10/site-packages/pyparsing/exceptions.py\": 1652235494.0, \"/Users/jameshickman/miniconda3/envs/anly503/lib/python3.10/site-packages/pyparsing/actions.py\": 1652235494.0, \"/Users/jameshickman/miniconda3/envs/anly503/lib/python3.10/site-packages/pyparsing/results.py\": 1652235494.0, \"/Users/jameshickman/miniconda3/envs/anly503/lib/python3.10/site-packages/pyparsing/core.py\": 1652235494.0, \"/Users/jameshickman/miniconda3/envs/anly503/lib/python3.10/site-packages/pyparsing/helpers.py\": 1652235494.0, \"/Users/jameshickman/miniconda3/envs/anly503/lib/python3.10/site-packages/pyparsing/testing.py\": 1652235494.0, \"/Users/jameshickman/miniconda3/envs/anly503/lib/python3.10/site-packages/pyparsing/common.py\": 1652235494.0, \"/Users/jameshickman/miniconda3/envs/anly503/lib/python3.10/site-packages/pyparsing/__init__.py\": 1652235494.0, \"/Users/jameshickman/miniconda3/envs/anly503/lib/python3.10/site-packages/matplotlib/_fontconfig_pattern.py\": 1667505297.0, \"/Users/jameshickman/miniconda3/envs/anly503/lib/python3.10/site-packages/matplotlib/_enums.py\": 1667505297.0, \"/Users/jameshickman/miniconda3/envs/anly503/lib/python3.10/site-packages/cycler.py\": 1635519554.0, \"/Users/jameshickman/miniconda3/envs/anly503/lib/python3.10/site-packages/matplotlib/rcsetup.py\": 1667505297.0, \"/Users/jameshickman/miniconda3/envs/anly503/lib/python3.10/site-packages/matplotlib/ft2font.cpython-310-darwin.so\": 1667505304.0, \"/Users/jameshickman/miniconda3/envs/anly503/lib/python3.10/site-packages/kiwisolver/_cext.cpython-310-darwin.so\": 1666806222.0, \"/Users/jameshickman/miniconda3/envs/anly503/lib/python3.10/site-packages/kiwisolver/__init__.py\": 1666806218.0, \"/Users/jameshickman/miniconda3/envs/anly503/lib/python3.10/site-packages/matplotlib/_cm_listed.py\": 1667505297.0, \"/Users/jameshickman/miniconda3/envs/anly503/lib/python3.10/site-packages/matplotlib/cm.py\": 1667505297.0, \"/Users/jameshickman/miniconda3/envs/anly503/lib/python3.10/site-packages/matplotlib/__init__.py\": 1667505297.0, \"/Users/jameshickman/miniconda3/envs/anly503/lib/python3.10/site-packages/matplotlib/artist.py\": 1667505297.0, \"/Users/jameshickman/miniconda3/envs/anly503/lib/python3.10/site-packages/matplotlib/hatch.py\": 1667505297.0, \"/Users/jameshickman/miniconda3/envs/anly503/lib/python3.10/site-packages/matplotlib/markers.py\": 1667505297.0, \"/Users/jameshickman/miniconda3/envs/anly503/lib/python3.10/site-packages/matplotlib/lines.py\": 1667505297.0, \"/Users/jameshickman/miniconda3/envs/anly503/lib/python3.10/site-packages/matplotlib/collections.py\": 1667505297.0, \"/Users/jameshickman/miniconda3/envs/anly503/lib/python3.10/site-packages/matplotlib/_pylab_helpers.py\": 1667505297.0, \"/Users/jameshickman/miniconda3/envs/anly503/lib/python3.10/site-packages/matplotlib/backend_tools.py\": 1667505297.0, \"/Users/jameshickman/miniconda3/envs/anly503/lib/python3.10/site-packages/matplotlib/_text_helpers.py\": 1667505297.0, \"/Users/jameshickman/miniconda3/envs/anly503/lib/python3.10/site-packages/matplotlib/dviread.py\": 1667505297.0, \"/Users/jameshickman/miniconda3/envs/anly503/lib/python3.10/site-packages/matplotlib/_mathtext_data.py\": 1667505297.0, \"/Users/jameshickman/miniconda3/envs/anly503/lib/python3.10/site-packages/matplotlib/_afm.py\": 1667505297.0, \"/Users/jameshickman/miniconda3/envs/anly503/lib/python3.10/site-packages/matplotlib/font_manager.py\": 1667505297.0, \"/Users/jameshickman/miniconda3/envs/anly503/lib/python3.10/site-packages/matplotlib/_mathtext.py\": 1667505297.0, \"/Users/jameshickman/miniconda3/envs/anly503/lib/python3.10/site-packages/matplotlib/mathtext.py\": 1667505297.0, \"/Users/jameshickman/miniconda3/envs/anly503/lib/python3.10/site-packages/matplotlib/texmanager.py\": 1667505297.0, \"/Users/jameshickman/miniconda3/envs/anly503/lib/python3.10/site-packages/matplotlib/textpath.py\": 1667505297.0, \"/Users/jameshickman/miniconda3/envs/anly503/lib/python3.10/site-packages/matplotlib/_tight_bbox.py\": 1667505297.0, \"/Users/jameshickman/miniconda3/envs/anly503/lib/python3.10/site-packages/matplotlib/patches.py\": 1667505297.0, \"/Users/jameshickman/miniconda3/envs/anly503/lib/python3.10/site-packages/matplotlib/widgets.py\": 1667505297.0, \"/Users/jameshickman/miniconda3/envs/anly503/lib/python3.10/site-packages/matplotlib/backend_managers.py\": 1667505297.0, \"/Users/jameshickman/miniconda3/envs/anly503/lib/python3.10/site-packages/matplotlib/backend_bases.py\": 1667505297.0, \"/Users/jameshickman/miniconda3/envs/anly503/lib/python3.10/site-packages/matplotlib/text.py\": 1667505297.0, \"/Users/jameshickman/miniconda3/envs/anly503/lib/python3.10/site-packages/matplotlib/contour.py\": 1667505297.0, \"/Users/jameshickman/miniconda3/envs/anly503/lib/python3.10/site-packages/matplotlib/spines.py\": 1667505297.0, \"/Users/jameshickman/miniconda3/envs/anly503/lib/python3.10/site-packages/matplotlib/colorbar.py\": 1667505297.0, \"/Users/jameshickman/miniconda3/envs/anly503/lib/python3.10/site-packages/matplotlib/_image.cpython-310-darwin.so\": 1667505304.0, \"/Users/jameshickman/miniconda3/envs/anly503/lib/python3.10/site-packages/matplotlib/image.py\": 1667505297.0, \"/Users/jameshickman/miniconda3/envs/anly503/lib/python3.10/site-packages/matplotlib/style/core.py\": 1667505298.0, \"/Users/jameshickman/miniconda3/envs/anly503/lib/python3.10/site-packages/matplotlib/style/__init__.py\": 1667505298.0, \"/Users/jameshickman/miniconda3/envs/anly503/lib/python3.10/site-packages/matplotlib/_blocking_input.py\": 1667505297.0, \"/Users/jameshickman/miniconda3/envs/anly503/lib/python3.10/site-packages/matplotlib/units.py\": 1667505297.0, \"/Users/jameshickman/miniconda3/envs/anly503/lib/python3.10/site-packages/matplotlib/category.py\": 1667505297.0, \"/Users/jameshickman/miniconda3/envs/anly503/lib/python3.10/site-packages/dateutil/rrule.py\": 1626286447.0, \"/Users/jameshickman/miniconda3/envs/anly503/lib/python3.10/site-packages/matplotlib/dates.py\": 1667505297.0, \"/Users/jameshickman/miniconda3/envs/anly503/lib/python3.10/site-packages/matplotlib/offsetbox.py\": 1667505297.0, \"/Users/jameshickman/miniconda3/envs/anly503/lib/python3.10/site-packages/matplotlib/container.py\": 1667505297.0, \"/Users/jameshickman/miniconda3/envs/anly503/lib/python3.10/site-packages/matplotlib/legend_handler.py\": 1667505297.0, \"/Users/jameshickman/miniconda3/envs/anly503/lib/python3.10/site-packages/matplotlib/legend.py\": 1667505297.0, \"/Users/jameshickman/miniconda3/envs/anly503/lib/python3.10/site-packages/matplotlib/mlab.py\": 1667505297.0, \"/Users/jameshickman/miniconda3/envs/anly503/lib/python3.10/site-packages/matplotlib/quiver.py\": 1667505297.0, \"/Users/jameshickman/miniconda3/envs/anly503/lib/python3.10/site-packages/matplotlib/stackplot.py\": 1667505297.0, \"/Users/jameshickman/miniconda3/envs/anly503/lib/python3.10/site-packages/matplotlib/streamplot.py\": 1667505297.0, \"/Users/jameshickman/miniconda3/envs/anly503/lib/python3.10/site-packages/matplotlib/table.py\": 1667505297.0, \"/Users/jameshickman/miniconda3/envs/anly503/lib/python3.10/site-packages/matplotlib/tri/triangulation.py\": 1667505298.0, \"/Users/jameshickman/miniconda3/envs/anly503/lib/python3.10/site-packages/matplotlib/tri/tricontour.py\": 1667505298.0, \"/Users/jameshickman/miniconda3/envs/anly503/lib/python3.10/site-packages/matplotlib/tri/trifinder.py\": 1667505298.0, \"/Users/jameshickman/miniconda3/envs/anly503/lib/python3.10/site-packages/matplotlib/tri/tritools.py\": 1667505298.0, \"/Users/jameshickman/miniconda3/envs/anly503/lib/python3.10/site-packages/matplotlib/tri/triinterpolate.py\": 1667505298.0, \"/Users/jameshickman/miniconda3/envs/anly503/lib/python3.10/site-packages/matplotlib/tri/tripcolor.py\": 1667505298.0, \"/Users/jameshickman/miniconda3/envs/anly503/lib/python3.10/site-packages/matplotlib/tri/triplot.py\": 1667505298.0, \"/Users/jameshickman/miniconda3/envs/anly503/lib/python3.10/site-packages/matplotlib/tri/trirefine.py\": 1667505298.0, \"/Users/jameshickman/miniconda3/envs/anly503/lib/python3.10/site-packages/matplotlib/tri/__init__.py\": 1667505298.0, \"/Users/jameshickman/miniconda3/envs/anly503/lib/python3.10/site-packages/matplotlib/axis.py\": 1667505297.0, \"/Users/jameshickman/miniconda3/envs/anly503/lib/python3.10/site-packages/matplotlib/axes/_base.py\": 1667505297.0, \"/Users/jameshickman/miniconda3/envs/anly503/lib/python3.10/site-packages/matplotlib/axes/_secondary_axes.py\": 1667505297.0, \"/Users/jameshickman/miniconda3/envs/anly503/lib/python3.10/site-packages/matplotlib/axes/_axes.py\": 1667505297.0, \"/Users/jameshickman/miniconda3/envs/anly503/lib/python3.10/site-packages/matplotlib/_tight_layout.py\": 1667505297.0, \"/Users/jameshickman/miniconda3/envs/anly503/lib/python3.10/site-packages/matplotlib/gridspec.py\": 1667505297.0, \"/Users/jameshickman/miniconda3/envs/anly503/lib/python3.10/site-packages/matplotlib/axes/_subplots.py\": 1667505297.0, \"/Users/jameshickman/miniconda3/envs/anly503/lib/python3.10/site-packages/matplotlib/axes/__init__.py\": 1667505297.0, \"/Users/jameshickman/miniconda3/envs/anly503/lib/python3.10/site-packages/matplotlib/projections/geo.py\": 1667505298.0, \"/Users/jameshickman/miniconda3/envs/anly503/lib/python3.10/site-packages/matplotlib/projections/polar.py\": 1667505298.0, \"/Users/jameshickman/miniconda3/envs/anly503/lib/python3.10/site-packages/mpl_toolkits/mplot3d/proj3d.py\": 1667505298.0, \"/Users/jameshickman/miniconda3/envs/anly503/lib/python3.10/site-packages/mpl_toolkits/mplot3d/art3d.py\": 1667505298.0, \"/Users/jameshickman/miniconda3/envs/anly503/lib/python3.10/site-packages/mpl_toolkits/mplot3d/axis3d.py\": 1667505298.0, \"/Users/jameshickman/miniconda3/envs/anly503/lib/python3.10/site-packages/mpl_toolkits/mplot3d/axes3d.py\": 1667505298.0, \"/Users/jameshickman/miniconda3/envs/anly503/lib/python3.10/site-packages/mpl_toolkits/mplot3d/__init__.py\": 1667505298.0, \"/Users/jameshickman/miniconda3/envs/anly503/lib/python3.10/site-packages/matplotlib/projections/__init__.py\": 1667505298.0, \"/Users/jameshickman/miniconda3/envs/anly503/lib/python3.10/site-packages/matplotlib/_layoutgrid.py\": 1667505297.0, \"/Users/jameshickman/miniconda3/envs/anly503/lib/python3.10/site-packages/matplotlib/_constrained_layout.py\": 1667505297.0, \"/Users/jameshickman/miniconda3/envs/anly503/lib/python3.10/site-packages/matplotlib/layout_engine.py\": 1667505297.0, \"/Users/jameshickman/miniconda3/envs/anly503/lib/python3.10/site-packages/matplotlib/figure.py\": 1667505297.0, \"/Users/jameshickman/miniconda3/envs/anly503/lib/python3.10/site-packages/matplotlib/pyplot.py\": 1667505297.0, \"/Users/jameshickman/miniconda3/envs/anly503/lib/python3.10/site-packages/matplotlib/backends/__init__.py\": 1667505297.0, \"/Users/jameshickman/miniconda3/envs/anly503/lib/python3.10/site-packages/matplotlib/backends/_backend_agg.cpython-310-darwin.so\": 1667505305.0, \"/Users/jameshickman/miniconda3/envs/anly503/lib/python3.10/site-packages/matplotlib/backends/backend_agg.py\": 1667505297.0, \"/Users/jameshickman/miniconda3/envs/anly503/lib/python3.10/site-packages/matplotlib_inline/config.py\": 1660814911.0, \"/Users/jameshickman/miniconda3/envs/anly503/lib/python3.10/site-packages/matplotlib_inline/backend_inline.py\": 1660814911.0, \"/Users/jameshickman/miniconda3/envs/anly503/lib/python3.10/site-packages/matplotlib_inline/__init__.py\": 1660814911.0, \"/Users/jameshickman/miniconda3/envs/anly503/lib/python3.10/site-packages/_plotly_utils/__init__.py\": 1677255606.628558, \"/Users/jameshickman/miniconda3/envs/anly503/lib/python3.10/site-packages/_plotly_utils/importers.py\": 1677255606.632559, \"/Users/jameshickman/miniconda3/envs/anly503/lib/python3.10/site-packages/plotly/__init__.py\": 1677255606.728559, \"/Users/jameshickman/miniconda3/envs/anly503/lib/python3.10/site-packages/plotly/io/_templates.py\": 1677255607.172562, \"/Users/jameshickman/miniconda3/envs/anly503/lib/python3.10/site-packages/plotly/io/__init__.py\": 1677255607.168562, \"/Users/jameshickman/miniconda3/envs/anly503/lib/python3.10/site-packages/_plotly_utils/optional_imports.py\": 1677255606.632559, \"/Users/jameshickman/miniconda3/envs/anly503/lib/python3.10/site-packages/plotly/optional_imports.py\": 1677255606.732559, \"/Users/jameshickman/miniconda3/envs/anly503/lib/python3.10/webbrowser.py\": 1669106274.0, \"/Users/jameshickman/miniconda3/envs/anly503/lib/python3.10/site-packages/_plotly_utils/basevalidators.py\": 1677255606.632559, \"/Users/jameshickman/miniconda3/envs/anly503/lib/python3.10/site-packages/_plotly_utils/utils.py\": 1677255606.632559, \"/Users/jameshickman/miniconda3/envs/anly503/lib/python3.10/site-packages/_plotly_utils/png.py\": 1677255606.632559, \"/Users/jameshickman/miniconda3/envs/anly503/lib/python3.10/site-packages/_plotly_utils/data_utils.py\": 1677255606.632559, \"/Users/jameshickman/miniconda3/envs/anly503/lib/python3.10/site-packages/plotly/utils.py\": 1677255606.732559, \"/Users/jameshickman/miniconda3/envs/anly503/lib/python3.10/site-packages/plotly/graph_objs/__init__.py\": 1677255606.744559, \"/Users/jameshickman/miniconda3/envs/anly503/lib/python3.10/site-packages/_plotly_utils/exceptions.py\": 1677255606.632559, \"/Users/jameshickman/miniconda3/envs/anly503/lib/python3.10/site-packages/plotly/exceptions.py\": 1677255606.728559, \"/Users/jameshickman/miniconda3/envs/anly503/lib/python3.10/site-packages/_plotly_utils/files.py\": 1677255606.632559, \"/Users/jameshickman/miniconda3/envs/anly503/lib/python3.10/site-packages/plotly/files.py\": 1677255606.732559, \"/Users/jameshickman/miniconda3/envs/anly503/lib/python3.10/site-packages/plotly/tools.py\": 1677255606.732559, \"/Users/jameshickman/miniconda3/envs/anly503/lib/python3.10/site-packages/plotly/offline/_plotlyjs_version.py\": 1677255607.176562, \"/Users/jameshickman/miniconda3/envs/anly503/lib/python3.10/site-packages/plotly/offline/offline.py\": 1677255607.176562, \"/Users/jameshickman/miniconda3/envs/anly503/lib/python3.10/site-packages/plotly/offline/__init__.py\": 1677255607.176562, \"/Users/jameshickman/miniconda3/envs/anly503/lib/python3.10/site-packages/plotly/io/_utils.py\": 1677255607.172562, \"/Users/jameshickman/miniconda3/envs/anly503/lib/python3.10/site-packages/plotly/io/_json.py\": 1677255607.172562, \"/Users/jameshickman/miniconda3/envs/anly503/lib/python3.10/site-packages/plotly/io/_kaleido.py\": 1677255607.172562, \"/Users/jameshickman/miniconda3/envs/anly503/lib/python3.10/site-packages/plotly/io/_html.py\": 1677255607.172562, \"/Users/jameshickman/miniconda3/envs/anly503/lib/python3.10/site-packages/tenacity/retry.py\": 1663807199.0, \"/Users/jameshickman/miniconda3/envs/anly503/lib/python3.10/site-packages/tenacity/nap.py\": 1663807199.0, \"/Users/jameshickman/miniconda3/envs/anly503/lib/python3.10/site-packages/tenacity/stop.py\": 1663807199.0, \"/Users/jameshickman/miniconda3/envs/anly503/lib/python3.10/site-packages/tenacity/_utils.py\": 1663807199.0, \"/Users/jameshickman/miniconda3/envs/anly503/lib/python3.10/site-packages/tenacity/wait.py\": 1663807199.0, \"/Users/jameshickman/miniconda3/envs/anly503/lib/python3.10/site-packages/tenacity/before.py\": 1663807199.0, \"/Users/jameshickman/miniconda3/envs/anly503/lib/python3.10/site-packages/tenacity/after.py\": 1663807199.0, \"/Users/jameshickman/miniconda3/envs/anly503/lib/python3.10/site-packages/tenacity/before_sleep.py\": 1663807199.0, \"/Users/jameshickman/miniconda3/envs/anly503/lib/python3.10/site-packages/tenacity/_asyncio.py\": 1663807199.0, \"/Users/jameshickman/miniconda3/envs/anly503/lib/python3.10/site-packages/tenacity/tornadoweb.py\": 1663807199.0, \"/Users/jameshickman/miniconda3/envs/anly503/lib/python3.10/site-packages/tenacity/__init__.py\": 1663807199.0, \"/Users/jameshickman/miniconda3/envs/anly503/lib/python3.10/site-packages/plotly/io/_orca.py\": 1677255607.172562, \"/Users/jameshickman/miniconda3/envs/anly503/lib/python3.10/site-packages/plotly/io/_base_renderers.py\": 1677255607.168562, \"/Users/jameshickman/miniconda3/envs/anly503/lib/python3.10/site-packages/nbformat/v1/convert.py\": 1673560217.401209, \"/Users/jameshickman/miniconda3/envs/anly503/lib/python3.10/site-packages/nbformat/_struct.py\": 1673560217.397209, \"/Users/jameshickman/miniconda3/envs/anly503/lib/python3.10/site-packages/nbformat/v1/nbbase.py\": 1673560217.401209, \"/Users/jameshickman/miniconda3/envs/anly503/lib/python3.10/site-packages/nbformat/v1/rwbase.py\": 1673560217.405209, \"/Users/jameshickman/miniconda3/envs/anly503/lib/python3.10/site-packages/nbformat/v1/nbjson.py\": 1673560217.405209, \"/Users/jameshickman/miniconda3/envs/anly503/lib/python3.10/site-packages/nbformat/v1/__init__.py\": 1673560217.401209, \"/Users/jameshickman/miniconda3/envs/anly503/lib/python3.10/site-packages/nbformat/v2/nbbase.py\": 1673560217.405209, \"/Users/jameshickman/miniconda3/envs/anly503/lib/python3.10/site-packages/nbformat/v2/convert.py\": 1673560217.405209, \"/Users/jameshickman/miniconda3/envs/anly503/lib/python3.10/site-packages/nbformat/v2/rwbase.py\": 1673560217.405209, \"/Users/jameshickman/miniconda3/envs/anly503/lib/python3.10/site-packages/nbformat/v2/nbjson.py\": 1673560217.405209, \"/Users/jameshickman/miniconda3/envs/anly503/lib/python3.10/site-packages/nbformat/v2/nbpy.py\": 1673560217.405209, \"/Users/jameshickman/miniconda3/envs/anly503/lib/python3.10/site-packages/nbformat/v2/nbxml.py\": 1673560217.405209, \"/Users/jameshickman/miniconda3/envs/anly503/lib/python3.10/site-packages/nbformat/v2/__init__.py\": 1673560217.405209, \"/Users/jameshickman/miniconda3/envs/anly503/lib/python3.10/site-packages/nbformat/v3/nbbase.py\": 1673560217.405209, \"/Users/jameshickman/miniconda3/envs/anly503/lib/python3.10/site-packages/nbformat/v3/convert.py\": 1673560217.405209, \"/Users/jameshickman/miniconda3/envs/anly503/lib/python3.10/site-packages/nbformat/v3/rwbase.py\": 1673560217.409209, \"/Users/jameshickman/miniconda3/envs/anly503/lib/python3.10/site-packages/nbformat/v3/nbjson.py\": 1673560217.405209, \"/Users/jameshickman/miniconda3/envs/anly503/lib/python3.10/site-packages/nbformat/v3/nbpy.py\": 1673560217.409209, \"/Users/jameshickman/miniconda3/envs/anly503/lib/python3.10/site-packages/nbformat/v3/__init__.py\": 1673560217.405209, \"/Users/jameshickman/miniconda3/envs/anly503/lib/python3.10/site-packages/nbformat/corpus/__init__.py\": 1673560217.401209, \"/Users/jameshickman/miniconda3/envs/anly503/lib/python3.10/site-packages/nbformat/corpus/words.py\": 1673560217.401209, \"/Users/jameshickman/miniconda3/envs/anly503/lib/python3.10/site-packages/nbformat/notebooknode.py\": 1673560217.397209, \"/Users/jameshickman/miniconda3/envs/anly503/lib/python3.10/site-packages/nbformat/v4/nbbase.py\": 1673560217.409209, \"/Users/jameshickman/miniconda3/envs/anly503/lib/python3.10/site-packages/nbformat/v4/rwbase.py\": 1673560217.409209, \"/Users/jameshickman/miniconda3/envs/anly503/lib/python3.10/site-packages/nbformat/v4/nbjson.py\": 1673560217.409209, \"/Users/jameshickman/miniconda3/envs/anly503/lib/python3.10/site-packages/nbformat/_imports.py\": 1673560217.397209, \"/Users/jameshickman/miniconda3/envs/anly503/lib/python3.10/site-packages/fastjsonschema/exceptions.py\": 1663619646.0, \"/Users/jameshickman/miniconda3/envs/anly503/lib/python3.10/site-packages/fastjsonschema/indent.py\": 1663619646.0, \"/Users/jameshickman/miniconda3/envs/anly503/lib/python3.10/site-packages/fastjsonschema/ref_resolver.py\": 1663619646.0, \"/Users/jameshickman/miniconda3/envs/anly503/lib/python3.10/site-packages/fastjsonschema/generator.py\": 1663619646.0, \"/Users/jameshickman/miniconda3/envs/anly503/lib/python3.10/site-packages/fastjsonschema/draft04.py\": 1663619646.0, \"/Users/jameshickman/miniconda3/envs/anly503/lib/python3.10/site-packages/fastjsonschema/draft06.py\": 1663619646.0, \"/Users/jameshickman/miniconda3/envs/anly503/lib/python3.10/site-packages/fastjsonschema/draft07.py\": 1663619646.0, \"/Users/jameshickman/miniconda3/envs/anly503/lib/python3.10/site-packages/fastjsonschema/version.py\": 1663619646.0, \"/Users/jameshickman/miniconda3/envs/anly503/lib/python3.10/site-packages/fastjsonschema/__init__.py\": 1663619646.0, \"/Users/jameshickman/miniconda3/envs/anly503/lib/python3.10/ipaddress.py\": 1669106274.0, \"/Users/jameshickman/miniconda3/envs/anly503/lib/python3.10/site-packages/attr/_compat.py\": 1671632708.303615, \"/Users/jameshickman/miniconda3/envs/anly503/lib/python3.10/site-packages/attr/_config.py\": 1671632708.303615, \"/Users/jameshickman/miniconda3/envs/anly503/lib/python3.10/site-packages/attr/exceptions.py\": 1671632708.307615, \"/Users/jameshickman/miniconda3/envs/anly503/lib/python3.10/site-packages/attr/setters.py\": 1671632708.307615, \"/Users/jameshickman/miniconda3/envs/anly503/lib/python3.10/site-packages/attr/_make.py\": 1671632708.303615, \"/Users/jameshickman/miniconda3/envs/anly503/lib/python3.10/site-packages/attr/converters.py\": 1671632708.307615, \"/Users/jameshickman/miniconda3/envs/anly503/lib/python3.10/site-packages/attr/filters.py\": 1671632708.307615, \"/Users/jameshickman/miniconda3/envs/anly503/lib/python3.10/site-packages/attr/validators.py\": 1671632708.307615, \"/Users/jameshickman/miniconda3/envs/anly503/lib/python3.10/site-packages/attr/_cmp.py\": 1671632708.303615, \"/Users/jameshickman/miniconda3/envs/anly503/lib/python3.10/site-packages/attr/_funcs.py\": 1671632708.303615, \"/Users/jameshickman/miniconda3/envs/anly503/lib/python3.10/site-packages/attr/_next_gen.py\": 1671632708.303615, \"/Users/jameshickman/miniconda3/envs/anly503/lib/python3.10/site-packages/attr/_version_info.py\": 1671632708.303615, \"/Users/jameshickman/miniconda3/envs/anly503/lib/python3.10/site-packages/attr/__init__.py\": 1671632708.303615, \"/Users/jameshickman/miniconda3/envs/anly503/lib/python3.10/site-packages/jsonschema/_utils.py\": 1662737002.0, \"/Users/jameshickman/miniconda3/envs/anly503/lib/python3.10/site-packages/jsonschema/exceptions.py\": 1662737002.0, \"/Users/jameshickman/miniconda3/envs/anly503/lib/python3.10/site-packages/idna/package_data.py\": 1663625483.0, \"/Users/jameshickman/miniconda3/envs/anly503/lib/python3.10/site-packages/idna/idnadata.py\": 1663625483.0, \"/Users/jameshickman/miniconda3/envs/anly503/lib/python3.10/site-packages/idna/intranges.py\": 1663625483.0, \"/Users/jameshickman/miniconda3/envs/anly503/lib/python3.10/site-packages/idna/core.py\": 1663625483.0, \"/Users/jameshickman/miniconda3/envs/anly503/lib/python3.10/site-packages/idna/__init__.py\": 1663625483.0, \"/Users/jameshickman/miniconda3/envs/anly503/lib/python3.10/site-packages/rfc3986_validator.py\": 1598024296.0, \"/Users/jameshickman/miniconda3/envs/anly503/lib/python3.10/site-packages/rfc3339_validator.py\": 1638811836.0, \"/Users/jameshickman/miniconda3/envs/anly503/lib/python3.10/site-packages/jsonschema/_format.py\": 1662737002.0, \"/Users/jameshickman/miniconda3/envs/anly503/lib/python3.10/site-packages/pyrsistent/_transformations.py\": 1672681717.0, \"/Users/jameshickman/miniconda3/envs/anly503/lib/python3.10/site-packages/pvectorc.cpython-310-darwin.so\": 1672681720.0, \"/Users/jameshickman/miniconda3/envs/anly503/lib/python3.10/site-packages/pyrsistent/_pvector.py\": 1672681717.0, \"/Users/jameshickman/miniconda3/envs/anly503/lib/python3.10/site-packages/pyrsistent/_pmap.py\": 1672681717.0, \"/Users/jameshickman/miniconda3/envs/anly503/lib/python3.10/site-packages/pyrsistent/_pset.py\": 1672681717.0, \"/Users/jameshickman/miniconda3/envs/anly503/lib/python3.10/site-packages/pyrsistent/_pbag.py\": 1672681717.0, \"/Users/jameshickman/miniconda3/envs/anly503/lib/python3.10/site-packages/pyrsistent/_plist.py\": 1672681717.0, \"/Users/jameshickman/miniconda3/envs/anly503/lib/python3.10/site-packages/pyrsistent/_pdeque.py\": 1672681717.0, \"/Users/jameshickman/miniconda3/envs/anly503/lib/python3.10/site-packages/pyrsistent/_checked_types.py\": 1672681717.0, \"/Users/jameshickman/miniconda3/envs/anly503/lib/python3.10/site-packages/pyrsistent/_field_common.py\": 1672681717.0, \"/Users/jameshickman/miniconda3/envs/anly503/lib/python3.10/site-packages/pyrsistent/_precord.py\": 1672681717.0, \"/Users/jameshickman/miniconda3/envs/anly503/lib/python3.10/site-packages/pyrsistent/_pclass.py\": 1672681717.0, \"/Users/jameshickman/miniconda3/envs/anly503/lib/python3.10/site-packages/pyrsistent/_immutable.py\": 1672681717.0, \"/Users/jameshickman/miniconda3/envs/anly503/lib/python3.10/site-packages/pyrsistent/_helpers.py\": 1672681717.0, \"/Users/jameshickman/miniconda3/envs/anly503/lib/python3.10/site-packages/pyrsistent/_toolz.py\": 1672681717.0, \"/Users/jameshickman/miniconda3/envs/anly503/lib/python3.10/site-packages/pyrsistent/__init__.py\": 1672681717.0, \"/Users/jameshickman/miniconda3/envs/anly503/lib/python3.10/site-packages/pyrsistent/typing.py\": 1672681717.0, \"/Users/jameshickman/miniconda3/envs/anly503/lib/python3.10/site-packages/jsonschema/_types.py\": 1662737002.0, \"/Users/jameshickman/miniconda3/envs/anly503/lib/python3.10/site-packages/jsonschema/protocols.py\": 1662737002.0, \"/Users/jameshickman/miniconda3/envs/anly503/lib/python3.10/site-packages/jsonschema/_legacy_validators.py\": 1662737002.0, \"/Users/jameshickman/miniconda3/envs/anly503/lib/python3.10/site-packages/jsonschema/_validators.py\": 1662737002.0, \"/Users/jameshickman/miniconda3/envs/anly503/lib/python3.10/importlib/readers.py\": 1669106276.0, \"/Users/jameshickman/miniconda3/envs/anly503/lib/python3.10/site-packages/jsonschema/validators.py\": 1662737002.0, \"/Users/jameshickman/miniconda3/envs/anly503/lib/python3.10/site-packages/jsonschema/__init__.py\": 1662737002.0, \"/Users/jameshickman/miniconda3/envs/anly503/lib/python3.10/site-packages/nbformat/json_compat.py\": 1673560217.397209, \"/Users/jameshickman/miniconda3/envs/anly503/lib/python3.10/site-packages/nbformat/reader.py\": 1673560217.401209, \"/Users/jameshickman/miniconda3/envs/anly503/lib/python3.10/site-packages/nbformat/warnings.py\": 1673560217.401209, \"/Users/jameshickman/miniconda3/envs/anly503/lib/python3.10/site-packages/nbformat/validator.py\": 1673560217.401209, \"/Users/jameshickman/miniconda3/envs/anly503/lib/python3.10/site-packages/nbformat/v4/convert.py\": 1673560217.409209, \"/Users/jameshickman/miniconda3/envs/anly503/lib/python3.10/site-packages/nbformat/v4/__init__.py\": 1673560217.409209, \"/Users/jameshickman/miniconda3/envs/anly503/lib/python3.10/lib-dynload/_csv.cpython-310-darwin.so\": 1669106315.0, \"/Users/jameshickman/miniconda3/envs/anly503/lib/python3.10/csv.py\": 1669106273.0, \"/Users/jameshickman/miniconda3/envs/anly503/lib/python3.10/importlib/metadata/_functools.py\": 1669106276.0, \"/Users/jameshickman/miniconda3/envs/anly503/lib/python3.10/importlib/metadata/_text.py\": 1669106276.0, \"/Users/jameshickman/miniconda3/envs/anly503/lib/python3.10/importlib/metadata/_adapters.py\": 1669106276.0, \"/Users/jameshickman/miniconda3/envs/anly503/lib/python3.10/importlib/metadata/_meta.py\": 1669106276.0, \"/Users/jameshickman/miniconda3/envs/anly503/lib/python3.10/importlib/metadata/_collections.py\": 1669106276.0, \"/Users/jameshickman/miniconda3/envs/anly503/lib/python3.10/importlib/metadata/_itertools.py\": 1669106276.0, \"/Users/jameshickman/miniconda3/envs/anly503/lib/python3.10/importlib/metadata/__init__.py\": 1669106276.0, \"/Users/jameshickman/miniconda3/envs/anly503/lib/python3.10/site-packages/nbformat/_version.py\": 1673560217.397209, \"/Users/jameshickman/miniconda3/envs/anly503/lib/python3.10/site-packages/nbformat/sentinel.py\": 1673560217.401209, \"/Users/jameshickman/miniconda3/envs/anly503/lib/python3.10/site-packages/nbformat/converter.py\": 1673560217.397209, \"/Users/jameshickman/miniconda3/envs/anly503/lib/python3.10/site-packages/nbformat/__init__.py\": 1673560217.397209, \"/Users/jameshickman/miniconda3/envs/anly503/lib/python3.10/site-packages/plotly/io/_renderers.py\": 1677255607.172562, \"/Users/jameshickman/miniconda3/envs/anly503/lib/python3.10/site-packages/pytz/exceptions.py\": 1673864387.792274, \"/Users/jameshickman/miniconda3/envs/anly503/lib/python3.10/site-packages/pytz/lazy.py\": 1673864387.792274, \"/Users/jameshickman/miniconda3/envs/anly503/lib/python3.10/site-packages/pytz/tzinfo.py\": 1673864387.792274, \"/Users/jameshickman/miniconda3/envs/anly503/lib/python3.10/site-packages/pytz/tzfile.py\": 1673864387.792274, \"/Users/jameshickman/miniconda3/envs/anly503/lib/python3.10/site-packages/pytz/__init__.py\": 1673864387.792274, \"/Users/jameshickman/miniconda3/envs/anly503/lib/python3.10/site-packages/pandas/_typing.py\": 1669008801.0, \"/Users/jameshickman/miniconda3/envs/anly503/lib/python3.10/site-packages/pandas/_libs/tslibs/np_datetime.cpython-310-darwin.so\": 1673312024.0, \"/Users/jameshickman/miniconda3/envs/anly503/lib/python3.10/site-packages/pandas/_libs/tslibs/dtypes.cpython-310-darwin.so\": 1673312023.0, \"/Users/jameshickman/miniconda3/envs/anly503/lib/python3.10/site-packages/pandas/_libs/tslibs/base.cpython-310-darwin.so\": 1673312016.0, \"/Users/jameshickman/miniconda3/envs/anly503/lib/python3.10/site-packages/pandas/util/_exceptions.py\": 1669008801.0, \"/Users/jameshickman/miniconda3/envs/anly503/lib/python3.10/site-packages/pandas/_libs/tslibs/nattype.cpython-310-darwin.so\": 1673312019.0, \"/Users/jameshickman/miniconda3/envs/anly503/lib/python3.10/site-packages/pandas/util/version/__init__.py\": 1661274950.0, \"/Users/jameshickman/miniconda3/envs/anly503/lib/python3.10/site-packages/pandas/compat/_optional.py\": 1669008801.0, \"/Users/jameshickman/miniconda3/envs/anly503/lib/python3.10/zoneinfo/_tzpath.py\": 1669106277.0, \"/Users/jameshickman/miniconda3/envs/anly503/lib/python3.10/zoneinfo/_common.py\": 1669106277.0, \"/Users/jameshickman/miniconda3/envs/anly503/lib/python3.10/lib-dynload/_zoneinfo.cpython-310-darwin.so\": 1669106315.0, \"/Users/jameshickman/miniconda3/envs/anly503/lib/python3.10/zoneinfo/__init__.py\": 1669106277.0, \"/Users/jameshickman/miniconda3/envs/anly503/lib/python3.10/site-packages/pandas/_libs/tslibs/timezones.cpython-310-darwin.so\": 1673312021.0, \"/Users/jameshickman/miniconda3/envs/anly503/lib/python3.10/site-packages/pandas/_libs/tslibs/tzconversion.cpython-310-darwin.so\": 1673312016.0, \"/Users/jameshickman/miniconda3/envs/anly503/lib/python3.10/site-packages/pandas/_libs/tslibs/ccalendar.cpython-310-darwin.so\": 1673312018.0, \"/Users/jameshickman/miniconda3/envs/anly503/lib/python3.10/site-packages/pandas/_config/config.py\": 1669008801.0, \"/Users/jameshickman/miniconda3/envs/anly503/lib/python3.10/site-packages/pandas/_config/dates.py\": 1661275008.0, \"/Users/jameshickman/miniconda3/envs/anly503/lib/python3.10/site-packages/pandas/_config/display.py\": 1661274949.0, \"/Users/jameshickman/miniconda3/envs/anly503/lib/python3.10/site-packages/pandas/_config/__init__.py\": 1661274949.0, \"/Users/jameshickman/miniconda3/envs/anly503/lib/python3.10/site-packages/pandas/_config/localization.py\": 1669008801.0, \"/Users/jameshickman/miniconda3/envs/anly503/lib/python3.10/site-packages/pandas/_libs/tslibs/fields.cpython-310-darwin.so\": 1673312019.0, \"/Users/jameshickman/miniconda3/envs/anly503/lib/python3.10/site-packages/pandas/_libs/tslibs/timedeltas.cpython-310-darwin.so\": 1673312018.0, \"/Users/jameshickman/miniconda3/envs/anly503/lib/python3.10/site-packages/pandas/_libs/tslibs/timestamps.cpython-310-darwin.so\": 1673312024.0, \"/Users/jameshickman/miniconda3/envs/anly503/lib/python3.10/site-packages/dateutil/easter.py\": 1626286447.0, \"/Users/jameshickman/miniconda3/envs/anly503/lib/python3.10/site-packages/pandas/_libs/properties.cpython-310-darwin.so\": 1673312016.0, \"/Users/jameshickman/miniconda3/envs/anly503/lib/python3.10/site-packages/pandas/_libs/tslibs/offsets.cpython-310-darwin.so\": 1673312021.0, \"/Users/jameshickman/miniconda3/envs/anly503/lib/python3.10/site-packages/pandas/_libs/tslibs/parsing.cpython-310-darwin.so\": 1673312016.0, \"/Users/jameshickman/miniconda3/envs/anly503/lib/python3.10/site-packages/pandas/_libs/tslibs/conversion.cpython-310-darwin.so\": 1673312020.0, \"/Users/jameshickman/miniconda3/envs/anly503/lib/python3.10/site-packages/pandas/_libs/tslibs/period.cpython-310-darwin.so\": 1673312023.0, \"/Users/jameshickman/miniconda3/envs/anly503/lib/python3.10/site-packages/pandas/_libs/tslibs/vectorized.cpython-310-darwin.so\": 1673312018.0, \"/Users/jameshickman/miniconda3/envs/anly503/lib/python3.10/site-packages/pandas/_libs/tslibs/__init__.py\": 1669008801.0, \"/Users/jameshickman/miniconda3/envs/anly503/lib/python3.10/site-packages/pandas/_libs/ops_dispatch.cpython-310-darwin.so\": 1673312020.0, \"/Users/jameshickman/miniconda3/envs/anly503/lib/python3.10/site-packages/pandas/_libs/missing.cpython-310-darwin.so\": 1673312020.0, \"/Users/jameshickman/miniconda3/envs/anly503/lib/python3.10/site-packages/pandas/_libs/hashtable.cpython-310-darwin.so\": 1673312018.0, \"/Users/jameshickman/miniconda3/envs/anly503/lib/python3.10/site-packages/pandas/_libs/algos.cpython-310-darwin.so\": 1673312023.0, \"/Users/jameshickman/miniconda3/envs/anly503/lib/python3.10/site-packages/pandas/_libs/interval.cpython-310-darwin.so\": 1673312023.0, \"/Users/jameshickman/miniconda3/envs/anly503/lib/python3.10/site-packages/pandas/_libs/__init__.py\": 1661274949.0, \"/Users/jameshickman/miniconda3/envs/anly503/lib/python3.10/site-packages/pandas/util/_decorators.py\": 1669008801.0, \"/Users/jameshickman/miniconda3/envs/anly503/lib/python3.10/site-packages/pandas/core/__init__.py\": 1661274949.0, \"/Users/jameshickman/miniconda3/envs/anly503/lib/python3.10/site-packages/pandas/core/util/__init__.py\": 1661274949.0, \"/Users/jameshickman/miniconda3/envs/anly503/lib/python3.10/site-packages/pandas/_libs/tslib.cpython-310-darwin.so\": 1673312019.0, \"/Users/jameshickman/miniconda3/envs/anly503/lib/python3.10/site-packages/pandas/_libs/lib.cpython-310-darwin.so\": 1673312022.0, \"/Users/jameshickman/miniconda3/envs/anly503/lib/python3.10/site-packages/pandas/_libs/hashing.cpython-310-darwin.so\": 1673312020.0, \"/Users/jameshickman/miniconda3/envs/anly503/lib/python3.10/site-packages/pandas/core/dtypes/__init__.py\": 1661274949.0, \"/Users/jameshickman/miniconda3/envs/anly503/lib/python3.10/site-packages/pandas/errors/__init__.py\": 1669008801.0, \"/Users/jameshickman/miniconda3/envs/anly503/lib/python3.10/site-packages/pandas/core/dtypes/generic.py\": 1669008801.0, \"/Users/jameshickman/miniconda3/envs/anly503/lib/python3.10/site-packages/pandas/core/dtypes/base.py\": 1669008801.0, \"/Users/jameshickman/miniconda3/envs/anly503/lib/python3.10/site-packages/pandas/core/dtypes/inference.py\": 1669008801.0, \"/Users/jameshickman/miniconda3/envs/anly503/lib/python3.10/site-packages/pandas/core/dtypes/dtypes.py\": 1669008801.0, \"/Users/jameshickman/miniconda3/envs/anly503/lib/python3.10/site-packages/pandas/core/dtypes/common.py\": 1669008801.0, \"/Users/jameshickman/miniconda3/envs/anly503/lib/python3.10/site-packages/pandas/core/util/hashing.py\": 1661274949.0, \"/Users/jameshickman/miniconda3/envs/anly503/lib/python3.10/site-packages/pandas/util/__init__.py\": 1669008801.0, \"/Users/jameshickman/miniconda3/envs/anly503/lib/python3.10/site-packages/pandas/compat/numpy/__init__.py\": 1661275008.0, \"/Users/jameshickman/miniconda3/envs/anly503/lib/python3.10/site-packages/pyarrow/_generated_version.py\": 1673822762.0, \"/Users/jameshickman/miniconda3/envs/anly503/lib/python3.10/site-packages/cloudpickle/compat.py\": 1662587483.0, \"/Users/jameshickman/miniconda3/envs/anly503/lib/python3.10/site-packages/typing_extensions.py\": 1665144547.0, \"/Users/jameshickman/miniconda3/envs/anly503/lib/python3.10/site-packages/cloudpickle/cloudpickle.py\": 1662587483.0, \"/Users/jameshickman/miniconda3/envs/anly503/lib/python3.10/site-packages/cloudpickle/cloudpickle_fast.py\": 1662587483.0, \"/Users/jameshickman/miniconda3/envs/anly503/lib/python3.10/site-packages/cloudpickle/__init__.py\": 1662587483.0, \"/Users/jameshickman/miniconda3/envs/anly503/lib/python3.10/site-packages/pyarrow/util.py\": 1668557121.0, \"/Users/jameshickman/miniconda3/envs/anly503/lib/python3.10/site-packages/pyarrow/lib.cpython-310-darwin.so\": 1673823070.215651, \"/Users/jameshickman/miniconda3/envs/anly503/lib/python3.10/site-packages/pyarrow/_hdfsio.cpython-310-darwin.so\": 1673823071.324428, \"/Users/jameshickman/miniconda3/envs/anly503/lib/python3.10/site-packages/pyarrow/filesystem.py\": 1668557121.0, \"/Users/jameshickman/miniconda3/envs/anly503/lib/python3.10/site-packages/pyarrow/hdfs.py\": 1668557121.0, \"/Users/jameshickman/miniconda3/envs/anly503/lib/python3.10/site-packages/pyarrow/ipc.py\": 1668557121.0, \"/Users/jameshickman/miniconda3/envs/anly503/lib/python3.10/site-packages/pyarrow/serialization.py\": 1668557121.0, \"/Users/jameshickman/miniconda3/envs/anly503/lib/python3.10/site-packages/pyarrow/types.py\": 1668557121.0, \"/Users/jameshickman/miniconda3/envs/anly503/lib/python3.10/site-packages/pyarrow/__init__.py\": 1668557121.0, \"/Users/jameshickman/miniconda3/envs/anly503/lib/python3.10/site-packages/pandas/compat/pyarrow.py\": 1669008801.0, \"/Users/jameshickman/miniconda3/envs/anly503/lib/python3.10/site-packages/pandas/compat/__init__.py\": 1669008801.0, \"/Users/jameshickman/miniconda3/envs/anly503/lib/python3.10/site-packages/pandas/core/config_init.py\": 1669008801.0, \"/Users/jameshickman/miniconda3/envs/anly503/lib/python3.10/site-packages/pandas/core/dtypes/missing.py\": 1669008801.0, \"/Users/jameshickman/miniconda3/envs/anly503/lib/python3.10/site-packages/pandas/util/_validators.py\": 1669008801.0, \"/Users/jameshickman/miniconda3/envs/anly503/lib/python3.10/site-packages/pandas/core/dtypes/astype.py\": 1669008801.0, \"/Users/jameshickman/miniconda3/envs/anly503/lib/python3.10/site-packages/pandas/core/dtypes/cast.py\": 1669008801.0, \"/Users/jameshickman/miniconda3/envs/anly503/lib/python3.10/site-packages/pandas/core/dtypes/concat.py\": 1669008801.0, \"/Users/jameshickman/miniconda3/envs/anly503/lib/python3.10/site-packages/pandas/core/array_algos/__init__.py\": 1661274949.0, \"/Users/jameshickman/miniconda3/envs/anly503/lib/python3.10/site-packages/pandas/core/common.py\": 1669008801.0, \"/Users/jameshickman/miniconda3/envs/anly503/lib/python3.10/site-packages/pandas/core/construction.py\": 1669008801.0, \"/Users/jameshickman/miniconda3/envs/anly503/lib/python3.10/site-packages/pandas/core/array_algos/take.py\": 1669008801.0, \"/Users/jameshickman/miniconda3/envs/anly503/lib/python3.10/site-packages/pandas/core/indexers/utils.py\": 1669008801.0, \"/Users/jameshickman/miniconda3/envs/anly503/lib/python3.10/site-packages/pandas/core/indexers/__init__.py\": 1669008801.0, \"/Users/jameshickman/miniconda3/envs/anly503/lib/python3.10/site-packages/pandas/core/algorithms.py\": 1669008801.0, \"/Users/jameshickman/miniconda3/envs/anly503/lib/python3.10/site-packages/pandas/core/roperator.py\": 1661275008.0, \"/Users/jameshickman/miniconda3/envs/anly503/lib/python3.10/site-packages/pandas/_libs/ops.cpython-310-darwin.so\": 1673312017.0, \"/Users/jameshickman/miniconda3/envs/anly503/lib/python3.10/site-packages/pandas/core/computation/__init__.py\": 1661274949.0, \"/Users/jameshickman/miniconda3/envs/anly503/lib/python3.10/site-packages/pandas/core/computation/check.py\": 1661275008.0, \"/Users/jameshickman/miniconda3/envs/anly503/lib/python3.10/site-packages/pandas/core/computation/expressions.py\": 1669008801.0, \"/Users/jameshickman/miniconda3/envs/anly503/lib/python3.10/site-packages/pandas/core/ops/missing.py\": 1661275008.0, \"/Users/jameshickman/miniconda3/envs/anly503/lib/python3.10/site-packages/pandas/core/ops/dispatch.py\": 1661275008.0, \"/Users/jameshickman/miniconda3/envs/anly503/lib/python3.10/site-packages/pandas/core/ops/invalid.py\": 1661275008.0, \"/Users/jameshickman/miniconda3/envs/anly503/lib/python3.10/site-packages/pandas/core/ops/array_ops.py\": 1669008801.0, \"/Users/jameshickman/miniconda3/envs/anly503/lib/python3.10/site-packages/pandas/core/ops/common.py\": 1669008801.0, \"/Users/jameshickman/miniconda3/envs/anly503/lib/python3.10/site-packages/pandas/core/ops/docstrings.py\": 1669008801.0, \"/Users/jameshickman/miniconda3/envs/anly503/lib/python3.10/site-packages/pandas/core/ops/mask_ops.py\": 1661274949.0, \"/Users/jameshickman/miniconda3/envs/anly503/lib/python3.10/site-packages/pandas/core/ops/methods.py\": 1669008801.0, \"/Users/jameshickman/miniconda3/envs/anly503/lib/python3.10/site-packages/pandas/core/ops/__init__.py\": 1669008801.0, \"/Users/jameshickman/miniconda3/envs/anly503/lib/python3.10/site-packages/pandas/core/arraylike.py\": 1669008801.0, \"/Users/jameshickman/miniconda3/envs/anly503/lib/python3.10/site-packages/pandas/compat/numpy/function.py\": 1669008801.0, \"/Users/jameshickman/miniconda3/envs/anly503/lib/python3.10/site-packages/pandas/core/missing.py\": 1669008801.0, \"/Users/jameshickman/miniconda3/envs/anly503/lib/python3.10/site-packages/pandas/core/array_algos/quantile.py\": 1661274949.0, \"/Users/jameshickman/miniconda3/envs/anly503/lib/python3.10/site-packages/pandas/core/sorting.py\": 1669008801.0, \"/Users/jameshickman/miniconda3/envs/anly503/lib/python3.10/site-packages/pandas/core/arrays/base.py\": 1669008801.0, \"/Users/jameshickman/miniconda3/envs/anly503/lib/python3.10/site-packages/pyarrow/_compute.cpython-310-darwin.so\": 1673823070.536045, \"/Users/jameshickman/miniconda3/envs/anly503/lib/python3.10/site-packages/pyarrow/_compute_docstrings.py\": 1668557121.0, \"/Users/jameshickman/miniconda3/envs/anly503/lib/python3.10/site-packages/pyarrow/vendored/__init__.py\": 1668557121.0, \"/Users/jameshickman/miniconda3/envs/anly503/lib/python3.10/site-packages/pyarrow/vendored/docscrape.py\": 1668557121.0, \"/Users/jameshickman/miniconda3/envs/anly503/lib/python3.10/site-packages/pyarrow/compute.py\": 1668557121.0, \"/Users/jameshickman/miniconda3/envs/anly503/lib/python3.10/site-packages/pandas/core/arrays/arrow/_arrow_utils.py\": 1666188739.0, \"/Users/jameshickman/miniconda3/envs/anly503/lib/python3.10/site-packages/pandas/core/arrays/arrow/dtype.py\": 1669008801.0, \"/Users/jameshickman/miniconda3/envs/anly503/lib/python3.10/site-packages/pandas/core/arrays/arrow/array.py\": 1669008801.0, \"/Users/jameshickman/miniconda3/envs/anly503/lib/python3.10/site-packages/pandas/core/arrays/arrow/__init__.py\": 1661275008.0, \"/Users/jameshickman/miniconda3/envs/anly503/lib/python3.10/site-packages/pandas/core/nanops.py\": 1669008801.0, \"/Users/jameshickman/miniconda3/envs/anly503/lib/python3.10/site-packages/pandas/core/array_algos/masked_reductions.py\": 1669008801.0, \"/Users/jameshickman/miniconda3/envs/anly503/lib/python3.10/site-packages/pandas/core/arrays/masked.py\": 1669008801.0, \"/Users/jameshickman/miniconda3/envs/anly503/lib/python3.10/site-packages/pandas/core/arrays/boolean.py\": 1661274949.0, \"/Users/jameshickman/miniconda3/envs/anly503/lib/python3.10/site-packages/pandas/_libs/arrays.cpython-310-darwin.so\": 1673312019.0, \"/Users/jameshickman/miniconda3/envs/anly503/lib/python3.10/site-packages/pandas/core/accessor.py\": 1669008801.0, \"/Users/jameshickman/miniconda3/envs/anly503/lib/python3.10/site-packages/pandas/core/array_algos/transforms.py\": 1669008801.0, \"/Users/jameshickman/miniconda3/envs/anly503/lib/python3.10/site-packages/pandas/core/arrays/_mixins.py\": 1669008801.0, \"/Users/jameshickman/miniconda3/envs/anly503/lib/python3.10/site-packages/pandas/core/base.py\": 1669008801.0, \"/Users/jameshickman/miniconda3/envs/anly503/lib/python3.10/site-packages/pandas/core/strings/accessor.py\": 1669008801.0, \"/Users/jameshickman/miniconda3/envs/anly503/lib/python3.10/site-packages/pandas/core/strings/base.py\": 1669008801.0, \"/Users/jameshickman/miniconda3/envs/anly503/lib/python3.10/site-packages/pandas/core/strings/__init__.py\": 1661274949.0, \"/Users/jameshickman/miniconda3/envs/anly503/lib/python3.10/site-packages/pandas/core/strings/object_array.py\": 1669008801.0, \"/Users/jameshickman/miniconda3/envs/anly503/lib/python3.10/site-packages/pandas/io/__init__.py\": 1661274949.0, \"/Users/jameshickman/miniconda3/envs/anly503/lib/python3.10/site-packages/pandas/io/formats/__init__.py\": 1661274949.0, \"/Users/jameshickman/miniconda3/envs/anly503/lib/python3.10/site-packages/pandas/io/formats/console.py\": 1661274949.0, \"/Users/jameshickman/miniconda3/envs/anly503/lib/python3.10/site-packages/pandas/core/arrays/categorical.py\": 1669008801.0, \"/Users/jameshickman/miniconda3/envs/anly503/lib/python3.10/site-packages/pandas/core/arrays/numeric.py\": 1669008801.0, \"/Users/jameshickman/miniconda3/envs/anly503/lib/python3.10/site-packages/pandas/core/arrays/integer.py\": 1661274949.0, \"/Users/jameshickman/miniconda3/envs/anly503/lib/python3.10/site-packages/pandas/tseries/__init__.py\": 1661274950.0, \"/Users/jameshickman/miniconda3/envs/anly503/lib/python3.10/site-packages/pandas/tseries/frequencies.py\": 1669008801.0, \"/Users/jameshickman/miniconda3/envs/anly503/lib/python3.10/site-packages/pandas/core/arrays/datetimelike.py\": 1669008801.0, \"/Users/jameshickman/miniconda3/envs/anly503/lib/python3.10/site-packages/pandas/core/arrays/_ranges.py\": 1669008801.0, \"/Users/jameshickman/miniconda3/envs/anly503/lib/python3.10/site-packages/pandas/tseries/offsets.py\": 1661275008.0, \"/Users/jameshickman/miniconda3/envs/anly503/lib/python3.10/site-packages/pandas/core/arrays/datetimes.py\": 1669008801.0, \"/Users/jameshickman/miniconda3/envs/anly503/lib/python3.10/site-packages/pandas/core/arrays/floating.py\": 1661274949.0, \"/Users/jameshickman/miniconda3/envs/anly503/lib/python3.10/site-packages/pandas/core/indexes/__init__.py\": 1661274949.0, \"/Users/jameshickman/miniconda3/envs/anly503/lib/python3.10/site-packages/pandas/_libs/index.cpython-310-darwin.so\": 1673312020.0, \"/Users/jameshickman/miniconda3/envs/anly503/lib/python3.10/site-packages/pandas/_libs/join.cpython-310-darwin.so\": 1673312015.0, \"/Users/jameshickman/miniconda3/envs/anly503/lib/python3.10/site-packages/pandas/core/array_algos/putmask.py\": 1661275008.0, \"/Users/jameshickman/miniconda3/envs/anly503/lib/python3.10/site-packages/pandas/_libs/sparse.cpython-310-darwin.so\": 1673312022.0, \"/Users/jameshickman/miniconda3/envs/anly503/lib/python3.10/site-packages/pandas/core/arrays/sparse/dtype.py\": 1666188739.0, \"/Users/jameshickman/miniconda3/envs/anly503/lib/python3.10/site-packages/pandas/io/formats/printing.py\": 1669008801.0, \"/Users/jameshickman/miniconda3/envs/anly503/lib/python3.10/site-packages/pandas/core/arrays/sparse/array.py\": 1669008801.0, \"/Users/jameshickman/miniconda3/envs/anly503/lib/python3.10/site-packages/pandas/core/arrays/sparse/accessor.py\": 1669008801.0, \"/Users/jameshickman/miniconda3/envs/anly503/lib/python3.10/site-packages/pandas/core/arrays/sparse/__init__.py\": 1661274949.0, \"/Users/jameshickman/miniconda3/envs/anly503/lib/python3.10/site-packages/pandas/core/arrays/numpy_.py\": 1669008801.0, \"/Users/jameshickman/miniconda3/envs/anly503/lib/python3.10/site-packages/pandas/core/arrays/string_.py\": 1669008801.0, \"/Users/jameshickman/miniconda3/envs/anly503/lib/python3.10/site-packages/pandas/core/indexes/frozen.py\": 1669008801.0, \"/Users/jameshickman/miniconda3/envs/anly503/lib/python3.10/site-packages/pandas/core/indexes/base.py\": 1669008801.0, \"/Users/jameshickman/miniconda3/envs/anly503/lib/python3.10/site-packages/pandas/core/arrays/interval.py\": 1669008801.0, \"/Users/jameshickman/miniconda3/envs/anly503/lib/python3.10/site-packages/pandas/core/arrays/period.py\": 1669008801.0, \"/Users/jameshickman/miniconda3/envs/anly503/lib/python3.10/site-packages/pandas/core/arrays/string_arrow.py\": 1669008801.0, \"/Users/jameshickman/miniconda3/envs/anly503/lib/python3.10/site-packages/pandas/core/arrays/timedeltas.py\": 1669008801.0, \"/Users/jameshickman/miniconda3/envs/anly503/lib/python3.10/site-packages/pandas/core/arrays/__init__.py\": 1661275008.0, \"/Users/jameshickman/miniconda3/envs/anly503/lib/python3.10/site-packages/pandas/core/flags.py\": 1661275008.0, \"/Users/jameshickman/miniconda3/envs/anly503/lib/python3.10/site-packages/pandas/_libs/reduction.cpython-310-darwin.so\": 1673312024.0, \"/Users/jameshickman/miniconda3/envs/anly503/lib/python3.10/site-packages/pandas/core/apply.py\": 1669008801.0, \"/Users/jameshickman/miniconda3/envs/anly503/lib/python3.10/site-packages/pandas/_libs/indexing.cpython-310-darwin.so\": 1673312017.0, \"/Users/jameshickman/miniconda3/envs/anly503/lib/python3.10/site-packages/pandas/core/indexes/extension.py\": 1669008801.0, \"/Users/jameshickman/miniconda3/envs/anly503/lib/python3.10/site-packages/pandas/core/indexes/category.py\": 1669008801.0, \"/Users/jameshickman/miniconda3/envs/anly503/lib/python3.10/site-packages/pandas/core/indexes/numeric.py\": 1669008801.0, \"/Users/jameshickman/miniconda3/envs/anly503/lib/python3.10/site-packages/pandas/core/indexes/range.py\": 1669008801.0, \"/Users/jameshickman/miniconda3/envs/anly503/lib/python3.10/site-packages/pandas/core/tools/__init__.py\": 1661274949.0, \"/Users/jameshickman/miniconda3/envs/anly503/lib/python3.10/site-packages/pandas/core/tools/timedeltas.py\": 1669008801.0, \"/Users/jameshickman/miniconda3/envs/anly503/lib/python3.10/site-packages/pandas/core/indexes/datetimelike.py\": 1669008801.0, \"/Users/jameshickman/miniconda3/envs/anly503/lib/python3.10/site-packages/pandas/core/tools/times.py\": 1669008801.0, \"/Users/jameshickman/miniconda3/envs/anly503/lib/python3.10/site-packages/pandas/core/indexes/datetimes.py\": 1669008801.0, \"/Users/jameshickman/miniconda3/envs/anly503/lib/python3.10/site-packages/pandas/core/indexes/multi.py\": 1669008801.0, \"/Users/jameshickman/miniconda3/envs/anly503/lib/python3.10/site-packages/pandas/core/indexes/timedeltas.py\": 1669008801.0, \"/Users/jameshickman/miniconda3/envs/anly503/lib/python3.10/site-packages/pandas/core/indexes/interval.py\": 1669008801.0, \"/Users/jameshickman/miniconda3/envs/anly503/lib/python3.10/site-packages/pandas/core/indexes/period.py\": 1669008801.0, \"/Users/jameshickman/miniconda3/envs/anly503/lib/python3.10/site-packages/pandas/core/indexes/api.py\": 1669008801.0, \"/Users/jameshickman/miniconda3/envs/anly503/lib/python3.10/site-packages/pandas/core/indexing.py\": 1669008801.0, \"/Users/jameshickman/miniconda3/envs/anly503/lib/python3.10/site-packages/pandas/core/sample.py\": 1669008801.0, \"/Users/jameshickman/miniconda3/envs/anly503/lib/python3.10/site-packages/pandas/core/array_algos/replace.py\": 1661274949.0, \"/Users/jameshickman/miniconda3/envs/anly503/lib/python3.10/site-packages/pandas/core/reshape/__init__.py\": 1661274949.0, \"/Users/jameshickman/miniconda3/envs/anly503/lib/python3.10/site-packages/pandas/_libs/internals.cpython-310-darwin.so\": 1673312024.0, \"/Users/jameshickman/miniconda3/envs/anly503/lib/python3.10/site-packages/pandas/_libs/writers.cpython-310-darwin.so\": 1673312019.0, \"/Users/jameshickman/miniconda3/envs/anly503/lib/python3.10/site-packages/pandas/core/internals/blocks.py\": 1669008801.0, \"/Users/jameshickman/miniconda3/envs/anly503/lib/python3.10/site-packages/pandas/core/internals/api.py\": 1669008801.0, \"/Users/jameshickman/miniconda3/envs/anly503/lib/python3.10/site-packages/pandas/core/internals/base.py\": 1669008801.0, \"/Users/jameshickman/miniconda3/envs/anly503/lib/python3.10/site-packages/pandas/core/internals/array_manager.py\": 1669008801.0, \"/Users/jameshickman/miniconda3/envs/anly503/lib/python3.10/site-packages/pandas/core/internals/ops.py\": 1669008801.0, \"/Users/jameshickman/miniconda3/envs/anly503/lib/python3.10/site-packages/pandas/core/internals/managers.py\": 1669008801.0, \"/Users/jameshickman/miniconda3/envs/anly503/lib/python3.10/site-packages/pandas/core/internals/concat.py\": 1669008801.0, \"/Users/jameshickman/miniconda3/envs/anly503/lib/python3.10/site-packages/pandas/core/internals/__init__.py\": 1669008801.0, \"/Users/jameshickman/miniconda3/envs/anly503/lib/python3.10/site-packages/pandas/core/reshape/concat.py\": 1669008801.0, \"/Users/jameshickman/miniconda3/envs/anly503/lib/python3.10/lib-dynload/mmap.cpython-310-darwin.so\": 1669106321.0, \"/Users/jameshickman/miniconda3/envs/anly503/lib/python3.10/lib-dynload/grp.cpython-310-darwin.so\": 1669106317.0, \"/Users/jameshickman/miniconda3/envs/anly503/lib/python3.10/tarfile.py\": 1669106274.0, \"/Users/jameshickman/miniconda3/envs/anly503/lib/python3.10/site-packages/pandas/core/shared_docs.py\": 1669008801.0, \"/Users/jameshickman/miniconda3/envs/anly503/lib/python3.10/site-packages/pandas/io/common.py\": 1669008801.0, \"/Users/jameshickman/miniconda3/envs/anly503/lib/python3.10/site-packages/pandas/io/formats/format.py\": 1669008801.0, \"/Users/jameshickman/miniconda3/envs/anly503/lib/python3.10/site-packages/pandas/core/describe.py\": 1669008801.0, \"/Users/jameshickman/miniconda3/envs/anly503/lib/python3.10/site-packages/pandas/core/internals/construction.py\": 1669008801.0, \"/Users/jameshickman/miniconda3/envs/anly503/lib/python3.10/site-packages/pandas/_libs/window/__init__.py\": 1661274949.0, \"/Users/jameshickman/miniconda3/envs/anly503/lib/python3.10/site-packages/pandas/_libs/window/aggregations.cpython-310-darwin.so\": 1673312018.0, \"/Users/jameshickman/miniconda3/envs/anly503/lib/python3.10/site-packages/pandas/_libs/window/indexers.cpython-310-darwin.so\": 1673312016.0, \"/Users/jameshickman/miniconda3/envs/anly503/lib/python3.10/site-packages/pandas/core/indexers/objects.py\": 1661275008.0, \"/Users/jameshickman/miniconda3/envs/anly503/lib/python3.10/site-packages/pandas/core/util/numba_.py\": 1661274949.0, \"/Users/jameshickman/miniconda3/envs/anly503/lib/python3.10/site-packages/pandas/core/window/common.py\": 1669008801.0, \"/Users/jameshickman/miniconda3/envs/anly503/lib/python3.10/site-packages/pandas/core/window/doc.py\": 1669008801.0, \"/Users/jameshickman/miniconda3/envs/anly503/lib/python3.10/site-packages/pandas/core/window/numba_.py\": 1661274949.0, \"/Users/jameshickman/miniconda3/envs/anly503/lib/python3.10/site-packages/pandas/core/window/online.py\": 1661275008.0, \"/Users/jameshickman/miniconda3/envs/anly503/lib/python3.10/site-packages/pandas/core/_numba/__init__.py\": 1661274949.0, \"/Users/jameshickman/miniconda3/envs/anly503/lib/python3.10/site-packages/pandas/core/_numba/executor.py\": 1661274949.0, \"/Users/jameshickman/miniconda3/envs/anly503/lib/python3.10/site-packages/pandas/core/window/rolling.py\": 1669008801.0, \"/Users/jameshickman/miniconda3/envs/anly503/lib/python3.10/site-packages/pandas/core/window/ewm.py\": 1669008801.0, \"/Users/jameshickman/miniconda3/envs/anly503/lib/python3.10/site-packages/pandas/core/window/expanding.py\": 1669008801.0, \"/Users/jameshickman/miniconda3/envs/anly503/lib/python3.10/site-packages/pandas/core/window/__init__.py\": 1661274949.0, \"/Users/jameshickman/miniconda3/envs/anly503/lib/python3.10/site-packages/pandas/core/generic.py\": 1669008801.0, \"/Users/jameshickman/miniconda3/envs/anly503/lib/python3.10/site-packages/pandas/core/reshape/util.py\": 1666188739.0, \"/Users/jameshickman/miniconda3/envs/anly503/lib/python3.10/site-packages/pandas/core/tools/numeric.py\": 1669008801.0, \"/Users/jameshickman/miniconda3/envs/anly503/lib/python3.10/site-packages/pandas/core/reshape/melt.py\": 1669008801.0, \"/Users/jameshickman/miniconda3/envs/anly503/lib/python3.10/site-packages/pandas/_libs/reshape.cpython-310-darwin.so\": 1673312023.0, \"/Users/jameshickman/miniconda3/envs/anly503/lib/python3.10/site-packages/pandas/core/indexes/accessors.py\": 1669008801.0, \"/Users/jameshickman/miniconda3/envs/anly503/lib/python3.10/site-packages/pandas/_libs/tslibs/strptime.cpython-310-darwin.so\": 1673312022.0, \"/Users/jameshickman/miniconda3/envs/anly503/lib/python3.10/site-packages/pandas/arrays/__init__.py\": 1661275008.0, \"/Users/jameshickman/miniconda3/envs/anly503/lib/python3.10/site-packages/pandas/core/tools/datetimes.py\": 1669008801.0, \"/Users/jameshickman/miniconda3/envs/anly503/lib/python3.10/site-packages/pandas/io/formats/info.py\": 1669008801.0, \"/Users/jameshickman/miniconda3/envs/anly503/lib/python3.10/site-packages/pandas/plotting/_core.py\": 1669008801.0, \"/Users/jameshickman/miniconda3/envs/anly503/lib/python3.10/site-packages/pandas/plotting/_misc.py\": 1669008801.0, \"/Users/jameshickman/miniconda3/envs/anly503/lib/python3.10/site-packages/pandas/plotting/__init__.py\": 1661274949.0, \"/Users/jameshickman/miniconda3/envs/anly503/lib/python3.10/site-packages/pandas/core/series.py\": 1669008801.0, \"/Users/jameshickman/miniconda3/envs/anly503/lib/python3.10/site-packages/pandas/core/frame.py\": 1669008801.0, \"/Users/jameshickman/miniconda3/envs/anly503/lib/python3.10/site-packages/pandas/core/groupby/base.py\": 1669008801.0, \"/Users/jameshickman/miniconda3/envs/anly503/lib/python3.10/site-packages/pandas/_libs/groupby.cpython-310-darwin.so\": 1673312021.0, \"/Users/jameshickman/miniconda3/envs/anly503/lib/python3.10/site-packages/pandas/core/groupby/numba_.py\": 1661274949.0, \"/Users/jameshickman/miniconda3/envs/anly503/lib/python3.10/site-packages/pandas/core/groupby/categorical.py\": 1669008801.0, \"/Users/jameshickman/miniconda3/envs/anly503/lib/python3.10/site-packages/pandas/core/groupby/grouper.py\": 1669008801.0, \"/Users/jameshickman/miniconda3/envs/anly503/lib/python3.10/site-packages/pandas/core/groupby/ops.py\": 1669008801.0, \"/Users/jameshickman/miniconda3/envs/anly503/lib/python3.10/site-packages/pandas/core/groupby/indexing.py\": 1669008801.0, \"/Users/jameshickman/miniconda3/envs/anly503/lib/python3.10/site-packages/pandas/core/groupby/groupby.py\": 1669008801.0, \"/Users/jameshickman/miniconda3/envs/anly503/lib/python3.10/site-packages/pandas/core/groupby/generic.py\": 1669008801.0, \"/Users/jameshickman/miniconda3/envs/anly503/lib/python3.10/site-packages/pandas/core/groupby/__init__.py\": 1661274949.0, \"/Users/jameshickman/miniconda3/envs/anly503/lib/python3.10/site-packages/pandas/core/api.py\": 1661275008.0, \"/Users/jameshickman/miniconda3/envs/anly503/lib/python3.10/site-packages/pandas/tseries/api.py\": 1669008801.0, \"/Users/jameshickman/miniconda3/envs/anly503/lib/python3.10/site-packages/pandas/core/computation/common.py\": 1661275008.0, \"/Users/jameshickman/miniconda3/envs/anly503/lib/python3.10/site-packages/pandas/core/computation/align.py\": 1666188739.0, \"/Users/jameshickman/miniconda3/envs/anly503/lib/python3.10/site-packages/pandas/compat/chainmap.py\": 1661275008.0, \"/Users/jameshickman/miniconda3/envs/anly503/lib/python3.10/site-packages/pandas/core/computation/scope.py\": 1669008801.0, \"/Users/jameshickman/miniconda3/envs/anly503/lib/python3.10/site-packages/pandas/core/computation/ops.py\": 1669008801.0, \"/Users/jameshickman/miniconda3/envs/anly503/lib/python3.10/site-packages/pandas/core/computation/engines.py\": 1669008801.0, \"/Users/jameshickman/miniconda3/envs/anly503/lib/python3.10/site-packages/pandas/core/computation/parsing.py\": 1669008801.0, \"/Users/jameshickman/miniconda3/envs/anly503/lib/python3.10/site-packages/pandas/core/computation/expr.py\": 1669008801.0, \"/Users/jameshickman/miniconda3/envs/anly503/lib/python3.10/site-packages/pandas/core/computation/eval.py\": 1669008801.0, \"/Users/jameshickman/miniconda3/envs/anly503/lib/python3.10/site-packages/pandas/core/computation/api.py\": 1661274949.0, \"/Users/jameshickman/miniconda3/envs/anly503/lib/python3.10/site-packages/pandas/core/reshape/encoding.py\": 1669008801.0, \"/Users/jameshickman/miniconda3/envs/anly503/lib/python3.10/site-packages/pandas/core/reshape/merge.py\": 1669008801.0, \"/Users/jameshickman/miniconda3/envs/anly503/lib/python3.10/site-packages/pandas/core/reshape/pivot.py\": 1669008801.0, \"/Users/jameshickman/miniconda3/envs/anly503/lib/python3.10/site-packages/pandas/core/reshape/tile.py\": 1669008801.0, \"/Users/jameshickman/miniconda3/envs/anly503/lib/python3.10/site-packages/pandas/core/reshape/api.py\": 1661274949.0, \"/Users/jameshickman/miniconda3/envs/anly503/lib/python3.10/site-packages/pandas/api/extensions/__init__.py\": 1661274949.0, \"/Users/jameshickman/miniconda3/envs/anly503/lib/python3.10/site-packages/pandas/api/indexers/__init__.py\": 1661274949.0, \"/Users/jameshickman/miniconda3/envs/anly503/lib/python3.10/site-packages/pandas/core/interchange/__init__.py\": 1661275008.0, \"/Users/jameshickman/miniconda3/envs/anly503/lib/python3.10/site-packages/pandas/core/interchange/dataframe_protocol.py\": 1669008801.0, \"/Users/jameshickman/miniconda3/envs/anly503/lib/python3.10/site-packages/pandas/core/dtypes/api.py\": 1669008801.0, \"/Users/jameshickman/miniconda3/envs/anly503/lib/python3.10/site-packages/pandas/api/types/__init__.py\": 1661274949.0, \"/Users/jameshickman/miniconda3/envs/anly503/lib/python3.10/site-packages/pandas/core/interchange/buffer.py\": 1661275008.0, \"/Users/jameshickman/miniconda3/envs/anly503/lib/python3.10/site-packages/pandas/core/interchange/utils.py\": 1669008801.0, \"/Users/jameshickman/miniconda3/envs/anly503/lib/python3.10/site-packages/pandas/core/interchange/column.py\": 1669008801.0, \"/Users/jameshickman/miniconda3/envs/anly503/lib/python3.10/site-packages/pandas/core/interchange/from_dataframe.py\": 1669008801.0, \"/Users/jameshickman/miniconda3/envs/anly503/lib/python3.10/site-packages/pandas/api/interchange/__init__.py\": 1661275008.0, \"/Users/jameshickman/miniconda3/envs/anly503/lib/python3.10/site-packages/pandas/api/__init__.py\": 1661275008.0, \"/Users/jameshickman/miniconda3/envs/anly503/lib/python3.10/site-packages/pandas/_testing/_random.py\": 1669008801.0, \"/Users/jameshickman/miniconda3/envs/anly503/lib/python3.10/site-packages/pandas/_testing/contexts.py\": 1669008801.0, \"/Users/jameshickman/miniconda3/envs/anly503/lib/python3.10/site-packages/pandas/_testing/_io.py\": 1669008801.0, \"/Users/jameshickman/miniconda3/envs/anly503/lib/python3.10/site-packages/pandas/_testing/_warnings.py\": 1669008801.0, \"/Users/jameshickman/miniconda3/envs/anly503/lib/python3.10/lib-dynload/cmath.cpython-310-darwin.so\": 1669106316.0, \"/Users/jameshickman/miniconda3/envs/anly503/lib/python3.10/site-packages/pandas/_libs/testing.cpython-310-darwin.so\": 1673312021.0, \"/Users/jameshickman/miniconda3/envs/anly503/lib/python3.10/site-packages/pandas/_testing/asserters.py\": 1669008801.0, \"/Users/jameshickman/miniconda3/envs/anly503/lib/python3.10/site-packages/pandas/_testing/compat.py\": 1661274949.0, \"/Users/jameshickman/miniconda3/envs/anly503/lib/python3.10/site-packages/pandas/_testing/__init__.py\": 1669008801.0, \"/Users/jameshickman/miniconda3/envs/anly503/lib/python3.10/site-packages/pandas/testing.py\": 1661274949.0, \"/Users/jameshickman/miniconda3/envs/anly503/lib/python3.10/site-packages/pandas/util/_print_versions.py\": 1661274950.0, \"/Users/jameshickman/miniconda3/envs/anly503/lib/python3.10/site-packages/pandas/io/clipboards.py\": 1666188739.0, \"/Users/jameshickman/miniconda3/envs/anly503/lib/python3.10/site-packages/pandas/_libs/parsers.cpython-310-darwin.so\": 1673312022.0, \"/Users/jameshickman/miniconda3/envs/anly503/lib/python3.10/site-packages/pandas/io/excel/_util.py\": 1669008801.0, \"/Users/jameshickman/miniconda3/envs/anly503/lib/python3.10/site-packages/pandas/io/date_converters.py\": 1669008801.0, \"/Users/jameshickman/miniconda3/envs/anly503/lib/python3.10/site-packages/pandas/io/parsers/base_parser.py\": 1669008801.0, \"/Users/jameshickman/miniconda3/envs/anly503/lib/python3.10/site-packages/pandas/io/parsers/arrow_parser_wrapper.py\": 1669008801.0, \"/Users/jameshickman/miniconda3/envs/anly503/lib/python3.10/site-packages/pandas/io/parsers/c_parser_wrapper.py\": 1669008801.0, \"/Users/jameshickman/miniconda3/envs/anly503/lib/python3.10/site-packages/pandas/io/parsers/python_parser.py\": 1669008801.0, \"/Users/jameshickman/miniconda3/envs/anly503/lib/python3.10/site-packages/pandas/io/parsers/readers.py\": 1669008801.0, \"/Users/jameshickman/miniconda3/envs/anly503/lib/python3.10/site-packages/pandas/io/parsers/__init__.py\": 1661274949.0, \"/Users/jameshickman/miniconda3/envs/anly503/lib/python3.10/site-packages/pandas/io/excel/_odfreader.py\": 1669008801.0, \"/Users/jameshickman/miniconda3/envs/anly503/lib/python3.10/site-packages/pandas/io/excel/_openpyxl.py\": 1669008801.0, \"/Users/jameshickman/miniconda3/envs/anly503/lib/python3.10/site-packages/pandas/io/excel/_pyxlsb.py\": 1669008801.0, \"/Users/jameshickman/miniconda3/envs/anly503/lib/python3.10/site-packages/pandas/io/excel/_xlrd.py\": 1669008801.0, \"/Users/jameshickman/miniconda3/envs/anly503/lib/python3.10/site-packages/pandas/io/excel/_base.py\": 1669008801.0, \"/Users/jameshickman/miniconda3/envs/anly503/lib/python3.10/site-packages/pandas/_libs/json.cpython-310-darwin.so\": 1673312022.0, \"/Users/jameshickman/miniconda3/envs/anly503/lib/python3.10/site-packages/pandas/io/excel/_odswriter.py\": 1669008801.0, \"/Users/jameshickman/miniconda3/envs/anly503/lib/python3.10/site-packages/pandas/io/excel/_xlsxwriter.py\": 1669008801.0, \"/Users/jameshickman/miniconda3/envs/anly503/lib/python3.10/site-packages/pandas/io/excel/_xlwt.py\": 1669008801.0, \"/Users/jameshickman/miniconda3/envs/anly503/lib/python3.10/site-packages/pandas/io/excel/__init__.py\": 1669008801.0, \"/Users/jameshickman/miniconda3/envs/anly503/lib/python3.10/site-packages/pandas/io/feather_format.py\": 1661274949.0, \"/Users/jameshickman/miniconda3/envs/anly503/lib/python3.10/site-packages/pandas/io/gbq.py\": 1661274949.0, \"/Users/jameshickman/miniconda3/envs/anly503/lib/python3.10/site-packages/pandas/io/html.py\": 1669008801.0, \"/Users/jameshickman/miniconda3/envs/anly503/lib/python3.10/site-packages/pandas/io/json/_normalize.py\": 1669008801.0, \"/Users/jameshickman/miniconda3/envs/anly503/lib/python3.10/site-packages/pandas/io/json/_table_schema.py\": 1669008801.0, \"/Users/jameshickman/miniconda3/envs/anly503/lib/python3.10/site-packages/pandas/io/json/_json.py\": 1669008801.0, \"/Users/jameshickman/miniconda3/envs/anly503/lib/python3.10/site-packages/pandas/io/json/__init__.py\": 1661274949.0, \"/Users/jameshickman/miniconda3/envs/anly503/lib/python3.10/site-packages/pandas/io/orc.py\": 1661274949.0, \"/Users/jameshickman/miniconda3/envs/anly503/lib/python3.10/site-packages/pandas/io/parquet.py\": 1669008801.0, \"/Users/jameshickman/miniconda3/envs/anly503/lib/python3.10/site-packages/pandas/compat/pickle_compat.py\": 1669008801.0, \"/Users/jameshickman/miniconda3/envs/anly503/lib/python3.10/site-packages/pandas/io/pickle.py\": 1669008801.0, \"/Users/jameshickman/miniconda3/envs/anly503/lib/python3.10/site-packages/pandas/core/computation/pytables.py\": 1669008801.0, \"/Users/jameshickman/miniconda3/envs/anly503/lib/python3.10/site-packages/pandas/io/pytables.py\": 1669008801.0, \"/Users/jameshickman/miniconda3/envs/anly503/lib/python3.10/site-packages/pandas/io/sas/sasreader.py\": 1669008801.0, \"/Users/jameshickman/miniconda3/envs/anly503/lib/python3.10/site-packages/pandas/io/sas/__init__.py\": 1661274949.0, \"/Users/jameshickman/miniconda3/envs/anly503/lib/python3.10/site-packages/pandas/io/spss.py\": 1669008801.0, \"/Users/jameshickman/miniconda3/envs/anly503/lib/python3.10/site-packages/pandas/io/sql.py\": 1669008801.0, \"/Users/jameshickman/miniconda3/envs/anly503/lib/python3.10/site-packages/pandas/io/stata.py\": 1669008801.0, \"/Users/jameshickman/miniconda3/envs/anly503/lib/python3.10/site-packages/pandas/io/xml.py\": 1669008801.0, \"/Users/jameshickman/miniconda3/envs/anly503/lib/python3.10/site-packages/pandas/io/api.py\": 1661274949.0, \"/Users/jameshickman/miniconda3/envs/anly503/lib/python3.10/site-packages/pandas/util/_tester.py\": 1669008801.0, \"/Users/jameshickman/miniconda3/envs/anly503/lib/python3.10/site-packages/pandas/_version.py\": 1673311974.0, \"/Users/jameshickman/miniconda3/envs/anly503/lib/python3.10/site-packages/pandas/__init__.py\": 1669008801.0, \"/Users/jameshickman/miniconda3/envs/anly503/lib/python3.10/site-packages/zmq/utils/garbage.py\": 1673613104.746166, \"/Users/jameshickman/miniconda3/envs/anly503/lib/python3.10/site-packages/plotly/express/_special_inputs.py\": 1677255606.736559, \"/Users/jameshickman/miniconda3/envs/anly503/lib/python3.10/site-packages/plotly/express/trendline_functions/__init__.py\": 1677255606.736559, \"/Users/jameshickman/miniconda3/envs/anly503/lib/python3.10/site-packages/_plotly_utils/colors/_swatches.py\": 1677255606.632559, \"/Users/jameshickman/miniconda3/envs/anly503/lib/python3.10/site-packages/_plotly_utils/colors/colorbrewer.py\": 1677255606.632559, \"/Users/jameshickman/miniconda3/envs/anly503/lib/python3.10/site-packages/_plotly_utils/colors/carto.py\": 1677255606.632559, \"/Users/jameshickman/miniconda3/envs/anly503/lib/python3.10/site-packages/_plotly_utils/colors/qualitative.py\": 1677255606.636559, \"/Users/jameshickman/miniconda3/envs/anly503/lib/python3.10/site-packages/_plotly_utils/colors/plotlyjs.py\": 1677255606.632559, \"/Users/jameshickman/miniconda3/envs/anly503/lib/python3.10/site-packages/_plotly_utils/colors/cmocean.py\": 1677255606.632559, \"/Users/jameshickman/miniconda3/envs/anly503/lib/python3.10/site-packages/_plotly_utils/colors/sequential.py\": 1677255606.680559, \"/Users/jameshickman/miniconda3/envs/anly503/lib/python3.10/site-packages/_plotly_utils/colors/diverging.py\": 1677255606.632559, \"/Users/jameshickman/miniconda3/envs/anly503/lib/python3.10/site-packages/_plotly_utils/colors/cyclical.py\": 1677255606.632559, \"/Users/jameshickman/miniconda3/envs/anly503/lib/python3.10/site-packages/_plotly_utils/colors/__init__.py\": 1677255606.632559, \"/Users/jameshickman/miniconda3/envs/anly503/lib/python3.10/site-packages/plotly/colors/__init__.py\": 1677255606.732559, \"/Users/jameshickman/miniconda3/envs/anly503/lib/python3.10/site-packages/plotly/_subplots.py\": 1677255606.728559, \"/Users/jameshickman/miniconda3/envs/anly503/lib/python3.10/site-packages/plotly/shapeannotation.py\": 1677255606.732559, \"/Users/jameshickman/miniconda3/envs/anly503/lib/python3.10/site-packages/plotly/basedatatypes.py\": 1677255606.728559, \"/Users/jameshickman/miniconda3/envs/anly503/lib/python3.10/site-packages/plotly/graph_objs/_scatter.py\": 1677255606.768559, \"/Users/jameshickman/miniconda3/envs/anly503/lib/python3.10/site-packages/plotly/graph_objs/_scattergl.py\": 1677255606.768559, \"/Users/jameshickman/miniconda3/envs/anly503/lib/python3.10/site-packages/plotly/graph_objs/_bar.py\": 1677255606.744559, \"/Users/jameshickman/miniconda3/envs/anly503/lib/python3.10/site-packages/plotly/graph_objs/_funnel.py\": 1677255606.756559, \"/Users/jameshickman/miniconda3/envs/anly503/lib/python3.10/site-packages/plotly/graph_objs/_box.py\": 1677255606.744559, \"/Users/jameshickman/miniconda3/envs/anly503/lib/python3.10/site-packages/plotly/graph_objs/_violin.py\": 1677255606.776559, \"/Users/jameshickman/miniconda3/envs/anly503/lib/python3.10/site-packages/plotly/graph_objs/_histogram.py\": 1677255606.760559, \"/Users/jameshickman/miniconda3/envs/anly503/lib/python3.10/site-packages/plotly/graph_objs/_histogram2d.py\": 1677255606.760559, \"/Users/jameshickman/miniconda3/envs/anly503/lib/python3.10/site-packages/plotly/graph_objs/_histogram2dcontour.py\": 1677255606.760559, \"/Users/jameshickman/miniconda3/envs/anly503/lib/python3.10/site-packages/plotly/express/_core.py\": 1677255606.736559, \"/Users/jameshickman/miniconda3/envs/anly503/lib/python3.10/site-packages/plotly/express/imshow_utils.py\": 1677255606.736559, \"/Users/jameshickman/miniconda3/envs/anly503/lib/python3.10/site-packages/xarray/core/__init__.py\": 1670045889.0, \"/Users/jameshickman/miniconda3/envs/anly503/lib/python3.10/site-packages/xarray/core/utils.py\": 1670045889.0, \"/Users/jameshickman/miniconda3/envs/anly503/lib/python3.10/site-packages/xarray/core/dtypes.py\": 1670045889.0, \"/Users/jameshickman/miniconda3/envs/anly503/lib/python3.10/site-packages/xarray/core/options.py\": 1670045889.0, \"/Users/jameshickman/miniconda3/envs/anly503/lib/python3.10/site-packages/xarray/core/nputils.py\": 1670045889.0, \"/Users/jameshickman/miniconda3/envs/anly503/lib/python3.10/site-packages/xarray/core/dask_array_ops.py\": 1670045889.0, \"/Users/jameshickman/miniconda3/envs/anly503/lib/python3.10/site-packages/xarray/core/pycompat.py\": 1670045889.0, \"/Users/jameshickman/miniconda3/envs/anly503/lib/python3.10/site-packages/xarray/core/nanops.py\": 1670045889.0, \"/Users/jameshickman/miniconda3/envs/anly503/lib/python3.10/site-packages/xarray/core/duck_array_ops.py\": 1670045889.0, \"/Users/jameshickman/miniconda3/envs/anly503/lib/python3.10/site-packages/xarray/core/types.py\": 1670045889.0, \"/Users/jameshickman/miniconda3/envs/anly503/lib/python3.10/site-packages/xarray/core/indexing.py\": 1670045889.0, \"/Users/jameshickman/miniconda3/envs/anly503/lib/python3.10/site-packages/xarray/core/formatting.py\": 1670045889.0, \"/Users/jameshickman/miniconda3/envs/anly503/lib/python3.10/site-packages/xarray/coding/__init__.py\": 1670045889.0, \"/Users/jameshickman/miniconda3/envs/anly503/lib/python3.10/site-packages/xarray/core/formatting_html.py\": 1670045889.0, \"/Users/jameshickman/miniconda3/envs/anly503/lib/python3.10/site-packages/xarray/core/ops.py\": 1670045889.0, \"/Users/jameshickman/miniconda3/envs/anly503/lib/python3.10/site-packages/xarray/core/common.py\": 1670045889.0, \"/Users/jameshickman/miniconda3/envs/anly503/lib/python3.10/site-packages/xarray/core/pdcompat.py\": 1670045889.0, \"/Users/jameshickman/miniconda3/envs/anly503/lib/python3.10/site-packages/numpy/_typing/_nested_sequence.py\": 1668919700.0, \"/Users/jameshickman/miniconda3/envs/anly503/lib/python3.10/site-packages/numpy/_typing/_nbit.py\": 1668919700.0, \"/Users/jameshickman/miniconda3/envs/anly503/lib/python3.10/site-packages/numpy/_typing/_char_codes.py\": 1668919700.0, \"/Users/jameshickman/miniconda3/envs/anly503/lib/python3.10/site-packages/numpy/_typing/_scalars.py\": 1668919700.0, \"/Users/jameshickman/miniconda3/envs/anly503/lib/python3.10/site-packages/numpy/_typing/_shape.py\": 1668919700.0, \"/Users/jameshickman/miniconda3/envs/anly503/lib/python3.10/site-packages/numpy/_typing/_generic_alias.py\": 1668919700.0, \"/Users/jameshickman/miniconda3/envs/anly503/lib/python3.10/site-packages/numpy/_typing/_dtype_like.py\": 1668919700.0, \"/Users/jameshickman/miniconda3/envs/anly503/lib/python3.10/site-packages/numpy/_typing/_array_like.py\": 1668919700.0, \"/Users/jameshickman/miniconda3/envs/anly503/lib/python3.10/site-packages/numpy/_typing/__init__.py\": 1668919700.0, \"/Users/jameshickman/miniconda3/envs/anly503/lib/python3.10/site-packages/numpy/_typing/_add_docstring.py\": 1668919700.0, \"/Users/jameshickman/miniconda3/envs/anly503/lib/python3.10/site-packages/numpy/typing/__init__.py\": 1668919701.0, \"/Users/jameshickman/miniconda3/envs/anly503/lib/python3.10/site-packages/xarray/core/_typed_ops.py\": 1670045889.0, \"/Users/jameshickman/miniconda3/envs/anly503/lib/python3.10/site-packages/xarray/core/arithmetic.py\": 1670045889.0, \"/Users/jameshickman/miniconda3/envs/anly503/lib/python3.10/site-packages/xarray/core/variable.py\": 1670045889.0, \"/Users/jameshickman/miniconda3/envs/anly503/lib/python3.10/site-packages/xarray/coding/variables.py\": 1670045889.0, \"/Users/jameshickman/miniconda3/envs/anly503/lib/python3.10/site-packages/xarray/coding/times.py\": 1670045889.0, \"/Users/jameshickman/miniconda3/envs/anly503/lib/python3.10/site-packages/xarray/coding/cftimeindex.py\": 1670045889.0, \"/Users/jameshickman/miniconda3/envs/anly503/lib/python3.10/site-packages/xarray/coding/cftime_offsets.py\": 1670045889.0, \"/Users/jameshickman/miniconda3/envs/anly503/lib/python3.10/site-packages/xarray/coding/calendar_ops.py\": 1670045889.0, \"/Users/jameshickman/miniconda3/envs/anly503/lib/python3.10/site-packages/xarray/core/indexes.py\": 1670045889.0, \"/Users/jameshickman/miniconda3/envs/anly503/lib/python3.10/site-packages/xarray/core/alignment.py\": 1670045889.0, \"/Users/jameshickman/miniconda3/envs/anly503/lib/python3.10/site-packages/xarray/core/merge.py\": 1670045889.0, \"/Users/jameshickman/miniconda3/envs/anly503/lib/python3.10/site-packages/xarray/core/concat.py\": 1670045889.0, \"/Users/jameshickman/miniconda3/envs/anly503/lib/python3.10/site-packages/xarray/plot/utils.py\": 1670045889.0, \"/Users/jameshickman/miniconda3/envs/anly503/lib/python3.10/site-packages/xarray/plot/facetgrid.py\": 1670045889.0, \"/Users/jameshickman/miniconda3/envs/anly503/lib/python3.10/site-packages/xarray/plot/dataarray_plot.py\": 1670045889.0, \"/Users/jameshickman/miniconda3/envs/anly503/lib/python3.10/site-packages/xarray/plot/dataset_plot.py\": 1670045889.0, \"/Users/jameshickman/miniconda3/envs/anly503/lib/python3.10/site-packages/xarray/plot/__init__.py\": 1670045889.0, \"/Users/jameshickman/miniconda3/envs/anly503/lib/python3.10/site-packages/xarray/plot/accessor.py\": 1670045889.0, \"/Users/jameshickman/miniconda3/envs/anly503/lib/python3.10/site-packages/xarray/core/computation.py\": 1670045889.0, \"/Users/jameshickman/miniconda3/envs/anly503/lib/python3.10/site-packages/xarray/core/_aggregations.py\": 1670045889.0, \"/Users/jameshickman/miniconda3/envs/anly503/lib/python3.10/site-packages/xarray/core/accessor_dt.py\": 1670045889.0, \"/Users/jameshickman/miniconda3/envs/anly503/lib/python3.10/site-packages/xarray/core/accessor_str.py\": 1670045889.0, \"/Users/jameshickman/miniconda3/envs/anly503/lib/python3.10/site-packages/xarray/core/coordinates.py\": 1670045889.0, \"/Users/jameshickman/miniconda3/envs/anly503/lib/python3.10/site-packages/xarray/core/missing.py\": 1670045889.0, \"/Users/jameshickman/miniconda3/envs/anly503/lib/python3.10/site-packages/xarray/core/dataset.py\": 1670045889.0, \"/Users/jameshickman/miniconda3/envs/anly503/lib/python3.10/site-packages/xarray/core/dataarray.py\": 1670045889.0, \"/Users/jameshickman/miniconda3/envs/anly503/lib/python3.10/site-packages/xarray/testing.py\": 1670045889.0, \"/Users/jameshickman/miniconda3/envs/anly503/lib/python3.10/site-packages/xarray/coding/strings.py\": 1670045889.0, \"/Users/jameshickman/miniconda3/envs/anly503/lib/python3.10/site-packages/xarray/conventions.py\": 1670045889.0, \"/Users/jameshickman/miniconda3/envs/anly503/lib/python3.10/site-packages/xarray/backends/common.py\": 1670045889.0, \"/Users/jameshickman/miniconda3/envs/anly503/lib/python3.10/multiprocessing/process.py\": 1669106277.0, \"/Users/jameshickman/miniconda3/envs/anly503/lib/python3.10/multiprocessing/reduction.py\": 1669106277.0, \"/Users/jameshickman/miniconda3/envs/anly503/lib/python3.10/multiprocessing/context.py\": 1669106277.0, \"/Users/jameshickman/miniconda3/envs/anly503/lib/python3.10/multiprocessing/__init__.py\": 1669106277.0, \"/Users/jameshickman/miniconda3/envs/anly503/lib/python3.10/site-packages/yaml/error.py\": 1666772902.0, \"/Users/jameshickman/miniconda3/envs/anly503/lib/python3.10/site-packages/yaml/tokens.py\": 1666772902.0, \"/Users/jameshickman/miniconda3/envs/anly503/lib/python3.10/site-packages/yaml/events.py\": 1666772902.0, \"/Users/jameshickman/miniconda3/envs/anly503/lib/python3.10/site-packages/yaml/nodes.py\": 1666772902.0, \"/Users/jameshickman/miniconda3/envs/anly503/lib/python3.10/site-packages/yaml/reader.py\": 1666772902.0, \"/Users/jameshickman/miniconda3/envs/anly503/lib/python3.10/site-packages/yaml/scanner.py\": 1666772902.0, \"/Users/jameshickman/miniconda3/envs/anly503/lib/python3.10/site-packages/yaml/parser.py\": 1666772902.0, \"/Users/jameshickman/miniconda3/envs/anly503/lib/python3.10/site-packages/yaml/composer.py\": 1666772902.0, \"/Users/jameshickman/miniconda3/envs/anly503/lib/python3.10/site-packages/yaml/constructor.py\": 1666772902.0, \"/Users/jameshickman/miniconda3/envs/anly503/lib/python3.10/site-packages/yaml/resolver.py\": 1666772902.0, \"/Users/jameshickman/miniconda3/envs/anly503/lib/python3.10/site-packages/yaml/loader.py\": 1666772902.0, \"/Users/jameshickman/miniconda3/envs/anly503/lib/python3.10/site-packages/yaml/emitter.py\": 1666772902.0, \"/Users/jameshickman/miniconda3/envs/anly503/lib/python3.10/site-packages/yaml/serializer.py\": 1666772902.0, \"/Users/jameshickman/miniconda3/envs/anly503/lib/python3.10/site-packages/yaml/representer.py\": 1666772902.0, \"/Users/jameshickman/miniconda3/envs/anly503/lib/python3.10/site-packages/yaml/dumper.py\": 1666772902.0, \"/Users/jameshickman/miniconda3/envs/anly503/lib/python3.10/site-packages/yaml/_yaml.cpython-310-darwin.so\": 1666772905.0, \"/Users/jameshickman/miniconda3/envs/anly503/lib/python3.10/site-packages/yaml/cyaml.py\": 1666772902.0, \"/Users/jameshickman/miniconda3/envs/anly503/lib/python3.10/site-packages/yaml/__init__.py\": 1666772902.0, \"/Users/jameshickman/miniconda3/envs/anly503/lib/python3.10/site-packages/dask/config.py\": 1673644473.794615, \"/Users/jameshickman/miniconda3/envs/anly503/lib/python3.10/site-packages/toolz/utils.py\": 1657485653.0, \"/Users/jameshickman/miniconda3/envs/anly503/lib/python3.10/site-packages/toolz/itertoolz.py\": 1657485653.0, \"/Users/jameshickman/miniconda3/envs/anly503/lib/python3.10/site-packages/toolz/_signatures.py\": 1657485653.0, \"/Users/jameshickman/miniconda3/envs/anly503/lib/python3.10/site-packages/toolz/functoolz.py\": 1657485653.0, \"/Users/jameshickman/miniconda3/envs/anly503/lib/python3.10/site-packages/toolz/dicttoolz.py\": 1657485653.0, \"/Users/jameshickman/miniconda3/envs/anly503/lib/python3.10/site-packages/toolz/recipes.py\": 1657485653.0, \"/Users/jameshickman/miniconda3/envs/anly503/lib/python3.10/site-packages/toolz/curried/operator.py\": 1657485653.0, \"/Users/jameshickman/miniconda3/envs/anly503/lib/python3.10/site-packages/toolz/curried/exceptions.py\": 1657485653.0, \"/Users/jameshickman/miniconda3/envs/anly503/lib/python3.10/site-packages/toolz/curried/__init__.py\": 1657485653.0, \"/Users/jameshickman/miniconda3/envs/anly503/lib/python3.10/site-packages/toolz/sandbox/core.py\": 1657485653.0, \"/Users/jameshickman/miniconda3/envs/anly503/lib/python3.10/site-packages/toolz/sandbox/parallel.py\": 1657485653.0, \"/Users/jameshickman/miniconda3/envs/anly503/lib/python3.10/site-packages/toolz/sandbox/__init__.py\": 1657485653.0, \"/Users/jameshickman/miniconda3/envs/anly503/lib/python3.10/site-packages/toolz/_version.py\": 1657485653.0, \"/Users/jameshickman/miniconda3/envs/anly503/lib/python3.10/site-packages/toolz/__init__.py\": 1657485653.0, \"/Users/jameshickman/miniconda3/envs/anly503/lib/python3.10/site-packages/cytoolz/utils.cpython-310-darwin.so\": 1667466127.0, \"/Users/jameshickman/miniconda3/envs/anly503/lib/python3.10/site-packages/cytoolz/itertoolz.cpython-310-darwin.so\": 1667466127.0, \"/Users/jameshickman/miniconda3/envs/anly503/lib/python3.10/site-packages/cytoolz/_signatures.py\": 1667466124.0, \"/Users/jameshickman/miniconda3/envs/anly503/lib/python3.10/site-packages/cytoolz/functoolz.cpython-310-darwin.so\": 1667466127.0, \"/Users/jameshickman/miniconda3/envs/anly503/lib/python3.10/site-packages/cytoolz/dicttoolz.cpython-310-darwin.so\": 1667466126.0, \"/Users/jameshickman/miniconda3/envs/anly503/lib/python3.10/site-packages/cytoolz/recipes.cpython-310-darwin.so\": 1667466127.0, \"/Users/jameshickman/miniconda3/envs/anly503/lib/python3.10/site-packages/cytoolz/curried/operator.py\": 1667466124.0, \"/Users/jameshickman/miniconda3/envs/anly503/lib/python3.10/site-packages/cytoolz/curried/exceptions.py\": 1667466124.0, \"/Users/jameshickman/miniconda3/envs/anly503/lib/python3.10/site-packages/cytoolz/curried/__init__.py\": 1667466124.0, \"/Users/jameshickman/miniconda3/envs/anly503/lib/python3.10/site-packages/cytoolz/_version.py\": 1667466124.0, \"/Users/jameshickman/miniconda3/envs/anly503/lib/python3.10/site-packages/cytoolz/__init__.py\": 1667466124.0, \"/Users/jameshickman/miniconda3/envs/anly503/lib/python3.10/site-packages/tlz/_build_tlz.py\": 1657485653.0, \"/Users/jameshickman/miniconda3/envs/anly503/lib/python3.10/site-packages/dask/core.py\": 1673644473.794615, \"/Users/jameshickman/miniconda3/envs/anly503/lib/python3.10/site-packages/dask/utils.py\": 1673644473.802615, \"/Users/jameshickman/miniconda3/envs/anly503/lib/python3.10/site-packages/dask/datasets.py\": 1673644473.794615, \"/Users/jameshickman/miniconda3/envs/anly503/lib/python3.10/site-packages/dask/_version.py\": 1673644473.794615, \"/Users/jameshickman/miniconda3/envs/anly503/lib/python3.10/site-packages/dask/callbacks.py\": 1673644473.794615, \"/Users/jameshickman/miniconda3/envs/anly503/lib/python3.10/site-packages/dask/order.py\": 1673644473.798615, \"/Users/jameshickman/miniconda3/envs/anly503/lib/python3.10/site-packages/dask/local.py\": 1673644473.798615, \"/Users/jameshickman/miniconda3/envs/anly503/lib/python3.10/site-packages/dask/compatibility.py\": 1673644473.794615, \"/Users/jameshickman/miniconda3/envs/anly503/lib/python3.10/site-packages/dask/hashing.py\": 1673644473.798615, \"/Users/jameshickman/miniconda3/envs/anly503/lib/python3.10/site-packages/dask/system.py\": 1673644473.798615, \"/Users/jameshickman/miniconda3/envs/anly503/lib/python3.10/site-packages/dask/typing.py\": 1673644473.798615, \"/Users/jameshickman/miniconda3/envs/anly503/lib/python3.10/multiprocessing/util.py\": 1669106277.0, \"/Users/jameshickman/miniconda3/envs/anly503/lib/python3.10/lib-dynload/_multiprocessing.cpython-310-darwin.so\": 1669106325.0, \"/Users/jameshickman/miniconda3/envs/anly503/lib/python3.10/multiprocessing/connection.py\": 1669106277.0, \"/Users/jameshickman/miniconda3/envs/anly503/lib/python3.10/multiprocessing/pool.py\": 1669106277.0, \"/Users/jameshickman/miniconda3/envs/anly503/lib/python3.10/site-packages/dask/threaded.py\": 1673644473.798615, \"/Users/jameshickman/miniconda3/envs/anly503/lib/python3.10/multiprocessing/queues.py\": 1669106277.0, \"/Users/jameshickman/miniconda3/envs/anly503/lib/python3.10/concurrent/futures/process.py\": 1669106274.0, \"/Users/jameshickman/miniconda3/envs/anly503/lib/python3.10/site-packages/dask/optimization.py\": 1673644473.798615, \"/Users/jameshickman/miniconda3/envs/anly503/lib/python3.10/site-packages/dask/multiprocessing.py\": 1673644473.798615, \"/Users/jameshickman/miniconda3/envs/anly503/lib/python3.10/site-packages/dask/base.py\": 1673644473.794615, \"/Users/jameshickman/miniconda3/envs/anly503/lib/python3.10/site-packages/dask/context.py\": 1673644473.794615, \"/Users/jameshickman/miniconda3/envs/anly503/lib/python3.10/site-packages/jinja2/bccache.py\": 1654302511.0, \"/Users/jameshickman/miniconda3/envs/anly503/lib/python3.10/site-packages/markupsafe/_speedups.cpython-310-darwin.so\": 1666770686.0, \"/Users/jameshickman/miniconda3/envs/anly503/lib/python3.10/site-packages/markupsafe/__init__.py\": 1666770684.0, \"/Users/jameshickman/miniconda3/envs/anly503/lib/python3.10/site-packages/jinja2/utils.py\": 1654302511.0, \"/Users/jameshickman/miniconda3/envs/anly503/lib/python3.10/site-packages/jinja2/nodes.py\": 1654302511.0, \"/Users/jameshickman/miniconda3/envs/anly503/lib/python3.10/site-packages/jinja2/exceptions.py\": 1654302511.0, \"/Users/jameshickman/miniconda3/envs/anly503/lib/python3.10/site-packages/jinja2/visitor.py\": 1654302511.0, \"/Users/jameshickman/miniconda3/envs/anly503/lib/python3.10/site-packages/jinja2/idtracking.py\": 1654302511.0, \"/Users/jameshickman/miniconda3/envs/anly503/lib/python3.10/site-packages/jinja2/optimizer.py\": 1654302511.0, \"/Users/jameshickman/miniconda3/envs/anly503/lib/python3.10/site-packages/jinja2/compiler.py\": 1654302511.0, \"/Users/jameshickman/miniconda3/envs/anly503/lib/python3.10/site-packages/jinja2/async_utils.py\": 1654302511.0, \"/Users/jameshickman/miniconda3/envs/anly503/lib/python3.10/site-packages/jinja2/runtime.py\": 1654302511.0, \"/Users/jameshickman/miniconda3/envs/anly503/lib/python3.10/site-packages/jinja2/filters.py\": 1654302511.0, \"/Users/jameshickman/miniconda3/envs/anly503/lib/python3.10/site-packages/jinja2/tests.py\": 1654302511.0, \"/Users/jameshickman/miniconda3/envs/anly503/lib/python3.10/site-packages/jinja2/defaults.py\": 1654302511.0, \"/Users/jameshickman/miniconda3/envs/anly503/lib/python3.10/site-packages/jinja2/_identifier.py\": 1654302511.0, \"/Users/jameshickman/miniconda3/envs/anly503/lib/python3.10/site-packages/jinja2/lexer.py\": 1654302511.0, \"/Users/jameshickman/miniconda3/envs/anly503/lib/python3.10/site-packages/jinja2/parser.py\": 1654302511.0, \"/Users/jameshickman/miniconda3/envs/anly503/lib/python3.10/site-packages/jinja2/environment.py\": 1654302511.0, \"/Users/jameshickman/miniconda3/envs/anly503/lib/python3.10/site-packages/jinja2/loaders.py\": 1654302511.0, \"/Users/jameshickman/miniconda3/envs/anly503/lib/python3.10/site-packages/jinja2/__init__.py\": 1654302511.0, \"/Users/jameshickman/miniconda3/envs/anly503/lib/python3.10/site-packages/dask/widgets/widgets.py\": 1673644473.850615, \"/Users/jameshickman/miniconda3/envs/anly503/lib/python3.10/site-packages/dask/widgets/__init__.py\": 1673644473.850615, \"/Users/jameshickman/miniconda3/envs/anly503/lib/python3.10/site-packages/dask/highlevelgraph.py\": 1673644473.798615, \"/Users/jameshickman/miniconda3/envs/anly503/lib/python3.10/site-packages/dask/delayed.py\": 1673644473.794615, \"/Users/jameshickman/miniconda3/envs/anly503/lib/python3.10/site-packages/dask/__init__.py\": 1673644473.794615, \"/Users/jameshickman/miniconda3/envs/anly503/lib/python3.10/site-packages/xarray/backends/locks.py\": 1670045889.0, \"/Users/jameshickman/miniconda3/envs/anly503/lib/python3.10/site-packages/xarray/backends/store.py\": 1670045889.0, \"/Users/jameshickman/miniconda3/envs/anly503/lib/python3.10/site-packages/xarray/backends/cfgrib_.py\": 1670045889.0, \"/Users/jameshickman/miniconda3/envs/anly503/lib/python3.10/site-packages/xarray/backends/lru_cache.py\": 1670045889.0, \"/Users/jameshickman/miniconda3/envs/anly503/lib/python3.10/site-packages/xarray/backends/file_manager.py\": 1670045889.0, \"/Users/jameshickman/miniconda3/envs/anly503/lib/python3.10/site-packages/xarray/backends/netcdf3.py\": 1670045889.0, \"/Users/jameshickman/miniconda3/envs/anly503/lib/python3.10/site-packages/xarray/backends/netCDF4_.py\": 1670045889.0, \"/Users/jameshickman/miniconda3/envs/anly503/lib/python3.10/site-packages/xarray/backends/h5netcdf_.py\": 1670045889.0, \"/Users/jameshickman/miniconda3/envs/anly503/lib/python3.10/site-packages/xarray/backends/memory.py\": 1670045889.0, \"/Users/jameshickman/miniconda3/envs/anly503/lib/python3.10/site-packages/xarray/backends/plugins.py\": 1670045889.0, \"/Users/jameshickman/miniconda3/envs/anly503/lib/python3.10/site-packages/xarray/backends/pseudonetcdf_.py\": 1670045889.0, \"/Users/jameshickman/miniconda3/envs/anly503/lib/python3.10/site-packages/xarray/backends/pydap_.py\": 1670045889.0, \"/Users/jameshickman/miniconda3/envs/anly503/lib/python3.10/site-packages/xarray/backends/pynio_.py\": 1670045889.0, \"/Users/jameshickman/miniconda3/envs/anly503/lib/python3.10/site-packages/xarray/backends/scipy_.py\": 1670045889.0, \"/Users/jameshickman/miniconda3/envs/anly503/lib/python3.10/site-packages/xarray/backends/zarr.py\": 1670045889.0, \"/Users/jameshickman/miniconda3/envs/anly503/lib/python3.10/site-packages/xarray/backends/__init__.py\": 1670045889.0, \"/Users/jameshickman/miniconda3/envs/anly503/lib/python3.10/site-packages/xarray/core/combine.py\": 1670045889.0, \"/Users/jameshickman/miniconda3/envs/anly503/lib/python3.10/site-packages/xarray/backends/api.py\": 1670045889.0, \"/Users/jameshickman/miniconda3/envs/anly503/lib/python3.10/site-packages/xarray/backends/rasterio_.py\": 1670045889.0, \"/Users/jameshickman/miniconda3/envs/anly503/lib/python3.10/site-packages/xarray/tutorial.py\": 1670045889.0, \"/Users/jameshickman/miniconda3/envs/anly503/lib/python3.10/site-packages/xarray/coding/frequencies.py\": 1670045889.0, \"/Users/jameshickman/miniconda3/envs/anly503/lib/python3.10/site-packages/xarray/core/extensions.py\": 1670045889.0, \"/Users/jameshickman/miniconda3/envs/anly503/lib/python3.10/site-packages/xarray/core/parallel.py\": 1670045889.0, \"/Users/jameshickman/miniconda3/envs/anly503/lib/python3.10/site-packages/xarray/util/__init__.py\": 1670045889.0, \"/Users/jameshickman/miniconda3/envs/anly503/lib/python3.10/site-packages/xarray/util/print_versions.py\": 1670045889.0, \"/Users/jameshickman/miniconda3/envs/anly503/lib/python3.10/site-packages/xarray/__init__.py\": 1670045889.0, \"/Users/jameshickman/miniconda3/envs/anly503/lib/python3.10/site-packages/plotly/graph_objs/_figure.py\": 1677255606.752559, \"/Users/jameshickman/miniconda3/envs/anly503/lib/python3.10/site-packages/plotly/express/_imshow.py\": 1677255606.736559, \"/Users/jameshickman/miniconda3/envs/anly503/lib/python3.10/site-packages/plotly/express/_doc.py\": 1677255606.736559, \"/Users/jameshickman/miniconda3/envs/anly503/lib/python3.10/site-packages/plotly/express/_chart_types.py\": 1677255606.732559, \"/Users/jameshickman/miniconda3/envs/anly503/lib/python3.10/site-packages/plotly/data/__init__.py\": 1677255606.732559, \"/Users/jameshickman/miniconda3/envs/anly503/lib/python3.10/site-packages/plotly/express/data/__init__.py\": 1677255606.736559, \"/Users/jameshickman/miniconda3/envs/anly503/lib/python3.10/site-packages/plotly/express/colors/__init__.py\": 1677255606.736559, \"/Users/jameshickman/miniconda3/envs/anly503/lib/python3.10/site-packages/plotly/express/__init__.py\": 1677255606.732559, \"/Users/jameshickman/miniconda3/envs/anly503/lib/python3.10/site-packages/plotly/graph_objs/layout/__init__.py\": 1677255606.89656, \"/Users/jameshickman/miniconda3/envs/anly503/lib/python3.10/site-packages/plotly/graph_objs/layout/_template.py\": 1677255606.90056, \"/Users/jameshickman/miniconda3/envs/anly503/lib/python3.10/site-packages/plotly/validator_cache.py\": 1677255606.732559, \"/Users/jameshickman/miniconda3/envs/anly503/lib/python3.10/site-packages/plotly/validators/__init__.py\": 1677255607.204562, \"/Users/jameshickman/miniconda3/envs/anly503/lib/python3.10/site-packages/plotly/validators/layout/__init__.py\": 1677255607.912566, \"/Users/jameshickman/miniconda3/envs/anly503/lib/python3.10/site-packages/plotly/validators/layout/template/__init__.py\": 1677255608.128567, \"/Users/jameshickman/miniconda3/envs/anly503/lib/python3.10/site-packages/plotly/validators/layout/template/_layout.py\": 1677255608.128567, \"/Users/jameshickman/miniconda3/envs/anly503/lib/python3.10/site-packages/plotly/graph_objs/_layout.py\": 1677255606.764559, \"/Users/jameshickman/miniconda3/envs/anly503/lib/python3.10/site-packages/plotly/graph_objects/__init__.py\": 1677255606.744559, \"/Users/jameshickman/miniconda3/envs/anly503/lib/python3.10/site-packages/plotly/validators/layout/_colorway.py\": 1677255607.916566, \"/Users/jameshickman/miniconda3/envs/anly503/lib/python3.10/site-packages/plotly/validators/layout/template/_data.py\": 1677255608.128567, \"/Users/jameshickman/miniconda3/envs/anly503/lib/python3.10/site-packages/plotly/graph_objs/layout/template/__init__.py\": 1677255606.93256, \"/Users/jameshickman/miniconda3/envs/anly503/lib/python3.10/site-packages/plotly/graph_objs/layout/template/_data.py\": 1677255606.93256, \"/Users/jameshickman/miniconda3/envs/anly503/lib/python3.10/site-packages/plotly/validators/layout/template/data/__init__.py\": 1677255608.128567, \"/Users/jameshickman/miniconda3/envs/anly503/lib/python3.10/site-packages/plotly/validators/layout/template/data/_scatter.py\": 1677255608.136567, \"/Users/jameshickman/miniconda3/envs/anly503/lib/python3.10/site-packages/plotly/graph_objs/layout/template/data/__init__.py\": 1677255606.93256, \"/Users/jameshickman/miniconda3/envs/anly503/lib/python3.10/site-packages/plotly/graph_objs/layout/template/data/_scatter.py\": 1677255606.93656, \"/Users/jameshickman/miniconda3/envs/anly503/lib/python3.10/site-packages/plotly/validators/scatter/__init__.py\": 1677255608.476569, \"/Users/jameshickman/miniconda3/envs/anly503/lib/python3.10/site-packages/plotly/validators/scatter/_marker.py\": 1677255608.484569, \"/Users/jameshickman/miniconda3/envs/anly503/lib/python3.10/site-packages/plotly/graph_objs/scatter/__init__.py\": 1677255607.004561, \"/Users/jameshickman/miniconda3/envs/anly503/lib/python3.10/site-packages/plotly/graph_objs/scatter/_marker.py\": 1677255607.008561, \"/Users/jameshickman/miniconda3/envs/anly503/lib/python3.10/site-packages/plotly/validators/scatter/marker/__init__.py\": 1677255608.508569, \"/Users/jameshickman/miniconda3/envs/anly503/lib/python3.10/site-packages/plotly/validators/scatter/marker/_symbol.py\": 1677255608.516569, \"/Users/jameshickman/miniconda3/envs/anly503/lib/python3.10/site-packages/plotly/validators/scatter/_line.py\": 1677255608.484569, \"/Users/jameshickman/miniconda3/envs/anly503/lib/python3.10/site-packages/plotly/graph_objs/scatter/_line.py\": 1677255607.008561, \"/Users/jameshickman/miniconda3/envs/anly503/lib/python3.10/site-packages/plotly/validators/scatter/line/__init__.py\": 1677255608.508569, \"/Users/jameshickman/miniconda3/envs/anly503/lib/python3.10/site-packages/plotly/validators/scatter/line/_dash.py\": 1677255608.508569, \"/Users/jameshickman/miniconda3/envs/anly503/lib/python3.10/site-packages/plotly/graph_objs/_treemap.py\": 1677255606.776559, \"/Users/jameshickman/miniconda3/envs/anly503/lib/python3.10/site-packages/plotly/graph_objs/_sunburst.py\": 1677255606.772559, \"/Users/jameshickman/miniconda3/envs/anly503/lib/python3.10/site-packages/plotly/graph_objs/_icicle.py\": 1677255606.760559, \"/Users/jameshickman/miniconda3/envs/anly503/lib/python3.10/site-packages/plotly/graph_objs/_pie.py\": 1677255606.764559, \"/Users/jameshickman/miniconda3/envs/anly503/lib/python3.10/site-packages/plotly/graph_objs/_densitymapbox.py\": 1677255606.748559, \"/Users/jameshickman/miniconda3/envs/anly503/lib/python3.10/site-packages/plotly/graph_objs/_scatterpolar.py\": 1677255606.772559, \"/Users/jameshickman/miniconda3/envs/anly503/lib/python3.10/site-packages/plotly/validators/_data.py\": 1677255607.204562, \"/Users/jameshickman/miniconda3/envs/anly503/lib/python3.10/site-packages/plotly/graph_objs/_deprecations.py\": 1677255606.748559, \"/Users/jameshickman/miniconda3/envs/anly503/lib/python3.10/site-packages/plotly/validators/scatter/_xaxis.py\": 1677255608.488569, \"/Users/jameshickman/miniconda3/envs/anly503/lib/python3.10/site-packages/plotly/validators/scatter/_yaxis.py\": 1677255608.492569, \"/Users/jameshickman/miniconda3/envs/anly503/lib/python3.10/site-packages/plotly/validators/scatter/_name.py\": 1677255608.484569, \"/Users/jameshickman/miniconda3/envs/anly503/lib/python3.10/site-packages/plotly/graph_objs/_parcats.py\": 1677255606.764559, \"/Users/jameshickman/miniconda3/envs/anly503/lib/python3.10/site-packages/plotly/graph_objs/_parcoords.py\": 1677255606.764559, \"/Users/jameshickman/miniconda3/envs/anly503/lib/python3.10/site-packages/plotly/graph_objs/_choropleth.py\": 1677255606.744559, \"/Users/jameshickman/miniconda3/envs/anly503/lib/python3.10/site-packages/plotly/graph_objs/_choroplethmapbox.py\": 1677255606.748559, \"/Users/jameshickman/miniconda3/envs/anly503/lib/python3.10/site-packages/plotly/validators/scatter/_legendgroup.py\": 1677255608.480569, \"/Users/jameshickman/miniconda3/envs/anly503/lib/python3.10/site-packages/plotly/validators/scatter/_showlegend.py\": 1677255608.484569, \"/Users/jameshickman/miniconda3/envs/anly503/lib/python3.10/site-packages/plotly/validators/scatter/line/_color.py\": 1677255608.508569, \"/Users/jameshickman/miniconda3/envs/anly503/lib/python3.10/site-packages/plotly/validators/scatter/_orientation.py\": 1677255608.484569, \"/Users/jameshickman/miniconda3/envs/anly503/lib/python3.10/site-packages/plotly/validators/scatter/_mode.py\": 1677255608.484569, \"/Users/jameshickman/miniconda3/envs/anly503/lib/python3.10/site-packages/plotly/validators/scatter/_x.py\": 1677255608.488569, \"/Users/jameshickman/miniconda3/envs/anly503/lib/python3.10/site-packages/plotly/validators/scatter/_y.py\": 1677255608.492569, \"/Users/jameshickman/miniconda3/envs/anly503/lib/python3.10/site-packages/plotly/validators/scatter/_hovertemplate.py\": 1677255608.480569, \"/Users/jameshickman/miniconda3/envs/anly503/lib/python3.10/site-packages/plotly/validators/scatter/line/_shape.py\": 1677255608.508569, \"/Users/jameshickman/miniconda3/envs/anly503/lib/python3.10/site-packages/plotly/validators/layout/_xaxis.py\": 1677255607.932566, \"/Users/jameshickman/miniconda3/envs/anly503/lib/python3.10/site-packages/plotly/graph_objs/layout/_xaxis.py\": 1677255606.90456, \"/Users/jameshickman/miniconda3/envs/anly503/lib/python3.10/site-packages/plotly/validators/layout/xaxis/__init__.py\": 1677255608.196567, \"/Users/jameshickman/miniconda3/envs/anly503/lib/python3.10/site-packages/plotly/validators/layout/xaxis/_anchor.py\": 1677255608.196567, \"/Users/jameshickman/miniconda3/envs/anly503/lib/python3.10/site-packages/plotly/validators/layout/xaxis/_domain.py\": 1677255608.200567, \"/Users/jameshickman/miniconda3/envs/anly503/lib/python3.10/site-packages/plotly/validators/layout/_yaxis.py\": 1677255607.932566, \"/Users/jameshickman/miniconda3/envs/anly503/lib/python3.10/site-packages/plotly/graph_objs/layout/_yaxis.py\": 1677255606.90456, \"/Users/jameshickman/miniconda3/envs/anly503/lib/python3.10/site-packages/plotly/validators/layout/yaxis/__init__.py\": 1677255608.228567, \"/Users/jameshickman/miniconda3/envs/anly503/lib/python3.10/site-packages/plotly/validators/layout/yaxis/_anchor.py\": 1677255608.228567, \"/Users/jameshickman/miniconda3/envs/anly503/lib/python3.10/site-packages/plotly/validators/layout/yaxis/_domain.py\": 1677255608.232567, \"/Users/jameshickman/miniconda3/envs/anly503/lib/python3.10/site-packages/plotly/validators/layout/_annotations.py\": 1677255607.916566, \"/Users/jameshickman/miniconda3/envs/anly503/lib/python3.10/site-packages/plotly/validators/_layout.py\": 1677255607.208562, \"/Users/jameshickman/miniconda3/envs/anly503/lib/python3.10/site-packages/plotly/validators/_frames.py\": 1677255607.208562, \"/Users/jameshickman/miniconda3/envs/anly503/lib/python3.10/site-packages/plotly/animation.py\": 1677255606.728559, \"/Users/jameshickman/miniconda3/envs/anly503/lib/python3.10/site-packages/plotly/validators/layout/_template.py\": 1677255607.928566, \"/Users/jameshickman/miniconda3/envs/anly503/lib/python3.10/site-packages/plotly/validators/layout/_geo.py\": 1677255607.920566, \"/Users/jameshickman/miniconda3/envs/anly503/lib/python3.10/site-packages/plotly/graph_objs/layout/_geo.py\": 1677255606.89656, \"/Users/jameshickman/miniconda3/envs/anly503/lib/python3.10/site-packages/plotly/validators/layout/_boxgroupgap.py\": 1677255607.916566, \"/Users/jameshickman/miniconda3/envs/anly503/lib/python3.10/site-packages/plotly/validators/layout/_dragmode.py\": 1677255607.916566, \"/Users/jameshickman/miniconda3/envs/anly503/lib/python3.10/site-packages/plotly/validators/layout/_font.py\": 1677255607.920566, \"/Users/jameshickman/miniconda3/envs/anly503/lib/python3.10/site-packages/plotly/graph_objs/layout/_font.py\": 1677255606.89656, \"/Users/jameshickman/miniconda3/envs/anly503/lib/python3.10/site-packages/plotly/validators/layout/_hiddenlabels.py\": 1677255607.920566, \"/Users/jameshickman/miniconda3/envs/anly503/lib/python3.10/site-packages/plotly/validators/layout/_shapedefaults.py\": 1677255607.924566, \"/Users/jameshickman/miniconda3/envs/anly503/lib/python3.10/site-packages/plotly/graph_objs/layout/_shape.py\": 1677255606.90056, \"/Users/jameshickman/miniconda3/envs/anly503/lib/python3.10/site-packages/plotly/validators/layout/_funnelgap.py\": 1677255607.920566, \"/Users/jameshickman/miniconda3/envs/anly503/lib/python3.10/site-packages/plotly/validators/layout/_funnelmode.py\": 1677255607.920566, \"/Users/jameshickman/miniconda3/envs/anly503/lib/python3.10/site-packages/plotly/validators/layout/_separators.py\": 1677255607.924566, \"/Users/jameshickman/miniconda3/envs/anly503/lib/python3.10/site-packages/plotly/validators/layout/_extendsunburstcolors.py\": 1677255607.920566, \"/Users/jameshickman/miniconda3/envs/anly503/lib/python3.10/site-packages/plotly/validators/layout/_waterfallmode.py\": 1677255607.928566, \"/Users/jameshickman/miniconda3/envs/anly503/lib/python3.10/site-packages/plotly/validators/layout/_mapbox.py\": 1677255607.920566, \"/Users/jameshickman/miniconda3/envs/anly503/lib/python3.10/site-packages/plotly/graph_objs/layout/_mapbox.py\": 1677255606.89656, \"/Users/jameshickman/miniconda3/envs/anly503/lib/python3.10/site-packages/plotly/validators/layout/_boxmode.py\": 1677255607.916566, \"/Users/jameshickman/miniconda3/envs/anly503/lib/python3.10/site-packages/plotly/validators/layout/_autotypenumbers.py\": 1677255607.916566, \"/Users/jameshickman/miniconda3/envs/anly503/lib/python3.10/site-packages/plotly/validators/layout/_bargroupgap.py\": 1677255607.916566, \"/Users/jameshickman/miniconda3/envs/anly503/lib/python3.10/site-packages/plotly/validators/layout/_waterfallgroupgap.py\": 1677255607.928566, \"/Users/jameshickman/miniconda3/envs/anly503/lib/python3.10/site-packages/plotly/validators/layout/_newshape.py\": 1677255607.924566, \"/Users/jameshickman/miniconda3/envs/anly503/lib/python3.10/site-packages/plotly/graph_objs/layout/_newshape.py\": 1677255606.90056, \"/Users/jameshickman/miniconda3/envs/anly503/lib/python3.10/site-packages/plotly/validators/layout/_hoverdistance.py\": 1677255607.920566, \"/Users/jameshickman/miniconda3/envs/anly503/lib/python3.10/site-packages/plotly/validators/layout/_coloraxis.py\": 1677255607.916566, \"/Users/jameshickman/miniconda3/envs/anly503/lib/python3.10/site-packages/plotly/graph_objs/layout/_coloraxis.py\": 1677255606.89656, \"/Users/jameshickman/miniconda3/envs/anly503/lib/python3.10/site-packages/plotly/validators/layout/_scene.py\": 1677255607.924566, \"/Users/jameshickman/miniconda3/envs/anly503/lib/python3.10/site-packages/plotly/graph_objs/layout/_scene.py\": 1677255606.90056, \"/Users/jameshickman/miniconda3/envs/anly503/lib/python3.10/site-packages/plotly/validators/layout/_bargap.py\": 1677255607.916566, \"/Users/jameshickman/miniconda3/envs/anly503/lib/python3.10/site-packages/plotly/validators/layout/_piecolorway.py\": 1677255607.924566, \"/Users/jameshickman/miniconda3/envs/anly503/lib/python3.10/site-packages/plotly/validators/layout/_modebar.py\": 1677255607.924566, \"/Users/jameshickman/miniconda3/envs/anly503/lib/python3.10/site-packages/plotly/graph_objs/layout/_modebar.py\": 1677255606.90056, \"/Users/jameshickman/miniconda3/envs/anly503/lib/python3.10/site-packages/plotly/validators/layout/_selectdirection.py\": 1677255607.924566, \"/Users/jameshickman/miniconda3/envs/anly503/lib/python3.10/site-packages/plotly/validators/layout/_shapes.py\": 1677255607.924566, \"/Users/jameshickman/miniconda3/envs/anly503/lib/python3.10/site-packages/plotly/validators/layout/_calendar.py\": 1677255607.916566, \"/Users/jameshickman/miniconda3/envs/anly503/lib/python3.10/site-packages/plotly/validators/layout/_violinmode.py\": 1677255607.928566, \"/Users/jameshickman/miniconda3/envs/anly503/lib/python3.10/site-packages/plotly/validators/layout/_colorscale.py\": 1677255607.916566, \"/Users/jameshickman/miniconda3/envs/anly503/lib/python3.10/site-packages/plotly/graph_objs/layout/_colorscale.py\": 1677255606.89656, \"/Users/jameshickman/miniconda3/envs/anly503/lib/python3.10/site-packages/plotly/validators/layout/_height.py\": 1677255607.920566, \"/Users/jameshickman/miniconda3/envs/anly503/lib/python3.10/site-packages/plotly/validators/layout/_paper_bgcolor.py\": 1677255607.924566, \"/Users/jameshickman/miniconda3/envs/anly503/lib/python3.10/site-packages/plotly/validators/layout/_computed.py\": 1677255607.916566, \"/Users/jameshickman/miniconda3/envs/anly503/lib/python3.10/site-packages/plotly/validators/layout/_autosize.py\": 1677255607.916566, \"/Users/jameshickman/miniconda3/envs/anly503/lib/python3.10/site-packages/plotly/validators/layout/_extendpiecolors.py\": 1677255607.920566, \"/Users/jameshickman/miniconda3/envs/anly503/lib/python3.10/site-packages/plotly/validators/layout/_funnelareacolorway.py\": 1677255607.920566, \"/Users/jameshickman/miniconda3/envs/anly503/lib/python3.10/site-packages/plotly/validators/layout/_ternary.py\": 1677255607.928566, \"/Users/jameshickman/miniconda3/envs/anly503/lib/python3.10/site-packages/plotly/graph_objs/layout/_ternary.py\": 1677255606.90056, \"/Users/jameshickman/miniconda3/envs/anly503/lib/python3.10/site-packages/plotly/validators/layout/_selectionrevision.py\": 1677255607.924566, \"/Users/jameshickman/miniconda3/envs/anly503/lib/python3.10/site-packages/plotly/validators/layout/_minreducedwidth.py\": 1677255607.924566, \"/Users/jameshickman/miniconda3/envs/anly503/lib/python3.10/site-packages/plotly/validators/layout/_scattergap.py\": 1677255607.924566, \"/Users/jameshickman/miniconda3/envs/anly503/lib/python3.10/site-packages/plotly/validators/layout/_selections.py\": 1677255607.924566, \"/Users/jameshickman/miniconda3/envs/anly503/lib/python3.10/site-packages/plotly/validators/layout/_selectiondefaults.py\": 1677255607.924566, \"/Users/jameshickman/miniconda3/envs/anly503/lib/python3.10/site-packages/plotly/graph_objs/layout/_selection.py\": 1677255606.90056, \"/Users/jameshickman/miniconda3/envs/anly503/lib/python3.10/site-packages/plotly/validators/layout/_extendiciclecolors.py\": 1677255607.916566, \"/Users/jameshickman/miniconda3/envs/anly503/lib/python3.10/site-packages/plotly/validators/layout/_annotationdefaults.py\": 1677255607.912566, \"/Users/jameshickman/miniconda3/envs/anly503/lib/python3.10/site-packages/plotly/graph_objs/layout/_annotation.py\": 1677255606.89656, \"/Users/jameshickman/miniconda3/envs/anly503/lib/python3.10/site-packages/plotly/validators/layout/_iciclecolorway.py\": 1677255607.920566, \"/Users/jameshickman/miniconda3/envs/anly503/lib/python3.10/site-packages/plotly/validators/layout/_editrevision.py\": 1677255607.916566, \"/Users/jameshickman/miniconda3/envs/anly503/lib/python3.10/site-packages/plotly/validators/layout/_updatemenus.py\": 1677255607.928566, \"/Users/jameshickman/miniconda3/envs/anly503/lib/python3.10/site-packages/plotly/validators/layout/_updatemenudefaults.py\": 1677255607.928566, \"/Users/jameshickman/miniconda3/envs/anly503/lib/python3.10/site-packages/plotly/graph_objs/layout/_updatemenu.py\": 1677255606.90456, \"/Users/jameshickman/miniconda3/envs/anly503/lib/python3.10/site-packages/plotly/validators/layout/_violingroupgap.py\": 1677255607.928566, \"/Users/jameshickman/miniconda3/envs/anly503/lib/python3.10/site-packages/plotly/validators/layout/_activeselection.py\": 1677255607.912566, \"/Users/jameshickman/miniconda3/envs/anly503/lib/python3.10/site-packages/plotly/graph_objs/layout/_activeselection.py\": 1677255606.89656, \"/Users/jameshickman/miniconda3/envs/anly503/lib/python3.10/site-packages/plotly/validators/layout/_sliders.py\": 1677255607.928566, \"/Users/jameshickman/miniconda3/envs/anly503/lib/python3.10/site-packages/plotly/validators/layout/_violingap.py\": 1677255607.928566, \"/Users/jameshickman/miniconda3/envs/anly503/lib/python3.10/site-packages/plotly/validators/layout/_clickmode.py\": 1677255607.916566, \"/Users/jameshickman/miniconda3/envs/anly503/lib/python3.10/site-packages/plotly/validators/layout/_barmode.py\": 1677255607.916566, \"/Users/jameshickman/miniconda3/envs/anly503/lib/python3.10/site-packages/plotly/validators/layout/_hidesources.py\": 1677255607.920566, \"/Users/jameshickman/miniconda3/envs/anly503/lib/python3.10/site-packages/plotly/validators/layout/_imagedefaults.py\": 1677255607.920566, \"/Users/jameshickman/miniconda3/envs/anly503/lib/python3.10/site-packages/plotly/graph_objs/layout/_image.py\": 1677255606.89656, \"/Users/jameshickman/miniconda3/envs/anly503/lib/python3.10/site-packages/plotly/validators/layout/_uirevision.py\": 1677255607.928566, \"/Users/jameshickman/miniconda3/envs/anly503/lib/python3.10/site-packages/plotly/validators/layout/_barnorm.py\": 1677255607.916566, \"/Users/jameshickman/miniconda3/envs/anly503/lib/python3.10/site-packages/plotly/validators/layout/_sunburstcolorway.py\": 1677255607.928566, \"/Users/jameshickman/miniconda3/envs/anly503/lib/python3.10/site-packages/plotly/validators/layout/_width.py\": 1677255607.928566, \"/Users/jameshickman/miniconda3/envs/anly503/lib/python3.10/site-packages/plotly/validators/layout/_images.py\": 1677255607.920566, \"/Users/jameshickman/miniconda3/envs/anly503/lib/python3.10/site-packages/plotly/validators/layout/_waterfallgap.py\": 1677255607.928566, \"/Users/jameshickman/miniconda3/envs/anly503/lib/python3.10/site-packages/plotly/validators/layout/_hiddenlabelssrc.py\": 1677255607.920566, \"/Users/jameshickman/miniconda3/envs/anly503/lib/python3.10/site-packages/plotly/validators/layout/_minreducedheight.py\": 1677255607.924566, \"/Users/jameshickman/miniconda3/envs/anly503/lib/python3.10/site-packages/plotly/validators/layout/_extendtreemapcolors.py\": 1677255607.920566, \"/Users/jameshickman/miniconda3/envs/anly503/lib/python3.10/site-packages/plotly/validators/layout/_uniformtext.py\": 1677255607.928566, \"/Users/jameshickman/miniconda3/envs/anly503/lib/python3.10/site-packages/plotly/graph_objs/layout/_uniformtext.py\": 1677255606.90056, \"/Users/jameshickman/miniconda3/envs/anly503/lib/python3.10/site-packages/plotly/validators/layout/_hoverlabel.py\": 1677255607.920566, \"/Users/jameshickman/miniconda3/envs/anly503/lib/python3.10/site-packages/plotly/graph_objs/layout/_hoverlabel.py\": 1677255606.89656, \"/Users/jameshickman/miniconda3/envs/anly503/lib/python3.10/site-packages/plotly/validators/layout/_transition.py\": 1677255607.928566, \"/Users/jameshickman/miniconda3/envs/anly503/lib/python3.10/site-packages/plotly/graph_objs/layout/_transition.py\": 1677255606.90056, \"/Users/jameshickman/miniconda3/envs/anly503/lib/python3.10/site-packages/plotly/validators/layout/_treemapcolorway.py\": 1677255607.928566, \"/Users/jameshickman/miniconda3/envs/anly503/lib/python3.10/site-packages/plotly/validators/layout/_plot_bgcolor.py\": 1677255607.924566, \"/Users/jameshickman/miniconda3/envs/anly503/lib/python3.10/site-packages/plotly/validators/layout/_scattermode.py\": 1677255607.924566, \"/Users/jameshickman/miniconda3/envs/anly503/lib/python3.10/site-packages/plotly/validators/layout/_meta.py\": 1677255607.924566, \"/Users/jameshickman/miniconda3/envs/anly503/lib/python3.10/site-packages/plotly/validators/layout/_spikedistance.py\": 1677255607.928566, \"/Users/jameshickman/miniconda3/envs/anly503/lib/python3.10/site-packages/plotly/validators/layout/_datarevision.py\": 1677255607.916566, \"/Users/jameshickman/miniconda3/envs/anly503/lib/python3.10/site-packages/plotly/validators/layout/_hovermode.py\": 1677255607.920566, \"/Users/jameshickman/miniconda3/envs/anly503/lib/python3.10/site-packages/plotly/validators/layout/_margin.py\": 1677255607.924566, \"/Users/jameshickman/miniconda3/envs/anly503/lib/python3.10/site-packages/plotly/graph_objs/layout/_margin.py\": 1677255606.89656, \"/Users/jameshickman/miniconda3/envs/anly503/lib/python3.10/site-packages/plotly/validators/layout/_metasrc.py\": 1677255607.924566, \"/Users/jameshickman/miniconda3/envs/anly503/lib/python3.10/site-packages/plotly/validators/layout/_legend.py\": 1677255607.920566, \"/Users/jameshickman/miniconda3/envs/anly503/lib/python3.10/site-packages/plotly/graph_objs/layout/_legend.py\": 1677255606.89656, \"/Users/jameshickman/miniconda3/envs/anly503/lib/python3.10/site-packages/plotly/validators/layout/_showlegend.py\": 1677255607.928566, \"/Users/jameshickman/miniconda3/envs/anly503/lib/python3.10/site-packages/plotly/validators/layout/_title.py\": 1677255607.928566, \"/Users/jameshickman/miniconda3/envs/anly503/lib/python3.10/site-packages/plotly/graph_objs/layout/_title.py\": 1677255606.90056, \"/Users/jameshickman/miniconda3/envs/anly503/lib/python3.10/site-packages/plotly/validators/layout/_sliderdefaults.py\": 1677255607.928566, \"/Users/jameshickman/miniconda3/envs/anly503/lib/python3.10/site-packages/plotly/graph_objs/layout/_slider.py\": 1677255606.90056, \"/Users/jameshickman/miniconda3/envs/anly503/lib/python3.10/site-packages/plotly/validators/layout/_activeshape.py\": 1677255607.912566, \"/Users/jameshickman/miniconda3/envs/anly503/lib/python3.10/site-packages/plotly/graph_objs/layout/_activeshape.py\": 1677255606.89656, \"/Users/jameshickman/miniconda3/envs/anly503/lib/python3.10/site-packages/plotly/validators/layout/_polar.py\": 1677255607.924566, \"/Users/jameshickman/miniconda3/envs/anly503/lib/python3.10/site-packages/plotly/graph_objs/layout/_polar.py\": 1677255606.90056, \"/Users/jameshickman/miniconda3/envs/anly503/lib/python3.10/site-packages/plotly/validators/layout/_grid.py\": 1677255607.920566, \"/Users/jameshickman/miniconda3/envs/anly503/lib/python3.10/site-packages/plotly/graph_objs/layout/_grid.py\": 1677255606.89656, \"/Users/jameshickman/miniconda3/envs/anly503/lib/python3.10/site-packages/plotly/validators/layout/_boxgap.py\": 1677255607.916566, \"/Users/jameshickman/miniconda3/envs/anly503/lib/python3.10/site-packages/plotly/validators/layout/_funnelgroupgap.py\": 1677255607.920566, \"/Users/jameshickman/miniconda3/envs/anly503/lib/python3.10/site-packages/plotly/validators/layout/title/__init__.py\": 1677255608.184567, \"/Users/jameshickman/miniconda3/envs/anly503/lib/python3.10/site-packages/plotly/validators/layout/title/_font.py\": 1677255608.184567, \"/Users/jameshickman/miniconda3/envs/anly503/lib/python3.10/site-packages/plotly/graph_objs/layout/title/__init__.py\": 1677255606.95256, \"/Users/jameshickman/miniconda3/envs/anly503/lib/python3.10/site-packages/plotly/graph_objs/layout/title/_font.py\": 1677255606.95256, \"/Users/jameshickman/miniconda3/envs/anly503/lib/python3.10/site-packages/plotly/validators/layout/_newselection.py\": 1677255607.924566, \"/Users/jameshickman/miniconda3/envs/anly503/lib/python3.10/site-packages/plotly/graph_objs/layout/_newselection.py\": 1677255606.90056, \"/Users/jameshickman/miniconda3/envs/anly503/lib/python3.10/site-packages/plotly/validators/layout/_extendfunnelareacolors.py\": 1677255607.916566, \"/Users/jameshickman/miniconda3/envs/anly503/lib/python3.10/site-packages/plotly/validators/layout/_smith.py\": 1677255607.928566, \"/Users/jameshickman/miniconda3/envs/anly503/lib/python3.10/site-packages/plotly/graph_objs/layout/_smith.py\": 1677255606.90056, \"/Users/jameshickman/miniconda3/envs/anly503/lib/python3.10/site-packages/plotly/graph_objs/_splom.py\": 1677255606.772559, \"/Users/jameshickman/miniconda3/envs/anly503/lib/python3.10/site-packages/plotly/validators/layout/title/_text.py\": 1677255608.184567, \"/Users/jameshickman/miniconda3/envs/anly503/lib/python3.10/site-packages/plotly/validators/layout/legend/__init__.py\": 1677255607.984566, \"/Users/jameshickman/miniconda3/envs/anly503/lib/python3.10/site-packages/plotly/validators/layout/legend/_tracegroupgap.py\": 1677255607.988566, \"/Users/jameshickman/miniconda3/envs/anly503/lib/python3.10/site-packages/plotly/validators/layout/template/data/_barpolar.py\": 1677255608.128567, \"/Users/jameshickman/miniconda3/envs/anly503/lib/python3.10/site-packages/plotly/graph_objs/_barpolar.py\": 1677255606.744559, \"/Users/jameshickman/miniconda3/envs/anly503/lib/python3.10/site-packages/plotly/graph_objs/layout/template/data/_barpolar.py\": 1677255606.93256, \"/Users/jameshickman/miniconda3/envs/anly503/lib/python3.10/site-packages/plotly/validators/barpolar/__init__.py\": 1677255607.268562, \"/Users/jameshickman/miniconda3/envs/anly503/lib/python3.10/site-packages/plotly/validators/barpolar/_marker.py\": 1677255607.272562, \"/Users/jameshickman/miniconda3/envs/anly503/lib/python3.10/site-packages/plotly/graph_objs/barpolar/__init__.py\": 1677255606.784559, \"/Users/jameshickman/miniconda3/envs/anly503/lib/python3.10/site-packages/plotly/graph_objs/barpolar/_marker.py\": 1677255606.78856, \"/Users/jameshickman/miniconda3/envs/anly503/lib/python3.10/site-packages/plotly/validators/barpolar/marker/__init__.py\": 1677255607.280562, \"/Users/jameshickman/miniconda3/envs/anly503/lib/python3.10/site-packages/plotly/validators/barpolar/marker/_line.py\": 1677255607.284562, \"/Users/jameshickman/miniconda3/envs/anly503/lib/python3.10/site-packages/plotly/graph_objs/barpolar/marker/__init__.py\": 1677255606.78856, \"/Users/jameshickman/miniconda3/envs/anly503/lib/python3.10/site-packages/plotly/graph_objs/barpolar/marker/_line.py\": 1677255606.78856, \"/Users/jameshickman/miniconda3/envs/anly503/lib/python3.10/site-packages/plotly/validators/barpolar/marker/line/__init__.py\": 1677255607.300562, \"/Users/jameshickman/miniconda3/envs/anly503/lib/python3.10/site-packages/plotly/validators/barpolar/marker/line/_color.py\": 1677255607.300562, \"/Users/jameshickman/miniconda3/envs/anly503/lib/python3.10/site-packages/plotly/validators/barpolar/marker/line/_width.py\": 1677255607.300562, \"/Users/jameshickman/miniconda3/envs/anly503/lib/python3.10/site-packages/plotly/validators/barpolar/marker/_pattern.py\": 1677255607.284562, \"/Users/jameshickman/miniconda3/envs/anly503/lib/python3.10/site-packages/plotly/graph_objs/barpolar/marker/_pattern.py\": 1677255606.78856, \"/Users/jameshickman/miniconda3/envs/anly503/lib/python3.10/site-packages/plotly/validators/barpolar/marker/pattern/__init__.py\": 1677255607.300562, \"/Users/jameshickman/miniconda3/envs/anly503/lib/python3.10/site-packages/plotly/validators/barpolar/marker/pattern/_fillmode.py\": 1677255607.300562, \"/Users/jameshickman/miniconda3/envs/anly503/lib/python3.10/site-packages/plotly/validators/barpolar/marker/pattern/_size.py\": 1677255607.304562, \"/Users/jameshickman/miniconda3/envs/anly503/lib/python3.10/site-packages/plotly/validators/barpolar/marker/pattern/_solidity.py\": 1677255607.304562, \"/Users/jameshickman/miniconda3/envs/anly503/lib/python3.10/site-packages/plotly/validators/layout/template/data/_bar.py\": 1677255608.128567, \"/Users/jameshickman/miniconda3/envs/anly503/lib/python3.10/site-packages/plotly/graph_objs/layout/template/data/_bar.py\": 1677255606.93256, \"/Users/jameshickman/miniconda3/envs/anly503/lib/python3.10/site-packages/plotly/validators/bar/__init__.py\": 1677255607.216562, \"/Users/jameshickman/miniconda3/envs/anly503/lib/python3.10/site-packages/plotly/validators/bar/_error_x.py\": 1677255607.216562, \"/Users/jameshickman/miniconda3/envs/anly503/lib/python3.10/site-packages/plotly/graph_objs/bar/__init__.py\": 1677255606.776559, \"/Users/jameshickman/miniconda3/envs/anly503/lib/python3.10/site-packages/plotly/graph_objs/bar/_error_x.py\": 1677255606.776559, \"/Users/jameshickman/miniconda3/envs/anly503/lib/python3.10/site-packages/plotly/validators/bar/error_x/__init__.py\": 1677255607.228562, \"/Users/jameshickman/miniconda3/envs/anly503/lib/python3.10/site-packages/plotly/validators/bar/error_x/_color.py\": 1677255607.228562, \"/Users/jameshickman/miniconda3/envs/anly503/lib/python3.10/site-packages/plotly/validators/bar/_error_y.py\": 1677255607.220562, \"/Users/jameshickman/miniconda3/envs/anly503/lib/python3.10/site-packages/plotly/graph_objs/bar/_error_y.py\": 1677255606.780559, \"/Users/jameshickman/miniconda3/envs/anly503/lib/python3.10/site-packages/plotly/validators/bar/error_y/__init__.py\": 1677255607.232562, \"/Users/jameshickman/miniconda3/envs/anly503/lib/python3.10/site-packages/plotly/validators/bar/error_y/_color.py\": 1677255607.232562, \"/Users/jameshickman/miniconda3/envs/anly503/lib/python3.10/site-packages/plotly/validators/bar/_marker.py\": 1677255607.220562, \"/Users/jameshickman/miniconda3/envs/anly503/lib/python3.10/site-packages/plotly/graph_objs/bar/_marker.py\": 1677255606.780559, \"/Users/jameshickman/miniconda3/envs/anly503/lib/python3.10/site-packages/plotly/validators/bar/marker/__init__.py\": 1677255607.240562, \"/Users/jameshickman/miniconda3/envs/anly503/lib/python3.10/site-packages/plotly/validators/bar/marker/_line.py\": 1677255607.244562, \"/Users/jameshickman/miniconda3/envs/anly503/lib/python3.10/site-packages/plotly/graph_objs/bar/marker/__init__.py\": 1677255606.780559, \"/Users/jameshickman/miniconda3/envs/anly503/lib/python3.10/site-packages/plotly/graph_objs/bar/marker/_line.py\": 1677255606.784559, \"/Users/jameshickman/miniconda3/envs/anly503/lib/python3.10/site-packages/plotly/validators/bar/marker/line/__init__.py\": 1677255607.256562, \"/Users/jameshickman/miniconda3/envs/anly503/lib/python3.10/site-packages/plotly/validators/bar/marker/line/_color.py\": 1677255607.256562, \"/Users/jameshickman/miniconda3/envs/anly503/lib/python3.10/site-packages/plotly/validators/bar/marker/line/_width.py\": 1677255607.256562, \"/Users/jameshickman/miniconda3/envs/anly503/lib/python3.10/site-packages/plotly/validators/bar/marker/_pattern.py\": 1677255607.244562, \"/Users/jameshickman/miniconda3/envs/anly503/lib/python3.10/site-packages/plotly/graph_objs/bar/marker/_pattern.py\": 1677255606.784559, \"/Users/jameshickman/miniconda3/envs/anly503/lib/python3.10/site-packages/plotly/validators/bar/marker/pattern/__init__.py\": 1677255607.260562, \"/Users/jameshickman/miniconda3/envs/anly503/lib/python3.10/site-packages/plotly/validators/bar/marker/pattern/_fillmode.py\": 1677255607.260562, \"/Users/jameshickman/miniconda3/envs/anly503/lib/python3.10/site-packages/plotly/validators/bar/marker/pattern/_size.py\": 1677255607.260562, \"/Users/jameshickman/miniconda3/envs/anly503/lib/python3.10/site-packages/plotly/validators/bar/marker/pattern/_solidity.py\": 1677255607.260562, \"/Users/jameshickman/miniconda3/envs/anly503/lib/python3.10/site-packages/plotly/validators/layout/template/data/_carpet.py\": 1677255608.132567, \"/Users/jameshickman/miniconda3/envs/anly503/lib/python3.10/site-packages/plotly/graph_objs/_carpet.py\": 1677255606.744559, \"/Users/jameshickman/miniconda3/envs/anly503/lib/python3.10/site-packages/plotly/graph_objs/layout/template/data/_carpet.py\": 1677255606.93256, \"/Users/jameshickman/miniconda3/envs/anly503/lib/python3.10/site-packages/plotly/validators/carpet/__init__.py\": 1677255607.348563, \"/Users/jameshickman/miniconda3/envs/anly503/lib/python3.10/site-packages/plotly/validators/carpet/_aaxis.py\": 1677255607.352563, \"/Users/jameshickman/miniconda3/envs/anly503/lib/python3.10/site-packages/plotly/graph_objs/carpet/__init__.py\": 1677255606.80056, \"/Users/jameshickman/miniconda3/envs/anly503/lib/python3.10/site-packages/plotly/graph_objs/carpet/_aaxis.py\": 1677255606.80056, \"/Users/jameshickman/miniconda3/envs/anly503/lib/python3.10/site-packages/plotly/validators/carpet/aaxis/__init__.py\": 1677255607.356562, \"/Users/jameshickman/miniconda3/envs/anly503/lib/python3.10/site-packages/plotly/validators/carpet/aaxis/_endlinecolor.py\": 1677255607.360563, \"/Users/jameshickman/miniconda3/envs/anly503/lib/python3.10/site-packages/plotly/validators/carpet/aaxis/_gridcolor.py\": 1677255607.360563, \"/Users/jameshickman/miniconda3/envs/anly503/lib/python3.10/site-packages/plotly/validators/carpet/aaxis/_linecolor.py\": 1677255607.360563, \"/Users/jameshickman/miniconda3/envs/anly503/lib/python3.10/site-packages/plotly/validators/carpet/aaxis/_minorgridcolor.py\": 1677255607.360563, \"/Users/jameshickman/miniconda3/envs/anly503/lib/python3.10/site-packages/plotly/validators/carpet/aaxis/_startlinecolor.py\": 1677255607.364563, \"/Users/jameshickman/miniconda3/envs/anly503/lib/python3.10/site-packages/plotly/validators/carpet/_baxis.py\": 1677255607.352563, \"/Users/jameshickman/miniconda3/envs/anly503/lib/python3.10/site-packages/plotly/graph_objs/carpet/_baxis.py\": 1677255606.80056, \"/Users/jameshickman/miniconda3/envs/anly503/lib/python3.10/site-packages/plotly/validators/carpet/baxis/__init__.py\": 1677255607.372563, \"/Users/jameshickman/miniconda3/envs/anly503/lib/python3.10/site-packages/plotly/validators/carpet/baxis/_endlinecolor.py\": 1677255607.372563, \"/Users/jameshickman/miniconda3/envs/anly503/lib/python3.10/site-packages/plotly/validators/carpet/baxis/_gridcolor.py\": 1677255607.372563, \"/Users/jameshickman/miniconda3/envs/anly503/lib/python3.10/site-packages/plotly/validators/carpet/baxis/_linecolor.py\": 1677255607.376563, \"/Users/jameshickman/miniconda3/envs/anly503/lib/python3.10/site-packages/plotly/validators/carpet/baxis/_minorgridcolor.py\": 1677255607.376563, \"/Users/jameshickman/miniconda3/envs/anly503/lib/python3.10/site-packages/plotly/validators/carpet/baxis/_startlinecolor.py\": 1677255607.376563, \"/Users/jameshickman/miniconda3/envs/anly503/lib/python3.10/site-packages/plotly/validators/layout/template/data/_choropleth.py\": 1677255608.132567, \"/Users/jameshickman/miniconda3/envs/anly503/lib/python3.10/site-packages/plotly/graph_objs/layout/template/data/_choropleth.py\": 1677255606.93256, \"/Users/jameshickman/miniconda3/envs/anly503/lib/python3.10/site-packages/plotly/validators/choropleth/__init__.py\": 1677255607.388563, \"/Users/jameshickman/miniconda3/envs/anly503/lib/python3.10/site-packages/plotly/validators/choropleth/_colorbar.py\": 1677255607.388563, \"/Users/jameshickman/miniconda3/envs/anly503/lib/python3.10/site-packages/plotly/graph_objs/choropleth/__init__.py\": 1677255606.80456, \"/Users/jameshickman/miniconda3/envs/anly503/lib/python3.10/site-packages/plotly/graph_objs/choropleth/_colorbar.py\": 1677255606.80456, \"/Users/jameshickman/miniconda3/envs/anly503/lib/python3.10/site-packages/plotly/validators/choropleth/colorbar/__init__.py\": 1677255607.396563, \"/Users/jameshickman/miniconda3/envs/anly503/lib/python3.10/site-packages/plotly/validators/choropleth/colorbar/_outlinewidth.py\": 1677255607.396563, \"/Users/jameshickman/miniconda3/envs/anly503/lib/python3.10/site-packages/plotly/validators/choropleth/colorbar/_ticks.py\": 1677255607.400563, \"/Users/jameshickman/miniconda3/envs/anly503/lib/python3.10/site-packages/plotly/validators/layout/template/data/_contourcarpet.py\": 1677255608.132567, \"/Users/jameshickman/miniconda3/envs/anly503/lib/python3.10/site-packages/plotly/graph_objs/_contourcarpet.py\": 1677255606.748559, \"/Users/jameshickman/miniconda3/envs/anly503/lib/python3.10/site-packages/plotly/graph_objs/layout/template/data/_contourcarpet.py\": 1677255606.93256, \"/Users/jameshickman/miniconda3/envs/anly503/lib/python3.10/site-packages/plotly/validators/contourcarpet/__init__.py\": 1677255607.508563, \"/Users/jameshickman/miniconda3/envs/anly503/lib/python3.10/site-packages/plotly/validators/contourcarpet/_colorbar.py\": 1677255607.512564, \"/Users/jameshickman/miniconda3/envs/anly503/lib/python3.10/site-packages/plotly/graph_objs/contourcarpet/__init__.py\": 1677255606.82856, \"/Users/jameshickman/miniconda3/envs/anly503/lib/python3.10/site-packages/plotly/graph_objs/contourcarpet/_colorbar.py\": 1677255606.82856, \"/Users/jameshickman/miniconda3/envs/anly503/lib/python3.10/site-packages/plotly/validators/contourcarpet/colorbar/__init__.py\": 1677255607.516564, \"/Users/jameshickman/miniconda3/envs/anly503/lib/python3.10/site-packages/plotly/validators/contourcarpet/colorbar/_outlinewidth.py\": 1677255607.520563, \"/Users/jameshickman/miniconda3/envs/anly503/lib/python3.10/site-packages/plotly/validators/contourcarpet/colorbar/_ticks.py\": 1677255607.524563, \"/Users/jameshickman/miniconda3/envs/anly503/lib/python3.10/site-packages/plotly/validators/layout/template/data/_contour.py\": 1677255608.132567, \"/Users/jameshickman/miniconda3/envs/anly503/lib/python3.10/site-packages/plotly/graph_objs/_contour.py\": 1677255606.748559, \"/Users/jameshickman/miniconda3/envs/anly503/lib/python3.10/site-packages/plotly/graph_objs/layout/template/data/_contour.py\": 1677255606.93256, \"/Users/jameshickman/miniconda3/envs/anly503/lib/python3.10/site-packages/plotly/validators/contour/__init__.py\": 1677255607.472563, \"/Users/jameshickman/miniconda3/envs/anly503/lib/python3.10/site-packages/plotly/validators/contour/_colorbar.py\": 1677255607.476563, \"/Users/jameshickman/miniconda3/envs/anly503/lib/python3.10/site-packages/plotly/graph_objs/contour/__init__.py\": 1677255606.82056, \"/Users/jameshickman/miniconda3/envs/anly503/lib/python3.10/site-packages/plotly/graph_objs/contour/_colorbar.py\": 1677255606.82056, \"/Users/jameshickman/miniconda3/envs/anly503/lib/python3.10/site-packages/plotly/validators/contour/colorbar/__init__.py\": 1677255607.488563, \"/Users/jameshickman/miniconda3/envs/anly503/lib/python3.10/site-packages/plotly/validators/contour/colorbar/_outlinewidth.py\": 1677255607.488563, \"/Users/jameshickman/miniconda3/envs/anly503/lib/python3.10/site-packages/plotly/validators/contour/colorbar/_ticks.py\": 1677255607.492563, \"/Users/jameshickman/miniconda3/envs/anly503/lib/python3.10/site-packages/plotly/validators/contour/_colorscale.py\": 1677255607.476563, \"/Users/jameshickman/miniconda3/envs/anly503/lib/python3.10/site-packages/plotly/validators/layout/template/data/_heatmapgl.py\": 1677255608.132567, \"/Users/jameshickman/miniconda3/envs/anly503/lib/python3.10/site-packages/plotly/graph_objs/_heatmapgl.py\": 1677255606.760559, \"/Users/jameshickman/miniconda3/envs/anly503/lib/python3.10/site-packages/plotly/graph_objs/layout/template/data/_heatmapgl.py\": 1677255606.93656, \"/Users/jameshickman/miniconda3/envs/anly503/lib/python3.10/site-packages/plotly/validators/heatmapgl/__init__.py\": 1677255607.648564, \"/Users/jameshickman/miniconda3/envs/anly503/lib/python3.10/site-packages/plotly/validators/heatmapgl/_colorbar.py\": 1677255607.652564, \"/Users/jameshickman/miniconda3/envs/anly503/lib/python3.10/site-packages/plotly/graph_objs/heatmapgl/__init__.py\": 1677255606.84856, \"/Users/jameshickman/miniconda3/envs/anly503/lib/python3.10/site-packages/plotly/graph_objs/heatmapgl/_colorbar.py\": 1677255606.84856, \"/Users/jameshickman/miniconda3/envs/anly503/lib/python3.10/site-packages/plotly/validators/heatmapgl/colorbar/__init__.py\": 1677255607.656564, \"/Users/jameshickman/miniconda3/envs/anly503/lib/python3.10/site-packages/plotly/validators/heatmapgl/colorbar/_outlinewidth.py\": 1677255607.660564, \"/Users/jameshickman/miniconda3/envs/anly503/lib/python3.10/site-packages/plotly/validators/heatmapgl/colorbar/_ticks.py\": 1677255607.664564, \"/Users/jameshickman/miniconda3/envs/anly503/lib/python3.10/site-packages/plotly/validators/heatmapgl/_colorscale.py\": 1677255607.652564, \"/Users/jameshickman/miniconda3/envs/anly503/lib/python3.10/site-packages/plotly/validators/layout/template/data/_heatmap.py\": 1677255608.132567, \"/Users/jameshickman/miniconda3/envs/anly503/lib/python3.10/site-packages/plotly/graph_objs/_heatmap.py\": 1677255606.756559, \"/Users/jameshickman/miniconda3/envs/anly503/lib/python3.10/site-packages/plotly/graph_objs/layout/template/data/_heatmap.py\": 1677255606.93256, \"/Users/jameshickman/miniconda3/envs/anly503/lib/python3.10/site-packages/plotly/validators/heatmap/__init__.py\": 1677255607.620564, \"/Users/jameshickman/miniconda3/envs/anly503/lib/python3.10/site-packages/plotly/validators/heatmap/_colorbar.py\": 1677255607.620564, \"/Users/jameshickman/miniconda3/envs/anly503/lib/python3.10/site-packages/plotly/graph_objs/heatmap/__init__.py\": 1677255606.84456, \"/Users/jameshickman/miniconda3/envs/anly503/lib/python3.10/site-packages/plotly/graph_objs/heatmap/_colorbar.py\": 1677255606.84456, \"/Users/jameshickman/miniconda3/envs/anly503/lib/python3.10/site-packages/plotly/validators/heatmap/colorbar/__init__.py\": 1677255607.632564, \"/Users/jameshickman/miniconda3/envs/anly503/lib/python3.10/site-packages/plotly/validators/heatmap/colorbar/_outlinewidth.py\": 1677255607.636564, \"/Users/jameshickman/miniconda3/envs/anly503/lib/python3.10/site-packages/plotly/validators/heatmap/colorbar/_ticks.py\": 1677255607.640564, \"/Users/jameshickman/miniconda3/envs/anly503/lib/python3.10/site-packages/plotly/validators/heatmap/_colorscale.py\": 1677255607.620564, \"/Users/jameshickman/miniconda3/envs/anly503/lib/python3.10/site-packages/plotly/validators/layout/template/data/_histogram2dcontour.py\": 1677255608.132567, \"/Users/jameshickman/miniconda3/envs/anly503/lib/python3.10/site-packages/plotly/graph_objs/layout/template/data/_histogram2dcontour.py\": 1677255606.93656, \"/Users/jameshickman/miniconda3/envs/anly503/lib/python3.10/site-packages/plotly/validators/histogram2dcontour/__init__.py\": 1677255607.756565, \"/Users/jameshickman/miniconda3/envs/anly503/lib/python3.10/site-packages/plotly/validators/histogram2dcontour/_colorbar.py\": 1677255607.756565, \"/Users/jameshickman/miniconda3/envs/anly503/lib/python3.10/site-packages/plotly/graph_objs/histogram2dcontour/__init__.py\": 1677255606.86856, \"/Users/jameshickman/miniconda3/envs/anly503/lib/python3.10/site-packages/plotly/graph_objs/histogram2dcontour/_colorbar.py\": 1677255606.86856, \"/Users/jameshickman/miniconda3/envs/anly503/lib/python3.10/site-packages/plotly/validators/histogram2dcontour/colorbar/__init__.py\": 1677255607.768565, \"/Users/jameshickman/miniconda3/envs/anly503/lib/python3.10/site-packages/plotly/validators/histogram2dcontour/colorbar/_outlinewidth.py\": 1677255607.768565, \"/Users/jameshickman/miniconda3/envs/anly503/lib/python3.10/site-packages/plotly/validators/histogram2dcontour/colorbar/_ticks.py\": 1677255607.772565, \"/Users/jameshickman/miniconda3/envs/anly503/lib/python3.10/site-packages/plotly/validators/histogram2dcontour/_colorscale.py\": 1677255607.756565, \"/Users/jameshickman/miniconda3/envs/anly503/lib/python3.10/site-packages/plotly/validators/layout/template/data/_histogram2d.py\": 1677255608.132567, \"/Users/jameshickman/miniconda3/envs/anly503/lib/python3.10/site-packages/plotly/graph_objs/layout/template/data/_histogram2d.py\": 1677255606.93656, \"/Users/jameshickman/miniconda3/envs/anly503/lib/python3.10/site-packages/plotly/validators/histogram2d/__init__.py\": 1677255607.724565, \"/Users/jameshickman/miniconda3/envs/anly503/lib/python3.10/site-packages/plotly/validators/histogram2d/_colorbar.py\": 1677255607.724565, \"/Users/jameshickman/miniconda3/envs/anly503/lib/python3.10/site-packages/plotly/graph_objs/histogram2d/__init__.py\": 1677255606.86056, \"/Users/jameshickman/miniconda3/envs/anly503/lib/python3.10/site-packages/plotly/graph_objs/histogram2d/_colorbar.py\": 1677255606.86456, \"/Users/jameshickman/miniconda3/envs/anly503/lib/python3.10/site-packages/plotly/validators/histogram2d/colorbar/__init__.py\": 1677255607.736565, \"/Users/jameshickman/miniconda3/envs/anly503/lib/python3.10/site-packages/plotly/validators/histogram2d/colorbar/_outlinewidth.py\": 1677255607.740565, \"/Users/jameshickman/miniconda3/envs/anly503/lib/python3.10/site-packages/plotly/validators/histogram2d/colorbar/_ticks.py\": 1677255607.740565, \"/Users/jameshickman/miniconda3/envs/anly503/lib/python3.10/site-packages/plotly/validators/histogram2d/_colorscale.py\": 1677255607.724565, \"/Users/jameshickman/miniconda3/envs/anly503/lib/python3.10/site-packages/plotly/validators/layout/template/data/_histogram.py\": 1677255608.132567, \"/Users/jameshickman/miniconda3/envs/anly503/lib/python3.10/site-packages/plotly/graph_objs/layout/template/data/_histogram.py\": 1677255606.93656, \"/Users/jameshickman/miniconda3/envs/anly503/lib/python3.10/site-packages/plotly/validators/histogram/__init__.py\": 1677255607.676564, \"/Users/jameshickman/miniconda3/envs/anly503/lib/python3.10/site-packages/plotly/validators/histogram/_marker.py\": 1677255607.680564, \"/Users/jameshickman/miniconda3/envs/anly503/lib/python3.10/site-packages/plotly/graph_objs/histogram/__init__.py\": 1677255606.85256, \"/Users/jameshickman/miniconda3/envs/anly503/lib/python3.10/site-packages/plotly/graph_objs/histogram/_marker.py\": 1677255606.85656, \"/Users/jameshickman/miniconda3/envs/anly503/lib/python3.10/site-packages/plotly/validators/histogram/marker/__init__.py\": 1677255607.696565, \"/Users/jameshickman/miniconda3/envs/anly503/lib/python3.10/site-packages/plotly/validators/histogram/marker/_pattern.py\": 1677255607.700564, \"/Users/jameshickman/miniconda3/envs/anly503/lib/python3.10/site-packages/plotly/graph_objs/histogram/marker/__init__.py\": 1677255606.85656, \"/Users/jameshickman/miniconda3/envs/anly503/lib/python3.10/site-packages/plotly/graph_objs/histogram/marker/_pattern.py\": 1677255606.86056, \"/Users/jameshickman/miniconda3/envs/anly503/lib/python3.10/site-packages/plotly/validators/histogram/marker/pattern/__init__.py\": 1677255607.716565, \"/Users/jameshickman/miniconda3/envs/anly503/lib/python3.10/site-packages/plotly/validators/histogram/marker/pattern/_fillmode.py\": 1677255607.716565, \"/Users/jameshickman/miniconda3/envs/anly503/lib/python3.10/site-packages/plotly/validators/histogram/marker/pattern/_size.py\": 1677255607.716565, \"/Users/jameshickman/miniconda3/envs/anly503/lib/python3.10/site-packages/plotly/validators/histogram/marker/pattern/_solidity.py\": 1677255607.716565, \"/Users/jameshickman/miniconda3/envs/anly503/lib/python3.10/site-packages/plotly/validators/layout/template/data/_mesh3d.py\": 1677255608.132567, \"/Users/jameshickman/miniconda3/envs/anly503/lib/python3.10/site-packages/plotly/graph_objs/_mesh3d.py\": 1677255606.764559, \"/Users/jameshickman/miniconda3/envs/anly503/lib/python3.10/site-packages/plotly/graph_objs/layout/template/data/_mesh3d.py\": 1677255606.93656, \"/Users/jameshickman/miniconda3/envs/anly503/lib/python3.10/site-packages/plotly/validators/mesh3d/__init__.py\": 1677255608.264568, \"/Users/jameshickman/miniconda3/envs/anly503/lib/python3.10/site-packages/plotly/validators/mesh3d/_colorbar.py\": 1677255608.268568, \"/Users/jameshickman/miniconda3/envs/anly503/lib/python3.10/site-packages/plotly/graph_objs/mesh3d/__init__.py\": 1677255606.96056, \"/Users/jameshickman/miniconda3/envs/anly503/lib/python3.10/site-packages/plotly/graph_objs/mesh3d/_colorbar.py\": 1677255606.96056, \"/Users/jameshickman/miniconda3/envs/anly503/lib/python3.10/site-packages/plotly/validators/mesh3d/colorbar/__init__.py\": 1677255608.284568, \"/Users/jameshickman/miniconda3/envs/anly503/lib/python3.10/site-packages/plotly/validators/mesh3d/colorbar/_outlinewidth.py\": 1677255608.288568, \"/Users/jameshickman/miniconda3/envs/anly503/lib/python3.10/site-packages/plotly/validators/mesh3d/colorbar/_ticks.py\": 1677255608.296568, \"/Users/jameshickman/miniconda3/envs/anly503/lib/python3.10/site-packages/plotly/validators/layout/template/data/_parcoords.py\": 1677255608.136567, \"/Users/jameshickman/miniconda3/envs/anly503/lib/python3.10/site-packages/plotly/graph_objs/layout/template/data/_parcoords.py\": 1677255606.93656, \"/Users/jameshickman/miniconda3/envs/anly503/lib/python3.10/site-packages/plotly/validators/parcoords/__init__.py\": 1677255608.356568, \"/Users/jameshickman/miniconda3/envs/anly503/lib/python3.10/site-packages/plotly/validators/parcoords/_line.py\": 1677255608.360568, \"/Users/jameshickman/miniconda3/envs/anly503/lib/python3.10/site-packages/plotly/graph_objs/parcoords/__init__.py\": 1677255606.98056, \"/Users/jameshickman/miniconda3/envs/anly503/lib/python3.10/site-packages/plotly/graph_objs/parcoords/_line.py\": 1677255606.98056, \"/Users/jameshickman/miniconda3/envs/anly503/lib/python3.10/site-packages/plotly/validators/parcoords/line/__init__.py\": 1677255608.368568, \"/Users/jameshickman/miniconda3/envs/anly503/lib/python3.10/site-packages/plotly/validators/parcoords/line/_colorbar.py\": 1677255608.368568, \"/Users/jameshickman/miniconda3/envs/anly503/lib/python3.10/site-packages/plotly/graph_objs/parcoords/line/__init__.py\": 1677255606.984561, \"/Users/jameshickman/miniconda3/envs/anly503/lib/python3.10/site-packages/plotly/graph_objs/parcoords/line/_colorbar.py\": 1677255606.984561, \"/Users/jameshickman/miniconda3/envs/anly503/lib/python3.10/site-packages/plotly/validators/parcoords/line/colorbar/__init__.py\": 1677255608.372568, \"/Users/jameshickman/miniconda3/envs/anly503/lib/python3.10/site-packages/plotly/validators/parcoords/line/colorbar/_outlinewidth.py\": 1677255608.372568, \"/Users/jameshickman/miniconda3/envs/anly503/lib/python3.10/site-packages/plotly/validators/parcoords/line/colorbar/_ticks.py\": 1677255608.376568, \"/Users/jameshickman/miniconda3/envs/anly503/lib/python3.10/site-packages/plotly/validators/layout/template/data/_pie.py\": 1677255608.136567, \"/Users/jameshickman/miniconda3/envs/anly503/lib/python3.10/site-packages/plotly/graph_objs/layout/template/data/_pie.py\": 1677255606.93656, \"/Users/jameshickman/miniconda3/envs/anly503/lib/python3.10/site-packages/plotly/validators/pie/__init__.py\": 1677255608.388568, \"/Users/jameshickman/miniconda3/envs/anly503/lib/python3.10/site-packages/plotly/validators/pie/_automargin.py\": 1677255608.388568, \"/Users/jameshickman/miniconda3/envs/anly503/lib/python3.10/site-packages/plotly/validators/layout/template/data/_scatter3d.py\": 1677255608.136567, \"/Users/jameshickman/miniconda3/envs/anly503/lib/python3.10/site-packages/plotly/graph_objs/_scatter3d.py\": 1677255606.768559, \"/Users/jameshickman/miniconda3/envs/anly503/lib/python3.10/site-packages/plotly/graph_objs/layout/template/data/_scatter3d.py\": 1677255606.93656, \"/Users/jameshickman/miniconda3/envs/anly503/lib/python3.10/site-packages/plotly/validators/scatter3d/__init__.py\": 1677255608.536569, \"/Users/jameshickman/miniconda3/envs/anly503/lib/python3.10/site-packages/plotly/validators/scatter3d/_line.py\": 1677255608.540569, \"/Users/jameshickman/miniconda3/envs/anly503/lib/python3.10/site-packages/plotly/graph_objs/scatter3d/__init__.py\": 1677255607.016561, \"/Users/jameshickman/miniconda3/envs/anly503/lib/python3.10/site-packages/plotly/graph_objs/scatter3d/_line.py\": 1677255607.016561, \"/Users/jameshickman/miniconda3/envs/anly503/lib/python3.10/site-packages/plotly/validators/scatter3d/line/__init__.py\": 1677255608.560569, \"/Users/jameshickman/miniconda3/envs/anly503/lib/python3.10/site-packages/plotly/validators/scatter3d/line/_colorbar.py\": 1677255608.560569, \"/Users/jameshickman/miniconda3/envs/anly503/lib/python3.10/site-packages/plotly/graph_objs/scatter3d/line/__init__.py\": 1677255607.020561, \"/Users/jameshickman/miniconda3/envs/anly503/lib/python3.10/site-packages/plotly/graph_objs/scatter3d/line/_colorbar.py\": 1677255607.020561, \"/Users/jameshickman/miniconda3/envs/anly503/lib/python3.10/site-packages/plotly/validators/scatter3d/line/colorbar/__init__.py\": 1677255608.560569, \"/Users/jameshickman/miniconda3/envs/anly503/lib/python3.10/site-packages/plotly/validators/scatter3d/line/colorbar/_outlinewidth.py\": 1677255608.564569, \"/Users/jameshickman/miniconda3/envs/anly503/lib/python3.10/site-packages/plotly/validators/scatter3d/line/colorbar/_ticks.py\": 1677255608.568569, \"/Users/jameshickman/miniconda3/envs/anly503/lib/python3.10/site-packages/plotly/validators/scatter3d/_marker.py\": 1677255608.540569, \"/Users/jameshickman/miniconda3/envs/anly503/lib/python3.10/site-packages/plotly/graph_objs/scatter3d/_marker.py\": 1677255607.020561, \"/Users/jameshickman/miniconda3/envs/anly503/lib/python3.10/site-packages/plotly/validators/scatter3d/marker/__init__.py\": 1677255608.572569, \"/Users/jameshickman/miniconda3/envs/anly503/lib/python3.10/site-packages/plotly/validators/scatter3d/marker/_colorbar.py\": 1677255608.576569, \"/Users/jameshickman/miniconda3/envs/anly503/lib/python3.10/site-packages/plotly/graph_objs/scatter3d/marker/__init__.py\": 1677255607.024561, \"/Users/jameshickman/miniconda3/envs/anly503/lib/python3.10/site-packages/plotly/graph_objs/scatter3d/marker/_colorbar.py\": 1677255607.024561, \"/Users/jameshickman/miniconda3/envs/anly503/lib/python3.10/site-packages/plotly/validators/scatter3d/marker/colorbar/__init__.py\": 1677255608.576569, \"/Users/jameshickman/miniconda3/envs/anly503/lib/python3.10/site-packages/plotly/validators/scatter3d/marker/colorbar/_outlinewidth.py\": 1677255608.580569, \"/Users/jameshickman/miniconda3/envs/anly503/lib/python3.10/site-packages/plotly/validators/scatter3d/marker/colorbar/_ticks.py\": 1677255608.584569, \"/Users/jameshickman/miniconda3/envs/anly503/lib/python3.10/site-packages/plotly/validators/layout/template/data/_scattercarpet.py\": 1677255608.136567, \"/Users/jameshickman/miniconda3/envs/anly503/lib/python3.10/site-packages/plotly/graph_objs/_scattercarpet.py\": 1677255606.768559, \"/Users/jameshickman/miniconda3/envs/anly503/lib/python3.10/site-packages/plotly/graph_objs/layout/template/data/_scattercarpet.py\": 1677255606.93656, \"/Users/jameshickman/miniconda3/envs/anly503/lib/python3.10/site-packages/plotly/validators/scattercarpet/__init__.py\": 1677255608.596569, \"/Users/jameshickman/miniconda3/envs/anly503/lib/python3.10/site-packages/plotly/validators/scattercarpet/_marker.py\": 1677255608.60057, \"/Users/jameshickman/miniconda3/envs/anly503/lib/python3.10/site-packages/plotly/graph_objs/scattercarpet/__init__.py\": 1677255607.028561, \"/Users/jameshickman/miniconda3/envs/anly503/lib/python3.10/site-packages/plotly/graph_objs/scattercarpet/_marker.py\": 1677255607.032561, \"/Users/jameshickman/miniconda3/envs/anly503/lib/python3.10/site-packages/plotly/validators/scattercarpet/marker/__init__.py\": 1677255608.608569, \"/Users/jameshickman/miniconda3/envs/anly503/lib/python3.10/site-packages/plotly/validators/scattercarpet/marker/_colorbar.py\": 1677255608.612569, \"/Users/jameshickman/miniconda3/envs/anly503/lib/python3.10/site-packages/plotly/graph_objs/scattercarpet/marker/__init__.py\": 1677255607.036561, \"/Users/jameshickman/miniconda3/envs/anly503/lib/python3.10/site-packages/plotly/graph_objs/scattercarpet/marker/_colorbar.py\": 1677255607.036561, \"/Users/jameshickman/miniconda3/envs/anly503/lib/python3.10/site-packages/plotly/validators/scattercarpet/marker/colorbar/__init__.py\": 1677255608.61657, \"/Users/jameshickman/miniconda3/envs/anly503/lib/python3.10/site-packages/plotly/validators/scattercarpet/marker/colorbar/_outlinewidth.py\": 1677255608.61657, \"/Users/jameshickman/miniconda3/envs/anly503/lib/python3.10/site-packages/plotly/validators/scattercarpet/marker/colorbar/_ticks.py\": 1677255608.62057, \"/Users/jameshickman/miniconda3/envs/anly503/lib/python3.10/site-packages/plotly/validators/layout/template/data/_scattergeo.py\": 1677255608.136567, \"/Users/jameshickman/miniconda3/envs/anly503/lib/python3.10/site-packages/plotly/graph_objs/_scattergeo.py\": 1677255606.768559, \"/Users/jameshickman/miniconda3/envs/anly503/lib/python3.10/site-packages/plotly/graph_objs/layout/template/data/_scattergeo.py\": 1677255606.93656, \"/Users/jameshickman/miniconda3/envs/anly503/lib/python3.10/site-packages/plotly/validators/scattergeo/__init__.py\": 1677255608.63657, \"/Users/jameshickman/miniconda3/envs/anly503/lib/python3.10/site-packages/plotly/validators/scattergeo/_marker.py\": 1677255608.64057, \"/Users/jameshickman/miniconda3/envs/anly503/lib/python3.10/site-packages/plotly/graph_objs/scattergeo/__init__.py\": 1677255607.040561, \"/Users/jameshickman/miniconda3/envs/anly503/lib/python3.10/site-packages/plotly/graph_objs/scattergeo/_marker.py\": 1677255607.044561, \"/Users/jameshickman/miniconda3/envs/anly503/lib/python3.10/site-packages/plotly/validators/scattergeo/marker/__init__.py\": 1677255608.64857, \"/Users/jameshickman/miniconda3/envs/anly503/lib/python3.10/site-packages/plotly/validators/scattergeo/marker/_colorbar.py\": 1677255608.65257, \"/Users/jameshickman/miniconda3/envs/anly503/lib/python3.10/site-packages/plotly/graph_objs/scattergeo/marker/__init__.py\": 1677255607.048561, \"/Users/jameshickman/miniconda3/envs/anly503/lib/python3.10/site-packages/plotly/graph_objs/scattergeo/marker/_colorbar.py\": 1677255607.048561, \"/Users/jameshickman/miniconda3/envs/anly503/lib/python3.10/site-packages/plotly/validators/scattergeo/marker/colorbar/__init__.py\": 1677255608.65657, \"/Users/jameshickman/miniconda3/envs/anly503/lib/python3.10/site-packages/plotly/validators/scattergeo/marker/colorbar/_outlinewidth.py\": 1677255608.65657, \"/Users/jameshickman/miniconda3/envs/anly503/lib/python3.10/site-packages/plotly/validators/scattergeo/marker/colorbar/_ticks.py\": 1677255608.66057, \"/Users/jameshickman/miniconda3/envs/anly503/lib/python3.10/site-packages/plotly/validators/layout/template/data/_scattergl.py\": 1677255608.136567, \"/Users/jameshickman/miniconda3/envs/anly503/lib/python3.10/site-packages/plotly/graph_objs/layout/template/data/_scattergl.py\": 1677255606.93656, \"/Users/jameshickman/miniconda3/envs/anly503/lib/python3.10/site-packages/plotly/validators/scattergl/__init__.py\": 1677255608.67657, \"/Users/jameshickman/miniconda3/envs/anly503/lib/python3.10/site-packages/plotly/validators/scattergl/_marker.py\": 1677255608.68057, \"/Users/jameshickman/miniconda3/envs/anly503/lib/python3.10/site-packages/plotly/graph_objs/scattergl/__init__.py\": 1677255607.052561, \"/Users/jameshickman/miniconda3/envs/anly503/lib/python3.10/site-packages/plotly/graph_objs/scattergl/_marker.py\": 1677255607.056561, \"/Users/jameshickman/miniconda3/envs/anly503/lib/python3.10/site-packages/plotly/validators/scattergl/marker/__init__.py\": 1677255608.70057, \"/Users/jameshickman/miniconda3/envs/anly503/lib/python3.10/site-packages/plotly/validators/scattergl/marker/_colorbar.py\": 1677255608.70057, \"/Users/jameshickman/miniconda3/envs/anly503/lib/python3.10/site-packages/plotly/graph_objs/scattergl/marker/__init__.py\": 1677255607.060561, \"/Users/jameshickman/miniconda3/envs/anly503/lib/python3.10/site-packages/plotly/graph_objs/scattergl/marker/_colorbar.py\": 1677255607.060561, \"/Users/jameshickman/miniconda3/envs/anly503/lib/python3.10/site-packages/plotly/validators/scattergl/marker/colorbar/__init__.py\": 1677255608.70457, \"/Users/jameshickman/miniconda3/envs/anly503/lib/python3.10/site-packages/plotly/validators/scattergl/marker/colorbar/_outlinewidth.py\": 1677255608.70457, \"/Users/jameshickman/miniconda3/envs/anly503/lib/python3.10/site-packages/plotly/validators/scattergl/marker/colorbar/_ticks.py\": 1677255608.70857, \"/Users/jameshickman/miniconda3/envs/anly503/lib/python3.10/site-packages/plotly/validators/layout/template/data/_scattermapbox.py\": 1677255608.136567, \"/Users/jameshickman/miniconda3/envs/anly503/lib/python3.10/site-packages/plotly/graph_objs/_scattermapbox.py\": 1677255606.772559, \"/Users/jameshickman/miniconda3/envs/anly503/lib/python3.10/site-packages/plotly/graph_objs/layout/template/data/_scattermapbox.py\": 1677255606.93656, \"/Users/jameshickman/miniconda3/envs/anly503/lib/python3.10/site-packages/plotly/validators/scattermapbox/__init__.py\": 1677255608.72457, \"/Users/jameshickman/miniconda3/envs/anly503/lib/python3.10/site-packages/plotly/validators/scattermapbox/_marker.py\": 1677255608.72857, \"/Users/jameshickman/miniconda3/envs/anly503/lib/python3.10/site-packages/plotly/graph_objs/scattermapbox/__init__.py\": 1677255607.064561, \"/Users/jameshickman/miniconda3/envs/anly503/lib/python3.10/site-packages/plotly/graph_objs/scattermapbox/_marker.py\": 1677255607.068561, \"/Users/jameshickman/miniconda3/envs/anly503/lib/python3.10/site-packages/plotly/validators/scattermapbox/marker/__init__.py\": 1677255608.74057, \"/Users/jameshickman/miniconda3/envs/anly503/lib/python3.10/site-packages/plotly/validators/scattermapbox/marker/_colorbar.py\": 1677255608.74057, \"/Users/jameshickman/miniconda3/envs/anly503/lib/python3.10/site-packages/plotly/graph_objs/scattermapbox/marker/__init__.py\": 1677255607.068561, \"/Users/jameshickman/miniconda3/envs/anly503/lib/python3.10/site-packages/plotly/graph_objs/scattermapbox/marker/_colorbar.py\": 1677255607.068561, \"/Users/jameshickman/miniconda3/envs/anly503/lib/python3.10/site-packages/plotly/validators/scattermapbox/marker/colorbar/__init__.py\": 1677255608.74457, \"/Users/jameshickman/miniconda3/envs/anly503/lib/python3.10/site-packages/plotly/validators/scattermapbox/marker/colorbar/_outlinewidth.py\": 1677255608.74457, \"/Users/jameshickman/miniconda3/envs/anly503/lib/python3.10/site-packages/plotly/validators/scattermapbox/marker/colorbar/_ticks.py\": 1677255608.74857, \"/Users/jameshickman/miniconda3/envs/anly503/lib/python3.10/site-packages/plotly/validators/layout/template/data/_scatterpolargl.py\": 1677255608.136567, \"/Users/jameshickman/miniconda3/envs/anly503/lib/python3.10/site-packages/plotly/graph_objs/_scatterpolargl.py\": 1677255606.772559, \"/Users/jameshickman/miniconda3/envs/anly503/lib/python3.10/site-packages/plotly/graph_objs/layout/template/data/_scatterpolargl.py\": 1677255606.93656, \"/Users/jameshickman/miniconda3/envs/anly503/lib/python3.10/site-packages/plotly/validators/scatterpolargl/__init__.py\": 1677255608.800571, \"/Users/jameshickman/miniconda3/envs/anly503/lib/python3.10/site-packages/plotly/validators/scatterpolargl/_marker.py\": 1677255608.804571, \"/Users/jameshickman/miniconda3/envs/anly503/lib/python3.10/site-packages/plotly/graph_objs/scatterpolargl/__init__.py\": 1677255607.080561, \"/Users/jameshickman/miniconda3/envs/anly503/lib/python3.10/site-packages/plotly/graph_objs/scatterpolargl/_marker.py\": 1677255607.084561, \"/Users/jameshickman/miniconda3/envs/anly503/lib/python3.10/site-packages/plotly/validators/scatterpolargl/marker/__init__.py\": 1677255608.812571, \"/Users/jameshickman/miniconda3/envs/anly503/lib/python3.10/site-packages/plotly/validators/scatterpolargl/marker/_colorbar.py\": 1677255608.816571, \"/Users/jameshickman/miniconda3/envs/anly503/lib/python3.10/site-packages/plotly/graph_objs/scatterpolargl/marker/__init__.py\": 1677255607.084561, \"/Users/jameshickman/miniconda3/envs/anly503/lib/python3.10/site-packages/plotly/graph_objs/scatterpolargl/marker/_colorbar.py\": 1677255607.084561, \"/Users/jameshickman/miniconda3/envs/anly503/lib/python3.10/site-packages/plotly/validators/scatterpolargl/marker/colorbar/__init__.py\": 1677255608.816571, \"/Users/jameshickman/miniconda3/envs/anly503/lib/python3.10/site-packages/plotly/validators/scatterpolargl/marker/colorbar/_outlinewidth.py\": 1677255608.820571, \"/Users/jameshickman/miniconda3/envs/anly503/lib/python3.10/site-packages/plotly/validators/scatterpolargl/marker/colorbar/_ticks.py\": 1677255608.824571, \"/Users/jameshickman/miniconda3/envs/anly503/lib/python3.10/site-packages/plotly/validators/layout/template/data/_scatterpolar.py\": 1677255608.136567, \"/Users/jameshickman/miniconda3/envs/anly503/lib/python3.10/site-packages/plotly/graph_objs/layout/template/data/_scatterpolar.py\": 1677255606.93656, \"/Users/jameshickman/miniconda3/envs/anly503/lib/python3.10/site-packages/plotly/validators/scatterpolar/__init__.py\": 1677255608.76057, \"/Users/jameshickman/miniconda3/envs/anly503/lib/python3.10/site-packages/plotly/validators/scatterpolar/_marker.py\": 1677255608.76457, \"/Users/jameshickman/miniconda3/envs/anly503/lib/python3.10/site-packages/plotly/graph_objs/scatterpolar/__init__.py\": 1677255607.072561, \"/Users/jameshickman/miniconda3/envs/anly503/lib/python3.10/site-packages/plotly/graph_objs/scatterpolar/_marker.py\": 1677255607.072561, \"/Users/jameshickman/miniconda3/envs/anly503/lib/python3.10/site-packages/plotly/validators/scatterpolar/marker/__init__.py\": 1677255608.77257, \"/Users/jameshickman/miniconda3/envs/anly503/lib/python3.10/site-packages/plotly/validators/scatterpolar/marker/_colorbar.py\": 1677255608.77657, \"/Users/jameshickman/miniconda3/envs/anly503/lib/python3.10/site-packages/plotly/graph_objs/scatterpolar/marker/__init__.py\": 1677255607.076561, \"/Users/jameshickman/miniconda3/envs/anly503/lib/python3.10/site-packages/plotly/graph_objs/scatterpolar/marker/_colorbar.py\": 1677255607.076561, \"/Users/jameshickman/miniconda3/envs/anly503/lib/python3.10/site-packages/plotly/validators/scatterpolar/marker/colorbar/__init__.py\": 1677255608.78057, \"/Users/jameshickman/miniconda3/envs/anly503/lib/python3.10/site-packages/plotly/validators/scatterpolar/marker/colorbar/_outlinewidth.py\": 1677255608.78057, \"/Users/jameshickman/miniconda3/envs/anly503/lib/python3.10/site-packages/plotly/validators/scatterpolar/marker/colorbar/_ticks.py\": 1677255608.784571, \"/Users/jameshickman/miniconda3/envs/anly503/lib/python3.10/site-packages/plotly/validators/scatter/_fillpattern.py\": 1677255608.480569, \"/Users/jameshickman/miniconda3/envs/anly503/lib/python3.10/site-packages/plotly/graph_objs/scatter/_fillpattern.py\": 1677255607.008561, \"/Users/jameshickman/miniconda3/envs/anly503/lib/python3.10/site-packages/plotly/validators/scatter/fillpattern/__init__.py\": 1677255608.500569, \"/Users/jameshickman/miniconda3/envs/anly503/lib/python3.10/site-packages/plotly/validators/scatter/fillpattern/_fillmode.py\": 1677255608.504569, \"/Users/jameshickman/miniconda3/envs/anly503/lib/python3.10/site-packages/plotly/validators/scatter/fillpattern/_size.py\": 1677255608.504569, \"/Users/jameshickman/miniconda3/envs/anly503/lib/python3.10/site-packages/plotly/validators/scatter/fillpattern/_solidity.py\": 1677255608.504569, \"/Users/jameshickman/miniconda3/envs/anly503/lib/python3.10/site-packages/plotly/validators/layout/template/data/_scatterternary.py\": 1677255608.136567, \"/Users/jameshickman/miniconda3/envs/anly503/lib/python3.10/site-packages/plotly/graph_objs/_scatterternary.py\": 1677255606.772559, \"/Users/jameshickman/miniconda3/envs/anly503/lib/python3.10/site-packages/plotly/graph_objs/layout/template/data/_scatterternary.py\": 1677255606.94056, \"/Users/jameshickman/miniconda3/envs/anly503/lib/python3.10/site-packages/plotly/validators/scatterternary/__init__.py\": 1677255608.876571, \"/Users/jameshickman/miniconda3/envs/anly503/lib/python3.10/site-packages/plotly/validators/scatterternary/_marker.py\": 1677255608.880571, \"/Users/jameshickman/miniconda3/envs/anly503/lib/python3.10/site-packages/plotly/graph_objs/scatterternary/__init__.py\": 1677255607.100561, \"/Users/jameshickman/miniconda3/envs/anly503/lib/python3.10/site-packages/plotly/graph_objs/scatterternary/_marker.py\": 1677255607.100561, \"/Users/jameshickman/miniconda3/envs/anly503/lib/python3.10/site-packages/plotly/validators/scatterternary/marker/__init__.py\": 1677255608.892571, \"/Users/jameshickman/miniconda3/envs/anly503/lib/python3.10/site-packages/plotly/validators/scatterternary/marker/_colorbar.py\": 1677255608.892571, \"/Users/jameshickman/miniconda3/envs/anly503/lib/python3.10/site-packages/plotly/graph_objs/scatterternary/marker/__init__.py\": 1677255607.104561, \"/Users/jameshickman/miniconda3/envs/anly503/lib/python3.10/site-packages/plotly/graph_objs/scatterternary/marker/_colorbar.py\": 1677255607.104561, \"/Users/jameshickman/miniconda3/envs/anly503/lib/python3.10/site-packages/plotly/validators/scatterternary/marker/colorbar/__init__.py\": 1677255608.896571, \"/Users/jameshickman/miniconda3/envs/anly503/lib/python3.10/site-packages/plotly/validators/scatterternary/marker/colorbar/_outlinewidth.py\": 1677255608.896571, \"/Users/jameshickman/miniconda3/envs/anly503/lib/python3.10/site-packages/plotly/validators/scatterternary/marker/colorbar/_ticks.py\": 1677255608.900571, \"/Users/jameshickman/miniconda3/envs/anly503/lib/python3.10/site-packages/plotly/validators/layout/template/data/_surface.py\": 1677255608.136567, \"/Users/jameshickman/miniconda3/envs/anly503/lib/python3.10/site-packages/plotly/graph_objs/_surface.py\": 1677255606.776559, \"/Users/jameshickman/miniconda3/envs/anly503/lib/python3.10/site-packages/plotly/graph_objs/layout/template/data/_surface.py\": 1677255606.94056, \"/Users/jameshickman/miniconda3/envs/anly503/lib/python3.10/site-packages/plotly/validators/surface/__init__.py\": 1677255609.016572, \"/Users/jameshickman/miniconda3/envs/anly503/lib/python3.10/site-packages/plotly/validators/surface/_colorbar.py\": 1677255609.020572, \"/Users/jameshickman/miniconda3/envs/anly503/lib/python3.10/site-packages/plotly/graph_objs/surface/__init__.py\": 1677255607.128561, \"/Users/jameshickman/miniconda3/envs/anly503/lib/python3.10/site-packages/plotly/graph_objs/surface/_colorbar.py\": 1677255607.128561, \"/Users/jameshickman/miniconda3/envs/anly503/lib/python3.10/site-packages/plotly/validators/surface/colorbar/__init__.py\": 1677255609.028572, \"/Users/jameshickman/miniconda3/envs/anly503/lib/python3.10/site-packages/plotly/validators/surface/colorbar/_outlinewidth.py\": 1677255609.032572, \"/Users/jameshickman/miniconda3/envs/anly503/lib/python3.10/site-packages/plotly/validators/surface/colorbar/_ticks.py\": 1677255609.032572, \"/Users/jameshickman/miniconda3/envs/anly503/lib/python3.10/site-packages/plotly/validators/surface/_colorscale.py\": 1677255609.020572, \"/Users/jameshickman/miniconda3/envs/anly503/lib/python3.10/site-packages/plotly/validators/layout/template/data/_table.py\": 1677255608.136567, \"/Users/jameshickman/miniconda3/envs/anly503/lib/python3.10/site-packages/plotly/graph_objs/_table.py\": 1677255606.776559, \"/Users/jameshickman/miniconda3/envs/anly503/lib/python3.10/site-packages/plotly/graph_objs/layout/template/data/_table.py\": 1677255606.94056, \"/Users/jameshickman/miniconda3/envs/anly503/lib/python3.10/site-packages/plotly/validators/table/__init__.py\": 1677255609.056572, \"/Users/jameshickman/miniconda3/envs/anly503/lib/python3.10/site-packages/plotly/validators/table/_cells.py\": 1677255609.056572, \"/Users/jameshickman/miniconda3/envs/anly503/lib/python3.10/site-packages/plotly/graph_objs/table/__init__.py\": 1677255607.136561, \"/Users/jameshickman/miniconda3/envs/anly503/lib/python3.10/site-packages/plotly/graph_objs/table/_cells.py\": 1677255607.136561, \"/Users/jameshickman/miniconda3/envs/anly503/lib/python3.10/site-packages/plotly/validators/table/cells/__init__.py\": 1677255609.060572, \"/Users/jameshickman/miniconda3/envs/anly503/lib/python3.10/site-packages/plotly/validators/table/cells/_fill.py\": 1677255609.060572, \"/Users/jameshickman/miniconda3/envs/anly503/lib/python3.10/site-packages/plotly/graph_objs/table/cells/__init__.py\": 1677255607.140561, \"/Users/jameshickman/miniconda3/envs/anly503/lib/python3.10/site-packages/plotly/graph_objs/table/cells/_fill.py\": 1677255607.140561, \"/Users/jameshickman/miniconda3/envs/anly503/lib/python3.10/site-packages/plotly/validators/table/cells/fill/__init__.py\": 1677255609.064572, \"/Users/jameshickman/miniconda3/envs/anly503/lib/python3.10/site-packages/plotly/validators/table/cells/fill/_color.py\": 1677255609.064572, \"/Users/jameshickman/miniconda3/envs/anly503/lib/python3.10/site-packages/plotly/validators/table/cells/_line.py\": 1677255609.064572, \"/Users/jameshickman/miniconda3/envs/anly503/lib/python3.10/site-packages/plotly/graph_objs/table/cells/_line.py\": 1677255607.140561, \"/Users/jameshickman/miniconda3/envs/anly503/lib/python3.10/site-packages/plotly/validators/table/cells/line/__init__.py\": 1677255609.064572, \"/Users/jameshickman/miniconda3/envs/anly503/lib/python3.10/site-packages/plotly/validators/table/cells/line/_color.py\": 1677255609.068572, \"/Users/jameshickman/miniconda3/envs/anly503/lib/python3.10/site-packages/plotly/validators/table/_header.py\": 1677255609.060572, \"/Users/jameshickman/miniconda3/envs/anly503/lib/python3.10/site-packages/plotly/graph_objs/table/_header.py\": 1677255607.136561, \"/Users/jameshickman/miniconda3/envs/anly503/lib/python3.10/site-packages/plotly/validators/table/header/__init__.py\": 1677255609.068572, \"/Users/jameshickman/miniconda3/envs/anly503/lib/python3.10/site-packages/plotly/validators/table/header/_fill.py\": 1677255609.068572, \"/Users/jameshickman/miniconda3/envs/anly503/lib/python3.10/site-packages/plotly/graph_objs/table/header/__init__.py\": 1677255607.140561, \"/Users/jameshickman/miniconda3/envs/anly503/lib/python3.10/site-packages/plotly/graph_objs/table/header/_fill.py\": 1677255607.140561, \"/Users/jameshickman/miniconda3/envs/anly503/lib/python3.10/site-packages/plotly/validators/table/header/fill/__init__.py\": 1677255609.072572, \"/Users/jameshickman/miniconda3/envs/anly503/lib/python3.10/site-packages/plotly/validators/table/header/fill/_color.py\": 1677255609.072572, \"/Users/jameshickman/miniconda3/envs/anly503/lib/python3.10/site-packages/plotly/validators/table/header/_line.py\": 1677255609.068572, \"/Users/jameshickman/miniconda3/envs/anly503/lib/python3.10/site-packages/plotly/graph_objs/table/header/_line.py\": 1677255607.140561, \"/Users/jameshickman/miniconda3/envs/anly503/lib/python3.10/site-packages/plotly/validators/table/header/line/__init__.py\": 1677255609.072572, \"/Users/jameshickman/miniconda3/envs/anly503/lib/python3.10/site-packages/plotly/validators/table/header/line/_color.py\": 1677255609.072572, \"/Users/jameshickman/miniconda3/envs/anly503/lib/python3.10/site-packages/plotly/validators/layout/annotation/__init__.py\": 1677255607.932566, \"/Users/jameshickman/miniconda3/envs/anly503/lib/python3.10/site-packages/plotly/validators/layout/annotation/_arrowcolor.py\": 1677255607.932566, \"/Users/jameshickman/miniconda3/envs/anly503/lib/python3.10/site-packages/plotly/validators/layout/annotation/_arrowhead.py\": 1677255607.932566, \"/Users/jameshickman/miniconda3/envs/anly503/lib/python3.10/site-packages/plotly/validators/layout/annotation/_arrowwidth.py\": 1677255607.932566, \"/Users/jameshickman/miniconda3/envs/anly503/lib/python3.10/site-packages/plotly/validators/layout/coloraxis/__init__.py\": 1677255607.944566, \"/Users/jameshickman/miniconda3/envs/anly503/lib/python3.10/site-packages/plotly/validators/layout/coloraxis/_colorbar.py\": 1677255607.948566, \"/Users/jameshickman/miniconda3/envs/anly503/lib/python3.10/site-packages/plotly/graph_objs/layout/coloraxis/__init__.py\": 1677255606.90456, \"/Users/jameshickman/miniconda3/envs/anly503/lib/python3.10/site-packages/plotly/graph_objs/layout/coloraxis/_colorbar.py\": 1677255606.90456, \"/Users/jameshickman/miniconda3/envs/anly503/lib/python3.10/site-packages/plotly/validators/layout/coloraxis/colorbar/__init__.py\": 1677255607.948566, \"/Users/jameshickman/miniconda3/envs/anly503/lib/python3.10/site-packages/plotly/validators/layout/coloraxis/colorbar/_outlinewidth.py\": 1677255607.948566, \"/Users/jameshickman/miniconda3/envs/anly503/lib/python3.10/site-packages/plotly/validators/layout/coloraxis/colorbar/_ticks.py\": 1677255607.956566, \"/Users/jameshickman/miniconda3/envs/anly503/lib/python3.10/site-packages/plotly/validators/layout/colorscale/__init__.py\": 1677255607.960566, \"/Users/jameshickman/miniconda3/envs/anly503/lib/python3.10/site-packages/plotly/validators/layout/colorscale/_diverging.py\": 1677255607.964566, \"/Users/jameshickman/miniconda3/envs/anly503/lib/python3.10/site-packages/plotly/validators/layout/colorscale/_sequential.py\": 1677255607.964566, \"/Users/jameshickman/miniconda3/envs/anly503/lib/python3.10/site-packages/plotly/validators/layout/colorscale/_sequentialminus.py\": 1677255607.964566, \"/Users/jameshickman/miniconda3/envs/anly503/lib/python3.10/site-packages/plotly/validators/layout/font/__init__.py\": 1677255607.964566, \"/Users/jameshickman/miniconda3/envs/anly503/lib/python3.10/site-packages/plotly/validators/layout/font/_color.py\": 1677255607.964566, \"/Users/jameshickman/miniconda3/envs/anly503/lib/python3.10/site-packages/plotly/validators/layout/geo/__init__.py\": 1677255607.964566, \"/Users/jameshickman/miniconda3/envs/anly503/lib/python3.10/site-packages/plotly/validators/layout/geo/_bgcolor.py\": 1677255607.964566, \"/Users/jameshickman/miniconda3/envs/anly503/lib/python3.10/site-packages/plotly/validators/layout/geo/_lakecolor.py\": 1677255607.964566, \"/Users/jameshickman/miniconda3/envs/anly503/lib/python3.10/site-packages/plotly/validators/layout/geo/_landcolor.py\": 1677255607.968566, \"/Users/jameshickman/miniconda3/envs/anly503/lib/python3.10/site-packages/plotly/validators/layout/geo/_showlakes.py\": 1677255607.968566, \"/Users/jameshickman/miniconda3/envs/anly503/lib/python3.10/site-packages/plotly/validators/layout/geo/_showland.py\": 1677255607.968566, \"/Users/jameshickman/miniconda3/envs/anly503/lib/python3.10/site-packages/plotly/validators/layout/geo/_subunitcolor.py\": 1677255607.968566, \"/Users/jameshickman/miniconda3/envs/anly503/lib/python3.10/site-packages/plotly/validators/layout/hoverlabel/__init__.py\": 1677255607.980566, \"/Users/jameshickman/miniconda3/envs/anly503/lib/python3.10/site-packages/plotly/validators/layout/hoverlabel/_align.py\": 1677255607.980566, \"/Users/jameshickman/miniconda3/envs/anly503/lib/python3.10/site-packages/plotly/validators/layout/mapbox/__init__.py\": 1677255607.992566, \"/Users/jameshickman/miniconda3/envs/anly503/lib/python3.10/site-packages/plotly/validators/layout/mapbox/_style.py\": 1677255607.992566, \"/Users/jameshickman/miniconda3/envs/anly503/lib/python3.10/site-packages/plotly/validators/layout/polar/__init__.py\": 1677255608.008566, \"/Users/jameshickman/miniconda3/envs/anly503/lib/python3.10/site-packages/plotly/validators/layout/polar/_angularaxis.py\": 1677255608.008566, \"/Users/jameshickman/miniconda3/envs/anly503/lib/python3.10/site-packages/plotly/graph_objs/layout/polar/__init__.py\": 1677255606.91656, \"/Users/jameshickman/miniconda3/envs/anly503/lib/python3.10/site-packages/plotly/graph_objs/layout/polar/_angularaxis.py\": 1677255606.91656, \"/Users/jameshickman/miniconda3/envs/anly503/lib/python3.10/site-packages/plotly/validators/layout/polar/angularaxis/__init__.py\": 1677255608.012566, \"/Users/jameshickman/miniconda3/envs/anly503/lib/python3.10/site-packages/plotly/validators/layout/polar/angularaxis/_gridcolor.py\": 1677255608.012566, \"/Users/jameshickman/miniconda3/envs/anly503/lib/python3.10/site-packages/plotly/validators/layout/polar/angularaxis/_linecolor.py\": 1677255608.012566, \"/Users/jameshickman/miniconda3/envs/anly503/lib/python3.10/site-packages/plotly/validators/layout/polar/angularaxis/_ticks.py\": 1677255608.020566, \"/Users/jameshickman/miniconda3/envs/anly503/lib/python3.10/site-packages/plotly/validators/layout/polar/_bgcolor.py\": 1677255608.012566, \"/Users/jameshickman/miniconda3/envs/anly503/lib/python3.10/site-packages/plotly/validators/layout/polar/_radialaxis.py\": 1677255608.012566, \"/Users/jameshickman/miniconda3/envs/anly503/lib/python3.10/site-packages/plotly/graph_objs/layout/polar/_radialaxis.py\": 1677255606.91656, \"/Users/jameshickman/miniconda3/envs/anly503/lib/python3.10/site-packages/plotly/validators/layout/polar/radialaxis/__init__.py\": 1677255608.024566, \"/Users/jameshickman/miniconda3/envs/anly503/lib/python3.10/site-packages/plotly/validators/layout/polar/radialaxis/_gridcolor.py\": 1677255608.024566, \"/Users/jameshickman/miniconda3/envs/anly503/lib/python3.10/site-packages/plotly/validators/layout/polar/radialaxis/_linecolor.py\": 1677255608.028566, \"/Users/jameshickman/miniconda3/envs/anly503/lib/python3.10/site-packages/plotly/validators/layout/polar/radialaxis/_ticks.py\": 1677255608.032566, \"/Users/jameshickman/miniconda3/envs/anly503/lib/python3.10/site-packages/plotly/validators/layout/scene/__init__.py\": 1677255608.036566, \"/Users/jameshickman/miniconda3/envs/anly503/lib/python3.10/site-packages/plotly/validators/layout/scene/_xaxis.py\": 1677255608.040566, \"/Users/jameshickman/miniconda3/envs/anly503/lib/python3.10/site-packages/plotly/graph_objs/layout/scene/__init__.py\": 1677255606.91656, \"/Users/jameshickman/miniconda3/envs/anly503/lib/python3.10/site-packages/plotly/graph_objs/layout/scene/_xaxis.py\": 1677255606.92056, \"/Users/jameshickman/miniconda3/envs/anly503/lib/python3.10/site-packages/plotly/validators/layout/scene/xaxis/__init__.py\": 1677255608.052566, \"/Users/jameshickman/miniconda3/envs/anly503/lib/python3.10/site-packages/plotly/validators/layout/scene/xaxis/_backgroundcolor.py\": 1677255608.052566, \"/Users/jameshickman/miniconda3/envs/anly503/lib/python3.10/site-packages/plotly/validators/layout/scene/xaxis/_gridcolor.py\": 1677255608.056567, \"/Users/jameshickman/miniconda3/envs/anly503/lib/python3.10/site-packages/plotly/validators/layout/scene/xaxis/_gridwidth.py\": 1677255608.056567, \"/Users/jameshickman/miniconda3/envs/anly503/lib/python3.10/site-packages/plotly/validators/layout/scene/xaxis/_linecolor.py\": 1677255608.056567, \"/Users/jameshickman/miniconda3/envs/anly503/lib/python3.10/site-packages/plotly/validators/layout/scene/xaxis/_showbackground.py\": 1677255608.056567, \"/Users/jameshickman/miniconda3/envs/anly503/lib/python3.10/site-packages/plotly/validators/layout/scene/xaxis/_ticks.py\": 1677255608.060567, \"/Users/jameshickman/miniconda3/envs/anly503/lib/python3.10/site-packages/plotly/validators/layout/scene/xaxis/_zerolinecolor.py\": 1677255608.064566, \"/Users/jameshickman/miniconda3/envs/anly503/lib/python3.10/site-packages/plotly/validators/layout/scene/_yaxis.py\": 1677255608.040566, \"/Users/jameshickman/miniconda3/envs/anly503/lib/python3.10/site-packages/plotly/graph_objs/layout/scene/_yaxis.py\": 1677255606.92056, \"/Users/jameshickman/miniconda3/envs/anly503/lib/python3.10/site-packages/plotly/validators/layout/scene/yaxis/__init__.py\": 1677255608.068566, \"/Users/jameshickman/miniconda3/envs/anly503/lib/python3.10/site-packages/plotly/validators/layout/scene/yaxis/_backgroundcolor.py\": 1677255608.068566, \"/Users/jameshickman/miniconda3/envs/anly503/lib/python3.10/site-packages/plotly/validators/layout/scene/yaxis/_gridcolor.py\": 1677255608.068566, \"/Users/jameshickman/miniconda3/envs/anly503/lib/python3.10/site-packages/plotly/validators/layout/scene/yaxis/_gridwidth.py\": 1677255608.068566, \"/Users/jameshickman/miniconda3/envs/anly503/lib/python3.10/site-packages/plotly/validators/layout/scene/yaxis/_linecolor.py\": 1677255608.068566, \"/Users/jameshickman/miniconda3/envs/anly503/lib/python3.10/site-packages/plotly/validators/layout/scene/yaxis/_showbackground.py\": 1677255608.072567, \"/Users/jameshickman/miniconda3/envs/anly503/lib/python3.10/site-packages/plotly/validators/layout/scene/yaxis/_ticks.py\": 1677255608.076567, \"/Users/jameshickman/miniconda3/envs/anly503/lib/python3.10/site-packages/plotly/validators/layout/scene/yaxis/_zerolinecolor.py\": 1677255608.076567, \"/Users/jameshickman/miniconda3/envs/anly503/lib/python3.10/site-packages/plotly/validators/layout/scene/_zaxis.py\": 1677255608.040566, \"/Users/jameshickman/miniconda3/envs/anly503/lib/python3.10/site-packages/plotly/graph_objs/layout/scene/_zaxis.py\": 1677255606.92056, \"/Users/jameshickman/miniconda3/envs/anly503/lib/python3.10/site-packages/plotly/validators/layout/scene/zaxis/__init__.py\": 1677255608.080567, \"/Users/jameshickman/miniconda3/envs/anly503/lib/python3.10/site-packages/plotly/validators/layout/scene/zaxis/_backgroundcolor.py\": 1677255608.080567, \"/Users/jameshickman/miniconda3/envs/anly503/lib/python3.10/site-packages/plotly/validators/layout/scene/zaxis/_gridcolor.py\": 1677255608.084567, \"/Users/jameshickman/miniconda3/envs/anly503/lib/python3.10/site-packages/plotly/validators/layout/scene/zaxis/_gridwidth.py\": 1677255608.084567, \"/Users/jameshickman/miniconda3/envs/anly503/lib/python3.10/site-packages/plotly/validators/layout/scene/zaxis/_linecolor.py\": 1677255608.084567, \"/Users/jameshickman/miniconda3/envs/anly503/lib/python3.10/site-packages/plotly/validators/layout/scene/zaxis/_showbackground.py\": 1677255608.084567, \"/Users/jameshickman/miniconda3/envs/anly503/lib/python3.10/site-packages/plotly/validators/layout/scene/zaxis/_ticks.py\": 1677255608.092567, \"/Users/jameshickman/miniconda3/envs/anly503/lib/python3.10/site-packages/plotly/validators/layout/scene/zaxis/_zerolinecolor.py\": 1677255608.092567, \"/Users/jameshickman/miniconda3/envs/anly503/lib/python3.10/site-packages/plotly/validators/layout/shape/__init__.py\": 1677255608.100567, \"/Users/jameshickman/miniconda3/envs/anly503/lib/python3.10/site-packages/plotly/validators/layout/shape/_line.py\": 1677255608.100567, \"/Users/jameshickman/miniconda3/envs/anly503/lib/python3.10/site-packages/plotly/graph_objs/layout/shape/__init__.py\": 1677255606.92856, \"/Users/jameshickman/miniconda3/envs/anly503/lib/python3.10/site-packages/plotly/graph_objs/layout/shape/_line.py\": 1677255606.92856, \"/Users/jameshickman/miniconda3/envs/anly503/lib/python3.10/site-packages/plotly/validators/layout/shape/line/__init__.py\": 1677255608.104567, \"/Users/jameshickman/miniconda3/envs/anly503/lib/python3.10/site-packages/plotly/validators/layout/shape/line/_color.py\": 1677255608.104567, \"/Users/jameshickman/miniconda3/envs/anly503/lib/python3.10/site-packages/plotly/validators/layout/ternary/__init__.py\": 1677255608.140567, \"/Users/jameshickman/miniconda3/envs/anly503/lib/python3.10/site-packages/plotly/validators/layout/ternary/_aaxis.py\": 1677255608.140567, \"/Users/jameshickman/miniconda3/envs/anly503/lib/python3.10/site-packages/plotly/graph_objs/layout/ternary/__init__.py\": 1677255606.94056, \"/Users/jameshickman/miniconda3/envs/anly503/lib/python3.10/site-packages/plotly/graph_objs/layout/ternary/_aaxis.py\": 1677255606.94056, \"/Users/jameshickman/miniconda3/envs/anly503/lib/python3.10/site-packages/plotly/validators/layout/ternary/aaxis/__init__.py\": 1677255608.140567, \"/Users/jameshickman/miniconda3/envs/anly503/lib/python3.10/site-packages/plotly/validators/layout/ternary/aaxis/_gridcolor.py\": 1677255608.140567, \"/Users/jameshickman/miniconda3/envs/anly503/lib/python3.10/site-packages/plotly/validators/layout/ternary/aaxis/_linecolor.py\": 1677255608.140567, \"/Users/jameshickman/miniconda3/envs/anly503/lib/python3.10/site-packages/plotly/validators/layout/ternary/aaxis/_ticks.py\": 1677255608.148567, \"/Users/jameshickman/miniconda3/envs/anly503/lib/python3.10/site-packages/plotly/validators/layout/ternary/_baxis.py\": 1677255608.140567, \"/Users/jameshickman/miniconda3/envs/anly503/lib/python3.10/site-packages/plotly/graph_objs/layout/ternary/_baxis.py\": 1677255606.94456, \"/Users/jameshickman/miniconda3/envs/anly503/lib/python3.10/site-packages/plotly/validators/layout/ternary/baxis/__init__.py\": 1677255608.152567, \"/Users/jameshickman/miniconda3/envs/anly503/lib/python3.10/site-packages/plotly/validators/layout/ternary/baxis/_gridcolor.py\": 1677255608.152567, \"/Users/jameshickman/miniconda3/envs/anly503/lib/python3.10/site-packages/plotly/validators/layout/ternary/baxis/_linecolor.py\": 1677255608.152567, \"/Users/jameshickman/miniconda3/envs/anly503/lib/python3.10/site-packages/plotly/validators/layout/ternary/baxis/_ticks.py\": 1677255608.156567, \"/Users/jameshickman/miniconda3/envs/anly503/lib/python3.10/site-packages/plotly/validators/layout/ternary/_bgcolor.py\": 1677255608.140567, \"/Users/jameshickman/miniconda3/envs/anly503/lib/python3.10/site-packages/plotly/validators/layout/ternary/_caxis.py\": 1677255608.140567, \"/Users/jameshickman/miniconda3/envs/anly503/lib/python3.10/site-packages/plotly/graph_objs/layout/ternary/_caxis.py\": 1677255606.94456, \"/Users/jameshickman/miniconda3/envs/anly503/lib/python3.10/site-packages/plotly/validators/layout/ternary/caxis/__init__.py\": 1677255608.168567, \"/Users/jameshickman/miniconda3/envs/anly503/lib/python3.10/site-packages/plotly/validators/layout/ternary/caxis/_gridcolor.py\": 1677255608.168567, \"/Users/jameshickman/miniconda3/envs/anly503/lib/python3.10/site-packages/plotly/validators/layout/ternary/caxis/_linecolor.py\": 1677255608.168567, \"/Users/jameshickman/miniconda3/envs/anly503/lib/python3.10/site-packages/plotly/validators/layout/ternary/caxis/_ticks.py\": 1677255608.176567, \"/Users/jameshickman/miniconda3/envs/anly503/lib/python3.10/site-packages/plotly/validators/layout/title/_x.py\": 1677255608.184567, \"/Users/jameshickman/miniconda3/envs/anly503/lib/python3.10/site-packages/plotly/validators/layout/xaxis/_automargin.py\": 1677255608.196567, \"/Users/jameshickman/miniconda3/envs/anly503/lib/python3.10/site-packages/plotly/validators/layout/xaxis/_gridcolor.py\": 1677255608.200567, \"/Users/jameshickman/miniconda3/envs/anly503/lib/python3.10/site-packages/plotly/validators/layout/xaxis/_linecolor.py\": 1677255608.200567, \"/Users/jameshickman/miniconda3/envs/anly503/lib/python3.10/site-packages/plotly/validators/layout/xaxis/_ticks.py\": 1677255608.208567, \"/Users/jameshickman/miniconda3/envs/anly503/lib/python3.10/site-packages/plotly/validators/layout/xaxis/_title.py\": 1677255608.212567, \"/Users/jameshickman/miniconda3/envs/anly503/lib/python3.10/site-packages/plotly/graph_objs/layout/xaxis/__init__.py\": 1677255606.95256, \"/Users/jameshickman/miniconda3/envs/anly503/lib/python3.10/site-packages/plotly/graph_objs/layout/xaxis/_title.py\": 1677255606.95656, \"/Users/jameshickman/miniconda3/envs/anly503/lib/python3.10/site-packages/plotly/validators/layout/xaxis/title/__init__.py\": 1677255608.224567, \"/Users/jameshickman/miniconda3/envs/anly503/lib/python3.10/site-packages/plotly/validators/layout/xaxis/title/_standoff.py\": 1677255608.228567, \"/Users/jameshickman/miniconda3/envs/anly503/lib/python3.10/site-packages/plotly/validators/layout/xaxis/_zerolinecolor.py\": 1677255608.212567, \"/Users/jameshickman/miniconda3/envs/anly503/lib/python3.10/site-packages/plotly/validators/layout/xaxis/_zerolinewidth.py\": 1677255608.212567, \"/Users/jameshickman/miniconda3/envs/anly503/lib/python3.10/site-packages/plotly/validators/layout/yaxis/_automargin.py\": 1677255608.228567, \"/Users/jameshickman/miniconda3/envs/anly503/lib/python3.10/site-packages/plotly/validators/layout/yaxis/_gridcolor.py\": 1677255608.232567, \"/Users/jameshickman/miniconda3/envs/anly503/lib/python3.10/site-packages/plotly/validators/layout/yaxis/_linecolor.py\": 1677255608.236567, \"/Users/jameshickman/miniconda3/envs/anly503/lib/python3.10/site-packages/plotly/validators/layout/yaxis/_ticks.py\": 1677255608.248567, \"/Users/jameshickman/miniconda3/envs/anly503/lib/python3.10/site-packages/plotly/validators/layout/yaxis/_title.py\": 1677255608.252568, \"/Users/jameshickman/miniconda3/envs/anly503/lib/python3.10/site-packages/plotly/graph_objs/layout/yaxis/__init__.py\": 1677255606.96056, \"/Users/jameshickman/miniconda3/envs/anly503/lib/python3.10/site-packages/plotly/graph_objs/layout/yaxis/_title.py\": 1677255606.96056, \"/Users/jameshickman/miniconda3/envs/anly503/lib/python3.10/site-packages/plotly/validators/layout/yaxis/title/__init__.py\": 1677255608.264568, \"/Users/jameshickman/miniconda3/envs/anly503/lib/python3.10/site-packages/plotly/validators/layout/yaxis/title/_standoff.py\": 1677255608.264568, \"/Users/jameshickman/miniconda3/envs/anly503/lib/python3.10/site-packages/plotly/validators/layout/yaxis/_zerolinecolor.py\": 1677255608.252568, \"/Users/jameshickman/miniconda3/envs/anly503/lib/python3.10/site-packages/plotly/validators/layout/yaxis/_zerolinewidth.py\": 1677255608.252568, \"/Users/jameshickman/miniconda3/envs/anly503/lib/python3.10/site-packages/plotly/validators/layout/yaxis/title/_text.py\": 1677255608.264568, \"/Users/jameshickman/miniconda3/envs/anly503/lib/python3.10/site-packages/plotly/validators/layout/xaxis/title/_text.py\": 1677255608.228567, \"/Users/jameshickman/miniconda3/envs/anly503/lib/python3.10/site-packages/plotly/io/json.py\": 1677255607.172562, \"/Users/jameshickman/miniconda3/envs/anly503/lib/python3.10/site-packages/plotly/matplotlylib/mplexporter/utils.py\": 1677255607.176562, \"/Users/jameshickman/miniconda3/envs/anly503/lib/python3.10/site-packages/plotly/matplotlylib/mplexporter/_py3k_compat.py\": 1677255607.176562, \"/Users/jameshickman/miniconda3/envs/anly503/lib/python3.10/site-packages/plotly/matplotlylib/mplexporter/renderers/base.py\": 1677255607.176562, \"/Users/jameshickman/miniconda3/envs/anly503/lib/python3.10/site-packages/plotly/matplotlylib/mplexporter/exporter.py\": 1677255607.176562, \"/Users/jameshickman/miniconda3/envs/anly503/lib/python3.10/site-packages/plotly/matplotlylib/mplexporter/renderers/vega_renderer.py\": 1677255607.176562, \"/Users/jameshickman/miniconda3/envs/anly503/lib/python3.10/site-packages/plotly/matplotlylib/mplexporter/renderers/vincent_renderer.py\": 1677255607.176562, \"/Users/jameshickman/miniconda3/envs/anly503/lib/python3.10/site-packages/plotly/matplotlylib/mplexporter/renderers/fake_renderer.py\": 1677255607.176562, \"/Users/jameshickman/miniconda3/envs/anly503/lib/python3.10/site-packages/plotly/matplotlylib/mplexporter/renderers/__init__.py\": 1677255607.176562, \"/Users/jameshickman/miniconda3/envs/anly503/lib/python3.10/site-packages/plotly/matplotlylib/mplexporter/__init__.py\": 1677255607.176562, \"/Users/jameshickman/miniconda3/envs/anly503/lib/python3.10/site-packages/plotly/matplotlylib/mpltools.py\": 1677255607.172562, \"/Users/jameshickman/miniconda3/envs/anly503/lib/python3.10/site-packages/plotly/matplotlylib/renderer.py\": 1677255607.176562, \"/Users/jameshickman/miniconda3/envs/anly503/lib/python3.10/site-packages/plotly/matplotlylib/__init__.py\": 1677255607.172562, \"/Users/jameshickman/miniconda3/envs/anly503/lib/python3.10/site-packages/PIL/BmpImagePlugin.py\": 1672675710.0, \"/Users/jameshickman/miniconda3/envs/anly503/lib/python3.10/site-packages/PIL/GifImagePlugin.py\": 1672675710.0, \"/Users/jameshickman/miniconda3/envs/anly503/lib/python3.10/site-packages/PIL/ImageOps.py\": 1672675710.0, \"/Users/jameshickman/miniconda3/envs/anly503/lib/python3.10/site-packages/PIL/TiffImagePlugin.py\": 1672675710.0, \"/Users/jameshickman/miniconda3/envs/anly503/lib/python3.10/site-packages/PIL/JpegPresets.py\": 1672675710.0, \"/Users/jameshickman/miniconda3/envs/anly503/lib/python3.10/site-packages/PIL/JpegImagePlugin.py\": 1672675710.0, \"/Users/jameshickman/miniconda3/envs/anly503/lib/python3.10/site-packages/PIL/PpmImagePlugin.py\": 1672675710.0, \"/Users/jameshickman/miniconda3/envs/anly503/lib/python3.10/site-packages/plotly/validators/layout/margin/__init__.py\": 1677255608.004566, \"/Users/jameshickman/miniconda3/envs/anly503/lib/python3.10/site-packages/plotly/validators/layout/margin/_b.py\": 1677255608.004566, \"/Users/jameshickman/miniconda3/envs/anly503/lib/python3.10/site-packages/plotly/validators/layout/margin/_l.py\": 1677255608.004566, \"/Users/jameshickman/miniconda3/envs/anly503/lib/python3.10/site-packages/plotly/validators/layout/margin/_pad.py\": 1677255608.004566, \"/Users/jameshickman/miniconda3/envs/anly503/lib/python3.10/site-packages/plotly/validators/layout/margin/_r.py\": 1677255608.004566, \"/Users/jameshickman/miniconda3/envs/anly503/lib/python3.10/site-packages/plotly/validators/layout/margin/_t.py\": 1677255608.004566, \"/Users/jameshickman/miniconda3/envs/anly503/lib/python3.10/site-packages/plotly/validators/layout/xaxis/_zeroline.py\": 1677255608.212567, \"/Users/jameshickman/miniconda3/envs/anly503/lib/python3.10/site-packages/plotly/validators/layout/yaxis/_zeroline.py\": 1677255608.252568, \"/Users/jameshickman/miniconda3/envs/anly503/lib/python3.10/site-packages/plotly/validators/layout/xaxis/_type.py\": 1677255608.212567, \"/Users/jameshickman/miniconda3/envs/anly503/lib/python3.10/site-packages/plotly/validators/layout/xaxis/_range.py\": 1677255608.204567, \"/Users/jameshickman/miniconda3/envs/anly503/lib/python3.10/site-packages/plotly/validators/layout/xaxis/_showgrid.py\": 1677255608.204567, \"/Users/jameshickman/miniconda3/envs/anly503/lib/python3.10/site-packages/plotly/validators/layout/xaxis/_side.py\": 1677255608.204567, \"/Users/jameshickman/miniconda3/envs/anly503/lib/python3.10/site-packages/plotly/validators/layout/xaxis/_tickfont.py\": 1677255608.208567, \"/Users/jameshickman/miniconda3/envs/anly503/lib/python3.10/site-packages/plotly/graph_objs/layout/xaxis/_tickfont.py\": 1677255606.95656, \"/Users/jameshickman/miniconda3/envs/anly503/lib/python3.10/site-packages/plotly/validators/layout/xaxis/_nticks.py\": 1677255608.204567, \"/Users/jameshickman/miniconda3/envs/anly503/lib/python3.10/site-packages/plotly/validators/layout/xaxis/tickfont/__init__.py\": 1677255608.224567, \"/Users/jameshickman/miniconda3/envs/anly503/lib/python3.10/site-packages/plotly/validators/layout/xaxis/tickfont/_size.py\": 1677255608.224567, \"/Users/jameshickman/miniconda3/envs/anly503/lib/python3.10/site-packages/plotly/validators/layout/yaxis/_type.py\": 1677255608.252568, \"/Users/jameshickman/miniconda3/envs/anly503/lib/python3.10/site-packages/plotly/validators/layout/yaxis/_range.py\": 1677255608.236567, \"/Users/jameshickman/miniconda3/envs/anly503/lib/python3.10/site-packages/plotly/validators/layout/yaxis/_showgrid.py\": 1677255608.240568, \"/Users/jameshickman/miniconda3/envs/anly503/lib/python3.10/site-packages/plotly/validators/layout/yaxis/_side.py\": 1677255608.244567, \"/Users/jameshickman/miniconda3/envs/anly503/lib/python3.10/site-packages/plotly/validators/layout/yaxis/_tickfont.py\": 1677255608.244567, \"/Users/jameshickman/miniconda3/envs/anly503/lib/python3.10/site-packages/plotly/graph_objs/layout/yaxis/_tickfont.py\": 1677255606.96056, \"/Users/jameshickman/miniconda3/envs/anly503/lib/python3.10/site-packages/plotly/validators/layout/yaxis/_nticks.py\": 1677255608.236567, \"/Users/jameshickman/miniconda3/envs/anly503/lib/python3.10/site-packages/plotly/validators/layout/yaxis/tickfont/__init__.py\": 1677255608.260568, \"/Users/jameshickman/miniconda3/envs/anly503/lib/python3.10/site-packages/plotly/validators/layout/yaxis/tickfont/_size.py\": 1677255608.260568, \"/Users/jameshickman/miniconda3/envs/anly503/lib/python3.10/site-packages/plotly/validators/layout/xaxis/_mirror.py\": 1677255608.204567, \"/Users/jameshickman/miniconda3/envs/anly503/lib/python3.10/site-packages/plotly/validators/layout/yaxis/_mirror.py\": 1677255608.236567, \"/Users/jameshickman/miniconda3/envs/anly503/lib/python3.10/site-packages/plotly/validators/layout/xaxis/_showline.py\": 1677255608.204567, \"/Users/jameshickman/miniconda3/envs/anly503/lib/python3.10/site-packages/plotly/validators/layout/yaxis/_showline.py\": 1677255608.240568, \"/Users/jameshickman/miniconda3/envs/anly503/lib/python3.10/site-packages/plotly/validators/scatter/line/_width.py\": 1677255608.508569, \"/Users/jameshickman/miniconda3/envs/anly503/lib/python3.10/site-packages/plotly/validators/scatter/marker/_color.py\": 1677255608.512569, \"/Users/jameshickman/miniconda3/envs/anly503/lib/python3.10/site-packages/plotly/validators/scatter/marker/_line.py\": 1677255608.512569, \"/Users/jameshickman/miniconda3/envs/anly503/lib/python3.10/site-packages/plotly/graph_objs/scatter/marker/__init__.py\": 1677255607.012561, \"/Users/jameshickman/miniconda3/envs/anly503/lib/python3.10/site-packages/plotly/graph_objs/scatter/marker/_line.py\": 1677255607.012561, \"/Users/jameshickman/miniconda3/envs/anly503/lib/python3.10/site-packages/plotly/validators/scatter/marker/line/__init__.py\": 1677255608.528569, \"/Users/jameshickman/miniconda3/envs/anly503/lib/python3.10/site-packages/plotly/validators/scatter/marker/line/_color.py\": 1677255608.532569, \"/Users/jameshickman/miniconda3/envs/anly503/lib/python3.10/site-packages/plotly/validators/scatter/marker/line/_width.py\": 1677255608.532569, \"/Users/jameshickman/miniconda3/envs/anly503/lib/python3.10/site-packages/plotly/validators/scatter/marker/_opacity.py\": 1677255608.512569, \"/Users/jameshickman/miniconda3/envs/anly503/lib/python3.10/site-packages/plotly/validators/scatter/marker/_size.py\": 1677255608.512569, \"/Users/jameshickman/miniconda3/envs/anly503/lib/python3.10/site-packages/plotly/validators/layout/xaxis/title/_font.py\": 1677255608.228567, \"/Users/jameshickman/miniconda3/envs/anly503/lib/python3.10/site-packages/plotly/graph_objs/layout/xaxis/title/__init__.py\": 1677255606.95656, \"/Users/jameshickman/miniconda3/envs/anly503/lib/python3.10/site-packages/plotly/graph_objs/layout/xaxis/title/_font.py\": 1677255606.96056, \"/Users/jameshickman/miniconda3/envs/anly503/lib/python3.10/site-packages/plotly/validators/layout/xaxis/title/font/__init__.py\": 1677255608.228567, \"/Users/jameshickman/miniconda3/envs/anly503/lib/python3.10/site-packages/plotly/validators/layout/xaxis/title/font/_color.py\": 1677255608.228567, \"/Users/jameshickman/miniconda3/envs/anly503/lib/python3.10/site-packages/plotly/validators/layout/xaxis/title/font/_size.py\": 1677255608.228567, \"/Users/jameshickman/miniconda3/envs/anly503/lib/python3.10/site-packages/plotly/validators/layout/yaxis/title/_font.py\": 1677255608.264568, \"/Users/jameshickman/miniconda3/envs/anly503/lib/python3.10/site-packages/plotly/graph_objs/layout/yaxis/title/__init__.py\": 1677255606.96056, \"/Users/jameshickman/miniconda3/envs/anly503/lib/python3.10/site-packages/plotly/graph_objs/layout/yaxis/title/_font.py\": 1677255606.96056, \"/Users/jameshickman/miniconda3/envs/anly503/lib/python3.10/site-packages/plotly/validators/layout/yaxis/title/font/__init__.py\": 1677255608.264568, \"/Users/jameshickman/miniconda3/envs/anly503/lib/python3.10/site-packages/plotly/validators/layout/yaxis/title/font/_color.py\": 1677255608.264568, \"/Users/jameshickman/miniconda3/envs/anly503/lib/python3.10/site-packages/plotly/validators/layout/yaxis/title/font/_size.py\": 1677255608.264568, \"/Users/jameshickman/miniconda3/envs/anly503/lib/python3.10/site-packages/seaborn/external/__init__.py\": 1672497807.191128, \"/Users/jameshickman/miniconda3/envs/anly503/lib/python3.10/site-packages/seaborn/external/husl.py\": 1672497807.191128, \"/Users/jameshickman/miniconda3/envs/anly503/lib/python3.10/site-packages/seaborn/external/version.py\": 1672497807.191128, \"/Users/jameshickman/miniconda3/envs/anly503/lib/python3.10/site-packages/seaborn/external/appdirs.py\": 1672497807.191128, \"/Users/jameshickman/miniconda3/envs/anly503/lib/python3.10/site-packages/seaborn/utils.py\": 1672497807.187128, \"/Users/jameshickman/miniconda3/envs/anly503/lib/python3.10/site-packages/seaborn/colors/xkcd_rgb.py\": 1672497807.191128, \"/Users/jameshickman/miniconda3/envs/anly503/lib/python3.10/site-packages/seaborn/colors/crayons.py\": 1672497807.191128, \"/Users/jameshickman/miniconda3/envs/anly503/lib/python3.10/site-packages/seaborn/colors/__init__.py\": 1672497807.191128, \"/Users/jameshickman/miniconda3/envs/anly503/lib/python3.10/site-packages/seaborn/_compat.py\": 1672497807.179129, \"/Users/jameshickman/miniconda3/envs/anly503/lib/python3.10/site-packages/seaborn/palettes.py\": 1672497807.183128, \"/Users/jameshickman/miniconda3/envs/anly503/lib/python3.10/site-packages/seaborn/rcmod.py\": 1672497807.183128, \"/Users/jameshickman/miniconda3/envs/anly503/lib/python3.10/site-packages/seaborn/_decorators.py\": 1672497807.179129, \"/Users/jameshickman/miniconda3/envs/anly503/lib/python3.10/site-packages/seaborn/_oldcore.py\": 1672497807.179129, \"/Users/jameshickman/miniconda3/envs/anly503/lib/python3.10/site-packages/scipy/_lib/_testutils.py\": 1677701603.3366716, \"/Users/jameshickman/miniconda3/envs/anly503/lib/python3.10/site-packages/scipy/_lib/__init__.py\": 1677701603.3399682, \"/Users/jameshickman/miniconda3/envs/anly503/lib/python3.10/site-packages/scipy/_lib/deprecation.py\": 1677701603.33886, \"/Users/jameshickman/miniconda3/envs/anly503/lib/python3.10/site-packages/scipy/__config__.py\": 1677701602.9904566, \"/Users/jameshickman/miniconda3/envs/anly503/lib/python3.10/site-packages/scipy/version.py\": 1677701602.9888656, \"/Users/jameshickman/miniconda3/envs/anly503/lib/python3.10/site-packages/scipy/_distributor_init.py\": 1677701602.9900072, \"/Users/jameshickman/miniconda3/envs/anly503/lib/python3.10/site-packages/scipy/_lib/_pep440.py\": 1677701603.3381958, \"/Users/jameshickman/miniconda3/envs/anly503/lib/python3.10/site-packages/scipy/_lib/_ccallback_c.cpython-310-darwin.so\": 1677701603.3439126, \"/Users/jameshickman/miniconda3/envs/anly503/lib/python3.10/site-packages/scipy/_lib/_ccallback.py\": 1677701603.3408766, \"/Users/jameshickman/miniconda3/envs/anly503/lib/python3.10/site-packages/scipy/__init__.py\": 1677701602.9896402, \"/Users/jameshickman/miniconda3/envs/anly503/lib/python3.10/site-packages/scipy/stats/_warnings_errors.py\": 1677701604.031091, \"/Users/jameshickman/miniconda3/envs/anly503/lib/python3.10/unittest/util.py\": 1669106277.0, \"/Users/jameshickman/miniconda3/envs/anly503/lib/python3.10/unittest/result.py\": 1669106277.0, \"/Users/jameshickman/miniconda3/envs/anly503/lib/python3.10/unittest/case.py\": 1669106277.0, \"/Users/jameshickman/miniconda3/envs/anly503/lib/python3.10/unittest/suite.py\": 1669106277.0, \"/Users/jameshickman/miniconda3/envs/anly503/lib/python3.10/unittest/loader.py\": 1669106277.0, \"/Users/jameshickman/miniconda3/envs/anly503/lib/python3.10/unittest/signals.py\": 1669106277.0, \"/Users/jameshickman/miniconda3/envs/anly503/lib/python3.10/unittest/runner.py\": 1669106277.0, \"/Users/jameshickman/miniconda3/envs/anly503/lib/python3.10/unittest/main.py\": 1669106277.0, \"/Users/jameshickman/miniconda3/envs/anly503/lib/python3.10/unittest/__init__.py\": 1669106277.0, \"/Users/jameshickman/miniconda3/envs/anly503/lib/python3.10/site-packages/numpy/testing/_private/__init__.py\": 1668919701.0, \"/Users/jameshickman/miniconda3/envs/anly503/lib/python3.10/site-packages/numpy/linalg/lapack_lite.cpython-310-darwin.so\": 1668919719.0, \"/Users/jameshickman/miniconda3/envs/anly503/lib/python3.10/site-packages/numpy/testing/_private/utils.py\": 1668919701.0, \"/Users/jameshickman/miniconda3/envs/anly503/lib/python3.10/site-packages/numpy/testing/_private/extbuild.py\": 1668919701.0, \"/Users/jameshickman/miniconda3/envs/anly503/lib/python3.10/site-packages/numpy/testing/_private/decorators.py\": 1668919701.0, \"/Users/jameshickman/miniconda3/envs/anly503/lib/python3.10/site-packages/numpy/testing/_private/nosetester.py\": 1668919701.0, \"/Users/jameshickman/miniconda3/envs/anly503/lib/python3.10/site-packages/numpy/testing/__init__.py\": 1668919701.0, \"/Users/jameshickman/miniconda3/envs/anly503/lib/python3.10/site-packages/scipy/_lib/_util.py\": 1677701603.3419356, \"/Users/jameshickman/miniconda3/envs/anly503/lib/python3.10/site-packages/scipy/sparse/_sputils.py\": 1677701603.7969956, \"/Users/jameshickman/miniconda3/envs/anly503/lib/python3.10/site-packages/scipy/sparse/_base.py\": 1677701603.7892811, \"/Users/jameshickman/miniconda3/envs/anly503/lib/python3.10/site-packages/scipy/sparse/_sparsetools.cpython-310-darwin.so\": 1677701603.8323367, \"/Users/jameshickman/miniconda3/envs/anly503/lib/python3.10/site-packages/scipy/sparse/_data.py\": 1677701603.7901413, \"/Users/jameshickman/miniconda3/envs/anly503/lib/python3.10/site-packages/scipy/sparse/_index.py\": 1677701603.7965338, \"/Users/jameshickman/miniconda3/envs/anly503/lib/python3.10/site-packages/scipy/sparse/_compressed.py\": 1677701603.790759, \"/Users/jameshickman/miniconda3/envs/anly503/lib/python3.10/site-packages/scipy/sparse/_csr.py\": 1677701603.7990243, \"/Users/jameshickman/miniconda3/envs/anly503/lib/python3.10/site-packages/scipy/sparse/_csc.py\": 1677701603.834074, \"/Users/jameshickman/miniconda3/envs/anly503/lib/python3.10/site-packages/scipy/sparse/_csparsetools.cpython-310-darwin.so\": 1677701603.7958965, \"/Users/jameshickman/miniconda3/envs/anly503/lib/python3.10/site-packages/scipy/sparse/_lil.py\": 1677701603.800969, \"/Users/jameshickman/miniconda3/envs/anly503/lib/python3.10/site-packages/scipy/sparse/_dok.py\": 1677701603.837271, \"/Users/jameshickman/miniconda3/envs/anly503/lib/python3.10/site-packages/scipy/sparse/_coo.py\": 1677701603.7998302, \"/Users/jameshickman/miniconda3/envs/anly503/lib/python3.10/site-packages/scipy/sparse/_dia.py\": 1677701603.8004737, \"/Users/jameshickman/miniconda3/envs/anly503/lib/python3.10/site-packages/scipy/sparse/_bsr.py\": 1677701603.7923717, \"/Users/jameshickman/miniconda3/envs/anly503/lib/python3.10/site-packages/scipy/sparse/_construct.py\": 1677701603.8356738, \"/Users/jameshickman/miniconda3/envs/anly503/lib/python3.10/site-packages/scipy/sparse/_extract.py\": 1677701603.8368378, \"/Users/jameshickman/miniconda3/envs/anly503/lib/python3.10/site-packages/scipy/sparse/_matrix_io.py\": 1677701603.8013484, \"/Users/jameshickman/miniconda3/envs/anly503/lib/python3.10/site-packages/scipy/sparse/_arrays.py\": 1677701603.8364608, \"/Users/jameshickman/miniconda3/envs/anly503/lib/python3.10/site-packages/scipy/sparse/linalg/_isolve/_iterative.cpython-310-darwin.so\": 1677701603.8717358, \"/Users/jameshickman/miniconda3/envs/anly503/lib/python3.10/site-packages/scipy/sparse/linalg/_interface.py\": 1677701603.8382146, \"/Users/jameshickman/miniconda3/envs/anly503/lib/python3.10/site-packages/scipy/sparse/linalg/_isolve/utils.py\": 1677701603.8676174, \"/Users/jameshickman/miniconda3/envs/anly503/lib/python3.10/site-packages/scipy/_lib/decorator.py\": 1677701603.3392506, \"/Users/jameshickman/miniconda3/envs/anly503/lib/python3.10/site-packages/scipy/_lib/_threadsafety.py\": 1677701603.3412151, \"/Users/jameshickman/miniconda3/envs/anly503/lib/python3.10/site-packages/scipy/sparse/linalg/_isolve/iterative.py\": 1677701603.867131, \"/Users/jameshickman/miniconda3/envs/anly503/lib/python3.10/site-packages/scipy/sparse/linalg/_isolve/minres.py\": 1677701603.872556, \"/Users/jameshickman/miniconda3/envs/anly503/lib/python3.10/site-packages/scipy/linalg/_fblas.cpython-310-darwin.so\": 1677701603.0545132, \"/Users/jameshickman/miniconda3/envs/anly503/lib/python3.10/site-packages/scipy/linalg/blas.py\": 1677701603.0690677, \"/Users/jameshickman/miniconda3/envs/anly503/lib/python3.10/site-packages/scipy/linalg/_flapack.cpython-310-darwin.so\": 1677701603.0507047, \"/Users/jameshickman/miniconda3/envs/anly503/lib/python3.10/site-packages/scipy/linalg/lapack.py\": 1677701603.0791504, \"/Users/jameshickman/miniconda3/envs/anly503/lib/python3.10/site-packages/scipy/linalg/_misc.py\": 1677701603.0787656, \"/Users/jameshickman/miniconda3/envs/anly503/lib/python3.10/site-packages/scipy/linalg/_cythonized_array_utils.cpython-310-darwin.so\": 1677701603.0337257, \"/Users/jameshickman/miniconda3/envs/anly503/lib/python3.10/site-packages/scipy/linalg/_flinalg.cpython-310-darwin.so\": 1677701603.070438, \"/Users/jameshickman/miniconda3/envs/anly503/lib/python3.10/site-packages/scipy/linalg/_flinalg_py.py\": 1677701603.0565224, \"/Users/jameshickman/miniconda3/envs/anly503/lib/python3.10/site-packages/scipy/linalg/_decomp.py\": 1677701603.0578282, \"/Users/jameshickman/miniconda3/envs/anly503/lib/python3.10/site-packages/scipy/linalg/_decomp_svd.py\": 1677701603.0572677, \"/Users/jameshickman/miniconda3/envs/anly503/lib/python3.10/site-packages/scipy/linalg/_solve_toeplitz.cpython-310-darwin.so\": 1677701603.0670063, \"/Users/jameshickman/miniconda3/envs/anly503/lib/python3.10/site-packages/scipy/linalg/_basic.py\": 1677701603.0784225, \"/Users/jameshickman/miniconda3/envs/anly503/lib/python3.10/site-packages/scipy/linalg/_decomp_lu.py\": 1677701603.0590088, \"/Users/jameshickman/miniconda3/envs/anly503/lib/python3.10/site-packages/scipy/linalg/_decomp_ldl.py\": 1677701603.0697682, \"/Users/jameshickman/miniconda3/envs/anly503/lib/python3.10/site-packages/scipy/linalg/_decomp_cholesky.py\": 1677701603.040525, \"/Users/jameshickman/miniconda3/envs/anly503/lib/python3.10/site-packages/scipy/linalg/_decomp_qr.py\": 1677701603.0568802, \"/Users/jameshickman/miniconda3/envs/anly503/lib/python3.10/site-packages/scipy/linalg/_decomp_qz.py\": 1677701603.0759053, \"/Users/jameshickman/miniconda3/envs/anly503/lib/python3.10/site-packages/scipy/linalg/_decomp_schur.py\": 1677701603.0593626, \"/Users/jameshickman/miniconda3/envs/anly503/lib/python3.10/site-packages/scipy/linalg/_decomp_polar.py\": 1677701603.0679321, \"/Users/jameshickman/miniconda3/envs/anly503/lib/python3.10/site-packages/scipy/linalg/_special_matrices.py\": 1677701603.0796275, \"/Users/jameshickman/miniconda3/envs/anly503/lib/python3.10/site-packages/scipy/linalg/_expm_frechet.py\": 1677701603.0762813, \"/Users/jameshickman/miniconda3/envs/anly503/lib/python3.10/site-packages/scipy/linalg/_matfuncs_sqrtm_triu.cpython-310-darwin.so\": 1677701603.06462, \"/Users/jameshickman/miniconda3/envs/anly503/lib/python3.10/site-packages/scipy/linalg/_matfuncs_sqrtm.py\": 1677701603.055809, \"/Users/jameshickman/miniconda3/envs/anly503/lib/python3.10/site-packages/scipy/linalg/cython_lapack.cpython-310-darwin.so\": 1677701603.0622656, \"/Users/jameshickman/miniconda3/envs/anly503/lib/python3.10/site-packages/scipy/linalg/cython_blas.cpython-310-darwin.so\": 1677701603.0366452, \"/Users/jameshickman/miniconda3/envs/anly503/lib/python3.10/site-packages/scipy/linalg/_matfuncs_expm.cpython-310-darwin.so\": 1677701603.039188, \"/Users/jameshickman/miniconda3/envs/anly503/lib/python3.10/site-packages/scipy/linalg/_matfuncs.py\": 1677701603.0586548, \"/Users/jameshickman/miniconda3/envs/anly503/lib/python3.10/site-packages/scipy/linalg/_solvers.py\": 1677701603.0598443, \"/Users/jameshickman/miniconda3/envs/anly503/lib/python3.10/site-packages/scipy/linalg/_procrustes.py\": 1677701603.0554698, \"/Users/jameshickman/miniconda3/envs/anly503/lib/python3.10/site-packages/scipy/linalg/_decomp_update.cpython-310-darwin.so\": 1677701603.0724075, \"/Users/jameshickman/miniconda3/envs/anly503/lib/python3.10/site-packages/scipy/linalg/_sketches.py\": 1677701603.0397944, \"/Users/jameshickman/miniconda3/envs/anly503/lib/python3.10/site-packages/scipy/linalg/_decomp_cossin.py\": 1677701603.0730689, \"/Users/jameshickman/miniconda3/envs/anly503/lib/python3.10/site-packages/scipy/linalg/decomp.py\": 1677701603.0682623, \"/Users/jameshickman/miniconda3/envs/anly503/lib/python3.10/site-packages/scipy/linalg/decomp_cholesky.py\": 1677701603.0401525, \"/Users/jameshickman/miniconda3/envs/anly503/lib/python3.10/site-packages/scipy/linalg/decomp_lu.py\": 1677701603.0439136, \"/Users/jameshickman/miniconda3/envs/anly503/lib/python3.10/site-packages/scipy/linalg/decomp_qr.py\": 1677701603.0343194, \"/Users/jameshickman/miniconda3/envs/anly503/lib/python3.10/site-packages/scipy/linalg/decomp_svd.py\": 1677701603.0550957, \"/Users/jameshickman/miniconda3/envs/anly503/lib/python3.10/site-packages/scipy/linalg/decomp_schur.py\": 1677701603.0747154, \"/Users/jameshickman/miniconda3/envs/anly503/lib/python3.10/site-packages/scipy/linalg/basic.py\": 1677701603.067552, \"/Users/jameshickman/miniconda3/envs/anly503/lib/python3.10/site-packages/scipy/linalg/misc.py\": 1677701603.0351532, \"/Users/jameshickman/miniconda3/envs/anly503/lib/python3.10/site-packages/scipy/linalg/special_matrices.py\": 1677701603.0694025, \"/Users/jameshickman/miniconda3/envs/anly503/lib/python3.10/site-packages/scipy/linalg/flinalg.py\": 1677701603.0632803, \"/Users/jameshickman/miniconda3/envs/anly503/lib/python3.10/site-packages/scipy/linalg/matfuncs.py\": 1677701603.0561373, \"/Users/jameshickman/miniconda3/envs/anly503/lib/python3.10/site-packages/scipy/linalg/__init__.py\": 1677701603.0582452, \"/Users/jameshickman/miniconda3/envs/anly503/lib/python3.10/site-packages/scipy/sparse/linalg/_isolve/_gcrotmk.py\": 1677701603.8681445, \"/Users/jameshickman/miniconda3/envs/anly503/lib/python3.10/site-packages/scipy/sparse/linalg/_isolve/lgmres.py\": 1677701603.880243, \"/Users/jameshickman/miniconda3/envs/anly503/lib/python3.10/site-packages/scipy/sparse/linalg/_isolve/lsqr.py\": 1677701603.8653593, \"/Users/jameshickman/miniconda3/envs/anly503/lib/python3.10/site-packages/scipy/sparse/linalg/_isolve/lsmr.py\": 1677701603.879536, \"/Users/jameshickman/miniconda3/envs/anly503/lib/python3.10/site-packages/scipy/sparse/linalg/_isolve/tfqmr.py\": 1677701603.8664687, \"/Users/jameshickman/miniconda3/envs/anly503/lib/python3.10/site-packages/scipy/sparse/linalg/_isolve/__init__.py\": 1677701603.8659198, \"/Users/jameshickman/miniconda3/envs/anly503/lib/python3.10/site-packages/scipy/sparse/linalg/_dsolve/_superlu.cpython-310-darwin.so\": 1677701603.8922284, \"/Users/jameshickman/miniconda3/envs/anly503/lib/python3.10/site-packages/scipy/sparse/linalg/_dsolve/linsolve.py\": 1677701603.8929086, \"/Users/jameshickman/miniconda3/envs/anly503/lib/python3.10/site-packages/scipy/sparse/linalg/_dsolve/_add_newdocs.py\": 1677701603.8888729, \"/Users/jameshickman/miniconda3/envs/anly503/lib/python3.10/site-packages/scipy/sparse/linalg/_dsolve/__init__.py\": 1677701603.8932624, \"/Users/jameshickman/miniconda3/envs/anly503/lib/python3.10/site-packages/scipy/sparse/linalg/_eigen/arpack/_arpack.cpython-310-darwin.so\": 1677701603.8466122, \"/Users/jameshickman/miniconda3/envs/anly503/lib/python3.10/site-packages/scipy/sparse/linalg/_eigen/arpack/arpack.py\": 1677701603.8473582, \"/Users/jameshickman/miniconda3/envs/anly503/lib/python3.10/site-packages/scipy/sparse/linalg/_eigen/arpack/__init__.py\": 1677701603.843593, \"/Users/jameshickman/miniconda3/envs/anly503/lib/python3.10/site-packages/scipy/sparse/linalg/_eigen/lobpcg/lobpcg.py\": 1677701603.8494172, \"/Users/jameshickman/miniconda3/envs/anly503/lib/python3.10/site-packages/scipy/sparse/linalg/_eigen/lobpcg/__init__.py\": 1677701603.849759, \"/Users/jameshickman/miniconda3/envs/anly503/lib/python3.10/site-packages/scipy/sparse/linalg/_eigen/_svds.py\": 1677701603.8424087, \"/Users/jameshickman/miniconda3/envs/anly503/lib/python3.10/site-packages/scipy/sparse/linalg/_eigen/__init__.py\": 1677701603.84313, \"/Users/jameshickman/miniconda3/envs/anly503/lib/python3.10/site-packages/scipy/sparse/linalg/_onenormest.py\": 1677701603.841644, \"/Users/jameshickman/miniconda3/envs/anly503/lib/python3.10/site-packages/scipy/sparse/linalg/_expm_multiply.py\": 1677701603.839406, \"/Users/jameshickman/miniconda3/envs/anly503/lib/python3.10/site-packages/scipy/sparse/linalg/_matfuncs.py\": 1677701603.8401935, \"/Users/jameshickman/miniconda3/envs/anly503/lib/python3.10/site-packages/scipy/sparse/linalg/_norm.py\": 1677701603.8409529, \"/Users/jameshickman/miniconda3/envs/anly503/lib/python3.10/site-packages/scipy/sparse/linalg/isolve.py\": 1677701603.8377645, \"/Users/jameshickman/miniconda3/envs/anly503/lib/python3.10/site-packages/scipy/sparse/linalg/dsolve.py\": 1677701603.841273, \"/Users/jameshickman/miniconda3/envs/anly503/lib/python3.10/site-packages/scipy/sparse/linalg/interface.py\": 1677701603.8389606, \"/Users/jameshickman/miniconda3/envs/anly503/lib/python3.10/site-packages/scipy/sparse/linalg/eigen.py\": 1677701603.8419735, \"/Users/jameshickman/miniconda3/envs/anly503/lib/python3.10/site-packages/scipy/sparse/linalg/matfuncs.py\": 1677701603.8386152, \"/Users/jameshickman/miniconda3/envs/anly503/lib/python3.10/site-packages/scipy/sparse/linalg/__init__.py\": 1677701603.8397732, \"/Users/jameshickman/miniconda3/envs/anly503/lib/python3.10/site-packages/scipy/sparse/csgraph/_laplacian.py\": 1677701603.9040756, \"/Users/jameshickman/miniconda3/envs/anly503/lib/python3.10/site-packages/scipy/sparse/csgraph/_tools.cpython-310-darwin.so\": 1677701603.9153044, \"/Users/jameshickman/miniconda3/envs/anly503/lib/python3.10/site-packages/scipy/sparse/csgraph/_validation.py\": 1677701603.911434, \"/Users/jameshickman/miniconda3/envs/anly503/lib/python3.10/site-packages/scipy/sparse/csgraph/_shortest_path.cpython-310-darwin.so\": 1677701603.903103, \"/Users/jameshickman/miniconda3/envs/anly503/lib/python3.10/site-packages/scipy/sparse/csgraph/_traversal.cpython-310-darwin.so\": 1677701603.9003413, \"/Users/jameshickman/miniconda3/envs/anly503/lib/python3.10/site-packages/scipy/sparse/csgraph/_min_spanning_tree.cpython-310-darwin.so\": 1677701603.9133368, \"/Users/jameshickman/miniconda3/envs/anly503/lib/python3.10/site-packages/scipy/sparse/csgraph/_flow.cpython-310-darwin.so\": 1677701603.9182968, \"/Users/jameshickman/miniconda3/envs/anly503/lib/python3.10/site-packages/scipy/sparse/csgraph/_matching.cpython-310-darwin.so\": 1677701603.9073653, \"/Users/jameshickman/miniconda3/envs/anly503/lib/python3.10/site-packages/scipy/sparse/csgraph/_reordering.cpython-310-darwin.so\": 1677701603.9107156, \"/Users/jameshickman/miniconda3/envs/anly503/lib/python3.10/site-packages/scipy/sparse/csgraph/__init__.py\": 1677701603.9046724, \"/Users/jameshickman/miniconda3/envs/anly503/lib/python3.10/site-packages/scipy/sparse/base.py\": 1677701603.835057, \"/Users/jameshickman/miniconda3/envs/anly503/lib/python3.10/site-packages/scipy/sparse/bsr.py\": 1677701603.7993486, \"/Users/jameshickman/miniconda3/envs/anly503/lib/python3.10/site-packages/scipy/sparse/compressed.py\": 1677701603.792757, \"/Users/jameshickman/miniconda3/envs/anly503/lib/python3.10/site-packages/scipy/sparse/construct.py\": 1677701603.8021739, \"/Users/jameshickman/miniconda3/envs/anly503/lib/python3.10/site-packages/scipy/sparse/coo.py\": 1677701603.7919433, \"/Users/jameshickman/miniconda3/envs/anly503/lib/python3.10/site-packages/scipy/sparse/csc.py\": 1677701603.789738, \"/Users/jameshickman/miniconda3/envs/anly503/lib/python3.10/site-packages/scipy/sparse/csr.py\": 1677701603.8018188, \"/Users/jameshickman/miniconda3/envs/anly503/lib/python3.10/site-packages/scipy/sparse/data.py\": 1677701603.8360972, \"/Users/jameshickman/miniconda3/envs/anly503/lib/python3.10/site-packages/scipy/sparse/dia.py\": 1677701603.793101, \"/Users/jameshickman/miniconda3/envs/anly503/lib/python3.10/site-packages/scipy/sparse/dok.py\": 1677701603.791556, \"/Users/jameshickman/miniconda3/envs/anly503/lib/python3.10/site-packages/scipy/sparse/extract.py\": 1677701603.834592, \"/Users/jameshickman/miniconda3/envs/anly503/lib/python3.10/site-packages/scipy/sparse/lil.py\": 1677701603.7980337, \"/Users/jameshickman/miniconda3/envs/anly503/lib/python3.10/site-packages/scipy/sparse/sparsetools.py\": 1677701603.7912097, \"/Users/jameshickman/miniconda3/envs/anly503/lib/python3.10/site-packages/scipy/sparse/sputils.py\": 1677701603.7983534, \"/Users/jameshickman/miniconda3/envs/anly503/lib/python3.10/site-packages/scipy/sparse/__init__.py\": 1677701603.7977018, \"/Users/jameshickman/miniconda3/envs/anly503/lib/python3.10/site-packages/scipy/spatial/_ckdtree.cpython-310-darwin.so\": 1677701603.9417515, \"/Users/jameshickman/miniconda3/envs/anly503/lib/python3.10/site-packages/scipy/spatial/_kdtree.py\": 1677701603.9337654, \"/Users/jameshickman/miniconda3/envs/anly503/lib/python3.10/site-packages/scipy/_lib/messagestream.cpython-310-darwin.so\": 1677701603.3372805, \"/Users/jameshickman/miniconda3/envs/anly503/lib/python3.10/site-packages/scipy/spatial/_qhull.cpython-310-darwin.so\": 1677701603.9318333, \"/Users/jameshickman/miniconda3/envs/anly503/lib/python3.10/site-packages/scipy/spatial/_voronoi.cpython-310-darwin.so\": 1677701603.9463835, \"/Users/jameshickman/miniconda3/envs/anly503/lib/python3.10/site-packages/scipy/spatial/_spherical_voronoi.py\": 1677701603.924394, \"/Users/jameshickman/miniconda3/envs/anly503/lib/python3.10/site-packages/scipy/spatial/_plotutils.py\": 1677701603.9424145, \"/Users/jameshickman/miniconda3/envs/anly503/lib/python3.10/site-packages/scipy/spatial/_procrustes.py\": 1677701603.9254282, \"/Users/jameshickman/miniconda3/envs/anly503/lib/python3.10/site-packages/scipy/spatial/_distance_wrap.cpython-310-darwin.so\": 1677701603.9331632, \"/Users/jameshickman/miniconda3/envs/anly503/lib/python3.10/site-packages/scipy/spatial/_hausdorff.cpython-310-darwin.so\": 1677701603.9450068, \"/Users/jameshickman/miniconda3/envs/anly503/lib/python3.10/site-packages/scipy/special/_sf_error.py\": 1677701603.3536255, \"/Users/jameshickman/miniconda3/envs/anly503/lib/python3.10/site-packages/scipy/special/_ufuncs_cxx.cpython-310-darwin.so\": 1677701603.3609395, \"/Users/jameshickman/miniconda3/envs/anly503/lib/python3.10/site-packages/scipy/special/_ufuncs.cpython-310-darwin.so\": 1677701603.3805952, \"/Users/jameshickman/miniconda3/envs/anly503/lib/python3.10/site-packages/scipy/special/_specfun.cpython-310-darwin.so\": 1677701603.3715043, \"/Users/jameshickman/miniconda3/envs/anly503/lib/python3.10/site-packages/scipy/special/_comb.cpython-310-darwin.so\": 1677701603.3684127, \"/Users/jameshickman/miniconda3/envs/anly503/lib/python3.10/site-packages/scipy/special/_basic.py\": 1677701603.384599, \"/Users/jameshickman/miniconda3/envs/anly503/lib/python3.10/site-packages/scipy/special/_logsumexp.py\": 1677701603.385017, \"/Users/jameshickman/miniconda3/envs/anly503/lib/python3.10/site-packages/scipy/special/_orthogonal.py\": 1677701603.3664312, \"/Users/jameshickman/miniconda3/envs/anly503/lib/python3.10/site-packages/scipy/special/_spfun_stats.py\": 1677701603.3532608, \"/Users/jameshickman/miniconda3/envs/anly503/lib/python3.10/site-packages/scipy/special/_ellip_harm_2.cpython-310-darwin.so\": 1677701603.3642197, \"/Users/jameshickman/miniconda3/envs/anly503/lib/python3.10/site-packages/scipy/special/_ellip_harm.py\": 1677701603.3646638, \"/Users/jameshickman/miniconda3/envs/anly503/lib/python3.10/site-packages/scipy/special/_lambertw.py\": 1677701603.3654776, \"/Users/jameshickman/miniconda3/envs/anly503/lib/python3.10/site-packages/scipy/special/_spherical_bessel.py\": 1677701603.3590434, \"/Users/jameshickman/miniconda3/envs/anly503/lib/python3.10/site-packages/scipy/special/_add_newdocs.py\": 1677701603.356375, \"/Users/jameshickman/miniconda3/envs/anly503/lib/python3.10/site-packages/scipy/special/add_newdocs.py\": 1677701603.3572502, \"/Users/jameshickman/miniconda3/envs/anly503/lib/python3.10/site-packages/scipy/special/basic.py\": 1677701603.3658378, \"/Users/jameshickman/miniconda3/envs/anly503/lib/python3.10/site-packages/scipy/special/orthogonal.py\": 1677701603.3675325, \"/Users/jameshickman/miniconda3/envs/anly503/lib/python3.10/site-packages/scipy/special/specfun.py\": 1677701603.3678718, \"/Users/jameshickman/miniconda3/envs/anly503/lib/python3.10/site-packages/scipy/special/sf_error.py\": 1677701603.3568678, \"/Users/jameshickman/miniconda3/envs/anly503/lib/python3.10/site-packages/scipy/special/spfun_stats.py\": 1677701603.3539524, \"/Users/jameshickman/miniconda3/envs/anly503/lib/python3.10/site-packages/scipy/special/__init__.py\": 1677701603.3623807, \"/Users/jameshickman/miniconda3/envs/anly503/lib/python3.10/site-packages/scipy/spatial/_distance_pybind.cpython-310-darwin.so\": 1677701603.9367375, \"/Users/jameshickman/miniconda3/envs/anly503/lib/python3.10/site-packages/scipy/spatial/distance.py\": 1677701603.9344974, \"/Users/jameshickman/miniconda3/envs/anly503/lib/python3.10/site-packages/scipy/spatial/_geometric_slerp.py\": 1677701603.9379303, \"/Users/jameshickman/miniconda3/envs/anly503/lib/python3.10/site-packages/scipy/spatial/ckdtree.py\": 1677701603.9428, \"/Users/jameshickman/miniconda3/envs/anly503/lib/python3.10/site-packages/scipy/spatial/kdtree.py\": 1677701603.9372277, \"/Users/jameshickman/miniconda3/envs/anly503/lib/python3.10/site-packages/scipy/spatial/qhull.py\": 1677701603.9431226, \"/Users/jameshickman/miniconda3/envs/anly503/lib/python3.10/site-packages/scipy/constants/_codata.py\": 1677701603.2111247, \"/Users/jameshickman/miniconda3/envs/anly503/lib/python3.10/site-packages/scipy/constants/_constants.py\": 1677701603.20956, \"/Users/jameshickman/miniconda3/envs/anly503/lib/python3.10/site-packages/scipy/constants/codata.py\": 1677701603.2115352, \"/Users/jameshickman/miniconda3/envs/anly503/lib/python3.10/site-packages/scipy/constants/constants.py\": 1677701603.20988, \"/Users/jameshickman/miniconda3/envs/anly503/lib/python3.10/site-packages/scipy/constants/__init__.py\": 1677701603.210221, \"/Users/jameshickman/miniconda3/envs/anly503/lib/python3.10/site-packages/scipy/spatial/transform/_rotation_groups.py\": 1677701603.9826384, \"/Users/jameshickman/miniconda3/envs/anly503/lib/python3.10/site-packages/scipy/spatial/transform/_rotation.cpython-310-darwin.so\": 1677701603.9812863, \"/Users/jameshickman/miniconda3/envs/anly503/lib/python3.10/site-packages/scipy/spatial/transform/_rotation_spline.py\": 1677701603.9779034, \"/Users/jameshickman/miniconda3/envs/anly503/lib/python3.10/site-packages/scipy/spatial/transform/rotation.py\": 1677701603.9823034, \"/Users/jameshickman/miniconda3/envs/anly503/lib/python3.10/site-packages/scipy/spatial/transform/__init__.py\": 1677701603.9775426, \"/Users/jameshickman/miniconda3/envs/anly503/lib/python3.10/site-packages/scipy/spatial/__init__.py\": 1677701603.93253, \"/Users/jameshickman/miniconda3/envs/anly503/lib/python3.10/site-packages/scipy/ndimage/_ni_support.py\": 1677701603.0163836, \"/Users/jameshickman/miniconda3/envs/anly503/lib/python3.10/site-packages/scipy/ndimage/_nd_image.cpython-310-darwin.so\": 1677701603.0251675, \"/Users/jameshickman/miniconda3/envs/anly503/lib/python3.10/site-packages/scipy/_lib/doccer.py\": 1677701603.3453238, \"/Users/jameshickman/miniconda3/envs/anly503/lib/python3.10/site-packages/scipy/ndimage/_ni_docstrings.py\": 1677701603.0182025, \"/Users/jameshickman/miniconda3/envs/anly503/lib/python3.10/site-packages/scipy/ndimage/_filters.py\": 1677701603.0226328, \"/Users/jameshickman/miniconda3/envs/anly503/lib/python3.10/site-packages/scipy/ndimage/_fourier.py\": 1677701603.0221057, \"/Users/jameshickman/miniconda3/envs/anly503/lib/python3.10/site-packages/scipy/ndimage/_interpolation.py\": 1677701603.025762, \"/Users/jameshickman/miniconda3/envs/anly503/lib/python3.10/site-packages/scipy/ndimage/_ni_label.cpython-310-darwin.so\": 1677701603.021263, \"/Users/jameshickman/miniconda3/envs/anly503/lib/python3.10/site-packages/scipy/ndimage/_morphology.py\": 1677701603.023248, \"/Users/jameshickman/miniconda3/envs/anly503/lib/python3.10/site-packages/scipy/ndimage/_measurements.py\": 1677701603.0178256, \"/Users/jameshickman/miniconda3/envs/anly503/lib/python3.10/site-packages/scipy/ndimage/filters.py\": 1677701603.0236344, \"/Users/jameshickman/miniconda3/envs/anly503/lib/python3.10/site-packages/scipy/ndimage/fourier.py\": 1677701603.021748, \"/Users/jameshickman/miniconda3/envs/anly503/lib/python3.10/site-packages/scipy/ndimage/interpolation.py\": 1677701603.0166962, \"/Users/jameshickman/miniconda3/envs/anly503/lib/python3.10/site-packages/scipy/ndimage/measurements.py\": 1677701603.0239925, \"/Users/jameshickman/miniconda3/envs/anly503/lib/python3.10/site-packages/scipy/ndimage/morphology.py\": 1677701603.0193954, \"/Users/jameshickman/miniconda3/envs/anly503/lib/python3.10/site-packages/scipy/ndimage/__init__.py\": 1677701603.0185497, \"/Users/jameshickman/miniconda3/envs/anly503/lib/python3.10/site-packages/scipy/stats/_distr_params.py\": 1677701604.0251315, \"/Users/jameshickman/miniconda3/envs/anly503/lib/python3.10/site-packages/scipy/optimize/_minpack2.cpython-310-darwin.so\": 1677701603.0954123, \"/Users/jameshickman/miniconda3/envs/anly503/lib/python3.10/site-packages/scipy/optimize/_linesearch.py\": 1677701603.1091309, \"/Users/jameshickman/miniconda3/envs/anly503/lib/python3.10/site-packages/scipy/optimize/_group_columns.cpython-310-darwin.so\": 1677701603.125142, \"/Users/jameshickman/miniconda3/envs/anly503/lib/python3.10/site-packages/scipy/optimize/_numdiff.py\": 1677701603.1294434, \"/Users/jameshickman/miniconda3/envs/anly503/lib/python3.10/site-packages/scipy/optimize/_hessian_update_strategy.py\": 1677701603.1077287, \"/Users/jameshickman/miniconda3/envs/anly503/lib/python3.10/site-packages/scipy/optimize/_differentiable_functions.py\": 1677701603.113797, \"/Users/jameshickman/miniconda3/envs/anly503/lib/python3.10/site-packages/scipy/optimize/_optimize.py\": 1677701603.1003919, \"/Users/jameshickman/miniconda3/envs/anly503/lib/python3.10/site-packages/scipy/optimize/_trustregion.py\": 1677701603.1145966, \"/Users/jameshickman/miniconda3/envs/anly503/lib/python3.10/site-packages/scipy/optimize/_trustregion_dogleg.py\": 1677701603.122099, \"/Users/jameshickman/miniconda3/envs/anly503/lib/python3.10/site-packages/scipy/optimize/_trustregion_ncg.py\": 1677701603.103906, \"/Users/jameshickman/miniconda3/envs/anly503/lib/python3.10/site-packages/scipy/optimize/_trlib/_trlib.cpython-310-darwin.so\": 1677701603.13175, \"/Users/jameshickman/miniconda3/envs/anly503/lib/python3.10/site-packages/scipy/optimize/_trlib/__init__.py\": 1677701603.1298368, \"/Users/jameshickman/miniconda3/envs/anly503/lib/python3.10/site-packages/scipy/optimize/_trustregion_krylov.py\": 1677701603.1142328, \"/Users/jameshickman/miniconda3/envs/anly503/lib/python3.10/site-packages/scipy/optimize/_trustregion_exact.py\": 1677701603.1229124, \"/Users/jameshickman/miniconda3/envs/anly503/lib/python3.10/site-packages/scipy/optimize/_constraints.py\": 1677701603.1233854, \"/Users/jameshickman/miniconda3/envs/anly503/lib/python3.10/site-packages/scipy/optimize/_trustregion_constr/projections.py\": 1677701603.185461, \"/Users/jameshickman/miniconda3/envs/anly503/lib/python3.10/site-packages/scipy/optimize/_trustregion_constr/qp_subproblem.py\": 1677701603.1846085, \"/Users/jameshickman/miniconda3/envs/anly503/lib/python3.10/site-packages/scipy/optimize/_trustregion_constr/equality_constrained_sqp.py\": 1677701603.1834862, \"/Users/jameshickman/miniconda3/envs/anly503/lib/python3.10/site-packages/scipy/optimize/_trustregion_constr/canonical_constraint.py\": 1677701603.1862054, \"/Users/jameshickman/miniconda3/envs/anly503/lib/python3.10/site-packages/scipy/optimize/_trustregion_constr/tr_interior_point.py\": 1677701603.184194, \"/Users/jameshickman/miniconda3/envs/anly503/lib/python3.10/site-packages/scipy/optimize/_trustregion_constr/report.py\": 1677701603.185799, \"/Users/jameshickman/miniconda3/envs/anly503/lib/python3.10/site-packages/scipy/optimize/_trustregion_constr/minimize_trustregion_constr.py\": 1677701603.1850617, \"/Users/jameshickman/miniconda3/envs/anly503/lib/python3.10/site-packages/scipy/optimize/_trustregion_constr/__init__.py\": 1677701603.1838183, \"/Users/jameshickman/miniconda3/envs/anly503/lib/python3.10/site-packages/scipy/optimize/_lbfgsb.cpython-310-darwin.so\": 1677701603.1029058, \"/Users/jameshickman/miniconda3/envs/anly503/lib/python3.10/site-packages/scipy/optimize/_lbfgsb_py.py\": 1677701603.105439, \"/Users/jameshickman/miniconda3/envs/anly503/lib/python3.10/site-packages/scipy/optimize/_moduleTNC.cpython-310-darwin.so\": 1677701603.1115036, \"/Users/jameshickman/miniconda3/envs/anly503/lib/python3.10/site-packages/scipy/optimize/_tnc.py\": 1677701603.1224928, \"/Users/jameshickman/miniconda3/envs/anly503/lib/python3.10/site-packages/scipy/optimize/_cobyla.cpython-310-darwin.so\": 1677701603.1260824, \"/Users/jameshickman/miniconda3/envs/anly503/lib/python3.10/site-packages/scipy/optimize/_cobyla_py.py\": 1677701603.0989192, \"/Users/jameshickman/miniconda3/envs/anly503/lib/python3.10/site-packages/scipy/optimize/_slsqp.cpython-310-darwin.so\": 1677701603.1170275, \"/Users/jameshickman/miniconda3/envs/anly503/lib/python3.10/site-packages/scipy/optimize/_slsqp_py.py\": 1677701603.1073155, \"/Users/jameshickman/miniconda3/envs/anly503/lib/python3.10/site-packages/scipy/optimize/_minimize.py\": 1677701603.1045623, \"/Users/jameshickman/miniconda3/envs/anly503/lib/python3.10/site-packages/scipy/optimize/_minpack.cpython-310-darwin.so\": 1677701603.1133385, \"/Users/jameshickman/miniconda3/envs/anly503/lib/python3.10/site-packages/scipy/optimize/_lsq/common.py\": 1677701603.1804724, \"/Users/jameshickman/miniconda3/envs/anly503/lib/python3.10/site-packages/scipy/optimize/_lsq/trf.py\": 1677701603.1830068, \"/Users/jameshickman/miniconda3/envs/anly503/lib/python3.10/site-packages/scipy/optimize/_lsq/dogbox.py\": 1677701603.179413, \"/Users/jameshickman/miniconda3/envs/anly503/lib/python3.10/site-packages/scipy/optimize/_lsq/least_squares.py\": 1677701603.179018, \"/Users/jameshickman/miniconda3/envs/anly503/lib/python3.10/site-packages/scipy/optimize/_lsq/givens_elimination.cpython-310-darwin.so\": 1677701603.1816952, \"/Users/jameshickman/miniconda3/envs/anly503/lib/python3.10/site-packages/scipy/optimize/_lsq/trf_linear.py\": 1677701603.1800697, \"/Users/jameshickman/miniconda3/envs/anly503/lib/python3.10/site-packages/scipy/optimize/_lsq/bvls.py\": 1677701603.1825106, \"/Users/jameshickman/miniconda3/envs/anly503/lib/python3.10/site-packages/scipy/optimize/_lsq/lsq_linear.py\": 1677701603.1821508, \"/Users/jameshickman/miniconda3/envs/anly503/lib/python3.10/site-packages/scipy/optimize/_lsq/__init__.py\": 1677701603.1797311, \"/Users/jameshickman/miniconda3/envs/anly503/lib/python3.10/site-packages/scipy/optimize/_minpack_py.py\": 1677701603.1162038, \"/Users/jameshickman/miniconda3/envs/anly503/lib/python3.10/site-packages/scipy/optimize/_spectral.py\": 1677701603.1125803, \"/Users/jameshickman/miniconda3/envs/anly503/lib/python3.10/site-packages/scipy/optimize/_nonlin.py\": 1677701603.1266632, \"/Users/jameshickman/miniconda3/envs/anly503/lib/python3.10/site-packages/scipy/optimize/_root.py\": 1677701603.0978148, \"/Users/jameshickman/miniconda3/envs/anly503/lib/python3.10/site-packages/scipy/optimize/_zeros.cpython-310-darwin.so\": 1677701603.1150281, \"/Users/jameshickman/miniconda3/envs/anly503/lib/python3.10/site-packages/scipy/optimize/_zeros_py.py\": 1677701603.1059535, \"/Users/jameshickman/miniconda3/envs/anly503/lib/python3.10/site-packages/scipy/optimize/_root_scalar.py\": 1677701603.1217499, \"/Users/jameshickman/miniconda3/envs/anly503/lib/python3.10/site-packages/scipy/optimize/__nnls.cpython-310-darwin.so\": 1677701603.1273577, \"/Users/jameshickman/miniconda3/envs/anly503/lib/python3.10/site-packages/scipy/optimize/_nnls.py\": 1677701603.1122437, \"/Users/jameshickman/miniconda3/envs/anly503/lib/python3.10/site-packages/scipy/optimize/_basinhopping.py\": 1677701603.1064353, \"/Users/jameshickman/miniconda3/envs/anly503/lib/python3.10/site-packages/scipy/optimize/_highs/__init__.py\": 1677701603.1735516, \"/Users/jameshickman/miniconda3/envs/anly503/lib/python3.10/site-packages/scipy/optimize/_highs/_highs_wrapper.cpython-310-darwin.so\": 1677701603.1724231, \"/Users/jameshickman/miniconda3/envs/anly503/lib/python3.10/site-packages/scipy/optimize/_highs/_highs_constants.cpython-310-darwin.so\": 1677701603.1740978, \"/Users/jameshickman/miniconda3/envs/anly503/lib/python3.10/site-packages/scipy/optimize/_linprog_highs.py\": 1677701603.1181872, \"/Users/jameshickman/miniconda3/envs/anly503/lib/python3.10/site-packages/scipy/linalg/_interpolative.cpython-310-darwin.so\": 1677701603.0817893, \"/Users/jameshickman/miniconda3/envs/anly503/lib/python3.10/site-packages/scipy/linalg/_interpolative_backend.py\": 1677701603.062916, \"/Users/jameshickman/miniconda3/envs/anly503/lib/python3.10/site-packages/scipy/linalg/interpolative.py\": 1677701603.0686817, \"/Users/jameshickman/miniconda3/envs/anly503/lib/python3.10/site-packages/scipy/optimize/_remove_redundancy.py\": 1677701603.1285062, \"/Users/jameshickman/miniconda3/envs/anly503/lib/python3.10/site-packages/scipy/optimize/_linprog_util.py\": 1677701603.1177018, \"/Users/jameshickman/miniconda3/envs/anly503/lib/python3.10/site-packages/scipy/optimize/_linprog_ip.py\": 1677701603.096302, \"/Users/jameshickman/miniconda3/envs/anly503/lib/python3.10/site-packages/scipy/optimize/_linprog_simplex.py\": 1677701603.1009393, \"/Users/jameshickman/miniconda3/envs/anly503/lib/python3.10/site-packages/scipy/optimize/_bglu_dense.cpython-310-darwin.so\": 1677701603.1211534, \"/Users/jameshickman/miniconda3/envs/anly503/lib/python3.10/site-packages/scipy/optimize/_linprog_rs.py\": 1677701603.0974002, \"/Users/jameshickman/miniconda3/envs/anly503/lib/python3.10/site-packages/scipy/optimize/_linprog_doc.py\": 1677701603.1018722, \"/Users/jameshickman/miniconda3/envs/anly503/lib/python3.10/site-packages/scipy/optimize/_linprog.py\": 1677701603.1069024, \"/Users/jameshickman/miniconda3/envs/anly503/lib/python3.10/site-packages/scipy/optimize/_lsap.cpython-310-darwin.so\": 1677701603.1096463, \"/Users/jameshickman/miniconda3/envs/anly503/lib/python3.10/site-packages/scipy/optimize/_differentialevolution.py\": 1677701603.1241496, \"/Users/jameshickman/miniconda3/envs/anly503/lib/python3.10/site-packages/scipy/optimize/_shgo_lib/__init__.py\": 1677701603.1479702, \"/Users/jameshickman/miniconda3/envs/anly503/lib/python3.10/site-packages/scipy/optimize/_shgo_lib/triangulation.py\": 1677701603.1483593, \"/Users/jameshickman/miniconda3/envs/anly503/lib/python3.10/site-packages/scipy/optimize/_shgo.py\": 1677701603.0994697, \"/Users/jameshickman/miniconda3/envs/anly503/lib/python3.10/site-packages/scipy/optimize/_dual_annealing.py\": 1677701603.1191936, \"/Users/jameshickman/miniconda3/envs/anly503/lib/python3.10/site-packages/scipy/optimize/_qap.py\": 1677701603.128976, \"/Users/jameshickman/miniconda3/envs/anly503/lib/python3.10/site-packages/scipy/optimize/_direct.cpython-310-darwin.so\": 1677701603.1280253, \"/Users/jameshickman/miniconda3/envs/anly503/lib/python3.10/site-packages/scipy/optimize/_direct_py.py\": 1677701603.1186826, \"/Users/jameshickman/miniconda3/envs/anly503/lib/python3.10/site-packages/scipy/optimize/_milp.py\": 1677701603.1013496, \"/Users/jameshickman/miniconda3/envs/anly503/lib/python3.10/site-packages/scipy/optimize/cobyla.py\": 1677701603.1087313, \"/Users/jameshickman/miniconda3/envs/anly503/lib/python3.10/site-packages/scipy/optimize/lbfgsb.py\": 1677701603.0981512, \"/Users/jameshickman/miniconda3/envs/anly503/lib/python3.10/site-packages/scipy/optimize/linesearch.py\": 1677701603.0966718, \"/Users/jameshickman/miniconda3/envs/anly503/lib/python3.10/site-packages/scipy/optimize/minpack.py\": 1677701603.105038, \"/Users/jameshickman/miniconda3/envs/anly503/lib/python3.10/site-packages/scipy/optimize/minpack2.py\": 1677701603.1084292, \"/Users/jameshickman/miniconda3/envs/anly503/lib/python3.10/site-packages/scipy/optimize/moduleTNC.py\": 1677701603.1157207, \"/Users/jameshickman/miniconda3/envs/anly503/lib/python3.10/site-packages/scipy/optimize/nonlin.py\": 1677701603.0970025, \"/Users/jameshickman/miniconda3/envs/anly503/lib/python3.10/site-packages/scipy/optimize/optimize.py\": 1677701603.095835, \"/Users/jameshickman/miniconda3/envs/anly503/lib/python3.10/site-packages/scipy/optimize/slsqp.py\": 1677701603.1033885, \"/Users/jameshickman/miniconda3/envs/anly503/lib/python3.10/site-packages/scipy/optimize/tnc.py\": 1677701603.0948045, \"/Users/jameshickman/miniconda3/envs/anly503/lib/python3.10/site-packages/scipy/optimize/zeros.py\": 1677701603.0985372, \"/Users/jameshickman/miniconda3/envs/anly503/lib/python3.10/site-packages/scipy/optimize/__init__.py\": 1677701603.1081111, \"/Users/jameshickman/miniconda3/envs/anly503/lib/python3.10/site-packages/scipy/integrate/_quadrature.py\": 1677701603.1929665, \"/Users/jameshickman/miniconda3/envs/anly503/lib/python3.10/site-packages/scipy/integrate/_odepack.cpython-310-darwin.so\": 1677701603.201606, \"/Users/jameshickman/miniconda3/envs/anly503/lib/python3.10/site-packages/scipy/integrate/_odepack_py.py\": 1677701603.1944602, \"/Users/jameshickman/miniconda3/envs/anly503/lib/python3.10/site-packages/scipy/integrate/_quadpack.cpython-310-darwin.so\": 1677701603.1939292, \"/Users/jameshickman/miniconda3/envs/anly503/lib/python3.10/site-packages/scipy/integrate/_quadpack_py.py\": 1677701603.190954, \"/Users/jameshickman/miniconda3/envs/anly503/lib/python3.10/site-packages/scipy/integrate/_vode.cpython-310-darwin.so\": 1677701603.195655, \"/Users/jameshickman/miniconda3/envs/anly503/lib/python3.10/site-packages/scipy/integrate/_dop.cpython-310-darwin.so\": 1677701603.1968808, \"/Users/jameshickman/miniconda3/envs/anly503/lib/python3.10/site-packages/scipy/integrate/_lsoda.cpython-310-darwin.so\": 1677701603.1992912, \"/Users/jameshickman/miniconda3/envs/anly503/lib/python3.10/site-packages/scipy/integrate/_ode.py\": 1677701603.1924334, \"/Users/jameshickman/miniconda3/envs/anly503/lib/python3.10/site-packages/scipy/integrate/_bvp.py\": 1677701603.1998568, \"/Users/jameshickman/miniconda3/envs/anly503/lib/python3.10/site-packages/scipy/integrate/_ivp/common.py\": 1677701603.2066998, \"/Users/jameshickman/miniconda3/envs/anly503/lib/python3.10/site-packages/scipy/integrate/_ivp/base.py\": 1677701603.2083244, \"/Users/jameshickman/miniconda3/envs/anly503/lib/python3.10/site-packages/scipy/integrate/_ivp/bdf.py\": 1677701603.2051497, \"/Users/jameshickman/miniconda3/envs/anly503/lib/python3.10/site-packages/scipy/integrate/_ivp/radau.py\": 1677701603.2071178, \"/Users/jameshickman/miniconda3/envs/anly503/lib/python3.10/site-packages/scipy/integrate/_ivp/dop853_coefficients.py\": 1677701603.206, \"/Users/jameshickman/miniconda3/envs/anly503/lib/python3.10/site-packages/scipy/integrate/_ivp/rk.py\": 1677701603.207867, \"/Users/jameshickman/miniconda3/envs/anly503/lib/python3.10/site-packages/scipy/integrate/_ivp/lsoda.py\": 1677701603.2074752, \"/Users/jameshickman/miniconda3/envs/anly503/lib/python3.10/site-packages/scipy/integrate/_ivp/ivp.py\": 1677701603.2056224, \"/Users/jameshickman/miniconda3/envs/anly503/lib/python3.10/site-packages/scipy/integrate/_ivp/__init__.py\": 1677701603.2063265, \"/Users/jameshickman/miniconda3/envs/anly503/lib/python3.10/site-packages/scipy/integrate/_quad_vec.py\": 1677701603.1979957, \"/Users/jameshickman/miniconda3/envs/anly503/lib/python3.10/site-packages/scipy/integrate/dop.py\": 1677701603.2005117, \"/Users/jameshickman/miniconda3/envs/anly503/lib/python3.10/site-packages/scipy/integrate/lsoda.py\": 1677701603.2002, \"/Users/jameshickman/miniconda3/envs/anly503/lib/python3.10/site-packages/scipy/integrate/vode.py\": 1677701603.1975951, \"/Users/jameshickman/miniconda3/envs/anly503/lib/python3.10/site-packages/scipy/integrate/odepack.py\": 1677701603.20082, \"/Users/jameshickman/miniconda3/envs/anly503/lib/python3.10/site-packages/scipy/integrate/quadpack.py\": 1677701603.1972866, \"/Users/jameshickman/miniconda3/envs/anly503/lib/python3.10/site-packages/scipy/integrate/__init__.py\": 1677701603.196074, \"/Users/jameshickman/miniconda3/envs/anly503/lib/python3.10/site-packages/scipy/misc/_common.py\": 1677701603.0002503, \"/Users/jameshickman/miniconda3/envs/anly503/lib/python3.10/site-packages/scipy/misc/common.py\": 1677701603.0056083, \"/Users/jameshickman/miniconda3/envs/anly503/lib/python3.10/site-packages/scipy/misc/doccer.py\": 1677701603.0059295, \"/Users/jameshickman/miniconda3/envs/anly503/lib/python3.10/site-packages/scipy/misc/__init__.py\": 1677701603.0005808, \"/Users/jameshickman/miniconda3/envs/anly503/lib/python3.10/site-packages/scipy/stats/_constants.py\": 1677701604.0238981, \"/Users/jameshickman/miniconda3/envs/anly503/lib/python3.10/site-packages/scipy/stats/_distn_infrastructure.py\": 1677701604.0483146, \"/Users/jameshickman/miniconda3/envs/anly503/lib/python3.10/site-packages/scipy/special/cython_special.cpython-310-darwin.so\": 1677701603.3960774, \"/Users/jameshickman/miniconda3/envs/anly503/lib/python3.10/site-packages/scipy/stats/_stats.cpython-310-darwin.so\": 1677701604.0301824, \"/Users/jameshickman/miniconda3/envs/anly503/lib/python3.10/site-packages/scipy/stats/_tukeylambda_stats.py\": 1677701604.0307448, \"/Users/jameshickman/miniconda3/envs/anly503/lib/python3.10/site-packages/scipy/stats/_ksstats.py\": 1677701604.0356565, \"/Users/jameshickman/miniconda3/envs/anly503/lib/python3.10/site-packages/scipy/stats/_boost/beta_ufunc.cpython-310-darwin.so\": 1677701604.0763576, \"/Users/jameshickman/miniconda3/envs/anly503/lib/python3.10/site-packages/scipy/stats/_boost/binom_ufunc.cpython-310-darwin.so\": 1677701604.0710058, \"/Users/jameshickman/miniconda3/envs/anly503/lib/python3.10/site-packages/scipy/stats/_boost/nbinom_ufunc.cpython-310-darwin.so\": 1677701604.073421, \"/Users/jameshickman/miniconda3/envs/anly503/lib/python3.10/site-packages/scipy/stats/_boost/hypergeom_ufunc.cpython-310-darwin.so\": 1677701604.0679271, \"/Users/jameshickman/miniconda3/envs/anly503/lib/python3.10/site-packages/scipy/stats/_boost/ncf_ufunc.cpython-310-darwin.so\": 1677701604.0660665, \"/Users/jameshickman/miniconda3/envs/anly503/lib/python3.10/site-packages/scipy/stats/_boost/__init__.py\": 1677701604.068475, \"/Users/jameshickman/miniconda3/envs/anly503/lib/python3.10/site-packages/scipy/stats/_continuous_distns.py\": 1677701604.0508883, \"/Users/jameshickman/miniconda3/envs/anly503/lib/python3.10/site-packages/scipy/interpolate/_fitpack.cpython-310-darwin.so\": 1677701603.7418199, \"/Users/jameshickman/miniconda3/envs/anly503/lib/python3.10/site-packages/scipy/interpolate/dfitpack.cpython-310-darwin.so\": 1677701603.7530973, \"/Users/jameshickman/miniconda3/envs/anly503/lib/python3.10/site-packages/scipy/interpolate/_fitpack_impl.py\": 1677701603.757086, \"/Users/jameshickman/miniconda3/envs/anly503/lib/python3.10/site-packages/scipy/interpolate/_bspl.cpython-310-darwin.so\": 1677701603.7506077, \"/Users/jameshickman/miniconda3/envs/anly503/lib/python3.10/site-packages/scipy/interpolate/_bsplines.py\": 1677701603.747687, \"/Users/jameshickman/miniconda3/envs/anly503/lib/python3.10/site-packages/scipy/interpolate/_fitpack_py.py\": 1677701603.757832, \"/Users/jameshickman/miniconda3/envs/anly503/lib/python3.10/site-packages/scipy/interpolate/_polyint.py\": 1677701603.7453432, \"/Users/jameshickman/miniconda3/envs/anly503/lib/python3.10/site-packages/scipy/interpolate/_ppoly.cpython-310-darwin.so\": 1677701603.7616584, \"/Users/jameshickman/miniconda3/envs/anly503/lib/python3.10/site-packages/scipy/interpolate/_fitpack2.py\": 1677701603.7562287, \"/Users/jameshickman/miniconda3/envs/anly503/lib/python3.10/site-packages/scipy/interpolate/interpnd.cpython-310-darwin.so\": 1677701603.739964, \"/Users/jameshickman/miniconda3/envs/anly503/lib/python3.10/site-packages/scipy/interpolate/_interpolate.py\": 1677701603.754433, \"/Users/jameshickman/miniconda3/envs/anly503/lib/python3.10/site-packages/scipy/interpolate/_rbf.py\": 1677701603.7465484, \"/Users/jameshickman/miniconda3/envs/anly503/lib/python3.10/site-packages/scipy/interpolate/_rbfinterp_pythran.cpython-310-darwin.so\": 1677701603.744266, \"/Users/jameshickman/miniconda3/envs/anly503/lib/python3.10/site-packages/scipy/interpolate/_rbfinterp.py\": 1677701603.7423365, \"/Users/jameshickman/miniconda3/envs/anly503/lib/python3.10/site-packages/scipy/interpolate/_cubic.py\": 1677701603.7458117, \"/Users/jameshickman/miniconda3/envs/anly503/lib/python3.10/site-packages/scipy/interpolate/_ndgriddata.py\": 1677701603.742706, \"/Users/jameshickman/miniconda3/envs/anly503/lib/python3.10/site-packages/scipy/interpolate/_pade.py\": 1677701603.7510955, \"/Users/jameshickman/miniconda3/envs/anly503/lib/python3.10/site-packages/scipy/interpolate/_rgi.py\": 1677701603.740621, \"/Users/jameshickman/miniconda3/envs/anly503/lib/python3.10/site-packages/scipy/interpolate/fitpack.py\": 1677701603.748396, \"/Users/jameshickman/miniconda3/envs/anly503/lib/python3.10/site-packages/scipy/interpolate/fitpack2.py\": 1677701603.7584293, \"/Users/jameshickman/miniconda3/envs/anly503/lib/python3.10/site-packages/scipy/interpolate/interpolate.py\": 1677701603.7551856, \"/Users/jameshickman/miniconda3/envs/anly503/lib/python3.10/site-packages/scipy/interpolate/ndgriddata.py\": 1677701603.74718, \"/Users/jameshickman/miniconda3/envs/anly503/lib/python3.10/site-packages/scipy/interpolate/polyint.py\": 1677701603.7468789, \"/Users/jameshickman/miniconda3/envs/anly503/lib/python3.10/site-packages/scipy/interpolate/rbf.py\": 1677701603.7487159, \"/Users/jameshickman/miniconda3/envs/anly503/lib/python3.10/site-packages/scipy/interpolate/__init__.py\": 1677701603.7480621, \"/Users/jameshickman/miniconda3/envs/anly503/lib/python3.10/site-packages/scipy/stats/_biasedurn.cpython-310-darwin.so\": 1677701604.0347242, \"/Users/jameshickman/miniconda3/envs/anly503/lib/python3.10/site-packages/scipy/stats/_discrete_distns.py\": 1677701604.0448177, \"/Users/jameshickman/miniconda3/envs/anly503/lib/python3.10/site-packages/scipy/stats/_levy_stable/levyst.cpython-310-darwin.so\": 1677701604.0640352, \"/Users/jameshickman/miniconda3/envs/anly503/lib/python3.10/site-packages/scipy/stats/_levy_stable/__init__.py\": 1677701604.0634563, \"/Users/jameshickman/miniconda3/envs/anly503/lib/python3.10/site-packages/scipy/stats/_entropy.py\": 1677701604.0628414, \"/Users/jameshickman/miniconda3/envs/anly503/lib/python3.10/site-packages/scipy/stats/distributions.py\": 1677701604.0458615, \"/Users/jameshickman/miniconda3/envs/anly503/lib/python3.10/site-packages/scipy/_lib/_bunch.py\": 1677701603.3396099, \"/Users/jameshickman/miniconda3/envs/anly503/lib/python3.10/site-packages/scipy/stats/_stats_mstats_common.py\": 1677701604.032282, \"/Users/jameshickman/miniconda3/envs/anly503/lib/python3.10/site-packages/scipy/stats/_mstats_basic.py\": 1677701604.0384128, \"/Users/jameshickman/miniconda3/envs/anly503/lib/python3.10/site-packages/scipy/stats/_common.py\": 1677701604.037674, \"/Users/jameshickman/miniconda3/envs/anly503/lib/python3.10/site-packages/scipy/_lib/_uarray/_uarray.cpython-310-darwin.so\": 1677701603.3474736, \"/Users/jameshickman/miniconda3/envs/anly503/lib/python3.10/site-packages/scipy/_lib/_uarray/_backend.py\": 1677701603.3461502, \"/Users/jameshickman/miniconda3/envs/anly503/lib/python3.10/site-packages/scipy/_lib/_uarray/__init__.py\": 1677701603.3465905, \"/Users/jameshickman/miniconda3/envs/anly503/lib/python3.10/site-packages/scipy/_lib/uarray.py\": 1677701603.3363364, \"/Users/jameshickman/miniconda3/envs/anly503/lib/python3.10/site-packages/scipy/fft/_basic.py\": 1677701603.7765841, \"/Users/jameshickman/miniconda3/envs/anly503/lib/python3.10/site-packages/scipy/fft/_realtransforms.py\": 1677701603.7747786, \"/Users/jameshickman/miniconda3/envs/anly503/lib/python3.10/site-packages/scipy/fft/_fftlog.py\": 1677701603.7758372, \"/Users/jameshickman/miniconda3/envs/anly503/lib/python3.10/site-packages/scipy/fft/_fftlog_multimethods.py\": 1677701603.775269, \"/Users/jameshickman/miniconda3/envs/anly503/lib/python3.10/site-packages/scipy/fft/_pocketfft/pypocketfft.cpython-310-darwin.so\": 1677701603.786225, \"/Users/jameshickman/miniconda3/envs/anly503/lib/python3.10/site-packages/scipy/fft/_pocketfft/helper.py\": 1677701603.7876801, \"/Users/jameshickman/miniconda3/envs/anly503/lib/python3.10/site-packages/scipy/fft/_pocketfft/basic.py\": 1677701603.7873247, \"/Users/jameshickman/miniconda3/envs/anly503/lib/python3.10/site-packages/scipy/fft/_pocketfft/realtransforms.py\": 1677701603.786981, \"/Users/jameshickman/miniconda3/envs/anly503/lib/python3.10/site-packages/scipy/fft/_pocketfft/__init__.py\": 1677701603.7803893, \"/Users/jameshickman/miniconda3/envs/anly503/lib/python3.10/site-packages/scipy/fft/_helper.py\": 1677701603.7734618, \"/Users/jameshickman/miniconda3/envs/anly503/lib/python3.10/site-packages/scipy/fft/_backend.py\": 1677701603.7730036, \"/Users/jameshickman/miniconda3/envs/anly503/lib/python3.10/site-packages/scipy/fft/__init__.py\": 1677701603.773833, \"/Users/jameshickman/miniconda3/envs/anly503/lib/python3.10/site-packages/scipy/stats/_hypotests_pythran.cpython-310-darwin.so\": 1677701604.039713, \"/Users/jameshickman/miniconda3/envs/anly503/lib/python3.10/site-packages/scipy/stats/_hypotests.py\": 1677701604.0470304, \"/Users/jameshickman/miniconda3/envs/anly503/lib/python3.10/site-packages/scipy/_lib/_docscrape.py\": 1677701603.344896, \"/Users/jameshickman/miniconda3/envs/anly503/lib/python3.10/site-packages/scipy/stats/_axis_nan_policy.py\": 1677701604.057416, \"/Users/jameshickman/miniconda3/envs/anly503/lib/python3.10/site-packages/scipy/stats/_resampling.py\": 1677701604.0362434, \"/Users/jameshickman/miniconda3/envs/anly503/lib/python3.10/site-packages/scipy/stats/_binomtest.py\": 1677701604.0330024, \"/Users/jameshickman/miniconda3/envs/anly503/lib/python3.10/site-packages/scipy/stats/_stats_py.py\": 1677701604.0269606, \"/Users/jameshickman/miniconda3/envs/anly503/lib/python3.10/site-packages/scipy/stats/_variation.py\": 1677701604.0586612, \"/Users/jameshickman/miniconda3/envs/anly503/lib/python3.10/site-packages/scipy/stats/_statlib.cpython-310-darwin.so\": 1677701604.0431912, \"/Users/jameshickman/miniconda3/envs/anly503/lib/python3.10/site-packages/scipy/stats/_relative_risk.py\": 1677701604.0318513, \"/Users/jameshickman/miniconda3/envs/anly503/lib/python3.10/site-packages/scipy/stats/_crosstab.py\": 1677701604.0451963, \"/Users/jameshickman/miniconda3/envs/anly503/lib/python3.10/site-packages/scipy/stats/contingency.py\": 1677701604.0569177, \"/Users/jameshickman/miniconda3/envs/anly503/lib/python3.10/site-packages/scipy/stats/_morestats.py\": 1677701604.0608222, \"/Users/jameshickman/miniconda3/envs/anly503/lib/python3.10/site-packages/scipy/stats/_binned_statistic.py\": 1677701604.0247302, \"/Users/jameshickman/miniconda3/envs/anly503/lib/python3.10/site-packages/scipy/stats/_mvn.cpython-310-darwin.so\": 1677701604.0582323, \"/Users/jameshickman/miniconda3/envs/anly503/lib/python3.10/site-packages/scipy/stats/_kde.py\": 1677701604.046373, \"/Users/jameshickman/miniconda3/envs/anly503/lib/python3.10/site-packages/scipy/stats/_mstats_extras.py\": 1677701604.049076, \"/Users/jameshickman/miniconda3/envs/anly503/lib/python3.10/site-packages/scipy/stats/mstats.py\": 1677701604.0473964, \"/Users/jameshickman/miniconda3/envs/anly503/lib/python3.10/site-packages/scipy/stats/_sobol.cpython-310-darwin.so\": 1677701604.042431, \"/Users/jameshickman/miniconda3/envs/anly503/lib/python3.10/site-packages/scipy/stats/_qmc_cy.cpython-310-darwin.so\": 1677701604.0623264, \"/Users/jameshickman/miniconda3/envs/anly503/lib/python3.10/site-packages/scipy/stats/_qmc.py\": 1677701604.0442433, \"/Users/jameshickman/miniconda3/envs/anly503/lib/python3.10/site-packages/scipy/stats/qmc.py\": 1677701604.0514724, \"/Users/jameshickman/miniconda3/envs/anly503/lib/python3.10/site-packages/scipy/stats/_multivariate.py\": 1677701604.0233, \"/Users/jameshickman/miniconda3/envs/anly503/lib/python3.10/site-packages/scipy/stats/_unuran/__init__.py\": 1677701604.1034155, \"/Users/jameshickman/miniconda3/envs/anly503/lib/python3.10/site-packages/scipy/stats/_unuran/unuran_wrapper.cpython-310-darwin.so\": 1677701604.1115339, \"/Users/jameshickman/miniconda3/envs/anly503/lib/python3.10/site-packages/scipy/stats/_rvs_sampling.py\": 1677701604.031468, \"/Users/jameshickman/miniconda3/envs/anly503/lib/python3.10/site-packages/scipy/stats/_page_trend_test.py\": 1677701604.036691, \"/Users/jameshickman/miniconda3/envs/anly503/lib/python3.10/site-packages/scipy/stats/_mannwhitneyu.py\": 1677701604.0593765, \"/Users/jameshickman/miniconda3/envs/anly503/lib/python3.10/site-packages/scipy/stats/_fit.py\": 1677701604.0598192, \"/Users/jameshickman/miniconda3/envs/anly503/lib/python3.10/site-packages/scipy/stats/biasedurn.py\": 1677701604.0370262, \"/Users/jameshickman/miniconda3/envs/anly503/lib/python3.10/site-packages/scipy/stats/kde.py\": 1677701604.0373728, \"/Users/jameshickman/miniconda3/envs/anly503/lib/python3.10/site-packages/scipy/stats/morestats.py\": 1677701604.0520866, \"/Users/jameshickman/miniconda3/envs/anly503/lib/python3.10/site-packages/scipy/stats/mstats_basic.py\": 1677701604.0565248, \"/Users/jameshickman/miniconda3/envs/anly503/lib/python3.10/site-packages/scipy/stats/mstats_extras.py\": 1677701604.040552, \"/Users/jameshickman/miniconda3/envs/anly503/lib/python3.10/site-packages/scipy/stats/mvn.py\": 1677701604.0352547, \"/Users/jameshickman/miniconda3/envs/anly503/lib/python3.10/site-packages/scipy/stats/statlib.py\": 1677701604.0455365, \"/Users/jameshickman/miniconda3/envs/anly503/lib/python3.10/site-packages/scipy/stats/stats.py\": 1677701604.0486858, \"/Users/jameshickman/miniconda3/envs/anly503/lib/python3.10/site-packages/scipy/stats/__init__.py\": 1677701604.0402145, \"/Users/jameshickman/miniconda3/envs/anly503/lib/python3.10/site-packages/seaborn/algorithms.py\": 1672497807.179129, \"/Users/jameshickman/miniconda3/envs/anly503/lib/python3.10/site-packages/seaborn/_statistics.py\": 1672497807.179129, \"/Users/jameshickman/miniconda3/envs/anly503/lib/python3.10/site-packages/seaborn/external/docscrape.py\": 1672497807.191128, \"/Users/jameshickman/miniconda3/envs/anly503/lib/python3.10/site-packages/seaborn/_docstrings.py\": 1672497807.179129, \"/Users/jameshickman/miniconda3/envs/anly503/lib/python3.10/site-packages/seaborn/axisgrid.py\": 1672497807.183128, \"/Users/jameshickman/miniconda3/envs/anly503/lib/python3.10/site-packages/seaborn/relational.py\": 1672497807.187128, \"/Users/jameshickman/miniconda3/envs/anly503/lib/python3.10/site-packages/statsmodels/_version.py\": 1667586755.0, \"/Users/jameshickman/miniconda3/envs/anly503/lib/python3.10/site-packages/statsmodels/__init__.py\": 1667586755.0, \"/Users/jameshickman/miniconda3/envs/anly503/lib/python3.10/site-packages/seaborn/regression.py\": 1672497807.183128, \"/Users/jameshickman/miniconda3/envs/anly503/lib/python3.10/site-packages/seaborn/categorical.py\": 1672497807.183128, \"/Users/jameshickman/miniconda3/envs/anly503/lib/python3.10/site-packages/seaborn/_stats/__init__.py\": 1672497807.191128, \"/Users/jameshickman/miniconda3/envs/anly503/lib/python3.10/site-packages/seaborn/_core/__init__.py\": 1672497807.187128, \"/Users/jameshickman/miniconda3/envs/anly503/lib/python3.10/site-packages/seaborn/_core/rules.py\": 1672497807.187128, \"/Users/jameshickman/miniconda3/envs/anly503/lib/python3.10/site-packages/seaborn/_core/groupby.py\": 1672497807.187128, \"/Users/jameshickman/miniconda3/envs/anly503/lib/python3.10/site-packages/seaborn/_core/typing.py\": 1672497807.187128, \"/Users/jameshickman/miniconda3/envs/anly503/lib/python3.10/site-packages/seaborn/_core/scales.py\": 1672497807.187128, \"/Users/jameshickman/miniconda3/envs/anly503/lib/python3.10/site-packages/seaborn/_stats/base.py\": 1672497807.191128, \"/Users/jameshickman/miniconda3/envs/anly503/lib/python3.10/site-packages/seaborn/_stats/counting.py\": 1672497807.191128, \"/Users/jameshickman/miniconda3/envs/anly503/lib/python3.10/site-packages/seaborn/external/kde.py\": 1672497807.191128, \"/Users/jameshickman/miniconda3/envs/anly503/lib/python3.10/site-packages/seaborn/distributions.py\": 1672497807.183128, \"/Users/jameshickman/miniconda3/envs/anly503/lib/python3.10/site-packages/scipy/cluster/_vq.cpython-310-darwin.so\": 1677701603.0078251, \"/Users/jameshickman/miniconda3/envs/anly503/lib/python3.10/site-packages/scipy/cluster/vq.py\": 1677701603.0107627, \"/Users/jameshickman/miniconda3/envs/anly503/lib/python3.10/site-packages/scipy/cluster/_hierarchy.cpython-310-darwin.so\": 1677701603.010097, \"/Users/jameshickman/miniconda3/envs/anly503/lib/python3.10/site-packages/scipy/cluster/_optimal_leaf_ordering.cpython-310-darwin.so\": 1677701603.013817, \"/Users/jameshickman/miniconda3/envs/anly503/lib/python3.10/site-packages/scipy/_lib/_disjoint_set.py\": 1677701603.3385284, \"/Users/jameshickman/miniconda3/envs/anly503/lib/python3.10/site-packages/scipy/cluster/hierarchy.py\": 1677701603.012068, \"/Users/jameshickman/miniconda3/envs/anly503/lib/python3.10/site-packages/scipy/cluster/__init__.py\": 1677701603.0111485, \"/Users/jameshickman/miniconda3/envs/anly503/lib/python3.10/site-packages/seaborn/cm.py\": 1672497807.183128, \"/Users/jameshickman/miniconda3/envs/anly503/lib/python3.10/site-packages/seaborn/matrix.py\": 1672497807.183128, \"/Users/jameshickman/miniconda3/envs/anly503/lib/python3.10/site-packages/seaborn/miscplot.py\": 1672497807.183128, \"/Users/jameshickman/miniconda3/envs/anly503/lib/python3.10/site-packages/ipywidgets/_version.py\": 1660929835.0, \"/Users/jameshickman/miniconda3/envs/anly503/lib/python3.10/site-packages/ipython_genutils/_version.py\": 1489443131.0, \"/Users/jameshickman/miniconda3/envs/anly503/lib/python3.10/site-packages/ipython_genutils/__init__.py\": 1431385042.0, \"/Users/jameshickman/miniconda3/envs/anly503/lib/python3.10/site-packages/ipython_genutils/encoding.py\": 1431385042.0, \"/Users/jameshickman/miniconda3/envs/anly503/lib/python3.10/site-packages/ipython_genutils/py3compat.py\": 1489426240.0, \"/Users/jameshickman/miniconda3/envs/anly503/lib/python3.10/site-packages/ipywidgets/widgets/widget.py\": 1660929835.0, \"/Users/jameshickman/miniconda3/envs/anly503/lib/python3.10/site-packages/ipywidgets/widgets/util.py\": 1660929835.0, \"/Users/jameshickman/miniconda3/envs/anly503/lib/python3.10/site-packages/ipywidgets/widgets/trait_types.py\": 1660929835.0, \"/Users/jameshickman/miniconda3/envs/anly503/lib/python3.10/site-packages/ipywidgets/widgets/widget_layout.py\": 1660929835.0, \"/Users/jameshickman/miniconda3/envs/anly503/lib/python3.10/site-packages/ipywidgets/widgets/widget_style.py\": 1660929835.0, \"/Users/jameshickman/miniconda3/envs/anly503/lib/python3.10/site-packages/ipywidgets/widgets/domwidget.py\": 1660929835.0, \"/Users/jameshickman/miniconda3/envs/anly503/lib/python3.10/site-packages/ipywidgets/widgets/valuewidget.py\": 1660929835.0, \"/Users/jameshickman/miniconda3/envs/anly503/lib/python3.10/site-packages/ipywidgets/widgets/widget_core.py\": 1660929835.0, \"/Users/jameshickman/miniconda3/envs/anly503/lib/python3.10/site-packages/ipywidgets/widgets/widget_description.py\": 1660929835.0, \"/Users/jameshickman/miniconda3/envs/anly503/lib/python3.10/site-packages/ipywidgets/widgets/widget_bool.py\": 1660929835.0, \"/Users/jameshickman/miniconda3/envs/anly503/lib/python3.10/site-packages/ipywidgets/widgets/widget_button.py\": 1660929835.0, \"/Users/jameshickman/miniconda3/envs/anly503/lib/python3.10/site-packages/ipywidgets/widgets/docutils.py\": 1660929835.0, \"/Users/jameshickman/miniconda3/envs/anly503/lib/python3.10/site-packages/ipywidgets/widgets/widget_box.py\": 1660929835.0, \"/Users/jameshickman/miniconda3/envs/anly503/lib/python3.10/site-packages/ipywidgets/widgets/widget_int.py\": 1660929835.0, \"/Users/jameshickman/miniconda3/envs/anly503/lib/python3.10/site-packages/ipywidgets/widgets/widget_float.py\": 1660929835.0, \"/Users/jameshickman/miniconda3/envs/anly503/lib/python3.10/site-packages/ipywidgets/widgets/widget_color.py\": 1660929835.0, \"/Users/jameshickman/miniconda3/envs/anly503/lib/python3.10/site-packages/ipywidgets/widgets/widget_date.py\": 1660929835.0, \"/Users/jameshickman/miniconda3/envs/anly503/lib/python3.10/site-packages/ipywidgets/widgets/widget_output.py\": 1660929835.0, \"/Users/jameshickman/miniconda3/envs/anly503/lib/python3.10/site-packages/ipywidgets/widgets/widget_selection.py\": 1660929835.0, \"/Users/jameshickman/miniconda3/envs/anly503/lib/python3.10/site-packages/ipywidgets/widgets/widget_selectioncontainer.py\": 1660929835.0, \"/Users/jameshickman/miniconda3/envs/anly503/lib/python3.10/site-packages/ipywidgets/widgets/widget_string.py\": 1660929835.0, \"/Users/jameshickman/miniconda3/envs/anly503/lib/python3.10/site-packages/ipywidgets/widgets/widget_controller.py\": 1660929835.0, \"/Users/jameshickman/miniconda3/envs/anly503/lib/python3.10/site-packages/ipywidgets/widgets/interaction.py\": 1660929835.0, \"/Users/jameshickman/miniconda3/envs/anly503/lib/python3.10/site-packages/ipywidgets/widgets/widget_link.py\": 1660929835.0, \"/Users/jameshickman/miniconda3/envs/anly503/lib/python3.10/site-packages/ipywidgets/widgets/widget_media.py\": 1660929835.0, \"/Users/jameshickman/miniconda3/envs/anly503/lib/python3.10/site-packages/ipywidgets/widgets/widget_templates.py\": 1660929835.0, \"/Users/jameshickman/miniconda3/envs/anly503/lib/python3.10/site-packages/ipywidgets/widgets/widget_upload.py\": 1660929835.0, \"/Users/jameshickman/miniconda3/envs/anly503/lib/python3.10/site-packages/ipywidgets/widgets/__init__.py\": 1660929835.0, \"/Users/jameshickman/miniconda3/envs/anly503/lib/python3.10/site-packages/ipywidgets/__init__.py\": 1660929835.0, \"/Users/jameshickman/miniconda3/envs/anly503/lib/python3.10/site-packages/seaborn/widgets.py\": 1672497807.187128, \"/Users/jameshickman/miniconda3/envs/anly503/lib/python3.10/site-packages/seaborn/__init__.py\": 1672497807.179129, \"/Users/jameshickman/miniconda3/envs/anly503/lib/python3.10/site-packages/plotly/validators/layout/legend/_title.py\": 1677255607.988566, \"/Users/jameshickman/miniconda3/envs/anly503/lib/python3.10/site-packages/plotly/graph_objs/layout/legend/__init__.py\": 1677255606.90856, \"/Users/jameshickman/miniconda3/envs/anly503/lib/python3.10/site-packages/plotly/graph_objs/layout/legend/_title.py\": 1677255606.91256, \"/Users/jameshickman/miniconda3/envs/anly503/lib/python3.10/site-packages/plotly/validators/layout/legend/title/__init__.py\": 1677255607.992566, \"/Users/jameshickman/miniconda3/envs/anly503/lib/python3.10/site-packages/plotly/validators/layout/legend/title/_text.py\": 1677255607.992566, \"/Users/jameshickman/miniconda3/envs/anly503/lib/python3.10/site-packages/plotly/validators/layout/font/_size.py\": 1677255607.964566, \"/Users/jameshickman/miniconda3/envs/anly503/lib/python3.10/site-packages/plotly/validators/bar/marker/pattern/_shape.py\": 1677255607.260562, \"/Users/jameshickman/miniconda3/envs/anly503/lib/python3.10/site-packages/plotly/validators/bar/_xaxis.py\": 1677255607.228562, \"/Users/jameshickman/miniconda3/envs/anly503/lib/python3.10/site-packages/plotly/validators/bar/_yaxis.py\": 1677255607.228562, \"/Users/jameshickman/miniconda3/envs/anly503/lib/python3.10/site-packages/plotly/validators/bar/_name.py\": 1677255607.220562, \"/Users/jameshickman/miniconda3/envs/anly503/lib/python3.10/site-packages/plotly/validators/bar/_legendgroup.py\": 1677255607.220562, \"/Users/jameshickman/miniconda3/envs/anly503/lib/python3.10/site-packages/plotly/validators/bar/_showlegend.py\": 1677255607.224562, \"/Users/jameshickman/miniconda3/envs/anly503/lib/python3.10/site-packages/plotly/validators/bar/_alignmentgroup.py\": 1677255607.216562, \"/Users/jameshickman/miniconda3/envs/anly503/lib/python3.10/site-packages/plotly/validators/bar/_offsetgroup.py\": 1677255607.220562, \"/Users/jameshickman/miniconda3/envs/anly503/lib/python3.10/site-packages/plotly/validators/bar/marker/_color.py\": 1677255607.244562, \"/Users/jameshickman/miniconda3/envs/anly503/lib/python3.10/site-packages/plotly/validators/bar/_textposition.py\": 1677255607.224562, \"/Users/jameshickman/miniconda3/envs/anly503/lib/python3.10/site-packages/plotly/validators/bar/_orientation.py\": 1677255607.224562, \"/Users/jameshickman/miniconda3/envs/anly503/lib/python3.10/site-packages/plotly/validators/bar/_x.py\": 1677255607.224562, \"/Users/jameshickman/miniconda3/envs/anly503/lib/python3.10/site-packages/plotly/validators/bar/_y.py\": 1677255607.228562, \"/Users/jameshickman/miniconda3/envs/anly503/lib/python3.10/site-packages/plotly/validators/bar/_hovertemplate.py\": 1677255607.220562, \"/Users/jameshickman/miniconda3/envs/anly503/lib/python3.10/site-packages/pandas/io/formats/string.py\": 1661275008.0, \"/Users/jameshickman/miniconda3/envs/anly503/lib/python3.10/site-packages/plotly/validators/scatter/marker/_sizemode.py\": 1677255608.512569, \"/Users/jameshickman/miniconda3/envs/anly503/lib/python3.10/site-packages/plotly/validators/scatter/marker/_sizeref.py\": 1677255608.516569, \"/Users/jameshickman/miniconda3/envs/anly503/lib/python3.10/site-packages/plotly/validators/layout/legend/_itemsizing.py\": 1677255607.988566, \"/Users/jameshickman/miniconda3/envs/anly503/lib/python3.10/site-packages/plotly/validators/scattergl/marker/_line.py\": 1677255608.70057, \"/Users/jameshickman/miniconda3/envs/anly503/lib/python3.10/site-packages/plotly/graph_objs/scattergl/marker/_line.py\": 1677255607.060561, \"/Users/jameshickman/miniconda3/envs/anly503/lib/python3.10/site-packages/plotly/validators/scattergl/marker/line/__init__.py\": 1677255608.71657, \"/Users/jameshickman/miniconda3/envs/anly503/lib/python3.10/site-packages/plotly/validators/scattergl/marker/line/_color.py\": 1677255608.71657, \"/Users/jameshickman/miniconda3/envs/anly503/lib/python3.10/site-packages/plotly/validators/layout/slider/__init__.py\": 1677255608.104567, \"/Users/jameshickman/miniconda3/envs/anly503/lib/python3.10/site-packages/plotly/validators/layout/slider/_bgcolor.py\": 1677255608.108567, \"/Users/jameshickman/miniconda3/envs/anly503/lib/python3.10/site-packages/plotly/validators/layout/slider/_bordercolor.py\": 1677255608.108567, \"/Users/jameshickman/miniconda3/envs/anly503/lib/python3.10/site-packages/plotly/validators/layout/slider/_borderwidth.py\": 1677255608.108567, \"/Users/jameshickman/miniconda3/envs/anly503/lib/python3.10/site-packages/plotly/validators/layout/slider/_tickwidth.py\": 1677255608.108567, \"/Users/jameshickman/miniconda3/envs/anly503/lib/python3.10/site-packages/plotly/validators/layout/updatemenu/__init__.py\": 1677255608.192567, \"/Users/jameshickman/miniconda3/envs/anly503/lib/python3.10/site-packages/plotly/validators/layout/updatemenu/_bgcolor.py\": 1677255608.192567, \"/Users/jameshickman/miniconda3/envs/anly503/lib/python3.10/site-packages/plotly/validators/layout/updatemenu/_borderwidth.py\": 1677255608.192567, \"/Users/jameshickman/miniconda3/envs/anly503/lib/python3.10/site-packages/plotly/validators/choropleth/colorbar/_tickcolor.py\": 1677255607.400563, \"/Users/jameshickman/miniconda3/envs/anly503/lib/python3.10/site-packages/plotly/validators/choropleth/colorbar/_ticklen.py\": 1677255607.400563, \"/Users/jameshickman/miniconda3/envs/anly503/lib/python3.10/site-packages/plotly/validators/contourcarpet/colorbar/_tickcolor.py\": 1677255607.520563, \"/Users/jameshickman/miniconda3/envs/anly503/lib/python3.10/site-packages/plotly/validators/contourcarpet/colorbar/_ticklen.py\": 1677255607.524563, \"/Users/jameshickman/miniconda3/envs/anly503/lib/python3.10/site-packages/plotly/validators/contour/colorbar/_tickcolor.py\": 1677255607.492563, \"/Users/jameshickman/miniconda3/envs/anly503/lib/python3.10/site-packages/plotly/validators/contour/colorbar/_ticklen.py\": 1677255607.492563, \"/Users/jameshickman/miniconda3/envs/anly503/lib/python3.10/site-packages/plotly/validators/heatmapgl/colorbar/_tickcolor.py\": 1677255607.660564, \"/Users/jameshickman/miniconda3/envs/anly503/lib/python3.10/site-packages/plotly/validators/heatmapgl/colorbar/_ticklen.py\": 1677255607.664564, \"/Users/jameshickman/miniconda3/envs/anly503/lib/python3.10/site-packages/plotly/validators/heatmap/colorbar/_tickcolor.py\": 1677255607.636564, \"/Users/jameshickman/miniconda3/envs/anly503/lib/python3.10/site-packages/plotly/validators/heatmap/colorbar/_ticklen.py\": 1677255607.636564, \"/Users/jameshickman/miniconda3/envs/anly503/lib/python3.10/site-packages/plotly/validators/histogram2dcontour/colorbar/_tickcolor.py\": 1677255607.772565, \"/Users/jameshickman/miniconda3/envs/anly503/lib/python3.10/site-packages/plotly/validators/histogram2dcontour/colorbar/_ticklen.py\": 1677255607.772565, \"/Users/jameshickman/miniconda3/envs/anly503/lib/python3.10/site-packages/plotly/validators/histogram2d/colorbar/_tickcolor.py\": 1677255607.740565, \"/Users/jameshickman/miniconda3/envs/anly503/lib/python3.10/site-packages/plotly/validators/histogram2d/colorbar/_ticklen.py\": 1677255607.740565, \"/Users/jameshickman/miniconda3/envs/anly503/lib/python3.10/site-packages/plotly/validators/mesh3d/colorbar/_tickcolor.py\": 1677255608.292568, \"/Users/jameshickman/miniconda3/envs/anly503/lib/python3.10/site-packages/plotly/validators/mesh3d/colorbar/_ticklen.py\": 1677255608.292568, \"/Users/jameshickman/miniconda3/envs/anly503/lib/python3.10/site-packages/plotly/validators/parcoords/line/colorbar/_tickcolor.py\": 1677255608.376568, \"/Users/jameshickman/miniconda3/envs/anly503/lib/python3.10/site-packages/plotly/validators/parcoords/line/colorbar/_ticklen.py\": 1677255608.376568, \"/Users/jameshickman/miniconda3/envs/anly503/lib/python3.10/site-packages/plotly/validators/scatter3d/line/colorbar/_tickcolor.py\": 1677255608.564569, \"/Users/jameshickman/miniconda3/envs/anly503/lib/python3.10/site-packages/plotly/validators/scatter3d/line/colorbar/_ticklen.py\": 1677255608.568569, \"/Users/jameshickman/miniconda3/envs/anly503/lib/python3.10/site-packages/plotly/validators/scatter3d/marker/colorbar/_tickcolor.py\": 1677255608.580569, \"/Users/jameshickman/miniconda3/envs/anly503/lib/python3.10/site-packages/plotly/validators/scatter3d/marker/colorbar/_ticklen.py\": 1677255608.584569, \"/Users/jameshickman/miniconda3/envs/anly503/lib/python3.10/site-packages/plotly/validators/scattercarpet/marker/colorbar/_tickcolor.py\": 1677255608.62057, \"/Users/jameshickman/miniconda3/envs/anly503/lib/python3.10/site-packages/plotly/validators/scattercarpet/marker/colorbar/_ticklen.py\": 1677255608.62057, \"/Users/jameshickman/miniconda3/envs/anly503/lib/python3.10/site-packages/plotly/validators/scattergeo/marker/colorbar/_tickcolor.py\": 1677255608.66057, \"/Users/jameshickman/miniconda3/envs/anly503/lib/python3.10/site-packages/plotly/validators/scattergeo/marker/colorbar/_ticklen.py\": 1677255608.66057, \"/Users/jameshickman/miniconda3/envs/anly503/lib/python3.10/site-packages/plotly/validators/scattergl/marker/colorbar/_tickcolor.py\": 1677255608.70857, \"/Users/jameshickman/miniconda3/envs/anly503/lib/python3.10/site-packages/plotly/validators/scattergl/marker/colorbar/_ticklen.py\": 1677255608.70857, \"/Users/jameshickman/miniconda3/envs/anly503/lib/python3.10/site-packages/plotly/validators/scattermapbox/marker/colorbar/_tickcolor.py\": 1677255608.74857, \"/Users/jameshickman/miniconda3/envs/anly503/lib/python3.10/site-packages/plotly/validators/scattermapbox/marker/colorbar/_ticklen.py\": 1677255608.74857, \"/Users/jameshickman/miniconda3/envs/anly503/lib/python3.10/site-packages/plotly/validators/scatterpolargl/marker/colorbar/_tickcolor.py\": 1677255608.820571, \"/Users/jameshickman/miniconda3/envs/anly503/lib/python3.10/site-packages/plotly/validators/scatterpolargl/marker/colorbar/_ticklen.py\": 1677255608.824571, \"/Users/jameshickman/miniconda3/envs/anly503/lib/python3.10/site-packages/plotly/validators/scatterpolar/marker/colorbar/_tickcolor.py\": 1677255608.784571, \"/Users/jameshickman/miniconda3/envs/anly503/lib/python3.10/site-packages/plotly/validators/scatterpolar/marker/colorbar/_ticklen.py\": 1677255608.784571, \"/Users/jameshickman/miniconda3/envs/anly503/lib/python3.10/site-packages/plotly/validators/scatterternary/marker/colorbar/_tickcolor.py\": 1677255608.900571, \"/Users/jameshickman/miniconda3/envs/anly503/lib/python3.10/site-packages/plotly/validators/scatterternary/marker/colorbar/_ticklen.py\": 1677255608.900571, \"/Users/jameshickman/miniconda3/envs/anly503/lib/python3.10/site-packages/plotly/validators/surface/colorbar/_tickcolor.py\": 1677255609.032572, \"/Users/jameshickman/miniconda3/envs/anly503/lib/python3.10/site-packages/plotly/validators/surface/colorbar/_ticklen.py\": 1677255609.032572, \"/Users/jameshickman/miniconda3/envs/anly503/lib/python3.10/site-packages/plotly/validators/layout/coloraxis/colorbar/_tickcolor.py\": 1677255607.952566, \"/Users/jameshickman/miniconda3/envs/anly503/lib/python3.10/site-packages/plotly/validators/layout/coloraxis/colorbar/_ticklen.py\": 1677255607.956566, \"/Users/jameshickman/miniconda3/envs/anly503/lib/python3.10/site-packages/plotly/validators/layout/polar/angularaxis/_showgrid.py\": 1677255608.016566, \"/Users/jameshickman/miniconda3/envs/anly503/lib/python3.10/site-packages/plotly/validators/layout/polar/angularaxis/_tickcolor.py\": 1677255608.016566, \"/Users/jameshickman/miniconda3/envs/anly503/lib/python3.10/site-packages/plotly/validators/layout/polar/radialaxis/_showgrid.py\": 1677255608.028566, \"/Users/jameshickman/miniconda3/envs/anly503/lib/python3.10/site-packages/plotly/validators/layout/polar/radialaxis/_tickcolor.py\": 1677255608.028566, \"/Users/jameshickman/miniconda3/envs/anly503/lib/python3.10/site-packages/plotly/validators/layout/scene/xaxis/_showgrid.py\": 1677255608.056567, \"/Users/jameshickman/miniconda3/envs/anly503/lib/python3.10/site-packages/plotly/validators/layout/scene/xaxis/_tickcolor.py\": 1677255608.060567, \"/Users/jameshickman/miniconda3/envs/anly503/lib/python3.10/site-packages/plotly/validators/layout/scene/yaxis/_showgrid.py\": 1677255608.072567, \"/Users/jameshickman/miniconda3/envs/anly503/lib/python3.10/site-packages/plotly/validators/layout/scene/yaxis/_tickcolor.py\": 1677255608.072567, \"/Users/jameshickman/miniconda3/envs/anly503/lib/python3.10/site-packages/plotly/validators/layout/scene/zaxis/_showgrid.py\": 1677255608.088567, \"/Users/jameshickman/miniconda3/envs/anly503/lib/python3.10/site-packages/plotly/validators/layout/scene/zaxis/_tickcolor.py\": 1677255608.088567, \"/Users/jameshickman/miniconda3/envs/anly503/lib/python3.10/site-packages/plotly/validators/layout/shape/_fillcolor.py\": 1677255608.100567, \"/Users/jameshickman/miniconda3/envs/anly503/lib/python3.10/site-packages/plotly/validators/layout/shape/line/_width.py\": 1677255608.104567, \"/Users/jameshickman/miniconda3/envs/anly503/lib/python3.10/site-packages/plotly/validators/layout/shape/_opacity.py\": 1677255608.104567, \"/Users/jameshickman/miniconda3/envs/anly503/lib/python3.10/site-packages/plotly/validators/layout/ternary/aaxis/_showgrid.py\": 1677255608.144567, \"/Users/jameshickman/miniconda3/envs/anly503/lib/python3.10/site-packages/plotly/validators/layout/ternary/aaxis/_tickcolor.py\": 1677255608.144567, \"/Users/jameshickman/miniconda3/envs/anly503/lib/python3.10/site-packages/plotly/validators/layout/ternary/baxis/_showgrid.py\": 1677255608.152567, \"/Users/jameshickman/miniconda3/envs/anly503/lib/python3.10/site-packages/plotly/validators/layout/ternary/baxis/_tickcolor.py\": 1677255608.156567, \"/Users/jameshickman/miniconda3/envs/anly503/lib/python3.10/site-packages/plotly/validators/layout/ternary/caxis/_showgrid.py\": 1677255608.172567, \"/Users/jameshickman/miniconda3/envs/anly503/lib/python3.10/site-packages/plotly/validators/layout/ternary/caxis/_tickcolor.py\": 1677255608.172567, \"/Users/jameshickman/miniconda3/envs/anly503/lib/python3.10/site-packages/plotly/validators/layout/xaxis/_tickcolor.py\": 1677255608.208567, \"/Users/jameshickman/miniconda3/envs/anly503/lib/python3.10/site-packages/plotly/validators/layout/yaxis/_tickcolor.py\": 1677255608.244567, \"/Users/jameshickman/miniconda3/envs/anly503/lib/python3.10/site-packages/plotly/validators/choropleth/colorbar/_tickwidth.py\": 1677255607.404563, \"/Users/jameshickman/miniconda3/envs/anly503/lib/python3.10/site-packages/plotly/validators/contourcarpet/colorbar/_tickwidth.py\": 1677255607.524563, \"/Users/jameshickman/miniconda3/envs/anly503/lib/python3.10/site-packages/plotly/validators/contour/colorbar/_tickwidth.py\": 1677255607.492563, \"/Users/jameshickman/miniconda3/envs/anly503/lib/python3.10/site-packages/plotly/validators/heatmapgl/colorbar/_tickwidth.py\": 1677255607.664564, \"/Users/jameshickman/miniconda3/envs/anly503/lib/python3.10/site-packages/plotly/validators/heatmap/colorbar/_tickwidth.py\": 1677255607.640564, \"/Users/jameshickman/miniconda3/envs/anly503/lib/python3.10/site-packages/plotly/validators/histogram2dcontour/colorbar/_tickwidth.py\": 1677255607.776565, \"/Users/jameshickman/miniconda3/envs/anly503/lib/python3.10/site-packages/plotly/validators/histogram2d/colorbar/_tickwidth.py\": 1677255607.744565, \"/Users/jameshickman/miniconda3/envs/anly503/lib/python3.10/site-packages/plotly/validators/mesh3d/colorbar/_tickwidth.py\": 1677255608.296568, \"/Users/jameshickman/miniconda3/envs/anly503/lib/python3.10/site-packages/plotly/validators/parcoords/line/colorbar/_tickwidth.py\": 1677255608.380568, \"/Users/jameshickman/miniconda3/envs/anly503/lib/python3.10/site-packages/plotly/validators/scatter3d/line/colorbar/_tickwidth.py\": 1677255608.568569, \"/Users/jameshickman/miniconda3/envs/anly503/lib/python3.10/site-packages/plotly/validators/scatter3d/marker/colorbar/_tickwidth.py\": 1677255608.584569, \"/Users/jameshickman/miniconda3/envs/anly503/lib/python3.10/site-packages/plotly/validators/scattercarpet/marker/colorbar/_tickwidth.py\": 1677255608.62457, \"/Users/jameshickman/miniconda3/envs/anly503/lib/python3.10/site-packages/plotly/validators/scattergeo/marker/colorbar/_tickwidth.py\": 1677255608.66457, \"/Users/jameshickman/miniconda3/envs/anly503/lib/python3.10/site-packages/plotly/validators/scattergl/marker/colorbar/_tickwidth.py\": 1677255608.70857, \"/Users/jameshickman/miniconda3/envs/anly503/lib/python3.10/site-packages/plotly/validators/scattermapbox/marker/colorbar/_tickwidth.py\": 1677255608.74857, \"/Users/jameshickman/miniconda3/envs/anly503/lib/python3.10/site-packages/plotly/validators/scatterpolargl/marker/colorbar/_tickwidth.py\": 1677255608.824571, \"/Users/jameshickman/miniconda3/envs/anly503/lib/python3.10/site-packages/plotly/validators/scatterpolar/marker/colorbar/_tickwidth.py\": 1677255608.784571, \"/Users/jameshickman/miniconda3/envs/anly503/lib/python3.10/site-packages/plotly/validators/scatterternary/marker/colorbar/_tickwidth.py\": 1677255608.904571, \"/Users/jameshickman/miniconda3/envs/anly503/lib/python3.10/site-packages/plotly/validators/surface/colorbar/_tickwidth.py\": 1677255609.036572, \"/Users/jameshickman/miniconda3/envs/anly503/lib/python3.10/site-packages/plotly/validators/layout/coloraxis/colorbar/_tickwidth.py\": 1677255607.956566, \"/Users/jameshickman/miniconda3/envs/anly503/lib/python3.10/site-packages/plotly/validators/histogram/marker/_line.py\": 1677255607.700564, \"/Users/jameshickman/miniconda3/envs/anly503/lib/python3.10/site-packages/plotly/graph_objs/histogram/marker/_line.py\": 1677255606.86056, \"/Users/jameshickman/miniconda3/envs/anly503/lib/python3.10/site-packages/plotly/validators/histogram/marker/line/__init__.py\": 1677255607.712565, \"/Users/jameshickman/miniconda3/envs/anly503/lib/python3.10/site-packages/plotly/validators/histogram/marker/line/_color.py\": 1677255607.712565, \"/Users/jameshickman/miniconda3/envs/anly503/lib/python3.10/site-packages/plotly/validators/histogram/marker/line/_width.py\": 1677255607.716565, \"/Users/jameshickman/miniconda3/envs/anly503/lib/python3.10/site-packages/plotly/validators/layout/polar/angularaxis/_showline.py\": 1677255608.016566, \"/Users/jameshickman/miniconda3/envs/anly503/lib/python3.10/site-packages/plotly/validators/layout/polar/radialaxis/_showline.py\": 1677255608.028566, \"/Users/jameshickman/miniconda3/envs/anly503/lib/python3.10/site-packages/plotly/validators/layout/scene/xaxis/_showline.py\": 1677255608.060567, \"/Users/jameshickman/miniconda3/envs/anly503/lib/python3.10/site-packages/plotly/validators/layout/scene/xaxis/_zeroline.py\": 1677255608.064566, \"/Users/jameshickman/miniconda3/envs/anly503/lib/python3.10/site-packages/plotly/validators/layout/scene/yaxis/_showline.py\": 1677255608.072567, \"/Users/jameshickman/miniconda3/envs/anly503/lib/python3.10/site-packages/plotly/validators/layout/scene/yaxis/_zeroline.py\": 1677255608.076567, \"/Users/jameshickman/miniconda3/envs/anly503/lib/python3.10/site-packages/plotly/validators/layout/scene/zaxis/_showline.py\": 1677255608.088567, \"/Users/jameshickman/miniconda3/envs/anly503/lib/python3.10/site-packages/plotly/validators/layout/scene/zaxis/_zeroline.py\": 1677255608.092567, \"/Users/jameshickman/miniconda3/envs/anly503/lib/python3.10/site-packages/plotly/validators/layout/ternary/aaxis/_showline.py\": 1677255608.144567, \"/Users/jameshickman/miniconda3/envs/anly503/lib/python3.10/site-packages/plotly/validators/layout/ternary/baxis/_showline.py\": 1677255608.152567, \"/Users/jameshickman/miniconda3/envs/anly503/lib/python3.10/site-packages/plotly/validators/layout/ternary/caxis/_showline.py\": 1677255608.172567, \"/Users/jameshickman/miniconda3/envs/anly503/lib/python3.10/site-packages/plotly/validators/scattergl/_name.py\": 1677255608.68057, \"/Users/jameshickman/miniconda3/envs/anly503/lib/python3.10/site-packages/plotly/validators/scattergl/_legendgroup.py\": 1677255608.68057, \"/Users/jameshickman/miniconda3/envs/anly503/lib/python3.10/site-packages/plotly/validators/scattergl/_showlegend.py\": 1677255608.68457, \"/Users/jameshickman/miniconda3/envs/anly503/lib/python3.10/site-packages/plotly/validators/scattergl/_line.py\": 1677255608.68057, \"/Users/jameshickman/miniconda3/envs/anly503/lib/python3.10/site-packages/plotly/graph_objs/scattergl/_line.py\": 1677255607.056561, \"/Users/jameshickman/miniconda3/envs/anly503/lib/python3.10/site-packages/plotly/validators/scattergl/line/__init__.py\": 1677255608.69657, \"/Users/jameshickman/miniconda3/envs/anly503/lib/python3.10/site-packages/plotly/validators/scattergl/line/_color.py\": 1677255608.69657, \"/Users/jameshickman/miniconda3/envs/anly503/lib/python3.10/site-packages/plotly/validators/scattergl/line/_dash.py\": 1677255608.69657, \"/Users/jameshickman/miniconda3/envs/anly503/lib/python3.10/site-packages/plotly/validators/scattergl/marker/_symbol.py\": 1677255608.70457, \"/Users/jameshickman/miniconda3/envs/anly503/lib/python3.10/site-packages/plotly/validators/scattergl/_mode.py\": 1677255608.68057, \"/Users/jameshickman/miniconda3/envs/anly503/lib/python3.10/site-packages/plotly/validators/scattergl/_x.py\": 1677255608.68457, \"/Users/jameshickman/miniconda3/envs/anly503/lib/python3.10/site-packages/plotly/validators/scattergl/_y.py\": 1677255608.68857, \"/Users/jameshickman/miniconda3/envs/anly503/lib/python3.10/site-packages/plotly/validators/scattergl/_hovertext.py\": 1677255608.68057, \"/Users/jameshickman/miniconda3/envs/anly503/lib/python3.10/site-packages/plotly/validators/scattergl/_hovertemplate.py\": 1677255608.68057, \"/Users/jameshickman/miniconda3/envs/anly503/lib/python3.10/site-packages/plotly/validators/scattergl/line/_shape.py\": 1677255608.69657, \"/Users/jameshickman/miniconda3/envs/anly503/lib/python3.10/site-packages/plotly/validators/scattergl/_xaxis.py\": 1677255608.68457, \"/Users/jameshickman/miniconda3/envs/anly503/lib/python3.10/site-packages/plotly/validators/scattergl/_yaxis.py\": 1677255608.68857, \"/Users/jameshickman/miniconda3/envs/anly503/lib/python3.10/site-packages/plotly/validators/scatter3d/line/_width.py\": 1677255608.560569, \"/Users/jameshickman/miniconda3/envs/anly503/lib/python3.10/site-packages/plotly/validators/scatter3d/marker/_size.py\": 1677255608.576569, \"/Users/jameshickman/miniconda3/envs/anly503/lib/python3.10/site-packages/plotly/validators/scattergeo/_line.py\": 1677255608.64057, \"/Users/jameshickman/miniconda3/envs/anly503/lib/python3.10/site-packages/plotly/graph_objs/scattergeo/_line.py\": 1677255607.044561, \"/Users/jameshickman/miniconda3/envs/anly503/lib/python3.10/site-packages/plotly/validators/scattergeo/line/__init__.py\": 1677255608.64857, \"/Users/jameshickman/miniconda3/envs/anly503/lib/python3.10/site-packages/plotly/validators/scattergeo/line/_width.py\": 1677255608.64857, \"/Users/jameshickman/miniconda3/envs/anly503/lib/python3.10/site-packages/plotly/validators/scattergeo/marker/_size.py\": 1677255608.65257, \"/Users/jameshickman/miniconda3/envs/anly503/lib/python3.10/site-packages/plotly/validators/scattergl/line/_width.py\": 1677255608.70057, \"/Users/jameshickman/miniconda3/envs/anly503/lib/python3.10/site-packages/plotly/validators/scattergl/marker/_size.py\": 1677255608.70057, \"/Users/jameshickman/miniconda3/envs/anly503/lib/python3.10/site-packages/plotly/validators/scatterpolargl/_line.py\": 1677255608.804571, \"/Users/jameshickman/miniconda3/envs/anly503/lib/python3.10/site-packages/plotly/graph_objs/scatterpolargl/_line.py\": 1677255607.080561, \"/Users/jameshickman/miniconda3/envs/anly503/lib/python3.10/site-packages/plotly/validators/scatterpolargl/line/__init__.py\": 1677255608.812571, \"/Users/jameshickman/miniconda3/envs/anly503/lib/python3.10/site-packages/plotly/validators/scatterpolargl/line/_width.py\": 1677255608.812571, \"/Users/jameshickman/miniconda3/envs/anly503/lib/python3.10/site-packages/plotly/validators/scatterpolargl/marker/_size.py\": 1677255608.816571, \"/Users/jameshickman/miniconda3/envs/anly503/lib/python3.10/site-packages/plotly/validators/scatterpolar/_line.py\": 1677255608.76457, \"/Users/jameshickman/miniconda3/envs/anly503/lib/python3.10/site-packages/plotly/graph_objs/scatterpolar/_line.py\": 1677255607.072561, \"/Users/jameshickman/miniconda3/envs/anly503/lib/python3.10/site-packages/plotly/validators/scatterpolar/line/__init__.py\": 1677255608.77257, \"/Users/jameshickman/miniconda3/envs/anly503/lib/python3.10/site-packages/plotly/validators/scatterpolar/line/_width.py\": 1677255608.77257, \"/Users/jameshickman/miniconda3/envs/anly503/lib/python3.10/site-packages/plotly/validators/scatterpolar/marker/_size.py\": 1677255608.77657, \"/Users/jameshickman/miniconda3/envs/anly503/lib/python3.10/site-packages/plotly/validators/scatterternary/_line.py\": 1677255608.880571, \"/Users/jameshickman/miniconda3/envs/anly503/lib/python3.10/site-packages/plotly/graph_objs/scatterternary/_line.py\": 1677255607.100561, \"/Users/jameshickman/miniconda3/envs/anly503/lib/python3.10/site-packages/plotly/validators/scatterternary/line/__init__.py\": 1677255608.888571, \"/Users/jameshickman/miniconda3/envs/anly503/lib/python3.10/site-packages/plotly/validators/scatterternary/line/_width.py\": 1677255608.888571, \"/Users/jameshickman/miniconda3/envs/anly503/lib/python3.10/site-packages/plotly/validators/scatterternary/marker/_size.py\": 1677255608.896571, \"/Users/jameshickman/miniconda3/envs/anly503/lib/python3.10/site-packages/plotly/validators/table/cells/_height.py\": 1677255609.064572, \"/Users/jameshickman/miniconda3/envs/anly503/lib/python3.10/site-packages/plotly/validators/table/header/_height.py\": 1677255609.068572, \"/Users/jameshickman/miniconda3/envs/anly503/lib/python3.10/site-packages/plotly/validators/layout/xaxis/_matches.py\": 1677255608.200567, \"/Users/jameshickman/miniconda3/envs/anly503/lib/python3.10/site-packages/plotly/validators/layout/xaxis/_showticklabels.py\": 1677255608.204567, \"/Users/jameshickman/miniconda3/envs/anly503/lib/python3.10/site-packages/plotly/validators/layout/yaxis/_matches.py\": 1677255608.236567, \"/Users/jameshickman/miniconda3/envs/anly503/lib/python3.10/site-packages/plotly/validators/layout/yaxis/_showticklabels.py\": 1677255608.240568, \"/Users/jameshickman/miniconda3/envs/anly503/lib/python3.10/site-packages/plotly/validators/layout/annotation/_font.py\": 1677255607.936566, \"/Users/jameshickman/miniconda3/envs/anly503/lib/python3.10/site-packages/plotly/graph_objs/layout/annotation/__init__.py\": 1677255606.90456, \"/Users/jameshickman/miniconda3/envs/anly503/lib/python3.10/site-packages/plotly/graph_objs/layout/annotation/_font.py\": 1677255606.90456, \"/Users/jameshickman/miniconda3/envs/anly503/lib/python3.10/site-packages/plotly/validators/layout/annotation/font/__init__.py\": 1677255607.944566, \"/Users/jameshickman/miniconda3/envs/anly503/lib/python3.10/site-packages/plotly/validators/layout/annotation/font/_size.py\": 1677255607.944566, \"/Users/jameshickman/miniconda3/envs/anly503/lib/python3.10/site-packages/plotly/validators/layout/annotation/_showarrow.py\": 1677255607.936566, \"/Users/jameshickman/miniconda3/envs/anly503/lib/python3.10/site-packages/plotly/validators/layout/annotation/_text.py\": 1677255607.936566, \"/Users/jameshickman/miniconda3/envs/anly503/lib/python3.10/site-packages/plotly/validators/layout/annotation/_x.py\": 1677255607.940566, \"/Users/jameshickman/miniconda3/envs/anly503/lib/python3.10/site-packages/plotly/validators/layout/annotation/_xanchor.py\": 1677255607.940566, \"/Users/jameshickman/miniconda3/envs/anly503/lib/python3.10/site-packages/plotly/validators/layout/annotation/_xref.py\": 1677255607.940566, \"/Users/jameshickman/miniconda3/envs/anly503/lib/python3.10/site-packages/plotly/validators/layout/annotation/_y.py\": 1677255607.940566, \"/Users/jameshickman/miniconda3/envs/anly503/lib/python3.10/site-packages/plotly/validators/layout/annotation/_yanchor.py\": 1677255607.940566, \"/Users/jameshickman/miniconda3/envs/anly503/lib/python3.10/site-packages/plotly/validators/layout/annotation/_yref.py\": 1677255607.940566, \"/Users/jameshickman/miniconda3/envs/anly503/lib/python3.10/site-packages/plotly/validators/scatter/_customdata.py\": 1677255608.476569, \"/Users/jameshickman/miniconda3/envs/anly503/lib/python3.10/site-packages/plotly/validators/scatter3d/_scene.py\": 1677255608.540569, \"/Users/jameshickman/miniconda3/envs/anly503/lib/python3.10/site-packages/plotly/validators/scatter3d/_name.py\": 1677255608.540569, \"/Users/jameshickman/miniconda3/envs/anly503/lib/python3.10/site-packages/plotly/validators/scatter3d/_legendgroup.py\": 1677255608.540569, \"/Users/jameshickman/miniconda3/envs/anly503/lib/python3.10/site-packages/plotly/validators/scatter3d/_showlegend.py\": 1677255608.540569, \"/Users/jameshickman/miniconda3/envs/anly503/lib/python3.10/site-packages/plotly/validators/scatter3d/marker/_color.py\": 1677255608.576569, \"/Users/jameshickman/miniconda3/envs/anly503/lib/python3.10/site-packages/plotly/validators/scatter3d/marker/_symbol.py\": 1677255608.576569, \"/Users/jameshickman/miniconda3/envs/anly503/lib/python3.10/site-packages/plotly/validators/scatter3d/_mode.py\": 1677255608.540569, \"/Users/jameshickman/miniconda3/envs/anly503/lib/python3.10/site-packages/plotly/validators/scatter3d/_x.py\": 1677255608.544569, \"/Users/jameshickman/miniconda3/envs/anly503/lib/python3.10/site-packages/plotly/validators/scatter3d/_y.py\": 1677255608.544569, \"/Users/jameshickman/miniconda3/envs/anly503/lib/python3.10/site-packages/plotly/validators/scatter3d/_z.py\": 1677255608.544569, \"/Users/jameshickman/miniconda3/envs/anly503/lib/python3.10/site-packages/plotly/validators/scatter3d/_hovertext.py\": 1677255608.540569, \"/Users/jameshickman/miniconda3/envs/anly503/lib/python3.10/site-packages/plotly/validators/scatter3d/_hovertemplate.py\": 1677255608.540569, \"/Users/jameshickman/miniconda3/envs/anly503/lib/python3.10/site-packages/plotly/validators/layout/scene/_domain.py\": 1677255608.036566, \"/Users/jameshickman/miniconda3/envs/anly503/lib/python3.10/site-packages/plotly/graph_objs/layout/scene/_domain.py\": 1677255606.92056, \"/Users/jameshickman/miniconda3/envs/anly503/lib/python3.10/site-packages/plotly/validators/layout/scene/domain/__init__.py\": 1677255608.052566, \"/Users/jameshickman/miniconda3/envs/anly503/lib/python3.10/site-packages/plotly/validators/layout/scene/domain/_x.py\": 1677255608.052566, \"/Users/jameshickman/miniconda3/envs/anly503/lib/python3.10/site-packages/plotly/validators/layout/scene/domain/_y.py\": 1677255608.052566, \"/Users/jameshickman/miniconda3/envs/anly503/lib/python3.10/site-packages/plotly/validators/layout/scene/xaxis/_title.py\": 1677255608.064566, \"/Users/jameshickman/miniconda3/envs/anly503/lib/python3.10/site-packages/plotly/graph_objs/layout/scene/xaxis/__init__.py\": 1677255606.92456, \"/Users/jameshickman/miniconda3/envs/anly503/lib/python3.10/site-packages/plotly/graph_objs/layout/scene/xaxis/_title.py\": 1677255606.92456, \"/Users/jameshickman/miniconda3/envs/anly503/lib/python3.10/site-packages/plotly/validators/layout/scene/xaxis/title/__init__.py\": 1677255608.064566, \"/Users/jameshickman/miniconda3/envs/anly503/lib/python3.10/site-packages/plotly/validators/layout/scene/xaxis/title/_text.py\": 1677255608.064566, \"/Users/jameshickman/miniconda3/envs/anly503/lib/python3.10/site-packages/plotly/validators/layout/scene/yaxis/_title.py\": 1677255608.076567, \"/Users/jameshickman/miniconda3/envs/anly503/lib/python3.10/site-packages/plotly/graph_objs/layout/scene/yaxis/__init__.py\": 1677255606.92456, \"/Users/jameshickman/miniconda3/envs/anly503/lib/python3.10/site-packages/plotly/graph_objs/layout/scene/yaxis/_title.py\": 1677255606.92456, \"/Users/jameshickman/miniconda3/envs/anly503/lib/python3.10/site-packages/plotly/validators/layout/scene/yaxis/title/__init__.py\": 1677255608.080567, \"/Users/jameshickman/miniconda3/envs/anly503/lib/python3.10/site-packages/plotly/validators/layout/scene/yaxis/title/_text.py\": 1677255608.080567, \"/Users/jameshickman/miniconda3/envs/anly503/lib/python3.10/site-packages/plotly/validators/layout/scene/zaxis/_title.py\": 1677255608.092567, \"/Users/jameshickman/miniconda3/envs/anly503/lib/python3.10/site-packages/plotly/graph_objs/layout/scene/zaxis/__init__.py\": 1677255606.92456, \"/Users/jameshickman/miniconda3/envs/anly503/lib/python3.10/site-packages/plotly/graph_objs/layout/scene/zaxis/_title.py\": 1677255606.92456, \"/Users/jameshickman/miniconda3/envs/anly503/lib/python3.10/site-packages/plotly/validators/layout/scene/zaxis/title/__init__.py\": 1677255608.096567, \"/Users/jameshickman/miniconda3/envs/anly503/lib/python3.10/site-packages/plotly/validators/layout/scene/zaxis/title/_text.py\": 1677255608.096567, \"/Users/jameshickman/miniconda3/envs/anly503/lib/python3.10/site-packages/bokeh/util/__init__.py\": 1660586697.0, \"/Users/jameshickman/miniconda3/envs/anly503/lib/python3.10/site-packages/bokeh/_version.py\": 1660586696.0, \"/Users/jameshickman/miniconda3/envs/anly503/lib/python3.10/site-packages/bokeh/util/version.py\": 1660586697.0, \"/Users/jameshickman/miniconda3/envs/anly503/lib/python3.10/site-packages/bokeh/util/sampledata.py\": 1660586697.0, \"/Users/jameshickman/miniconda3/envs/anly503/lib/python3.10/site-packages/bokeh/sampledata/__init__.py\": 1660586696.0, \"/Users/jameshickman/miniconda3/envs/anly503/lib/python3.10/site-packages/bokeh/util/paths.py\": 1660586697.0, \"/Users/jameshickman/miniconda3/envs/anly503/lib/python3.10/site-packages/bokeh/settings.py\": 1660586696.0, \"/Users/jameshickman/miniconda3/envs/anly503/lib/python3.10/site-packages/bokeh/util/logconfig.py\": 1660586697.0, \"/Users/jameshickman/miniconda3/envs/anly503/lib/python3.10/site-packages/bokeh/util/warnings.py\": 1660586697.0, \"/Users/jameshickman/miniconda3/envs/anly503/lib/python3.10/site-packages/bokeh/__init__.py\": 1660586696.0, \"/Users/jameshickman/miniconda3/envs/anly503/lib/python3.10/site-packages/bokeh/core/__init__.py\": 1660586696.0, \"/Users/jameshickman/miniconda3/envs/anly503/lib/python3.10/site-packages/bokeh/colors/color.py\": 1660586696.0, \"/Users/jameshickman/miniconda3/envs/anly503/lib/python3.10/site-packages/bokeh/colors/rgb.py\": 1660586696.0, \"/Users/jameshickman/miniconda3/envs/anly503/lib/python3.10/site-packages/bokeh/colors/util.py\": 1660586696.0, \"/Users/jameshickman/miniconda3/envs/anly503/lib/python3.10/site-packages/bokeh/colors/groups.py\": 1660586696.0, \"/Users/jameshickman/miniconda3/envs/anly503/lib/python3.10/site-packages/bokeh/colors/named.py\": 1660586696.0, \"/Users/jameshickman/miniconda3/envs/anly503/lib/python3.10/site-packages/bokeh/util/deprecation.py\": 1660586697.0, \"/Users/jameshickman/miniconda3/envs/anly503/lib/python3.10/site-packages/bokeh/colors/hsl.py\": 1660586696.0, \"/Users/jameshickman/miniconda3/envs/anly503/lib/python3.10/site-packages/bokeh/colors/__init__.py\": 1660586696.0, \"/Users/jameshickman/miniconda3/envs/anly503/lib/python3.10/site-packages/bokeh/palettes.py\": 1660586696.0, \"/Users/jameshickman/miniconda3/envs/anly503/lib/python3.10/site-packages/bokeh/util/string.py\": 1660586697.0, \"/Users/jameshickman/miniconda3/envs/anly503/lib/python3.10/site-packages/bokeh/core/enums.py\": 1660586696.0, \"/Users/jameshickman/miniconda3/envs/anly503/lib/python3.10/site-packages/bokeh/core/property/__init__.py\": 1660586696.0, \"/Users/jameshickman/miniconda3/envs/anly503/lib/python3.10/site-packages/bokeh/util/dependencies.py\": 1660586697.0, \"/Users/jameshickman/miniconda3/envs/anly503/lib/python3.10/site-packages/bokeh/core/property/descriptor_factory.py\": 1660586696.0, \"/Users/jameshickman/miniconda3/envs/anly503/lib/python3.10/site-packages/bokeh/core/property/singletons.py\": 1660586696.0, \"/Users/jameshickman/miniconda3/envs/anly503/lib/python3.10/site-packages/bokeh/core/property/wrappers.py\": 1660586696.0, \"/Users/jameshickman/miniconda3/envs/anly503/lib/python3.10/site-packages/bokeh/core/property/descriptors.py\": 1660586696.0, \"/Users/jameshickman/miniconda3/envs/anly503/lib/python3.10/site-packages/bokeh/core/property/override.py\": 1660586696.0, \"/Users/jameshickman/miniconda3/envs/anly503/lib/python3.10/site-packages/bokeh/core/types.py\": 1660586696.0, \"/Users/jameshickman/miniconda3/envs/anly503/lib/python3.10/site-packages/bokeh/core/has_props.py\": 1660586696.0, \"/Users/jameshickman/miniconda3/envs/anly503/lib/python3.10/site-packages/bokeh/core/property/_sphinx.py\": 1660586696.0, \"/Users/jameshickman/miniconda3/envs/anly503/lib/python3.10/site-packages/bokeh/core/property/bases.py\": 1660586696.0, \"/Users/jameshickman/miniconda3/envs/anly503/lib/python3.10/site-packages/bokeh/core/property/alias.py\": 1660586696.0, \"/Users/jameshickman/miniconda3/envs/anly503/lib/python3.10/site-packages/bokeh/core/property/any.py\": 1660586696.0, \"/Users/jameshickman/miniconda3/envs/anly503/lib/python3.10/site-packages/bokeh/core/property/primitive.py\": 1660586696.0, \"/Users/jameshickman/miniconda3/envs/anly503/lib/python3.10/site-packages/bokeh/core/property/enum.py\": 1660586696.0, \"/Users/jameshickman/miniconda3/envs/anly503/lib/python3.10/site-packages/bokeh/core/property/auto.py\": 1660586696.0, \"/Users/jameshickman/miniconda3/envs/anly503/lib/python3.10/site-packages/bokeh/util/serialization.py\": 1660586697.0, \"/Users/jameshickman/miniconda3/envs/anly503/lib/python3.10/site-packages/bokeh/core/property/numeric.py\": 1660586696.0, \"/Users/jameshickman/miniconda3/envs/anly503/lib/python3.10/site-packages/bokeh/core/property/container.py\": 1660586696.0, \"/Users/jameshickman/miniconda3/envs/anly503/lib/python3.10/site-packages/bokeh/core/property/either.py\": 1660586696.0, \"/Users/jameshickman/miniconda3/envs/anly503/lib/python3.10/site-packages/bokeh/core/property/string.py\": 1660586696.0, \"/Users/jameshickman/miniconda3/envs/anly503/lib/python3.10/site-packages/bokeh/core/property/color.py\": 1660586696.0, \"/Users/jameshickman/miniconda3/envs/anly503/lib/python3.10/site-packages/bokeh/core/property/datetime.py\": 1660586696.0, \"/Users/jameshickman/miniconda3/envs/anly503/lib/python3.10/site-packages/bokeh/core/property/instance.py\": 1660586696.0, \"/Users/jameshickman/miniconda3/envs/anly503/lib/python3.10/site-packages/bokeh/core/property/nullable.py\": 1660586696.0, \"/Users/jameshickman/miniconda3/envs/anly503/lib/python3.10/site-packages/bokeh/core/property/visual.py\": 1660586696.0, \"/Users/jameshickman/miniconda3/envs/anly503/lib/python3.10/site-packages/bokeh/core/property/dataspec.py\": 1660586696.0, \"/Users/jameshickman/miniconda3/envs/anly503/lib/python3.10/site-packages/bokeh/core/property/factors.py\": 1660586696.0, \"/Users/jameshickman/miniconda3/envs/anly503/lib/python3.10/site-packages/bokeh/core/property/include.py\": 1660586696.0, \"/Users/jameshickman/miniconda3/envs/anly503/lib/python3.10/site-packages/bokeh/core/property/json.py\": 1660586696.0, \"/Users/jameshickman/miniconda3/envs/anly503/lib/python3.10/site-packages/bokeh/core/property/pandas.py\": 1660586696.0, \"/Users/jameshickman/miniconda3/envs/anly503/lib/python3.10/site-packages/bokeh/core/property/readonly.py\": 1660586696.0, \"/Users/jameshickman/miniconda3/envs/anly503/lib/python3.10/site-packages/bokeh/core/property/struct.py\": 1660586696.0, \"/Users/jameshickman/miniconda3/envs/anly503/lib/python3.10/site-packages/bokeh/core/property/text_like.py\": 1660586696.0, \"/Users/jameshickman/miniconda3/envs/anly503/lib/python3.10/site-packages/bokeh/core/property/validation.py\": 1660586696.0, \"/Users/jameshickman/miniconda3/envs/anly503/lib/python3.10/site-packages/bokeh/core/properties.py\": 1660586696.0, \"/Users/jameshickman/miniconda3/envs/anly503/lib/python3.10/site-packages/bokeh/core/json_encoder.py\": 1660586696.0, \"/Users/jameshickman/miniconda3/envs/anly503/lib/python3.10/site-packages/bokeh/events.py\": 1660586696.0, \"/Users/jameshickman/miniconda3/envs/anly503/lib/python3.10/site-packages/bokeh/themes/_caliber.py\": 1660586697.0, \"/Users/jameshickman/miniconda3/envs/anly503/lib/python3.10/site-packages/bokeh/themes/_contrast.py\": 1660586697.0, \"/Users/jameshickman/miniconda3/envs/anly503/lib/python3.10/site-packages/bokeh/themes/_dark_minimal.py\": 1660586697.0, \"/Users/jameshickman/miniconda3/envs/anly503/lib/python3.10/site-packages/bokeh/themes/_light_minimal.py\": 1660586697.0, \"/Users/jameshickman/miniconda3/envs/anly503/lib/python3.10/site-packages/bokeh/themes/_night_sky.py\": 1660586697.0, \"/Users/jameshickman/miniconda3/envs/anly503/lib/python3.10/site-packages/bokeh/themes/theme.py\": 1660586697.0, \"/Users/jameshickman/miniconda3/envs/anly503/lib/python3.10/site-packages/bokeh/themes/__init__.py\": 1660586697.0, \"/Users/jameshickman/miniconda3/envs/anly503/lib/python3.10/site-packages/bokeh/util/functions.py\": 1660586697.0, \"/Users/jameshickman/miniconda3/envs/anly503/lib/python3.10/site-packages/bokeh/util/callback_manager.py\": 1660586697.0, \"/Users/jameshickman/miniconda3/envs/anly503/lib/python3.10/site-packages/bokeh/model/docs.py\": 1660586696.0, \"/Users/jameshickman/miniconda3/envs/anly503/lib/python3.10/site-packages/bokeh/model/util.py\": 1660586696.0, \"/Users/jameshickman/miniconda3/envs/anly503/lib/python3.10/site-packages/bokeh/model/model.py\": 1660586696.0, \"/Users/jameshickman/miniconda3/envs/anly503/lib/python3.10/site-packages/bokeh/model/data_model.py\": 1660586696.0, \"/Users/jameshickman/miniconda3/envs/anly503/lib/python3.10/site-packages/bokeh/model/__init__.py\": 1660586696.0, \"/Users/jameshickman/miniconda3/envs/anly503/lib/python3.10/site-packages/bokeh/core/property_mixins.py\": 1660586696.0, \"/Users/jameshickman/miniconda3/envs/anly503/lib/python3.10/site-packages/bokeh/util/dataclasses.py\": 1660586697.0, \"/Users/jameshickman/miniconda3/envs/anly503/lib/python3.10/site-packages/bokeh/core/validation/issue.py\": 1660586696.0, \"/Users/jameshickman/miniconda3/envs/anly503/lib/python3.10/site-packages/bokeh/core/validation/errors.py\": 1660586696.0, \"/Users/jameshickman/miniconda3/envs/anly503/lib/python3.10/site-packages/bokeh/core/validation/warnings.py\": 1660586696.0, \"/Users/jameshickman/miniconda3/envs/anly503/lib/python3.10/site-packages/bokeh/core/validation/check.py\": 1660586696.0, \"/Users/jameshickman/miniconda3/envs/anly503/lib/python3.10/site-packages/bokeh/core/validation/decorators.py\": 1660586696.0, \"/Users/jameshickman/miniconda3/envs/anly503/lib/python3.10/site-packages/bokeh/core/validation/__init__.py\": 1660586696.0, \"/Users/jameshickman/miniconda3/envs/anly503/lib/python3.10/site-packages/bokeh/models/callbacks.py\": 1660586696.0, \"/Users/jameshickman/miniconda3/envs/anly503/lib/python3.10/site-packages/bokeh/models/filters.py\": 1660586696.0, \"/Users/jameshickman/miniconda3/envs/anly503/lib/python3.10/site-packages/bokeh/models/selections.py\": 1660586696.0, \"/Users/jameshickman/miniconda3/envs/anly503/lib/python3.10/site-packages/bokeh/models/sources.py\": 1660586696.0, \"/Users/jameshickman/miniconda3/envs/anly503/lib/python3.10/site-packages/bokeh/models/transforms.py\": 1660586696.0, \"/Users/jameshickman/miniconda3/envs/anly503/lib/python3.10/site-packages/bokeh/models/mappers.py\": 1660586696.0, \"/Users/jameshickman/miniconda3/envs/anly503/lib/python3.10/site-packages/bokeh/models/tickers.py\": 1660586696.0, \"/Users/jameshickman/miniconda3/envs/anly503/lib/python3.10/site-packages/bokeh/models/glyph.py\": 1660586696.0, \"/Users/jameshickman/miniconda3/envs/anly503/lib/python3.10/site-packages/bokeh/models/glyphs.py\": 1660586696.0, \"/Users/jameshickman/miniconda3/envs/anly503/lib/python3.10/site-packages/bokeh/models/formatters.py\": 1660586696.0, \"/Users/jameshickman/miniconda3/envs/anly503/lib/python3.10/site-packages/bokeh/models/labeling.py\": 1660586696.0, \"/Users/jameshickman/miniconda3/envs/anly503/lib/python3.10/site-packages/bokeh/models/ranges.py\": 1660586696.0, \"/Users/jameshickman/miniconda3/envs/anly503/lib/python3.10/site-packages/bokeh/models/scales.py\": 1660586696.0, \"/Users/jameshickman/miniconda3/envs/anly503/lib/python3.10/site-packages/bokeh/models/canvas.py\": 1660586696.0, \"/Users/jameshickman/miniconda3/envs/anly503/lib/python3.10/site-packages/bokeh/models/expressions.py\": 1660586696.0, \"/Users/jameshickman/miniconda3/envs/anly503/lib/python3.10/site-packages/bokeh/models/graphs.py\": 1660586696.0, \"/Users/jameshickman/miniconda3/envs/anly503/lib/python3.10/site-packages/bokeh/models/tiles.py\": 1660586696.0, \"/Users/jameshickman/miniconda3/envs/anly503/lib/python3.10/site-packages/bokeh/models/renderers.py\": 1660586696.0, \"/Users/jameshickman/miniconda3/envs/anly503/lib/python3.10/site-packages/bokeh/models/annotations.py\": 1660586696.0, \"/Users/jameshickman/miniconda3/envs/anly503/lib/python3.10/site-packages/bokeh/models/arrow_heads.py\": 1660586696.0, \"/Users/jameshickman/miniconda3/envs/anly503/lib/python3.10/site-packages/bokeh/models/axes.py\": 1660586696.0, \"/Users/jameshickman/miniconda3/envs/anly503/lib/python3.10/site-packages/bokeh/models/grids.py\": 1660586696.0, \"/Users/jameshickman/miniconda3/envs/anly503/lib/python3.10/site-packages/bokeh/models/layouts.py\": 1660586696.0, \"/Users/jameshickman/miniconda3/envs/anly503/lib/python3.10/site-packages/bokeh/core/query.py\": 1660586696.0, \"/Users/jameshickman/miniconda3/envs/anly503/lib/python3.10/site-packages/bokeh/models/css.py\": 1660586696.0, \"/Users/jameshickman/miniconda3/envs/anly503/lib/python3.10/site-packages/bokeh/models/dom.py\": 1660586696.0, \"/Users/jameshickman/miniconda3/envs/anly503/lib/python3.10/site-packages/bokeh/models/tools.py\": 1660586696.0, \"/Users/jameshickman/miniconda3/envs/anly503/lib/python3.10/site-packages/bokeh/models/plots.py\": 1660586696.0, \"/Users/jameshickman/miniconda3/envs/anly503/lib/python3.10/site-packages/bokeh/models/map_plots.py\": 1660586696.0, \"/Users/jameshickman/miniconda3/envs/anly503/lib/python3.10/site-packages/bokeh/models/markers.py\": 1660586696.0, \"/Users/jameshickman/miniconda3/envs/anly503/lib/python3.10/site-packages/bokeh/models/text.py\": 1660586696.0, \"/Users/jameshickman/miniconda3/envs/anly503/lib/python3.10/site-packages/bokeh/models/textures.py\": 1660586696.0, \"/Users/jameshickman/miniconda3/envs/anly503/lib/python3.10/site-packages/bokeh/models/widgets/icons.py\": 1660586696.0, \"/Users/jameshickman/miniconda3/envs/anly503/lib/python3.10/site-packages/bokeh/models/widgets/widget.py\": 1660586696.0, \"/Users/jameshickman/miniconda3/envs/anly503/lib/python3.10/site-packages/bokeh/models/widgets/buttons.py\": 1660586696.0, \"/Users/jameshickman/miniconda3/envs/anly503/lib/python3.10/site-packages/bokeh/models/widgets/groups.py\": 1660586696.0, \"/Users/jameshickman/miniconda3/envs/anly503/lib/python3.10/site-packages/bokeh/models/widgets/inputs.py\": 1660586696.0, \"/Users/jameshickman/miniconda3/envs/anly503/lib/python3.10/site-packages/bokeh/models/widgets/markups.py\": 1660586696.0, \"/Users/jameshickman/miniconda3/envs/anly503/lib/python3.10/site-packages/bokeh/models/widgets/panels.py\": 1660586696.0, \"/Users/jameshickman/miniconda3/envs/anly503/lib/python3.10/site-packages/bokeh/models/widgets/sliders.py\": 1660586696.0, \"/Users/jameshickman/miniconda3/envs/anly503/lib/python3.10/site-packages/bokeh/models/widgets/tables.py\": 1660586696.0, \"/Users/jameshickman/miniconda3/envs/anly503/lib/python3.10/site-packages/bokeh/models/widgets/__init__.py\": 1660586696.0, \"/Users/jameshickman/miniconda3/envs/anly503/lib/python3.10/site-packages/bokeh/models/__init__.py\": 1660586696.0, \"/Users/jameshickman/miniconda3/envs/anly503/lib/python3.10/site-packages/bokeh/transform.py\": 1660586696.0, \"/Users/jameshickman/miniconda3/envs/anly503/lib/python3.10/site-packages/bokeh/util/options.py\": 1660586697.0, \"/Users/jameshickman/miniconda3/envs/anly503/lib/python3.10/site-packages/bokeh/plotting/_legends.py\": 1660586696.0, \"/Users/jameshickman/miniconda3/envs/anly503/lib/python3.10/site-packages/bokeh/plotting/_renderer.py\": 1660586696.0, \"/Users/jameshickman/miniconda3/envs/anly503/lib/python3.10/site-packages/bokeh/plotting/_graph.py\": 1660586696.0, \"/Users/jameshickman/miniconda3/envs/anly503/lib/python3.10/site-packages/bokeh/plotting/_plot.py\": 1660586696.0, \"/Users/jameshickman/miniconda3/envs/anly503/lib/python3.10/site-packages/bokeh/plotting/_stack.py\": 1660586696.0, \"/Users/jameshickman/miniconda3/envs/anly503/lib/python3.10/site-packages/bokeh/plotting/_tools.py\": 1660586696.0, \"/Users/jameshickman/miniconda3/envs/anly503/lib/python3.10/site-packages/bokeh/plotting/_docstring.py\": 1660586696.0, \"/Users/jameshickman/miniconda3/envs/anly503/lib/python3.10/site-packages/bokeh/plotting/_decorators.py\": 1660586696.0, \"/Users/jameshickman/miniconda3/envs/anly503/lib/python3.10/site-packages/bokeh/plotting/glyph_api.py\": 1660586696.0, \"/Users/jameshickman/miniconda3/envs/anly503/lib/python3.10/site-packages/bokeh/plotting/figure.py\": 1660586696.0, \"/Users/jameshickman/miniconda3/envs/anly503/lib/python3.10/site-packages/bokeh/plotting/gmap.py\": 1660586696.0, \"/Users/jameshickman/miniconda3/envs/anly503/lib/python3.10/site-packages/bokeh/plotting/graph.py\": 1660586696.0, \"/Users/jameshickman/miniconda3/envs/anly503/lib/python3.10/encodings/unicode_escape.py\": 1669106275.0, \"/Users/jameshickman/miniconda3/envs/anly503/lib/python3.10/site-packages/bokeh/core/templates.py\": 1660586696.0, \"/Users/jameshickman/miniconda3/envs/anly503/lib/python3.10/site-packages/bokeh/document/json.py\": 1660586696.0, \"/Users/jameshickman/miniconda3/envs/anly503/lib/python3.10/site-packages/bokeh/document/events.py\": 1660586696.0, \"/Users/jameshickman/miniconda3/envs/anly503/lib/python3.10/site-packages/bokeh/document/locking.py\": 1660586696.0, \"/Users/jameshickman/miniconda3/envs/anly503/lib/python3.10/site-packages/bokeh/document/callbacks.py\": 1660586696.0, \"/Users/jameshickman/miniconda3/envs/anly503/lib/python3.10/site-packages/bokeh/util/datatypes.py\": 1660586697.0, \"/Users/jameshickman/miniconda3/envs/anly503/lib/python3.10/site-packages/bokeh/document/models.py\": 1660586696.0, \"/Users/jameshickman/miniconda3/envs/anly503/lib/python3.10/site-packages/bokeh/document/modules.py\": 1660586696.0, \"/Users/jameshickman/miniconda3/envs/anly503/lib/python3.10/site-packages/bokeh/document/util.py\": 1660586696.0, \"/Users/jameshickman/miniconda3/envs/anly503/lib/python3.10/site-packages/bokeh/document/document.py\": 1660586696.0, \"/Users/jameshickman/miniconda3/envs/anly503/lib/python3.10/site-packages/bokeh/document/__init__.py\": 1660586696.0, \"/Users/jameshickman/miniconda3/envs/anly503/lib/python3.10/site-packages/bokeh/util/token.py\": 1660586697.0, \"/Users/jameshickman/miniconda3/envs/anly503/lib/python3.10/site-packages/bokeh/resources.py\": 1660586696.0, \"/Users/jameshickman/miniconda3/envs/anly503/lib/python3.10/site-packages/bokeh/io/state.py\": 1660586696.0, \"/Users/jameshickman/miniconda3/envs/anly503/lib/python3.10/site-packages/bokeh/io/doc.py\": 1660586696.0, \"/Users/jameshickman/miniconda3/envs/anly503/lib/python3.10/site-packages/bokeh/util/compiler.py\": 1660586697.0, \"/Users/jameshickman/miniconda3/envs/anly503/lib/python3.10/site-packages/bokeh/embed/util.py\": 1660586696.0, \"/Users/jameshickman/miniconda3/envs/anly503/lib/python3.10/site-packages/bokeh/embed/bundle.py\": 1660586696.0, \"/Users/jameshickman/miniconda3/envs/anly503/lib/python3.10/site-packages/bokeh/embed/wrappers.py\": 1660586696.0, \"/Users/jameshickman/miniconda3/envs/anly503/lib/python3.10/site-packages/bokeh/embed/elements.py\": 1660586696.0, \"/Users/jameshickman/miniconda3/envs/anly503/lib/python3.10/site-packages/bokeh/embed/server.py\": 1660586696.0, \"/Users/jameshickman/miniconda3/envs/anly503/lib/python3.10/site-packages/bokeh/embed/standalone.py\": 1660586696.0, \"/Users/jameshickman/miniconda3/envs/anly503/lib/python3.10/site-packages/bokeh/embed/__init__.py\": 1660586696.0, \"/Users/jameshickman/miniconda3/envs/anly503/lib/python3.10/site-packages/bokeh/io/util.py\": 1660586696.0, \"/Users/jameshickman/miniconda3/envs/anly503/lib/python3.10/site-packages/bokeh/io/export.py\": 1660586696.0, \"/Users/jameshickman/miniconda3/envs/anly503/lib/python3.10/site-packages/bokeh/io/notebook.py\": 1660586696.0, \"/Users/jameshickman/miniconda3/envs/anly503/lib/python3.10/site-packages/bokeh/io/output.py\": 1660586696.0, \"/Users/jameshickman/miniconda3/envs/anly503/lib/python3.10/site-packages/bokeh/io/saving.py\": 1660586696.0, \"/Users/jameshickman/miniconda3/envs/anly503/lib/python3.10/site-packages/bokeh/util/browser.py\": 1660586697.0, \"/Users/jameshickman/miniconda3/envs/anly503/lib/python3.10/site-packages/bokeh/io/showing.py\": 1660586696.0, \"/Users/jameshickman/miniconda3/envs/anly503/lib/python3.10/site-packages/bokeh/io/__init__.py\": 1660586696.0, \"/Users/jameshickman/miniconda3/envs/anly503/lib/python3.10/site-packages/bokeh/layouts.py\": 1660586696.0, \"/Users/jameshickman/miniconda3/envs/anly503/lib/python3.10/site-packages/bokeh/plotting/__init__.py\": 1660586696.0}\n"
     ]
    }
   ],
   "source": [
    "\n",
    "# imports\n",
    "import os\n",
    "import sys\n",
    "import types\n",
    "import json\n",
    "\n",
    "# figure size/format\n",
    "fig_width = 8\n",
    "fig_height = 5\n",
    "fig_format = 'retina'\n",
    "fig_dpi = 300\n",
    "\n",
    "# matplotlib defaults / format\n",
    "try:\n",
    "  import matplotlib.pyplot as plt\n",
    "  plt.rcParams['figure.figsize'] = (fig_width, fig_height)\n",
    "  plt.rcParams['figure.dpi'] = fig_dpi\n",
    "  plt.rcParams['savefig.dpi'] = fig_dpi\n",
    "  from IPython.display import set_matplotlib_formats\n",
    "  set_matplotlib_formats(fig_format)\n",
    "except Exception:\n",
    "  pass\n",
    "\n",
    "# plotly use connected mode\n",
    "try:\n",
    "  import plotly.io as pio\n",
    "  pio.renderers.default = \"notebook_connected\"\n",
    "except Exception:\n",
    "  pass\n",
    "\n",
    "# enable pandas latex repr when targeting pdfs\n",
    "try:\n",
    "  import pandas as pd\n",
    "  if fig_format == 'pdf':\n",
    "    pd.set_option('display.latex.repr', True)\n",
    "except Exception:\n",
    "  pass\n",
    "\n",
    "\n",
    "\n",
    "# output kernel dependencies\n",
    "kernel_deps = dict()\n",
    "for module in list(sys.modules.values()):\n",
    "  # Some modules play games with sys.modules (e.g. email/__init__.py\n",
    "  # in the standard library), and occasionally this can cause strange\n",
    "  # failures in getattr.  Just ignore anything that's not an ordinary\n",
    "  # module.\n",
    "  if not isinstance(module, types.ModuleType):\n",
    "    continue\n",
    "  path = getattr(module, \"__file__\", None)\n",
    "  if not path:\n",
    "    continue\n",
    "  if path.endswith(\".pyc\") or path.endswith(\".pyo\"):\n",
    "    path = path[:-1]\n",
    "  if not os.path.exists(path):\n",
    "    continue\n",
    "  kernel_deps[path] = os.stat(path).st_mtime\n",
    "print(json.dumps(kernel_deps))\n",
    "\n",
    "# set run_path if requested\n",
    "if r'/Users/jameshickman/Dropbox/2021-GU/2023-08-SPRING/2023-ANLY-503/TMP/slides/W08-2023-plotly':\n",
    "  os.chdir(r'/Users/jameshickman/Dropbox/2021-GU/2023-08-SPRING/2023-ANLY-503/TMP/slides/W08-2023-plotly')\n",
    "\n",
    "# reset state\n",
    "%reset\n",
    "\n",
    "def ojs_define(**kwargs):\n",
    "  import json\n",
    "  try:\n",
    "    # IPython 7.14 preferred import\n",
    "    from IPython.display import display, HTML\n",
    "  except:\n",
    "    from IPython.core.display import display, HTML\n",
    "\n",
    "  # do some minor magic for convenience when handling pandas\n",
    "  # dataframes\n",
    "  def convert(v):\n",
    "    try:\n",
    "      import pandas as pd\n",
    "    except ModuleNotFoundError: # don't do the magic when pandas is not available\n",
    "      return v\n",
    "    if type(v) == pd.Series:\n",
    "      v = pd.DataFrame(v)\n",
    "    if type(v) == pd.DataFrame:\n",
    "      j = json.loads(v.T.to_json(orient='split'))\n",
    "      return dict((k,v) for (k,v) in zip(j[\"index\"], j[\"data\"]))\n",
    "    else:\n",
    "      return v\n",
    "  \n",
    "  v = dict(contents=list(dict(name=key, value=convert(value)) for (key, value) in kwargs.items()))\n",
    "  display(HTML('<script type=\"ojs-define\">' + json.dumps(v) + '</script>'), metadata=dict(ojs_define = True))\n",
    "globals()[\"ojs_define\"] = ojs_define\n"
   ]
  },
  {
   "cell_type": "code",
   "execution_count": 2,
   "id": "2c7a9b94",
   "metadata": {},
   "outputs": [
    {
     "data": {
      "text/html": [
       "\n",
       "        <iframe\n",
       "            width=\"500\"\n",
       "            height=\"400\"\n",
       "            src=\"./img/plotly-0.html\"\n",
       "            frameborder=\"0\"\n",
       "            allowfullscreen\n",
       "            \n",
       "        ></iframe>\n",
       "        "
      ],
      "text/plain": [
       "<IPython.lib.display.IFrame at 0x1570d7b50>"
      ]
     },
     "execution_count": 17,
     "metadata": {},
     "output_type": "execute_result"
    }
   ],
   "source": [
    "# CREATE FIGURE OBJECT\n",
    "import plotly.express as px\n",
    "fig = px.line(x=[\"a\",\"b\",\"c\"], y=[1,3,2], title=\"sample figure\")\n",
    "\n",
    "# SAVE TO FILES\n",
    "file_name=\"./img/plotly-0.html\"\n",
    "fig.write_html(file_name)\n",
    "\n",
    "# RE-LOAD AS AN IFRAME\n",
    "from IPython.display import IFrame\n",
    "IFrame(src=file_name, width=500, height=400)"
   ]
  },
  {
   "cell_type": "code",
   "execution_count": 3,
   "id": "9102a5e3",
   "metadata": {},
   "outputs": [],
   "source": [
    "#| code-fold: false\n",
    "import plotly.io as pio\n",
    "pio.renderers.default = \"plotly_mimetype+notebook_connected\"\n",
    "# pio.renderers.default = \"plotly_mimetype+notebook\""
   ]
  },
  {
   "cell_type": "code",
   "execution_count": 4,
   "id": "a46f73f9",
   "metadata": {},
   "outputs": [
    {
     "data": {
      "text/html": [
       "        <script type=\"text/javascript\">\n",
       "        window.PlotlyConfig = {MathJaxConfig: 'local'};\n",
       "        if (window.MathJax && window.MathJax.Hub && window.MathJax.Hub.Config) {window.MathJax.Hub.Config({SVG: {font: \"STIX-Web\"}});}\n",
       "        if (typeof require !== 'undefined') {\n",
       "        require.undef(\"plotly\");\n",
       "        requirejs.config({\n",
       "            paths: {\n",
       "                'plotly': ['https://cdn.plot.ly/plotly-2.18.2.min']\n",
       "            }\n",
       "        });\n",
       "        require(['plotly'], function(Plotly) {\n",
       "            window._Plotly = Plotly;\n",
       "        });\n",
       "        }\n",
       "        </script>\n",
       "        "
      ]
     },
     "metadata": {},
     "output_type": "display_data"
    },
    {
     "data": {
      "application/vnd.plotly.v1+json": {
       "config": {
        "plotlyServerURL": "https://plot.ly"
       },
       "data": [
        {
         "line": {
          "color": "rgba (0, 0, 0, 1)",
          "dash": "dash",
          "width": 1.5
         },
         "marker": {
          "color": "#000000",
          "line": {
           "color": "#000000",
           "width": 1.0
          },
          "opacity": 1,
          "size": 6.0,
          "symbol": "circle"
         },
         "mode": "lines+markers",
         "name": "_child0",
         "type": "scatter",
         "x": [
          -6.283185307179586,
          -6.031857894892402,
          -5.7805304826052195,
          -5.529203070318036,
          -5.277875658030853,
          -5.026548245743669,
          -4.775220833456485,
          -4.523893421169301,
          -4.2725660088821185,
          -4.0212385965949355,
          -3.7699111843077517,
          -3.518583772020568,
          -3.2672563597333846,
          -3.015928947446201,
          -2.7646015351590174,
          -2.513274122871834,
          -2.2619467105846507,
          -2.010619298297467,
          -1.759291886010284,
          -1.5079644737231002,
          -1.2566370614359172,
          -1.0053096491487334,
          -0.7539822368615496,
          -0.5026548245743667,
          -0.2513274122871829,
          8.881784197001252e-16,
          0.2513274122871838,
          0.5026548245743676,
          0.7539822368615514,
          1.0053096491487343,
          1.2566370614359181,
          1.507964473723101,
          1.7592918860102849,
          2.0106192982974687,
          2.2619467105846525,
          2.5132741228718345,
          2.7646015351590183,
          3.015928947446202,
          3.267256359733386,
          3.5185837720205697,
          3.7699111843077517,
          4.0212385965949355,
          4.272566008882119,
          4.523893421169303,
          4.775220833456487,
          5.026548245743671,
          5.277875658030853,
          5.529203070318037,
          5.78053048260522,
          6.031857894892404,
          6.283185307179586
         ],
         "xaxis": "x",
         "y": [
          2.4492935982947064e-16,
          0.24868988716485535,
          0.4817536741017153,
          0.684547105928689,
          0.8443279255020151,
          0.9510565162951536,
          0.9980267284282716,
          0.9822872507286885,
          0.9048270524660194,
          0.7705132427757894,
          0.587785252292473,
          0.36812455268467753,
          0.12533323356430387,
          -0.12533323356430454,
          -0.36812455268467853,
          -0.5877852522924736,
          -0.7705132427757896,
          -0.9048270524660199,
          -0.9822872507286887,
          -0.9980267284282716,
          -0.9510565162951535,
          -0.8443279255020149,
          -0.6845471059286882,
          -0.4817536741017151,
          -0.24868988716485427,
          8.881784197001252e-16,
          0.24868988716485513,
          0.4817536741017159,
          0.6845471059286894,
          0.8443279255020153,
          0.9510565162951539,
          0.9980267284282716,
          0.9822872507286886,
          0.9048270524660191,
          0.7705132427757884,
          0.5877852522924732,
          0.3681245526846777,
          0.12533323356430365,
          -0.1253332335643052,
          -0.36812455268467914,
          -0.587785252292473,
          -0.7705132427757894,
          -0.9048270524660198,
          -0.9822872507286888,
          -0.9980267284282714,
          -0.9510565162951531,
          -0.8443279255020151,
          -0.6845471059286883,
          -0.48175367410171455,
          -0.24868988716485363,
          -2.4492935982947064e-16
         ],
         "yaxis": "y"
        }
       ],
       "layout": {
        "autosize": false,
        "height": 400,
        "hovermode": "closest",
        "margin": {
         "b": 164,
         "l": 300,
         "pad": 0,
         "r": 239,
         "t": 180
        },
        "showlegend": false,
        "template": {
         "data": {
          "bar": [
           {
            "error_x": {
             "color": "#2a3f5f"
            },
            "error_y": {
             "color": "#2a3f5f"
            },
            "marker": {
             "line": {
              "color": "white",
              "width": 0.5
             },
             "pattern": {
              "fillmode": "overlay",
              "size": 10,
              "solidity": 0.2
             }
            },
            "type": "bar"
           }
          ],
          "barpolar": [
           {
            "marker": {
             "line": {
              "color": "white",
              "width": 0.5
             },
             "pattern": {
              "fillmode": "overlay",
              "size": 10,
              "solidity": 0.2
             }
            },
            "type": "barpolar"
           }
          ],
          "carpet": [
           {
            "aaxis": {
             "endlinecolor": "#2a3f5f",
             "gridcolor": "#C8D4E3",
             "linecolor": "#C8D4E3",
             "minorgridcolor": "#C8D4E3",
             "startlinecolor": "#2a3f5f"
            },
            "baxis": {
             "endlinecolor": "#2a3f5f",
             "gridcolor": "#C8D4E3",
             "linecolor": "#C8D4E3",
             "minorgridcolor": "#C8D4E3",
             "startlinecolor": "#2a3f5f"
            },
            "type": "carpet"
           }
          ],
          "choropleth": [
           {
            "colorbar": {
             "outlinewidth": 0,
             "ticks": ""
            },
            "type": "choropleth"
           }
          ],
          "contour": [
           {
            "colorbar": {
             "outlinewidth": 0,
             "ticks": ""
            },
            "colorscale": [
             [
              0.0,
              "#0d0887"
             ],
             [
              0.1111111111111111,
              "#46039f"
             ],
             [
              0.2222222222222222,
              "#7201a8"
             ],
             [
              0.3333333333333333,
              "#9c179e"
             ],
             [
              0.4444444444444444,
              "#bd3786"
             ],
             [
              0.5555555555555556,
              "#d8576b"
             ],
             [
              0.6666666666666666,
              "#ed7953"
             ],
             [
              0.7777777777777778,
              "#fb9f3a"
             ],
             [
              0.8888888888888888,
              "#fdca26"
             ],
             [
              1.0,
              "#f0f921"
             ]
            ],
            "type": "contour"
           }
          ],
          "contourcarpet": [
           {
            "colorbar": {
             "outlinewidth": 0,
             "ticks": ""
            },
            "type": "contourcarpet"
           }
          ],
          "heatmap": [
           {
            "colorbar": {
             "outlinewidth": 0,
             "ticks": ""
            },
            "colorscale": [
             [
              0.0,
              "#0d0887"
             ],
             [
              0.1111111111111111,
              "#46039f"
             ],
             [
              0.2222222222222222,
              "#7201a8"
             ],
             [
              0.3333333333333333,
              "#9c179e"
             ],
             [
              0.4444444444444444,
              "#bd3786"
             ],
             [
              0.5555555555555556,
              "#d8576b"
             ],
             [
              0.6666666666666666,
              "#ed7953"
             ],
             [
              0.7777777777777778,
              "#fb9f3a"
             ],
             [
              0.8888888888888888,
              "#fdca26"
             ],
             [
              1.0,
              "#f0f921"
             ]
            ],
            "type": "heatmap"
           }
          ],
          "heatmapgl": [
           {
            "colorbar": {
             "outlinewidth": 0,
             "ticks": ""
            },
            "colorscale": [
             [
              0.0,
              "#0d0887"
             ],
             [
              0.1111111111111111,
              "#46039f"
             ],
             [
              0.2222222222222222,
              "#7201a8"
             ],
             [
              0.3333333333333333,
              "#9c179e"
             ],
             [
              0.4444444444444444,
              "#bd3786"
             ],
             [
              0.5555555555555556,
              "#d8576b"
             ],
             [
              0.6666666666666666,
              "#ed7953"
             ],
             [
              0.7777777777777778,
              "#fb9f3a"
             ],
             [
              0.8888888888888888,
              "#fdca26"
             ],
             [
              1.0,
              "#f0f921"
             ]
            ],
            "type": "heatmapgl"
           }
          ],
          "histogram": [
           {
            "marker": {
             "pattern": {
              "fillmode": "overlay",
              "size": 10,
              "solidity": 0.2
             }
            },
            "type": "histogram"
           }
          ],
          "histogram2d": [
           {
            "colorbar": {
             "outlinewidth": 0,
             "ticks": ""
            },
            "colorscale": [
             [
              0.0,
              "#0d0887"
             ],
             [
              0.1111111111111111,
              "#46039f"
             ],
             [
              0.2222222222222222,
              "#7201a8"
             ],
             [
              0.3333333333333333,
              "#9c179e"
             ],
             [
              0.4444444444444444,
              "#bd3786"
             ],
             [
              0.5555555555555556,
              "#d8576b"
             ],
             [
              0.6666666666666666,
              "#ed7953"
             ],
             [
              0.7777777777777778,
              "#fb9f3a"
             ],
             [
              0.8888888888888888,
              "#fdca26"
             ],
             [
              1.0,
              "#f0f921"
             ]
            ],
            "type": "histogram2d"
           }
          ],
          "histogram2dcontour": [
           {
            "colorbar": {
             "outlinewidth": 0,
             "ticks": ""
            },
            "colorscale": [
             [
              0.0,
              "#0d0887"
             ],
             [
              0.1111111111111111,
              "#46039f"
             ],
             [
              0.2222222222222222,
              "#7201a8"
             ],
             [
              0.3333333333333333,
              "#9c179e"
             ],
             [
              0.4444444444444444,
              "#bd3786"
             ],
             [
              0.5555555555555556,
              "#d8576b"
             ],
             [
              0.6666666666666666,
              "#ed7953"
             ],
             [
              0.7777777777777778,
              "#fb9f3a"
             ],
             [
              0.8888888888888888,
              "#fdca26"
             ],
             [
              1.0,
              "#f0f921"
             ]
            ],
            "type": "histogram2dcontour"
           }
          ],
          "mesh3d": [
           {
            "colorbar": {
             "outlinewidth": 0,
             "ticks": ""
            },
            "type": "mesh3d"
           }
          ],
          "parcoords": [
           {
            "line": {
             "colorbar": {
              "outlinewidth": 0,
              "ticks": ""
             }
            },
            "type": "parcoords"
           }
          ],
          "pie": [
           {
            "automargin": true,
            "type": "pie"
           }
          ],
          "scatter": [
           {
            "fillpattern": {
             "fillmode": "overlay",
             "size": 10,
             "solidity": 0.2
            },
            "type": "scatter"
           }
          ],
          "scatter3d": [
           {
            "line": {
             "colorbar": {
              "outlinewidth": 0,
              "ticks": ""
             }
            },
            "marker": {
             "colorbar": {
              "outlinewidth": 0,
              "ticks": ""
             }
            },
            "type": "scatter3d"
           }
          ],
          "scattercarpet": [
           {
            "marker": {
             "colorbar": {
              "outlinewidth": 0,
              "ticks": ""
             }
            },
            "type": "scattercarpet"
           }
          ],
          "scattergeo": [
           {
            "marker": {
             "colorbar": {
              "outlinewidth": 0,
              "ticks": ""
             }
            },
            "type": "scattergeo"
           }
          ],
          "scattergl": [
           {
            "marker": {
             "colorbar": {
              "outlinewidth": 0,
              "ticks": ""
             }
            },
            "type": "scattergl"
           }
          ],
          "scattermapbox": [
           {
            "marker": {
             "colorbar": {
              "outlinewidth": 0,
              "ticks": ""
             }
            },
            "type": "scattermapbox"
           }
          ],
          "scatterpolar": [
           {
            "marker": {
             "colorbar": {
              "outlinewidth": 0,
              "ticks": ""
             }
            },
            "type": "scatterpolar"
           }
          ],
          "scatterpolargl": [
           {
            "marker": {
             "colorbar": {
              "outlinewidth": 0,
              "ticks": ""
             }
            },
            "type": "scatterpolargl"
           }
          ],
          "scatterternary": [
           {
            "marker": {
             "colorbar": {
              "outlinewidth": 0,
              "ticks": ""
             }
            },
            "type": "scatterternary"
           }
          ],
          "surface": [
           {
            "colorbar": {
             "outlinewidth": 0,
             "ticks": ""
            },
            "colorscale": [
             [
              0.0,
              "#0d0887"
             ],
             [
              0.1111111111111111,
              "#46039f"
             ],
             [
              0.2222222222222222,
              "#7201a8"
             ],
             [
              0.3333333333333333,
              "#9c179e"
             ],
             [
              0.4444444444444444,
              "#bd3786"
             ],
             [
              0.5555555555555556,
              "#d8576b"
             ],
             [
              0.6666666666666666,
              "#ed7953"
             ],
             [
              0.7777777777777778,
              "#fb9f3a"
             ],
             [
              0.8888888888888888,
              "#fdca26"
             ],
             [
              1.0,
              "#f0f921"
             ]
            ],
            "type": "surface"
           }
          ],
          "table": [
           {
            "cells": {
             "fill": {
              "color": "#EBF0F8"
             },
             "line": {
              "color": "white"
             }
            },
            "header": {
             "fill": {
              "color": "#C8D4E3"
             },
             "line": {
              "color": "white"
             }
            },
            "type": "table"
           }
          ]
         },
         "layout": {
          "annotationdefaults": {
           "arrowcolor": "#2a3f5f",
           "arrowhead": 0,
           "arrowwidth": 1
          },
          "autotypenumbers": "strict",
          "coloraxis": {
           "colorbar": {
            "outlinewidth": 0,
            "ticks": ""
           }
          },
          "colorscale": {
           "diverging": [
            [
             0,
             "#8e0152"
            ],
            [
             0.1,
             "#c51b7d"
            ],
            [
             0.2,
             "#de77ae"
            ],
            [
             0.3,
             "#f1b6da"
            ],
            [
             0.4,
             "#fde0ef"
            ],
            [
             0.5,
             "#f7f7f7"
            ],
            [
             0.6,
             "#e6f5d0"
            ],
            [
             0.7,
             "#b8e186"
            ],
            [
             0.8,
             "#7fbc41"
            ],
            [
             0.9,
             "#4d9221"
            ],
            [
             1,
             "#276419"
            ]
           ],
           "sequential": [
            [
             0.0,
             "#0d0887"
            ],
            [
             0.1111111111111111,
             "#46039f"
            ],
            [
             0.2222222222222222,
             "#7201a8"
            ],
            [
             0.3333333333333333,
             "#9c179e"
            ],
            [
             0.4444444444444444,
             "#bd3786"
            ],
            [
             0.5555555555555556,
             "#d8576b"
            ],
            [
             0.6666666666666666,
             "#ed7953"
            ],
            [
             0.7777777777777778,
             "#fb9f3a"
            ],
            [
             0.8888888888888888,
             "#fdca26"
            ],
            [
             1.0,
             "#f0f921"
            ]
           ],
           "sequentialminus": [
            [
             0.0,
             "#0d0887"
            ],
            [
             0.1111111111111111,
             "#46039f"
            ],
            [
             0.2222222222222222,
             "#7201a8"
            ],
            [
             0.3333333333333333,
             "#9c179e"
            ],
            [
             0.4444444444444444,
             "#bd3786"
            ],
            [
             0.5555555555555556,
             "#d8576b"
            ],
            [
             0.6666666666666666,
             "#ed7953"
            ],
            [
             0.7777777777777778,
             "#fb9f3a"
            ],
            [
             0.8888888888888888,
             "#fdca26"
            ],
            [
             1.0,
             "#f0f921"
            ]
           ]
          },
          "colorway": [
           "#636efa",
           "#EF553B",
           "#00cc96",
           "#ab63fa",
           "#FFA15A",
           "#19d3f3",
           "#FF6692",
           "#B6E880",
           "#FF97FF",
           "#FECB52"
          ],
          "font": {
           "color": "#2a3f5f"
          },
          "geo": {
           "bgcolor": "white",
           "lakecolor": "white",
           "landcolor": "white",
           "showlakes": true,
           "showland": true,
           "subunitcolor": "#C8D4E3"
          },
          "hoverlabel": {
           "align": "left"
          },
          "hovermode": "closest",
          "mapbox": {
           "style": "light"
          },
          "paper_bgcolor": "white",
          "plot_bgcolor": "white",
          "polar": {
           "angularaxis": {
            "gridcolor": "#EBF0F8",
            "linecolor": "#EBF0F8",
            "ticks": ""
           },
           "bgcolor": "white",
           "radialaxis": {
            "gridcolor": "#EBF0F8",
            "linecolor": "#EBF0F8",
            "ticks": ""
           }
          },
          "scene": {
           "xaxis": {
            "backgroundcolor": "white",
            "gridcolor": "#DFE8F3",
            "gridwidth": 2,
            "linecolor": "#EBF0F8",
            "showbackground": true,
            "ticks": "",
            "zerolinecolor": "#EBF0F8"
           },
           "yaxis": {
            "backgroundcolor": "white",
            "gridcolor": "#DFE8F3",
            "gridwidth": 2,
            "linecolor": "#EBF0F8",
            "showbackground": true,
            "ticks": "",
            "zerolinecolor": "#EBF0F8"
           },
           "zaxis": {
            "backgroundcolor": "white",
            "gridcolor": "#DFE8F3",
            "gridwidth": 2,
            "linecolor": "#EBF0F8",
            "showbackground": true,
            "ticks": "",
            "zerolinecolor": "#EBF0F8"
           }
          },
          "shapedefaults": {
           "line": {
            "color": "#2a3f5f"
           }
          },
          "ternary": {
           "aaxis": {
            "gridcolor": "#DFE8F3",
            "linecolor": "#A2B1C6",
            "ticks": ""
           },
           "baxis": {
            "gridcolor": "#DFE8F3",
            "linecolor": "#A2B1C6",
            "ticks": ""
           },
           "bgcolor": "white",
           "caxis": {
            "gridcolor": "#DFE8F3",
            "linecolor": "#A2B1C6",
            "ticks": ""
           }
          },
          "title": {
           "x": 0.05
          },
          "xaxis": {
           "automargin": true,
           "gridcolor": "#EBF0F8",
           "linecolor": "#EBF0F8",
           "ticks": "",
           "title": {
            "standoff": 15
           },
           "zerolinecolor": "#EBF0F8",
           "zerolinewidth": 2
          },
          "yaxis": {
           "automargin": true,
           "gridcolor": "#EBF0F8",
           "linecolor": "#EBF0F8",
           "ticks": "",
           "title": {
            "standoff": 15
           },
           "zerolinecolor": "#EBF0F8",
           "zerolinewidth": 2
          }
         }
        },
        "width": 800,
        "xaxis": {
         "anchor": "y",
         "domain": [
          0.0,
          1.0
         ],
         "mirror": "ticks",
         "nticks": 9,
         "range": [
          -6.911503837897545,
          6.911503837897545
         ],
         "showgrid": false,
         "showline": true,
         "side": "bottom",
         "tickfont": {
          "size": 10.0
         },
         "ticks": "inside",
         "title": {
          "font": {
           "color": "#000000",
           "size": 10.0
          },
          "text": "x"
         },
         "type": "linear",
         "zeroline": false
        },
        "yaxis": {
         "anchor": "x",
         "domain": [
          0.0,
          1.0
         ],
         "mirror": "ticks",
         "nticks": 11,
         "range": [
          -1.0978294012710987,
          1.0978294012710987
         ],
         "showgrid": false,
         "showline": true,
         "side": "left",
         "tickfont": {
          "size": 10.0
         },
         "ticks": "inside",
         "title": {
          "font": {
           "color": "#000000",
           "size": 10.0
          },
          "text": "sin(x)"
         },
         "type": "linear",
         "zeroline": false
        }
       }
      },
      "text/html": [
       "<div>                            <div id=\"62928966-b17f-4ef5-94a7-99956d5d7474\" class=\"plotly-graph-div\" style=\"height:400px; width:800px;\"></div>            <script type=\"text/javascript\">                require([\"plotly\"], function(Plotly) {                    window.PLOTLYENV=window.PLOTLYENV || {};                                    if (document.getElementById(\"62928966-b17f-4ef5-94a7-99956d5d7474\")) {                    Plotly.newPlot(                        \"62928966-b17f-4ef5-94a7-99956d5d7474\",                        [{\"line\":{\"color\":\"rgba (0, 0, 0, 1)\",\"dash\":\"dash\",\"width\":1.5},\"marker\":{\"color\":\"#000000\",\"line\":{\"color\":\"#000000\",\"width\":1.0},\"opacity\":1,\"size\":6.0,\"symbol\":\"circle\"},\"mode\":\"lines+markers\",\"name\":\"_child0\",\"x\":[-6.283185307179586,-6.031857894892402,-5.7805304826052195,-5.529203070318036,-5.277875658030853,-5.026548245743669,-4.775220833456485,-4.523893421169301,-4.2725660088821185,-4.0212385965949355,-3.7699111843077517,-3.518583772020568,-3.2672563597333846,-3.015928947446201,-2.7646015351590174,-2.513274122871834,-2.2619467105846507,-2.010619298297467,-1.759291886010284,-1.5079644737231002,-1.2566370614359172,-1.0053096491487334,-0.7539822368615496,-0.5026548245743667,-0.2513274122871829,8.881784197001252e-16,0.2513274122871838,0.5026548245743676,0.7539822368615514,1.0053096491487343,1.2566370614359181,1.507964473723101,1.7592918860102849,2.0106192982974687,2.2619467105846525,2.5132741228718345,2.7646015351590183,3.015928947446202,3.267256359733386,3.5185837720205697,3.7699111843077517,4.0212385965949355,4.272566008882119,4.523893421169303,4.775220833456487,5.026548245743671,5.277875658030853,5.529203070318037,5.78053048260522,6.031857894892404,6.283185307179586],\"xaxis\":\"x\",\"y\":[2.4492935982947064e-16,0.24868988716485535,0.4817536741017153,0.684547105928689,0.8443279255020151,0.9510565162951536,0.9980267284282716,0.9822872507286885,0.9048270524660194,0.7705132427757894,0.587785252292473,0.36812455268467753,0.12533323356430387,-0.12533323356430454,-0.36812455268467853,-0.5877852522924736,-0.7705132427757896,-0.9048270524660199,-0.9822872507286887,-0.9980267284282716,-0.9510565162951535,-0.8443279255020149,-0.6845471059286882,-0.4817536741017151,-0.24868988716485427,8.881784197001252e-16,0.24868988716485513,0.4817536741017159,0.6845471059286894,0.8443279255020153,0.9510565162951539,0.9980267284282716,0.9822872507286886,0.9048270524660191,0.7705132427757884,0.5877852522924732,0.3681245526846777,0.12533323356430365,-0.1253332335643052,-0.36812455268467914,-0.587785252292473,-0.7705132427757894,-0.9048270524660198,-0.9822872507286888,-0.9980267284282714,-0.9510565162951531,-0.8443279255020151,-0.6845471059286883,-0.48175367410171455,-0.24868988716485363,-2.4492935982947064e-16],\"yaxis\":\"y\",\"type\":\"scatter\"}],                        {\"autosize\":false,\"height\":400,\"hovermode\":\"closest\",\"width\":800,\"template\":{\"data\":{\"barpolar\":[{\"marker\":{\"line\":{\"color\":\"white\",\"width\":0.5},\"pattern\":{\"fillmode\":\"overlay\",\"size\":10,\"solidity\":0.2}},\"type\":\"barpolar\"}],\"bar\":[{\"error_x\":{\"color\":\"#2a3f5f\"},\"error_y\":{\"color\":\"#2a3f5f\"},\"marker\":{\"line\":{\"color\":\"white\",\"width\":0.5},\"pattern\":{\"fillmode\":\"overlay\",\"size\":10,\"solidity\":0.2}},\"type\":\"bar\"}],\"carpet\":[{\"aaxis\":{\"endlinecolor\":\"#2a3f5f\",\"gridcolor\":\"#C8D4E3\",\"linecolor\":\"#C8D4E3\",\"minorgridcolor\":\"#C8D4E3\",\"startlinecolor\":\"#2a3f5f\"},\"baxis\":{\"endlinecolor\":\"#2a3f5f\",\"gridcolor\":\"#C8D4E3\",\"linecolor\":\"#C8D4E3\",\"minorgridcolor\":\"#C8D4E3\",\"startlinecolor\":\"#2a3f5f\"},\"type\":\"carpet\"}],\"choropleth\":[{\"colorbar\":{\"outlinewidth\":0,\"ticks\":\"\"},\"type\":\"choropleth\"}],\"contourcarpet\":[{\"colorbar\":{\"outlinewidth\":0,\"ticks\":\"\"},\"type\":\"contourcarpet\"}],\"contour\":[{\"colorbar\":{\"outlinewidth\":0,\"ticks\":\"\"},\"colorscale\":[[0.0,\"#0d0887\"],[0.1111111111111111,\"#46039f\"],[0.2222222222222222,\"#7201a8\"],[0.3333333333333333,\"#9c179e\"],[0.4444444444444444,\"#bd3786\"],[0.5555555555555556,\"#d8576b\"],[0.6666666666666666,\"#ed7953\"],[0.7777777777777778,\"#fb9f3a\"],[0.8888888888888888,\"#fdca26\"],[1.0,\"#f0f921\"]],\"type\":\"contour\"}],\"heatmapgl\":[{\"colorbar\":{\"outlinewidth\":0,\"ticks\":\"\"},\"colorscale\":[[0.0,\"#0d0887\"],[0.1111111111111111,\"#46039f\"],[0.2222222222222222,\"#7201a8\"],[0.3333333333333333,\"#9c179e\"],[0.4444444444444444,\"#bd3786\"],[0.5555555555555556,\"#d8576b\"],[0.6666666666666666,\"#ed7953\"],[0.7777777777777778,\"#fb9f3a\"],[0.8888888888888888,\"#fdca26\"],[1.0,\"#f0f921\"]],\"type\":\"heatmapgl\"}],\"heatmap\":[{\"colorbar\":{\"outlinewidth\":0,\"ticks\":\"\"},\"colorscale\":[[0.0,\"#0d0887\"],[0.1111111111111111,\"#46039f\"],[0.2222222222222222,\"#7201a8\"],[0.3333333333333333,\"#9c179e\"],[0.4444444444444444,\"#bd3786\"],[0.5555555555555556,\"#d8576b\"],[0.6666666666666666,\"#ed7953\"],[0.7777777777777778,\"#fb9f3a\"],[0.8888888888888888,\"#fdca26\"],[1.0,\"#f0f921\"]],\"type\":\"heatmap\"}],\"histogram2dcontour\":[{\"colorbar\":{\"outlinewidth\":0,\"ticks\":\"\"},\"colorscale\":[[0.0,\"#0d0887\"],[0.1111111111111111,\"#46039f\"],[0.2222222222222222,\"#7201a8\"],[0.3333333333333333,\"#9c179e\"],[0.4444444444444444,\"#bd3786\"],[0.5555555555555556,\"#d8576b\"],[0.6666666666666666,\"#ed7953\"],[0.7777777777777778,\"#fb9f3a\"],[0.8888888888888888,\"#fdca26\"],[1.0,\"#f0f921\"]],\"type\":\"histogram2dcontour\"}],\"histogram2d\":[{\"colorbar\":{\"outlinewidth\":0,\"ticks\":\"\"},\"colorscale\":[[0.0,\"#0d0887\"],[0.1111111111111111,\"#46039f\"],[0.2222222222222222,\"#7201a8\"],[0.3333333333333333,\"#9c179e\"],[0.4444444444444444,\"#bd3786\"],[0.5555555555555556,\"#d8576b\"],[0.6666666666666666,\"#ed7953\"],[0.7777777777777778,\"#fb9f3a\"],[0.8888888888888888,\"#fdca26\"],[1.0,\"#f0f921\"]],\"type\":\"histogram2d\"}],\"histogram\":[{\"marker\":{\"pattern\":{\"fillmode\":\"overlay\",\"size\":10,\"solidity\":0.2}},\"type\":\"histogram\"}],\"mesh3d\":[{\"colorbar\":{\"outlinewidth\":0,\"ticks\":\"\"},\"type\":\"mesh3d\"}],\"parcoords\":[{\"line\":{\"colorbar\":{\"outlinewidth\":0,\"ticks\":\"\"}},\"type\":\"parcoords\"}],\"pie\":[{\"automargin\":true,\"type\":\"pie\"}],\"scatter3d\":[{\"line\":{\"colorbar\":{\"outlinewidth\":0,\"ticks\":\"\"}},\"marker\":{\"colorbar\":{\"outlinewidth\":0,\"ticks\":\"\"}},\"type\":\"scatter3d\"}],\"scattercarpet\":[{\"marker\":{\"colorbar\":{\"outlinewidth\":0,\"ticks\":\"\"}},\"type\":\"scattercarpet\"}],\"scattergeo\":[{\"marker\":{\"colorbar\":{\"outlinewidth\":0,\"ticks\":\"\"}},\"type\":\"scattergeo\"}],\"scattergl\":[{\"marker\":{\"colorbar\":{\"outlinewidth\":0,\"ticks\":\"\"}},\"type\":\"scattergl\"}],\"scattermapbox\":[{\"marker\":{\"colorbar\":{\"outlinewidth\":0,\"ticks\":\"\"}},\"type\":\"scattermapbox\"}],\"scatterpolargl\":[{\"marker\":{\"colorbar\":{\"outlinewidth\":0,\"ticks\":\"\"}},\"type\":\"scatterpolargl\"}],\"scatterpolar\":[{\"marker\":{\"colorbar\":{\"outlinewidth\":0,\"ticks\":\"\"}},\"type\":\"scatterpolar\"}],\"scatter\":[{\"fillpattern\":{\"fillmode\":\"overlay\",\"size\":10,\"solidity\":0.2},\"type\":\"scatter\"}],\"scatterternary\":[{\"marker\":{\"colorbar\":{\"outlinewidth\":0,\"ticks\":\"\"}},\"type\":\"scatterternary\"}],\"surface\":[{\"colorbar\":{\"outlinewidth\":0,\"ticks\":\"\"},\"colorscale\":[[0.0,\"#0d0887\"],[0.1111111111111111,\"#46039f\"],[0.2222222222222222,\"#7201a8\"],[0.3333333333333333,\"#9c179e\"],[0.4444444444444444,\"#bd3786\"],[0.5555555555555556,\"#d8576b\"],[0.6666666666666666,\"#ed7953\"],[0.7777777777777778,\"#fb9f3a\"],[0.8888888888888888,\"#fdca26\"],[1.0,\"#f0f921\"]],\"type\":\"surface\"}],\"table\":[{\"cells\":{\"fill\":{\"color\":\"#EBF0F8\"},\"line\":{\"color\":\"white\"}},\"header\":{\"fill\":{\"color\":\"#C8D4E3\"},\"line\":{\"color\":\"white\"}},\"type\":\"table\"}]},\"layout\":{\"annotationdefaults\":{\"arrowcolor\":\"#2a3f5f\",\"arrowhead\":0,\"arrowwidth\":1},\"autotypenumbers\":\"strict\",\"coloraxis\":{\"colorbar\":{\"outlinewidth\":0,\"ticks\":\"\"}},\"colorscale\":{\"diverging\":[[0,\"#8e0152\"],[0.1,\"#c51b7d\"],[0.2,\"#de77ae\"],[0.3,\"#f1b6da\"],[0.4,\"#fde0ef\"],[0.5,\"#f7f7f7\"],[0.6,\"#e6f5d0\"],[0.7,\"#b8e186\"],[0.8,\"#7fbc41\"],[0.9,\"#4d9221\"],[1,\"#276419\"]],\"sequential\":[[0.0,\"#0d0887\"],[0.1111111111111111,\"#46039f\"],[0.2222222222222222,\"#7201a8\"],[0.3333333333333333,\"#9c179e\"],[0.4444444444444444,\"#bd3786\"],[0.5555555555555556,\"#d8576b\"],[0.6666666666666666,\"#ed7953\"],[0.7777777777777778,\"#fb9f3a\"],[0.8888888888888888,\"#fdca26\"],[1.0,\"#f0f921\"]],\"sequentialminus\":[[0.0,\"#0d0887\"],[0.1111111111111111,\"#46039f\"],[0.2222222222222222,\"#7201a8\"],[0.3333333333333333,\"#9c179e\"],[0.4444444444444444,\"#bd3786\"],[0.5555555555555556,\"#d8576b\"],[0.6666666666666666,\"#ed7953\"],[0.7777777777777778,\"#fb9f3a\"],[0.8888888888888888,\"#fdca26\"],[1.0,\"#f0f921\"]]},\"colorway\":[\"#636efa\",\"#EF553B\",\"#00cc96\",\"#ab63fa\",\"#FFA15A\",\"#19d3f3\",\"#FF6692\",\"#B6E880\",\"#FF97FF\",\"#FECB52\"],\"font\":{\"color\":\"#2a3f5f\"},\"geo\":{\"bgcolor\":\"white\",\"lakecolor\":\"white\",\"landcolor\":\"white\",\"showlakes\":true,\"showland\":true,\"subunitcolor\":\"#C8D4E3\"},\"hoverlabel\":{\"align\":\"left\"},\"hovermode\":\"closest\",\"mapbox\":{\"style\":\"light\"},\"paper_bgcolor\":\"white\",\"plot_bgcolor\":\"white\",\"polar\":{\"angularaxis\":{\"gridcolor\":\"#EBF0F8\",\"linecolor\":\"#EBF0F8\",\"ticks\":\"\"},\"bgcolor\":\"white\",\"radialaxis\":{\"gridcolor\":\"#EBF0F8\",\"linecolor\":\"#EBF0F8\",\"ticks\":\"\"}},\"scene\":{\"xaxis\":{\"backgroundcolor\":\"white\",\"gridcolor\":\"#DFE8F3\",\"gridwidth\":2,\"linecolor\":\"#EBF0F8\",\"showbackground\":true,\"ticks\":\"\",\"zerolinecolor\":\"#EBF0F8\"},\"yaxis\":{\"backgroundcolor\":\"white\",\"gridcolor\":\"#DFE8F3\",\"gridwidth\":2,\"linecolor\":\"#EBF0F8\",\"showbackground\":true,\"ticks\":\"\",\"zerolinecolor\":\"#EBF0F8\"},\"zaxis\":{\"backgroundcolor\":\"white\",\"gridcolor\":\"#DFE8F3\",\"gridwidth\":2,\"linecolor\":\"#EBF0F8\",\"showbackground\":true,\"ticks\":\"\",\"zerolinecolor\":\"#EBF0F8\"}},\"shapedefaults\":{\"line\":{\"color\":\"#2a3f5f\"}},\"ternary\":{\"aaxis\":{\"gridcolor\":\"#DFE8F3\",\"linecolor\":\"#A2B1C6\",\"ticks\":\"\"},\"baxis\":{\"gridcolor\":\"#DFE8F3\",\"linecolor\":\"#A2B1C6\",\"ticks\":\"\"},\"bgcolor\":\"white\",\"caxis\":{\"gridcolor\":\"#DFE8F3\",\"linecolor\":\"#A2B1C6\",\"ticks\":\"\"}},\"title\":{\"x\":0.05},\"xaxis\":{\"automargin\":true,\"gridcolor\":\"#EBF0F8\",\"linecolor\":\"#EBF0F8\",\"ticks\":\"\",\"title\":{\"standoff\":15},\"zerolinecolor\":\"#EBF0F8\",\"zerolinewidth\":2},\"yaxis\":{\"automargin\":true,\"gridcolor\":\"#EBF0F8\",\"linecolor\":\"#EBF0F8\",\"ticks\":\"\",\"title\":{\"standoff\":15},\"zerolinecolor\":\"#EBF0F8\",\"zerolinewidth\":2}}},\"margin\":{\"b\":164,\"l\":300,\"pad\":0,\"r\":239,\"t\":180},\"xaxis\":{\"anchor\":\"y\",\"domain\":[0.0,1.0],\"mirror\":\"ticks\",\"nticks\":9,\"range\":[-6.911503837897545,6.911503837897545],\"showgrid\":false,\"showline\":true,\"side\":\"bottom\",\"tickfont\":{\"size\":10.0},\"ticks\":\"inside\",\"type\":\"linear\",\"zeroline\":false,\"title\":{\"text\":\"x\",\"font\":{\"color\":\"#000000\",\"size\":10.0}}},\"yaxis\":{\"anchor\":\"x\",\"domain\":[0.0,1.0],\"mirror\":\"ticks\",\"nticks\":11,\"range\":[-1.0978294012710987,1.0978294012710987],\"showgrid\":false,\"showline\":true,\"side\":\"left\",\"tickfont\":{\"size\":10.0},\"ticks\":\"inside\",\"type\":\"linear\",\"zeroline\":false,\"title\":{\"text\":\"sin(x)\",\"font\":{\"color\":\"#000000\",\"size\":10.0}}},\"showlegend\":false},                        {\"responsive\": true}                    ).then(function(){\n",
       "                            \n",
       "var gd = document.getElementById('62928966-b17f-4ef5-94a7-99956d5d7474');\n",
       "var x = new MutationObserver(function (mutations, observer) {{\n",
       "        var display = window.getComputedStyle(gd).display;\n",
       "        if (!display || display === 'none') {{\n",
       "            console.log([gd, 'removed!']);\n",
       "            Plotly.purge(gd);\n",
       "            observer.disconnect();\n",
       "        }}\n",
       "}});\n",
       "\n",
       "// Listen for the removal of the full notebook cells\n",
       "var notebookContainer = gd.closest('#notebook-container');\n",
       "if (notebookContainer) {{\n",
       "    x.observe(notebookContainer, {childList: true});\n",
       "}}\n",
       "\n",
       "// Listen for the clearing of the current output cell\n",
       "var outputEl = gd.closest('.output');\n",
       "if (outputEl) {{\n",
       "    x.observe(outputEl, {childList: true});\n",
       "}}\n",
       "\n",
       "                        })                };                });            </script>        </div>"
      ]
     },
     "metadata": {},
     "output_type": "display_data"
    }
   ],
   "source": [
    "# import warnings\n",
    "# warnings.filterwarnings(\"ignore\")\n",
    "\n",
    "# IMPORT MODULES\n",
    "import numpy as np\n",
    "import matplotlib.pyplot as plt\n",
    "import plotly.tools as tls\n",
    "\n",
    "# CREATE DATA ARRAYS\n",
    "x = np.linspace(-2.0 * np.pi, 2.0 * np.pi, 51)\n",
    "y = np.sin(x)\n",
    "\n",
    "# MAKE A MPL FIGURE\n",
    "mpl_fig = plt.figure()\n",
    "plt.plot(x, y, \"ko--\")\n",
    "plt.xlabel(\"x\")\n",
    "plt.ylabel(\"sin(x)\")\n",
    "# plt.show()\n",
    "\n",
    "# CONVERT USING PLOTLY\n",
    "fig = tls.mpl_to_plotly(mpl_fig)\n",
    "\n",
    "# UPDATE THEME\n",
    "fig.update_layout(template=\"plotly_white\")\n",
    "fig.update_layout(width=800,height=400)\n",
    "\n",
    "# SHOW\n",
    "fig.show()\n",
    "\n",
    "# # # SAVE AND RENDER \n",
    "# file_name=\"./img/mpl-to-plotly.html\"\n",
    "# fig.write_html(file_name)\n",
    "# from IPython.display import IFrame\n",
    "# IFrame(src=file_name, width=900, height=500)"
   ]
  },
  {
   "cell_type": "code",
   "execution_count": 5,
   "id": "9764dad8",
   "metadata": {},
   "outputs": [
    {
     "data": {
      "text/html": [
       "        <script type=\"text/javascript\">\n",
       "        window.PlotlyConfig = {MathJaxConfig: 'local'};\n",
       "        if (window.MathJax && window.MathJax.Hub && window.MathJax.Hub.Config) {window.MathJax.Hub.Config({SVG: {font: \"STIX-Web\"}});}\n",
       "        if (typeof require !== 'undefined') {\n",
       "        require.undef(\"plotly\");\n",
       "        requirejs.config({\n",
       "            paths: {\n",
       "                'plotly': ['https://cdn.plot.ly/plotly-2.18.2.min']\n",
       "            }\n",
       "        });\n",
       "        require(['plotly'], function(Plotly) {\n",
       "            window._Plotly = Plotly;\n",
       "        });\n",
       "        }\n",
       "        </script>\n",
       "        "
      ]
     },
     "metadata": {},
     "output_type": "display_data"
    },
    {
     "data": {
      "application/vnd.plotly.v1+json": {
       "config": {
        "plotlyServerURL": "https://plot.ly"
       },
       "data": [
        {
         "hovertemplate": "bill_length_mm=%{x}<br>body_mass_g=%{y}<extra></extra>",
         "legendgroup": "",
         "marker": {
          "color": "#636efa",
          "symbol": "circle"
         },
         "mode": "markers",
         "name": "",
         "orientation": "v",
         "showlegend": false,
         "type": "scatter",
         "x": [
          39.1,
          39.5,
          40.3,
          null,
          36.7,
          39.3,
          38.9,
          39.2,
          34.1,
          42.0,
          37.8,
          37.8,
          41.1,
          38.6,
          34.6,
          36.6,
          38.7,
          42.5,
          34.4,
          46.0,
          37.8,
          37.7,
          35.9,
          38.2,
          38.8,
          35.3,
          40.6,
          40.5,
          37.9,
          40.5,
          39.5,
          37.2,
          39.5,
          40.9,
          36.4,
          39.2,
          38.8,
          42.2,
          37.6,
          39.8,
          36.5,
          40.8,
          36.0,
          44.1,
          37.0,
          39.6,
          41.1,
          37.5,
          36.0,
          42.3,
          39.6,
          40.1,
          35.0,
          42.0,
          34.5,
          41.4,
          39.0,
          40.6,
          36.5,
          37.6,
          35.7,
          41.3,
          37.6,
          41.1,
          36.4,
          41.6,
          35.5,
          41.1,
          35.9,
          41.8,
          33.5,
          39.7,
          39.6,
          45.8,
          35.5,
          42.8,
          40.9,
          37.2,
          36.2,
          42.1,
          34.6,
          42.9,
          36.7,
          35.1,
          37.3,
          41.3,
          36.3,
          36.9,
          38.3,
          38.9,
          35.7,
          41.1,
          34.0,
          39.6,
          36.2,
          40.8,
          38.1,
          40.3,
          33.1,
          43.2,
          35.0,
          41.0,
          37.7,
          37.8,
          37.9,
          39.7,
          38.6,
          38.2,
          38.1,
          43.2,
          38.1,
          45.6,
          39.7,
          42.2,
          39.6,
          42.7,
          38.6,
          37.3,
          35.7,
          41.1,
          36.2,
          37.7,
          40.2,
          41.4,
          35.2,
          40.6,
          38.8,
          41.5,
          39.0,
          44.1,
          38.5,
          43.1,
          36.8,
          37.5,
          38.1,
          41.1,
          35.6,
          40.2,
          37.0,
          39.7,
          40.2,
          40.6,
          32.1,
          40.7,
          37.3,
          39.0,
          39.2,
          36.6,
          36.0,
          37.8,
          36.0,
          41.5,
          46.5,
          50.0,
          51.3,
          45.4,
          52.7,
          45.2,
          46.1,
          51.3,
          46.0,
          51.3,
          46.6,
          51.7,
          47.0,
          52.0,
          45.9,
          50.5,
          50.3,
          58.0,
          46.4,
          49.2,
          42.4,
          48.5,
          43.2,
          50.6,
          46.7,
          52.0,
          50.5,
          49.5,
          46.4,
          52.8,
          40.9,
          54.2,
          42.5,
          51.0,
          49.7,
          47.5,
          47.6,
          52.0,
          46.9,
          53.5,
          49.0,
          46.2,
          50.9,
          45.5,
          50.9,
          50.8,
          50.1,
          49.0,
          51.5,
          49.8,
          48.1,
          51.4,
          45.7,
          50.7,
          42.5,
          52.2,
          45.2,
          49.3,
          50.2,
          45.6,
          51.9,
          46.8,
          45.7,
          55.8,
          43.5,
          49.6,
          50.8,
          50.2,
          46.1,
          50.0,
          48.7,
          50.0,
          47.6,
          46.5,
          45.4,
          46.7,
          43.3,
          46.8,
          40.9,
          49.0,
          45.5,
          48.4,
          45.8,
          49.3,
          42.0,
          49.2,
          46.2,
          48.7,
          50.2,
          45.1,
          46.5,
          46.3,
          42.9,
          46.1,
          44.5,
          47.8,
          48.2,
          50.0,
          47.3,
          42.8,
          45.1,
          59.6,
          49.1,
          48.4,
          42.6,
          44.4,
          44.0,
          48.7,
          42.7,
          49.6,
          45.3,
          49.6,
          50.5,
          43.6,
          45.5,
          50.5,
          44.9,
          45.2,
          46.6,
          48.5,
          45.1,
          50.1,
          46.5,
          45.0,
          43.8,
          45.5,
          43.2,
          50.4,
          45.3,
          46.2,
          45.7,
          54.3,
          45.8,
          49.8,
          46.2,
          49.5,
          43.5,
          50.7,
          47.7,
          46.4,
          48.2,
          46.5,
          46.4,
          48.6,
          47.5,
          51.1,
          45.2,
          45.2,
          49.1,
          52.5,
          47.4,
          50.0,
          44.9,
          50.8,
          43.4,
          51.3,
          47.5,
          52.1,
          47.5,
          52.2,
          45.5,
          49.5,
          44.5,
          50.8,
          49.4,
          46.9,
          48.4,
          51.1,
          48.5,
          55.9,
          47.2,
          49.1,
          47.3,
          46.8,
          41.7,
          53.4,
          43.3,
          48.1,
          50.5,
          49.8,
          43.5,
          51.5,
          46.2,
          55.1,
          44.5,
          48.8,
          47.2,
          null,
          46.8,
          50.4,
          45.2,
          49.9
         ],
         "xaxis": "x",
         "y": [
          3750.0,
          3800.0,
          3250.0,
          null,
          3450.0,
          3650.0,
          3625.0,
          4675.0,
          3475.0,
          4250.0,
          3300.0,
          3700.0,
          3200.0,
          3800.0,
          4400.0,
          3700.0,
          3450.0,
          4500.0,
          3325.0,
          4200.0,
          3400.0,
          3600.0,
          3800.0,
          3950.0,
          3800.0,
          3800.0,
          3550.0,
          3200.0,
          3150.0,
          3950.0,
          3250.0,
          3900.0,
          3300.0,
          3900.0,
          3325.0,
          4150.0,
          3950.0,
          3550.0,
          3300.0,
          4650.0,
          3150.0,
          3900.0,
          3100.0,
          4400.0,
          3000.0,
          4600.0,
          3425.0,
          2975.0,
          3450.0,
          4150.0,
          3500.0,
          4300.0,
          3450.0,
          4050.0,
          2900.0,
          3700.0,
          3550.0,
          3800.0,
          2850.0,
          3750.0,
          3150.0,
          4400.0,
          3600.0,
          4050.0,
          2850.0,
          3950.0,
          3350.0,
          4100.0,
          3050.0,
          4450.0,
          3600.0,
          3900.0,
          3550.0,
          4150.0,
          3700.0,
          4250.0,
          3700.0,
          3900.0,
          3550.0,
          4000.0,
          3200.0,
          4700.0,
          3800.0,
          4200.0,
          3350.0,
          3550.0,
          3800.0,
          3500.0,
          3950.0,
          3600.0,
          3550.0,
          4300.0,
          3400.0,
          4450.0,
          3300.0,
          4300.0,
          3700.0,
          4350.0,
          2900.0,
          4100.0,
          3725.0,
          4725.0,
          3075.0,
          4250.0,
          2925.0,
          3550.0,
          3750.0,
          3900.0,
          3175.0,
          4775.0,
          3825.0,
          4600.0,
          3200.0,
          4275.0,
          3900.0,
          4075.0,
          2900.0,
          3775.0,
          3350.0,
          3325.0,
          3150.0,
          3500.0,
          3450.0,
          3875.0,
          3050.0,
          4000.0,
          3275.0,
          4300.0,
          3050.0,
          4000.0,
          3325.0,
          3500.0,
          3500.0,
          4475.0,
          3425.0,
          3900.0,
          3175.0,
          3975.0,
          3400.0,
          4250.0,
          3400.0,
          3475.0,
          3050.0,
          3725.0,
          3000.0,
          3650.0,
          4250.0,
          3475.0,
          3450.0,
          3750.0,
          3700.0,
          4000.0,
          3500.0,
          3900.0,
          3650.0,
          3525.0,
          3725.0,
          3950.0,
          3250.0,
          3750.0,
          4150.0,
          3700.0,
          3800.0,
          3775.0,
          3700.0,
          4050.0,
          3575.0,
          4050.0,
          3300.0,
          3700.0,
          3450.0,
          4400.0,
          3600.0,
          3400.0,
          2900.0,
          3800.0,
          3300.0,
          4150.0,
          3400.0,
          3800.0,
          3700.0,
          4550.0,
          3200.0,
          4300.0,
          3350.0,
          4100.0,
          3600.0,
          3900.0,
          3850.0,
          4800.0,
          2700.0,
          4500.0,
          3950.0,
          3650.0,
          3550.0,
          3500.0,
          3675.0,
          4450.0,
          3400.0,
          4300.0,
          3250.0,
          3675.0,
          3325.0,
          3950.0,
          3600.0,
          4050.0,
          3350.0,
          3450.0,
          3250.0,
          4050.0,
          3800.0,
          3525.0,
          3950.0,
          3650.0,
          3650.0,
          4000.0,
          3400.0,
          3775.0,
          4100.0,
          3775.0,
          4500.0,
          5700.0,
          4450.0,
          5700.0,
          5400.0,
          4550.0,
          4800.0,
          5200.0,
          4400.0,
          5150.0,
          4650.0,
          5550.0,
          4650.0,
          5850.0,
          4200.0,
          5850.0,
          4150.0,
          6300.0,
          4800.0,
          5350.0,
          5700.0,
          5000.0,
          4400.0,
          5050.0,
          5000.0,
          5100.0,
          4100.0,
          5650.0,
          4600.0,
          5550.0,
          5250.0,
          4700.0,
          5050.0,
          6050.0,
          5150.0,
          5400.0,
          4950.0,
          5250.0,
          4350.0,
          5350.0,
          3950.0,
          5700.0,
          4300.0,
          4750.0,
          5550.0,
          4900.0,
          4200.0,
          5400.0,
          5100.0,
          5300.0,
          4850.0,
          5300.0,
          4400.0,
          5000.0,
          4900.0,
          5050.0,
          4300.0,
          5000.0,
          4450.0,
          5550.0,
          4200.0,
          5300.0,
          4400.0,
          5650.0,
          4700.0,
          5700.0,
          4650.0,
          5800.0,
          4700.0,
          5550.0,
          4750.0,
          5000.0,
          5100.0,
          5200.0,
          4700.0,
          5800.0,
          4600.0,
          6000.0,
          4750.0,
          5950.0,
          4625.0,
          5450.0,
          4725.0,
          5350.0,
          4750.0,
          5600.0,
          4600.0,
          5300.0,
          4875.0,
          5550.0,
          4950.0,
          5400.0,
          4750.0,
          5650.0,
          4850.0,
          5200.0,
          4925.0,
          4875.0,
          4625.0,
          5250.0,
          4850.0,
          5600.0,
          4975.0,
          5500.0,
          4725.0,
          5500.0,
          4700.0,
          5500.0,
          4575.0,
          5500.0,
          5000.0,
          5950.0,
          4650.0,
          5500.0,
          4375.0,
          5850.0,
          4875.0,
          6000.0,
          4925.0,
          null,
          4850.0,
          5750.0,
          5200.0,
          5400.0
         ],
         "yaxis": "y"
        }
       ],
       "layout": {
        "legend": {
         "tracegroupgap": 0
        },
        "margin": {
         "t": 60
        },
        "template": {
         "data": {
          "bar": [
           {
            "error_x": {
             "color": "#2a3f5f"
            },
            "error_y": {
             "color": "#2a3f5f"
            },
            "marker": {
             "line": {
              "color": "#E5ECF6",
              "width": 0.5
             },
             "pattern": {
              "fillmode": "overlay",
              "size": 10,
              "solidity": 0.2
             }
            },
            "type": "bar"
           }
          ],
          "barpolar": [
           {
            "marker": {
             "line": {
              "color": "#E5ECF6",
              "width": 0.5
             },
             "pattern": {
              "fillmode": "overlay",
              "size": 10,
              "solidity": 0.2
             }
            },
            "type": "barpolar"
           }
          ],
          "carpet": [
           {
            "aaxis": {
             "endlinecolor": "#2a3f5f",
             "gridcolor": "white",
             "linecolor": "white",
             "minorgridcolor": "white",
             "startlinecolor": "#2a3f5f"
            },
            "baxis": {
             "endlinecolor": "#2a3f5f",
             "gridcolor": "white",
             "linecolor": "white",
             "minorgridcolor": "white",
             "startlinecolor": "#2a3f5f"
            },
            "type": "carpet"
           }
          ],
          "choropleth": [
           {
            "colorbar": {
             "outlinewidth": 0,
             "ticks": ""
            },
            "type": "choropleth"
           }
          ],
          "contour": [
           {
            "colorbar": {
             "outlinewidth": 0,
             "ticks": ""
            },
            "colorscale": [
             [
              0.0,
              "#0d0887"
             ],
             [
              0.1111111111111111,
              "#46039f"
             ],
             [
              0.2222222222222222,
              "#7201a8"
             ],
             [
              0.3333333333333333,
              "#9c179e"
             ],
             [
              0.4444444444444444,
              "#bd3786"
             ],
             [
              0.5555555555555556,
              "#d8576b"
             ],
             [
              0.6666666666666666,
              "#ed7953"
             ],
             [
              0.7777777777777778,
              "#fb9f3a"
             ],
             [
              0.8888888888888888,
              "#fdca26"
             ],
             [
              1.0,
              "#f0f921"
             ]
            ],
            "type": "contour"
           }
          ],
          "contourcarpet": [
           {
            "colorbar": {
             "outlinewidth": 0,
             "ticks": ""
            },
            "type": "contourcarpet"
           }
          ],
          "heatmap": [
           {
            "colorbar": {
             "outlinewidth": 0,
             "ticks": ""
            },
            "colorscale": [
             [
              0.0,
              "#0d0887"
             ],
             [
              0.1111111111111111,
              "#46039f"
             ],
             [
              0.2222222222222222,
              "#7201a8"
             ],
             [
              0.3333333333333333,
              "#9c179e"
             ],
             [
              0.4444444444444444,
              "#bd3786"
             ],
             [
              0.5555555555555556,
              "#d8576b"
             ],
             [
              0.6666666666666666,
              "#ed7953"
             ],
             [
              0.7777777777777778,
              "#fb9f3a"
             ],
             [
              0.8888888888888888,
              "#fdca26"
             ],
             [
              1.0,
              "#f0f921"
             ]
            ],
            "type": "heatmap"
           }
          ],
          "heatmapgl": [
           {
            "colorbar": {
             "outlinewidth": 0,
             "ticks": ""
            },
            "colorscale": [
             [
              0.0,
              "#0d0887"
             ],
             [
              0.1111111111111111,
              "#46039f"
             ],
             [
              0.2222222222222222,
              "#7201a8"
             ],
             [
              0.3333333333333333,
              "#9c179e"
             ],
             [
              0.4444444444444444,
              "#bd3786"
             ],
             [
              0.5555555555555556,
              "#d8576b"
             ],
             [
              0.6666666666666666,
              "#ed7953"
             ],
             [
              0.7777777777777778,
              "#fb9f3a"
             ],
             [
              0.8888888888888888,
              "#fdca26"
             ],
             [
              1.0,
              "#f0f921"
             ]
            ],
            "type": "heatmapgl"
           }
          ],
          "histogram": [
           {
            "marker": {
             "pattern": {
              "fillmode": "overlay",
              "size": 10,
              "solidity": 0.2
             }
            },
            "type": "histogram"
           }
          ],
          "histogram2d": [
           {
            "colorbar": {
             "outlinewidth": 0,
             "ticks": ""
            },
            "colorscale": [
             [
              0.0,
              "#0d0887"
             ],
             [
              0.1111111111111111,
              "#46039f"
             ],
             [
              0.2222222222222222,
              "#7201a8"
             ],
             [
              0.3333333333333333,
              "#9c179e"
             ],
             [
              0.4444444444444444,
              "#bd3786"
             ],
             [
              0.5555555555555556,
              "#d8576b"
             ],
             [
              0.6666666666666666,
              "#ed7953"
             ],
             [
              0.7777777777777778,
              "#fb9f3a"
             ],
             [
              0.8888888888888888,
              "#fdca26"
             ],
             [
              1.0,
              "#f0f921"
             ]
            ],
            "type": "histogram2d"
           }
          ],
          "histogram2dcontour": [
           {
            "colorbar": {
             "outlinewidth": 0,
             "ticks": ""
            },
            "colorscale": [
             [
              0.0,
              "#0d0887"
             ],
             [
              0.1111111111111111,
              "#46039f"
             ],
             [
              0.2222222222222222,
              "#7201a8"
             ],
             [
              0.3333333333333333,
              "#9c179e"
             ],
             [
              0.4444444444444444,
              "#bd3786"
             ],
             [
              0.5555555555555556,
              "#d8576b"
             ],
             [
              0.6666666666666666,
              "#ed7953"
             ],
             [
              0.7777777777777778,
              "#fb9f3a"
             ],
             [
              0.8888888888888888,
              "#fdca26"
             ],
             [
              1.0,
              "#f0f921"
             ]
            ],
            "type": "histogram2dcontour"
           }
          ],
          "mesh3d": [
           {
            "colorbar": {
             "outlinewidth": 0,
             "ticks": ""
            },
            "type": "mesh3d"
           }
          ],
          "parcoords": [
           {
            "line": {
             "colorbar": {
              "outlinewidth": 0,
              "ticks": ""
             }
            },
            "type": "parcoords"
           }
          ],
          "pie": [
           {
            "automargin": true,
            "type": "pie"
           }
          ],
          "scatter": [
           {
            "fillpattern": {
             "fillmode": "overlay",
             "size": 10,
             "solidity": 0.2
            },
            "type": "scatter"
           }
          ],
          "scatter3d": [
           {
            "line": {
             "colorbar": {
              "outlinewidth": 0,
              "ticks": ""
             }
            },
            "marker": {
             "colorbar": {
              "outlinewidth": 0,
              "ticks": ""
             }
            },
            "type": "scatter3d"
           }
          ],
          "scattercarpet": [
           {
            "marker": {
             "colorbar": {
              "outlinewidth": 0,
              "ticks": ""
             }
            },
            "type": "scattercarpet"
           }
          ],
          "scattergeo": [
           {
            "marker": {
             "colorbar": {
              "outlinewidth": 0,
              "ticks": ""
             }
            },
            "type": "scattergeo"
           }
          ],
          "scattergl": [
           {
            "marker": {
             "colorbar": {
              "outlinewidth": 0,
              "ticks": ""
             }
            },
            "type": "scattergl"
           }
          ],
          "scattermapbox": [
           {
            "marker": {
             "colorbar": {
              "outlinewidth": 0,
              "ticks": ""
             }
            },
            "type": "scattermapbox"
           }
          ],
          "scatterpolar": [
           {
            "marker": {
             "colorbar": {
              "outlinewidth": 0,
              "ticks": ""
             }
            },
            "type": "scatterpolar"
           }
          ],
          "scatterpolargl": [
           {
            "marker": {
             "colorbar": {
              "outlinewidth": 0,
              "ticks": ""
             }
            },
            "type": "scatterpolargl"
           }
          ],
          "scatterternary": [
           {
            "marker": {
             "colorbar": {
              "outlinewidth": 0,
              "ticks": ""
             }
            },
            "type": "scatterternary"
           }
          ],
          "surface": [
           {
            "colorbar": {
             "outlinewidth": 0,
             "ticks": ""
            },
            "colorscale": [
             [
              0.0,
              "#0d0887"
             ],
             [
              0.1111111111111111,
              "#46039f"
             ],
             [
              0.2222222222222222,
              "#7201a8"
             ],
             [
              0.3333333333333333,
              "#9c179e"
             ],
             [
              0.4444444444444444,
              "#bd3786"
             ],
             [
              0.5555555555555556,
              "#d8576b"
             ],
             [
              0.6666666666666666,
              "#ed7953"
             ],
             [
              0.7777777777777778,
              "#fb9f3a"
             ],
             [
              0.8888888888888888,
              "#fdca26"
             ],
             [
              1.0,
              "#f0f921"
             ]
            ],
            "type": "surface"
           }
          ],
          "table": [
           {
            "cells": {
             "fill": {
              "color": "#EBF0F8"
             },
             "line": {
              "color": "white"
             }
            },
            "header": {
             "fill": {
              "color": "#C8D4E3"
             },
             "line": {
              "color": "white"
             }
            },
            "type": "table"
           }
          ]
         },
         "layout": {
          "annotationdefaults": {
           "arrowcolor": "#2a3f5f",
           "arrowhead": 0,
           "arrowwidth": 1
          },
          "autotypenumbers": "strict",
          "coloraxis": {
           "colorbar": {
            "outlinewidth": 0,
            "ticks": ""
           }
          },
          "colorscale": {
           "diverging": [
            [
             0,
             "#8e0152"
            ],
            [
             0.1,
             "#c51b7d"
            ],
            [
             0.2,
             "#de77ae"
            ],
            [
             0.3,
             "#f1b6da"
            ],
            [
             0.4,
             "#fde0ef"
            ],
            [
             0.5,
             "#f7f7f7"
            ],
            [
             0.6,
             "#e6f5d0"
            ],
            [
             0.7,
             "#b8e186"
            ],
            [
             0.8,
             "#7fbc41"
            ],
            [
             0.9,
             "#4d9221"
            ],
            [
             1,
             "#276419"
            ]
           ],
           "sequential": [
            [
             0.0,
             "#0d0887"
            ],
            [
             0.1111111111111111,
             "#46039f"
            ],
            [
             0.2222222222222222,
             "#7201a8"
            ],
            [
             0.3333333333333333,
             "#9c179e"
            ],
            [
             0.4444444444444444,
             "#bd3786"
            ],
            [
             0.5555555555555556,
             "#d8576b"
            ],
            [
             0.6666666666666666,
             "#ed7953"
            ],
            [
             0.7777777777777778,
             "#fb9f3a"
            ],
            [
             0.8888888888888888,
             "#fdca26"
            ],
            [
             1.0,
             "#f0f921"
            ]
           ],
           "sequentialminus": [
            [
             0.0,
             "#0d0887"
            ],
            [
             0.1111111111111111,
             "#46039f"
            ],
            [
             0.2222222222222222,
             "#7201a8"
            ],
            [
             0.3333333333333333,
             "#9c179e"
            ],
            [
             0.4444444444444444,
             "#bd3786"
            ],
            [
             0.5555555555555556,
             "#d8576b"
            ],
            [
             0.6666666666666666,
             "#ed7953"
            ],
            [
             0.7777777777777778,
             "#fb9f3a"
            ],
            [
             0.8888888888888888,
             "#fdca26"
            ],
            [
             1.0,
             "#f0f921"
            ]
           ]
          },
          "colorway": [
           "#636efa",
           "#EF553B",
           "#00cc96",
           "#ab63fa",
           "#FFA15A",
           "#19d3f3",
           "#FF6692",
           "#B6E880",
           "#FF97FF",
           "#FECB52"
          ],
          "font": {
           "color": "#2a3f5f"
          },
          "geo": {
           "bgcolor": "white",
           "lakecolor": "white",
           "landcolor": "#E5ECF6",
           "showlakes": true,
           "showland": true,
           "subunitcolor": "white"
          },
          "hoverlabel": {
           "align": "left"
          },
          "hovermode": "closest",
          "mapbox": {
           "style": "light"
          },
          "paper_bgcolor": "white",
          "plot_bgcolor": "#E5ECF6",
          "polar": {
           "angularaxis": {
            "gridcolor": "white",
            "linecolor": "white",
            "ticks": ""
           },
           "bgcolor": "#E5ECF6",
           "radialaxis": {
            "gridcolor": "white",
            "linecolor": "white",
            "ticks": ""
           }
          },
          "scene": {
           "xaxis": {
            "backgroundcolor": "#E5ECF6",
            "gridcolor": "white",
            "gridwidth": 2,
            "linecolor": "white",
            "showbackground": true,
            "ticks": "",
            "zerolinecolor": "white"
           },
           "yaxis": {
            "backgroundcolor": "#E5ECF6",
            "gridcolor": "white",
            "gridwidth": 2,
            "linecolor": "white",
            "showbackground": true,
            "ticks": "",
            "zerolinecolor": "white"
           },
           "zaxis": {
            "backgroundcolor": "#E5ECF6",
            "gridcolor": "white",
            "gridwidth": 2,
            "linecolor": "white",
            "showbackground": true,
            "ticks": "",
            "zerolinecolor": "white"
           }
          },
          "shapedefaults": {
           "line": {
            "color": "#2a3f5f"
           }
          },
          "ternary": {
           "aaxis": {
            "gridcolor": "white",
            "linecolor": "white",
            "ticks": ""
           },
           "baxis": {
            "gridcolor": "white",
            "linecolor": "white",
            "ticks": ""
           },
           "bgcolor": "#E5ECF6",
           "caxis": {
            "gridcolor": "white",
            "linecolor": "white",
            "ticks": ""
           }
          },
          "title": {
           "x": 0.05
          },
          "xaxis": {
           "automargin": true,
           "gridcolor": "white",
           "linecolor": "white",
           "ticks": "",
           "title": {
            "standoff": 15
           },
           "zerolinecolor": "white",
           "zerolinewidth": 2
          },
          "yaxis": {
           "automargin": true,
           "gridcolor": "white",
           "linecolor": "white",
           "ticks": "",
           "title": {
            "standoff": 15
           },
           "zerolinecolor": "white",
           "zerolinewidth": 2
          }
         }
        },
        "xaxis": {
         "anchor": "y",
         "domain": [
          0.0,
          1.0
         ],
         "title": {
          "text": "bill_length_mm"
         }
        },
        "yaxis": {
         "anchor": "x",
         "domain": [
          0.0,
          1.0
         ],
         "title": {
          "text": "body_mass_g"
         }
        }
       }
      },
      "text/html": [
       "<div>                            <div id=\"ce0556b9-1490-4926-ac4a-506005d49299\" class=\"plotly-graph-div\" style=\"height:525px; width:100%;\"></div>            <script type=\"text/javascript\">                require([\"plotly\"], function(Plotly) {                    window.PLOTLYENV=window.PLOTLYENV || {};                                    if (document.getElementById(\"ce0556b9-1490-4926-ac4a-506005d49299\")) {                    Plotly.newPlot(                        \"ce0556b9-1490-4926-ac4a-506005d49299\",                        [{\"hovertemplate\":\"bill_length_mm=%{x}<br>body_mass_g=%{y}<extra></extra>\",\"legendgroup\":\"\",\"marker\":{\"color\":\"#636efa\",\"symbol\":\"circle\"},\"mode\":\"markers\",\"name\":\"\",\"orientation\":\"v\",\"showlegend\":false,\"x\":[39.1,39.5,40.3,null,36.7,39.3,38.9,39.2,34.1,42.0,37.8,37.8,41.1,38.6,34.6,36.6,38.7,42.5,34.4,46.0,37.8,37.7,35.9,38.2,38.8,35.3,40.6,40.5,37.9,40.5,39.5,37.2,39.5,40.9,36.4,39.2,38.8,42.2,37.6,39.8,36.5,40.8,36.0,44.1,37.0,39.6,41.1,37.5,36.0,42.3,39.6,40.1,35.0,42.0,34.5,41.4,39.0,40.6,36.5,37.6,35.7,41.3,37.6,41.1,36.4,41.6,35.5,41.1,35.9,41.8,33.5,39.7,39.6,45.8,35.5,42.8,40.9,37.2,36.2,42.1,34.6,42.9,36.7,35.1,37.3,41.3,36.3,36.9,38.3,38.9,35.7,41.1,34.0,39.6,36.2,40.8,38.1,40.3,33.1,43.2,35.0,41.0,37.7,37.8,37.9,39.7,38.6,38.2,38.1,43.2,38.1,45.6,39.7,42.2,39.6,42.7,38.6,37.3,35.7,41.1,36.2,37.7,40.2,41.4,35.2,40.6,38.8,41.5,39.0,44.1,38.5,43.1,36.8,37.5,38.1,41.1,35.6,40.2,37.0,39.7,40.2,40.6,32.1,40.7,37.3,39.0,39.2,36.6,36.0,37.8,36.0,41.5,46.5,50.0,51.3,45.4,52.7,45.2,46.1,51.3,46.0,51.3,46.6,51.7,47.0,52.0,45.9,50.5,50.3,58.0,46.4,49.2,42.4,48.5,43.2,50.6,46.7,52.0,50.5,49.5,46.4,52.8,40.9,54.2,42.5,51.0,49.7,47.5,47.6,52.0,46.9,53.5,49.0,46.2,50.9,45.5,50.9,50.8,50.1,49.0,51.5,49.8,48.1,51.4,45.7,50.7,42.5,52.2,45.2,49.3,50.2,45.6,51.9,46.8,45.7,55.8,43.5,49.6,50.8,50.2,46.1,50.0,48.7,50.0,47.6,46.5,45.4,46.7,43.3,46.8,40.9,49.0,45.5,48.4,45.8,49.3,42.0,49.2,46.2,48.7,50.2,45.1,46.5,46.3,42.9,46.1,44.5,47.8,48.2,50.0,47.3,42.8,45.1,59.6,49.1,48.4,42.6,44.4,44.0,48.7,42.7,49.6,45.3,49.6,50.5,43.6,45.5,50.5,44.9,45.2,46.6,48.5,45.1,50.1,46.5,45.0,43.8,45.5,43.2,50.4,45.3,46.2,45.7,54.3,45.8,49.8,46.2,49.5,43.5,50.7,47.7,46.4,48.2,46.5,46.4,48.6,47.5,51.1,45.2,45.2,49.1,52.5,47.4,50.0,44.9,50.8,43.4,51.3,47.5,52.1,47.5,52.2,45.5,49.5,44.5,50.8,49.4,46.9,48.4,51.1,48.5,55.9,47.2,49.1,47.3,46.8,41.7,53.4,43.3,48.1,50.5,49.8,43.5,51.5,46.2,55.1,44.5,48.8,47.2,null,46.8,50.4,45.2,49.9],\"xaxis\":\"x\",\"y\":[3750.0,3800.0,3250.0,null,3450.0,3650.0,3625.0,4675.0,3475.0,4250.0,3300.0,3700.0,3200.0,3800.0,4400.0,3700.0,3450.0,4500.0,3325.0,4200.0,3400.0,3600.0,3800.0,3950.0,3800.0,3800.0,3550.0,3200.0,3150.0,3950.0,3250.0,3900.0,3300.0,3900.0,3325.0,4150.0,3950.0,3550.0,3300.0,4650.0,3150.0,3900.0,3100.0,4400.0,3000.0,4600.0,3425.0,2975.0,3450.0,4150.0,3500.0,4300.0,3450.0,4050.0,2900.0,3700.0,3550.0,3800.0,2850.0,3750.0,3150.0,4400.0,3600.0,4050.0,2850.0,3950.0,3350.0,4100.0,3050.0,4450.0,3600.0,3900.0,3550.0,4150.0,3700.0,4250.0,3700.0,3900.0,3550.0,4000.0,3200.0,4700.0,3800.0,4200.0,3350.0,3550.0,3800.0,3500.0,3950.0,3600.0,3550.0,4300.0,3400.0,4450.0,3300.0,4300.0,3700.0,4350.0,2900.0,4100.0,3725.0,4725.0,3075.0,4250.0,2925.0,3550.0,3750.0,3900.0,3175.0,4775.0,3825.0,4600.0,3200.0,4275.0,3900.0,4075.0,2900.0,3775.0,3350.0,3325.0,3150.0,3500.0,3450.0,3875.0,3050.0,4000.0,3275.0,4300.0,3050.0,4000.0,3325.0,3500.0,3500.0,4475.0,3425.0,3900.0,3175.0,3975.0,3400.0,4250.0,3400.0,3475.0,3050.0,3725.0,3000.0,3650.0,4250.0,3475.0,3450.0,3750.0,3700.0,4000.0,3500.0,3900.0,3650.0,3525.0,3725.0,3950.0,3250.0,3750.0,4150.0,3700.0,3800.0,3775.0,3700.0,4050.0,3575.0,4050.0,3300.0,3700.0,3450.0,4400.0,3600.0,3400.0,2900.0,3800.0,3300.0,4150.0,3400.0,3800.0,3700.0,4550.0,3200.0,4300.0,3350.0,4100.0,3600.0,3900.0,3850.0,4800.0,2700.0,4500.0,3950.0,3650.0,3550.0,3500.0,3675.0,4450.0,3400.0,4300.0,3250.0,3675.0,3325.0,3950.0,3600.0,4050.0,3350.0,3450.0,3250.0,4050.0,3800.0,3525.0,3950.0,3650.0,3650.0,4000.0,3400.0,3775.0,4100.0,3775.0,4500.0,5700.0,4450.0,5700.0,5400.0,4550.0,4800.0,5200.0,4400.0,5150.0,4650.0,5550.0,4650.0,5850.0,4200.0,5850.0,4150.0,6300.0,4800.0,5350.0,5700.0,5000.0,4400.0,5050.0,5000.0,5100.0,4100.0,5650.0,4600.0,5550.0,5250.0,4700.0,5050.0,6050.0,5150.0,5400.0,4950.0,5250.0,4350.0,5350.0,3950.0,5700.0,4300.0,4750.0,5550.0,4900.0,4200.0,5400.0,5100.0,5300.0,4850.0,5300.0,4400.0,5000.0,4900.0,5050.0,4300.0,5000.0,4450.0,5550.0,4200.0,5300.0,4400.0,5650.0,4700.0,5700.0,4650.0,5800.0,4700.0,5550.0,4750.0,5000.0,5100.0,5200.0,4700.0,5800.0,4600.0,6000.0,4750.0,5950.0,4625.0,5450.0,4725.0,5350.0,4750.0,5600.0,4600.0,5300.0,4875.0,5550.0,4950.0,5400.0,4750.0,5650.0,4850.0,5200.0,4925.0,4875.0,4625.0,5250.0,4850.0,5600.0,4975.0,5500.0,4725.0,5500.0,4700.0,5500.0,4575.0,5500.0,5000.0,5950.0,4650.0,5500.0,4375.0,5850.0,4875.0,6000.0,4925.0,null,4850.0,5750.0,5200.0,5400.0],\"yaxis\":\"y\",\"type\":\"scatter\"}],                        {\"template\":{\"data\":{\"histogram2dcontour\":[{\"type\":\"histogram2dcontour\",\"colorbar\":{\"outlinewidth\":0,\"ticks\":\"\"},\"colorscale\":[[0.0,\"#0d0887\"],[0.1111111111111111,\"#46039f\"],[0.2222222222222222,\"#7201a8\"],[0.3333333333333333,\"#9c179e\"],[0.4444444444444444,\"#bd3786\"],[0.5555555555555556,\"#d8576b\"],[0.6666666666666666,\"#ed7953\"],[0.7777777777777778,\"#fb9f3a\"],[0.8888888888888888,\"#fdca26\"],[1.0,\"#f0f921\"]]}],\"choropleth\":[{\"type\":\"choropleth\",\"colorbar\":{\"outlinewidth\":0,\"ticks\":\"\"}}],\"histogram2d\":[{\"type\":\"histogram2d\",\"colorbar\":{\"outlinewidth\":0,\"ticks\":\"\"},\"colorscale\":[[0.0,\"#0d0887\"],[0.1111111111111111,\"#46039f\"],[0.2222222222222222,\"#7201a8\"],[0.3333333333333333,\"#9c179e\"],[0.4444444444444444,\"#bd3786\"],[0.5555555555555556,\"#d8576b\"],[0.6666666666666666,\"#ed7953\"],[0.7777777777777778,\"#fb9f3a\"],[0.8888888888888888,\"#fdca26\"],[1.0,\"#f0f921\"]]}],\"heatmap\":[{\"type\":\"heatmap\",\"colorbar\":{\"outlinewidth\":0,\"ticks\":\"\"},\"colorscale\":[[0.0,\"#0d0887\"],[0.1111111111111111,\"#46039f\"],[0.2222222222222222,\"#7201a8\"],[0.3333333333333333,\"#9c179e\"],[0.4444444444444444,\"#bd3786\"],[0.5555555555555556,\"#d8576b\"],[0.6666666666666666,\"#ed7953\"],[0.7777777777777778,\"#fb9f3a\"],[0.8888888888888888,\"#fdca26\"],[1.0,\"#f0f921\"]]}],\"heatmapgl\":[{\"type\":\"heatmapgl\",\"colorbar\":{\"outlinewidth\":0,\"ticks\":\"\"},\"colorscale\":[[0.0,\"#0d0887\"],[0.1111111111111111,\"#46039f\"],[0.2222222222222222,\"#7201a8\"],[0.3333333333333333,\"#9c179e\"],[0.4444444444444444,\"#bd3786\"],[0.5555555555555556,\"#d8576b\"],[0.6666666666666666,\"#ed7953\"],[0.7777777777777778,\"#fb9f3a\"],[0.8888888888888888,\"#fdca26\"],[1.0,\"#f0f921\"]]}],\"contourcarpet\":[{\"type\":\"contourcarpet\",\"colorbar\":{\"outlinewidth\":0,\"ticks\":\"\"}}],\"contour\":[{\"type\":\"contour\",\"colorbar\":{\"outlinewidth\":0,\"ticks\":\"\"},\"colorscale\":[[0.0,\"#0d0887\"],[0.1111111111111111,\"#46039f\"],[0.2222222222222222,\"#7201a8\"],[0.3333333333333333,\"#9c179e\"],[0.4444444444444444,\"#bd3786\"],[0.5555555555555556,\"#d8576b\"],[0.6666666666666666,\"#ed7953\"],[0.7777777777777778,\"#fb9f3a\"],[0.8888888888888888,\"#fdca26\"],[1.0,\"#f0f921\"]]}],\"surface\":[{\"type\":\"surface\",\"colorbar\":{\"outlinewidth\":0,\"ticks\":\"\"},\"colorscale\":[[0.0,\"#0d0887\"],[0.1111111111111111,\"#46039f\"],[0.2222222222222222,\"#7201a8\"],[0.3333333333333333,\"#9c179e\"],[0.4444444444444444,\"#bd3786\"],[0.5555555555555556,\"#d8576b\"],[0.6666666666666666,\"#ed7953\"],[0.7777777777777778,\"#fb9f3a\"],[0.8888888888888888,\"#fdca26\"],[1.0,\"#f0f921\"]]}],\"mesh3d\":[{\"type\":\"mesh3d\",\"colorbar\":{\"outlinewidth\":0,\"ticks\":\"\"}}],\"scatter\":[{\"fillpattern\":{\"fillmode\":\"overlay\",\"size\":10,\"solidity\":0.2},\"type\":\"scatter\"}],\"parcoords\":[{\"type\":\"parcoords\",\"line\":{\"colorbar\":{\"outlinewidth\":0,\"ticks\":\"\"}}}],\"scatterpolargl\":[{\"type\":\"scatterpolargl\",\"marker\":{\"colorbar\":{\"outlinewidth\":0,\"ticks\":\"\"}}}],\"bar\":[{\"error_x\":{\"color\":\"#2a3f5f\"},\"error_y\":{\"color\":\"#2a3f5f\"},\"marker\":{\"line\":{\"color\":\"#E5ECF6\",\"width\":0.5},\"pattern\":{\"fillmode\":\"overlay\",\"size\":10,\"solidity\":0.2}},\"type\":\"bar\"}],\"scattergeo\":[{\"type\":\"scattergeo\",\"marker\":{\"colorbar\":{\"outlinewidth\":0,\"ticks\":\"\"}}}],\"scatterpolar\":[{\"type\":\"scatterpolar\",\"marker\":{\"colorbar\":{\"outlinewidth\":0,\"ticks\":\"\"}}}],\"histogram\":[{\"marker\":{\"pattern\":{\"fillmode\":\"overlay\",\"size\":10,\"solidity\":0.2}},\"type\":\"histogram\"}],\"scattergl\":[{\"type\":\"scattergl\",\"marker\":{\"colorbar\":{\"outlinewidth\":0,\"ticks\":\"\"}}}],\"scatter3d\":[{\"type\":\"scatter3d\",\"line\":{\"colorbar\":{\"outlinewidth\":0,\"ticks\":\"\"}},\"marker\":{\"colorbar\":{\"outlinewidth\":0,\"ticks\":\"\"}}}],\"scattermapbox\":[{\"type\":\"scattermapbox\",\"marker\":{\"colorbar\":{\"outlinewidth\":0,\"ticks\":\"\"}}}],\"scatterternary\":[{\"type\":\"scatterternary\",\"marker\":{\"colorbar\":{\"outlinewidth\":0,\"ticks\":\"\"}}}],\"scattercarpet\":[{\"type\":\"scattercarpet\",\"marker\":{\"colorbar\":{\"outlinewidth\":0,\"ticks\":\"\"}}}],\"carpet\":[{\"aaxis\":{\"endlinecolor\":\"#2a3f5f\",\"gridcolor\":\"white\",\"linecolor\":\"white\",\"minorgridcolor\":\"white\",\"startlinecolor\":\"#2a3f5f\"},\"baxis\":{\"endlinecolor\":\"#2a3f5f\",\"gridcolor\":\"white\",\"linecolor\":\"white\",\"minorgridcolor\":\"white\",\"startlinecolor\":\"#2a3f5f\"},\"type\":\"carpet\"}],\"table\":[{\"cells\":{\"fill\":{\"color\":\"#EBF0F8\"},\"line\":{\"color\":\"white\"}},\"header\":{\"fill\":{\"color\":\"#C8D4E3\"},\"line\":{\"color\":\"white\"}},\"type\":\"table\"}],\"barpolar\":[{\"marker\":{\"line\":{\"color\":\"#E5ECF6\",\"width\":0.5},\"pattern\":{\"fillmode\":\"overlay\",\"size\":10,\"solidity\":0.2}},\"type\":\"barpolar\"}],\"pie\":[{\"automargin\":true,\"type\":\"pie\"}]},\"layout\":{\"autotypenumbers\":\"strict\",\"colorway\":[\"#636efa\",\"#EF553B\",\"#00cc96\",\"#ab63fa\",\"#FFA15A\",\"#19d3f3\",\"#FF6692\",\"#B6E880\",\"#FF97FF\",\"#FECB52\"],\"font\":{\"color\":\"#2a3f5f\"},\"hovermode\":\"closest\",\"hoverlabel\":{\"align\":\"left\"},\"paper_bgcolor\":\"white\",\"plot_bgcolor\":\"#E5ECF6\",\"polar\":{\"bgcolor\":\"#E5ECF6\",\"angularaxis\":{\"gridcolor\":\"white\",\"linecolor\":\"white\",\"ticks\":\"\"},\"radialaxis\":{\"gridcolor\":\"white\",\"linecolor\":\"white\",\"ticks\":\"\"}},\"ternary\":{\"bgcolor\":\"#E5ECF6\",\"aaxis\":{\"gridcolor\":\"white\",\"linecolor\":\"white\",\"ticks\":\"\"},\"baxis\":{\"gridcolor\":\"white\",\"linecolor\":\"white\",\"ticks\":\"\"},\"caxis\":{\"gridcolor\":\"white\",\"linecolor\":\"white\",\"ticks\":\"\"}},\"coloraxis\":{\"colorbar\":{\"outlinewidth\":0,\"ticks\":\"\"}},\"colorscale\":{\"sequential\":[[0.0,\"#0d0887\"],[0.1111111111111111,\"#46039f\"],[0.2222222222222222,\"#7201a8\"],[0.3333333333333333,\"#9c179e\"],[0.4444444444444444,\"#bd3786\"],[0.5555555555555556,\"#d8576b\"],[0.6666666666666666,\"#ed7953\"],[0.7777777777777778,\"#fb9f3a\"],[0.8888888888888888,\"#fdca26\"],[1.0,\"#f0f921\"]],\"sequentialminus\":[[0.0,\"#0d0887\"],[0.1111111111111111,\"#46039f\"],[0.2222222222222222,\"#7201a8\"],[0.3333333333333333,\"#9c179e\"],[0.4444444444444444,\"#bd3786\"],[0.5555555555555556,\"#d8576b\"],[0.6666666666666666,\"#ed7953\"],[0.7777777777777778,\"#fb9f3a\"],[0.8888888888888888,\"#fdca26\"],[1.0,\"#f0f921\"]],\"diverging\":[[0,\"#8e0152\"],[0.1,\"#c51b7d\"],[0.2,\"#de77ae\"],[0.3,\"#f1b6da\"],[0.4,\"#fde0ef\"],[0.5,\"#f7f7f7\"],[0.6,\"#e6f5d0\"],[0.7,\"#b8e186\"],[0.8,\"#7fbc41\"],[0.9,\"#4d9221\"],[1,\"#276419\"]]},\"xaxis\":{\"gridcolor\":\"white\",\"linecolor\":\"white\",\"ticks\":\"\",\"title\":{\"standoff\":15},\"zerolinecolor\":\"white\",\"automargin\":true,\"zerolinewidth\":2},\"yaxis\":{\"gridcolor\":\"white\",\"linecolor\":\"white\",\"ticks\":\"\",\"title\":{\"standoff\":15},\"zerolinecolor\":\"white\",\"automargin\":true,\"zerolinewidth\":2},\"scene\":{\"xaxis\":{\"backgroundcolor\":\"#E5ECF6\",\"gridcolor\":\"white\",\"linecolor\":\"white\",\"showbackground\":true,\"ticks\":\"\",\"zerolinecolor\":\"white\",\"gridwidth\":2},\"yaxis\":{\"backgroundcolor\":\"#E5ECF6\",\"gridcolor\":\"white\",\"linecolor\":\"white\",\"showbackground\":true,\"ticks\":\"\",\"zerolinecolor\":\"white\",\"gridwidth\":2},\"zaxis\":{\"backgroundcolor\":\"#E5ECF6\",\"gridcolor\":\"white\",\"linecolor\":\"white\",\"showbackground\":true,\"ticks\":\"\",\"zerolinecolor\":\"white\",\"gridwidth\":2}},\"shapedefaults\":{\"line\":{\"color\":\"#2a3f5f\"}},\"annotationdefaults\":{\"arrowcolor\":\"#2a3f5f\",\"arrowhead\":0,\"arrowwidth\":1},\"geo\":{\"bgcolor\":\"white\",\"landcolor\":\"#E5ECF6\",\"subunitcolor\":\"white\",\"showland\":true,\"showlakes\":true,\"lakecolor\":\"white\"},\"title\":{\"x\":0.05},\"mapbox\":{\"style\":\"light\"}}},\"xaxis\":{\"anchor\":\"y\",\"domain\":[0.0,1.0],\"title\":{\"text\":\"bill_length_mm\"}},\"yaxis\":{\"anchor\":\"x\",\"domain\":[0.0,1.0],\"title\":{\"text\":\"body_mass_g\"}},\"legend\":{\"tracegroupgap\":0},\"margin\":{\"t\":60}},                        {\"responsive\": true}                    ).then(function(){\n",
       "                            \n",
       "var gd = document.getElementById('ce0556b9-1490-4926-ac4a-506005d49299');\n",
       "var x = new MutationObserver(function (mutations, observer) {{\n",
       "        var display = window.getComputedStyle(gd).display;\n",
       "        if (!display || display === 'none') {{\n",
       "            console.log([gd, 'removed!']);\n",
       "            Plotly.purge(gd);\n",
       "            observer.disconnect();\n",
       "        }}\n",
       "}});\n",
       "\n",
       "// Listen for the removal of the full notebook cells\n",
       "var notebookContainer = gd.closest('#notebook-container');\n",
       "if (notebookContainer) {{\n",
       "    x.observe(notebookContainer, {childList: true});\n",
       "}}\n",
       "\n",
       "// Listen for the clearing of the current output cell\n",
       "var outputEl = gd.closest('.output');\n",
       "if (outputEl) {{\n",
       "    x.observe(outputEl, {childList: true});\n",
       "}}\n",
       "\n",
       "                        })                };                });            </script>        </div>"
      ]
     },
     "metadata": {},
     "output_type": "display_data"
    }
   ],
   "source": [
    "import plotly.express as px\n",
    "import seaborn as sns\n",
    "\n",
    "# GET DATA\n",
    "df = sns.load_dataset(\"penguins\");  #print(df.keys())\n",
    "\n",
    "# GENERATE PLOTLY FIGURE\n",
    "fig = px.scatter(\n",
    "    data_frame=df,\n",
    "    x=\"bill_length_mm\",\n",
    "    y=\"body_mass_g\",\n",
    ")\n",
    "\n",
    "import plotly.io as pio\n",
    "pio.renderers.default = \"plotly_mimetype+notebook_connected\"\n",
    "\n",
    "fig.show()\n",
    "\n",
    "# # SAVE AND RENDER \n",
    "# file_name=\"./img/plotly-hello.html\"\n",
    "# fig.write_html(file_name)\n",
    "# from IPython.display import IFrame\n",
    "# IFrame(src=file_name, width=1000, height=500)"
   ]
  },
  {
   "cell_type": "code",
   "execution_count": 6,
   "id": "e3f7e746",
   "metadata": {},
   "outputs": [
    {
     "data": {
      "application/vnd.plotly.v1+json": {
       "config": {
        "plotlyServerURL": "https://plot.ly"
       },
       "data": [
        {
         "hovertemplate": "species=Adelie<br>Bill length (mm)=%{x}<br>Body mass (grams)=%{y}<extra></extra>",
         "legendgroup": "Adelie",
         "marker": {
          "color": "#636efa",
          "size": 14,
          "symbol": "circle"
         },
         "mode": "markers",
         "name": "Adelie",
         "orientation": "v",
         "showlegend": true,
         "type": "scatter",
         "x": [
          39.1,
          39.5,
          40.3,
          null,
          36.7,
          39.3,
          38.9,
          39.2,
          34.1,
          42.0,
          37.8,
          37.8,
          41.1,
          38.6,
          34.6,
          36.6,
          38.7,
          42.5,
          34.4,
          46.0,
          37.8,
          37.7,
          35.9,
          38.2,
          38.8,
          35.3,
          40.6,
          40.5,
          37.9,
          40.5,
          39.5,
          37.2,
          39.5,
          40.9,
          36.4,
          39.2,
          38.8,
          42.2,
          37.6,
          39.8,
          36.5,
          40.8,
          36.0,
          44.1,
          37.0,
          39.6,
          41.1,
          37.5,
          36.0,
          42.3,
          39.6,
          40.1,
          35.0,
          42.0,
          34.5,
          41.4,
          39.0,
          40.6,
          36.5,
          37.6,
          35.7,
          41.3,
          37.6,
          41.1,
          36.4,
          41.6,
          35.5,
          41.1,
          35.9,
          41.8,
          33.5,
          39.7,
          39.6,
          45.8,
          35.5,
          42.8,
          40.9,
          37.2,
          36.2,
          42.1,
          34.6,
          42.9,
          36.7,
          35.1,
          37.3,
          41.3,
          36.3,
          36.9,
          38.3,
          38.9,
          35.7,
          41.1,
          34.0,
          39.6,
          36.2,
          40.8,
          38.1,
          40.3,
          33.1,
          43.2,
          35.0,
          41.0,
          37.7,
          37.8,
          37.9,
          39.7,
          38.6,
          38.2,
          38.1,
          43.2,
          38.1,
          45.6,
          39.7,
          42.2,
          39.6,
          42.7,
          38.6,
          37.3,
          35.7,
          41.1,
          36.2,
          37.7,
          40.2,
          41.4,
          35.2,
          40.6,
          38.8,
          41.5,
          39.0,
          44.1,
          38.5,
          43.1,
          36.8,
          37.5,
          38.1,
          41.1,
          35.6,
          40.2,
          37.0,
          39.7,
          40.2,
          40.6,
          32.1,
          40.7,
          37.3,
          39.0,
          39.2,
          36.6,
          36.0,
          37.8,
          36.0,
          41.5
         ],
         "xaxis": "x",
         "y": [
          3750.0,
          3800.0,
          3250.0,
          null,
          3450.0,
          3650.0,
          3625.0,
          4675.0,
          3475.0,
          4250.0,
          3300.0,
          3700.0,
          3200.0,
          3800.0,
          4400.0,
          3700.0,
          3450.0,
          4500.0,
          3325.0,
          4200.0,
          3400.0,
          3600.0,
          3800.0,
          3950.0,
          3800.0,
          3800.0,
          3550.0,
          3200.0,
          3150.0,
          3950.0,
          3250.0,
          3900.0,
          3300.0,
          3900.0,
          3325.0,
          4150.0,
          3950.0,
          3550.0,
          3300.0,
          4650.0,
          3150.0,
          3900.0,
          3100.0,
          4400.0,
          3000.0,
          4600.0,
          3425.0,
          2975.0,
          3450.0,
          4150.0,
          3500.0,
          4300.0,
          3450.0,
          4050.0,
          2900.0,
          3700.0,
          3550.0,
          3800.0,
          2850.0,
          3750.0,
          3150.0,
          4400.0,
          3600.0,
          4050.0,
          2850.0,
          3950.0,
          3350.0,
          4100.0,
          3050.0,
          4450.0,
          3600.0,
          3900.0,
          3550.0,
          4150.0,
          3700.0,
          4250.0,
          3700.0,
          3900.0,
          3550.0,
          4000.0,
          3200.0,
          4700.0,
          3800.0,
          4200.0,
          3350.0,
          3550.0,
          3800.0,
          3500.0,
          3950.0,
          3600.0,
          3550.0,
          4300.0,
          3400.0,
          4450.0,
          3300.0,
          4300.0,
          3700.0,
          4350.0,
          2900.0,
          4100.0,
          3725.0,
          4725.0,
          3075.0,
          4250.0,
          2925.0,
          3550.0,
          3750.0,
          3900.0,
          3175.0,
          4775.0,
          3825.0,
          4600.0,
          3200.0,
          4275.0,
          3900.0,
          4075.0,
          2900.0,
          3775.0,
          3350.0,
          3325.0,
          3150.0,
          3500.0,
          3450.0,
          3875.0,
          3050.0,
          4000.0,
          3275.0,
          4300.0,
          3050.0,
          4000.0,
          3325.0,
          3500.0,
          3500.0,
          4475.0,
          3425.0,
          3900.0,
          3175.0,
          3975.0,
          3400.0,
          4250.0,
          3400.0,
          3475.0,
          3050.0,
          3725.0,
          3000.0,
          3650.0,
          4250.0,
          3475.0,
          3450.0,
          3750.0,
          3700.0,
          4000.0
         ],
         "yaxis": "y"
        },
        {
         "hovertemplate": "species=Chinstrap<br>Bill length (mm)=%{x}<br>Body mass (grams)=%{y}<extra></extra>",
         "legendgroup": "Chinstrap",
         "marker": {
          "color": "#EF553B",
          "size": 14,
          "symbol": "circle"
         },
         "mode": "markers",
         "name": "Chinstrap",
         "orientation": "v",
         "showlegend": true,
         "type": "scatter",
         "x": [
          46.5,
          50.0,
          51.3,
          45.4,
          52.7,
          45.2,
          46.1,
          51.3,
          46.0,
          51.3,
          46.6,
          51.7,
          47.0,
          52.0,
          45.9,
          50.5,
          50.3,
          58.0,
          46.4,
          49.2,
          42.4,
          48.5,
          43.2,
          50.6,
          46.7,
          52.0,
          50.5,
          49.5,
          46.4,
          52.8,
          40.9,
          54.2,
          42.5,
          51.0,
          49.7,
          47.5,
          47.6,
          52.0,
          46.9,
          53.5,
          49.0,
          46.2,
          50.9,
          45.5,
          50.9,
          50.8,
          50.1,
          49.0,
          51.5,
          49.8,
          48.1,
          51.4,
          45.7,
          50.7,
          42.5,
          52.2,
          45.2,
          49.3,
          50.2,
          45.6,
          51.9,
          46.8,
          45.7,
          55.8,
          43.5,
          49.6,
          50.8,
          50.2
         ],
         "xaxis": "x",
         "y": [
          3500.0,
          3900.0,
          3650.0,
          3525.0,
          3725.0,
          3950.0,
          3250.0,
          3750.0,
          4150.0,
          3700.0,
          3800.0,
          3775.0,
          3700.0,
          4050.0,
          3575.0,
          4050.0,
          3300.0,
          3700.0,
          3450.0,
          4400.0,
          3600.0,
          3400.0,
          2900.0,
          3800.0,
          3300.0,
          4150.0,
          3400.0,
          3800.0,
          3700.0,
          4550.0,
          3200.0,
          4300.0,
          3350.0,
          4100.0,
          3600.0,
          3900.0,
          3850.0,
          4800.0,
          2700.0,
          4500.0,
          3950.0,
          3650.0,
          3550.0,
          3500.0,
          3675.0,
          4450.0,
          3400.0,
          4300.0,
          3250.0,
          3675.0,
          3325.0,
          3950.0,
          3600.0,
          4050.0,
          3350.0,
          3450.0,
          3250.0,
          4050.0,
          3800.0,
          3525.0,
          3950.0,
          3650.0,
          3650.0,
          4000.0,
          3400.0,
          3775.0,
          4100.0,
          3775.0
         ],
         "yaxis": "y"
        },
        {
         "hovertemplate": "species=Gentoo<br>Bill length (mm)=%{x}<br>Body mass (grams)=%{y}<extra></extra>",
         "legendgroup": "Gentoo",
         "marker": {
          "color": "#00cc96",
          "size": 14,
          "symbol": "circle"
         },
         "mode": "markers",
         "name": "Gentoo",
         "orientation": "v",
         "showlegend": true,
         "type": "scatter",
         "x": [
          46.1,
          50.0,
          48.7,
          50.0,
          47.6,
          46.5,
          45.4,
          46.7,
          43.3,
          46.8,
          40.9,
          49.0,
          45.5,
          48.4,
          45.8,
          49.3,
          42.0,
          49.2,
          46.2,
          48.7,
          50.2,
          45.1,
          46.5,
          46.3,
          42.9,
          46.1,
          44.5,
          47.8,
          48.2,
          50.0,
          47.3,
          42.8,
          45.1,
          59.6,
          49.1,
          48.4,
          42.6,
          44.4,
          44.0,
          48.7,
          42.7,
          49.6,
          45.3,
          49.6,
          50.5,
          43.6,
          45.5,
          50.5,
          44.9,
          45.2,
          46.6,
          48.5,
          45.1,
          50.1,
          46.5,
          45.0,
          43.8,
          45.5,
          43.2,
          50.4,
          45.3,
          46.2,
          45.7,
          54.3,
          45.8,
          49.8,
          46.2,
          49.5,
          43.5,
          50.7,
          47.7,
          46.4,
          48.2,
          46.5,
          46.4,
          48.6,
          47.5,
          51.1,
          45.2,
          45.2,
          49.1,
          52.5,
          47.4,
          50.0,
          44.9,
          50.8,
          43.4,
          51.3,
          47.5,
          52.1,
          47.5,
          52.2,
          45.5,
          49.5,
          44.5,
          50.8,
          49.4,
          46.9,
          48.4,
          51.1,
          48.5,
          55.9,
          47.2,
          49.1,
          47.3,
          46.8,
          41.7,
          53.4,
          43.3,
          48.1,
          50.5,
          49.8,
          43.5,
          51.5,
          46.2,
          55.1,
          44.5,
          48.8,
          47.2,
          null,
          46.8,
          50.4,
          45.2,
          49.9
         ],
         "xaxis": "x",
         "y": [
          4500.0,
          5700.0,
          4450.0,
          5700.0,
          5400.0,
          4550.0,
          4800.0,
          5200.0,
          4400.0,
          5150.0,
          4650.0,
          5550.0,
          4650.0,
          5850.0,
          4200.0,
          5850.0,
          4150.0,
          6300.0,
          4800.0,
          5350.0,
          5700.0,
          5000.0,
          4400.0,
          5050.0,
          5000.0,
          5100.0,
          4100.0,
          5650.0,
          4600.0,
          5550.0,
          5250.0,
          4700.0,
          5050.0,
          6050.0,
          5150.0,
          5400.0,
          4950.0,
          5250.0,
          4350.0,
          5350.0,
          3950.0,
          5700.0,
          4300.0,
          4750.0,
          5550.0,
          4900.0,
          4200.0,
          5400.0,
          5100.0,
          5300.0,
          4850.0,
          5300.0,
          4400.0,
          5000.0,
          4900.0,
          5050.0,
          4300.0,
          5000.0,
          4450.0,
          5550.0,
          4200.0,
          5300.0,
          4400.0,
          5650.0,
          4700.0,
          5700.0,
          4650.0,
          5800.0,
          4700.0,
          5550.0,
          4750.0,
          5000.0,
          5100.0,
          5200.0,
          4700.0,
          5800.0,
          4600.0,
          6000.0,
          4750.0,
          5950.0,
          4625.0,
          5450.0,
          4725.0,
          5350.0,
          4750.0,
          5600.0,
          4600.0,
          5300.0,
          4875.0,
          5550.0,
          4950.0,
          5400.0,
          4750.0,
          5650.0,
          4850.0,
          5200.0,
          4925.0,
          4875.0,
          4625.0,
          5250.0,
          4850.0,
          5600.0,
          4975.0,
          5500.0,
          4725.0,
          5500.0,
          4700.0,
          5500.0,
          4575.0,
          5500.0,
          5000.0,
          5950.0,
          4650.0,
          5500.0,
          4375.0,
          5850.0,
          4875.0,
          6000.0,
          4925.0,
          null,
          4850.0,
          5750.0,
          5200.0,
          5400.0
         ],
         "yaxis": "y"
        }
       ],
       "layout": {
        "font": {
         "size": 18
        },
        "legend": {
         "title": {
          "text": "species"
         },
         "tracegroupgap": 0
        },
        "template": {
         "data": {
          "bar": [
           {
            "error_x": {
             "color": "#2a3f5f"
            },
            "error_y": {
             "color": "#2a3f5f"
            },
            "marker": {
             "line": {
              "color": "white",
              "width": 0.5
             },
             "pattern": {
              "fillmode": "overlay",
              "size": 10,
              "solidity": 0.2
             }
            },
            "type": "bar"
           }
          ],
          "barpolar": [
           {
            "marker": {
             "line": {
              "color": "white",
              "width": 0.5
             },
             "pattern": {
              "fillmode": "overlay",
              "size": 10,
              "solidity": 0.2
             }
            },
            "type": "barpolar"
           }
          ],
          "carpet": [
           {
            "aaxis": {
             "endlinecolor": "#2a3f5f",
             "gridcolor": "#C8D4E3",
             "linecolor": "#C8D4E3",
             "minorgridcolor": "#C8D4E3",
             "startlinecolor": "#2a3f5f"
            },
            "baxis": {
             "endlinecolor": "#2a3f5f",
             "gridcolor": "#C8D4E3",
             "linecolor": "#C8D4E3",
             "minorgridcolor": "#C8D4E3",
             "startlinecolor": "#2a3f5f"
            },
            "type": "carpet"
           }
          ],
          "choropleth": [
           {
            "colorbar": {
             "outlinewidth": 0,
             "ticks": ""
            },
            "type": "choropleth"
           }
          ],
          "contour": [
           {
            "colorbar": {
             "outlinewidth": 0,
             "ticks": ""
            },
            "colorscale": [
             [
              0.0,
              "#0d0887"
             ],
             [
              0.1111111111111111,
              "#46039f"
             ],
             [
              0.2222222222222222,
              "#7201a8"
             ],
             [
              0.3333333333333333,
              "#9c179e"
             ],
             [
              0.4444444444444444,
              "#bd3786"
             ],
             [
              0.5555555555555556,
              "#d8576b"
             ],
             [
              0.6666666666666666,
              "#ed7953"
             ],
             [
              0.7777777777777778,
              "#fb9f3a"
             ],
             [
              0.8888888888888888,
              "#fdca26"
             ],
             [
              1.0,
              "#f0f921"
             ]
            ],
            "type": "contour"
           }
          ],
          "contourcarpet": [
           {
            "colorbar": {
             "outlinewidth": 0,
             "ticks": ""
            },
            "type": "contourcarpet"
           }
          ],
          "heatmap": [
           {
            "colorbar": {
             "outlinewidth": 0,
             "ticks": ""
            },
            "colorscale": [
             [
              0.0,
              "#0d0887"
             ],
             [
              0.1111111111111111,
              "#46039f"
             ],
             [
              0.2222222222222222,
              "#7201a8"
             ],
             [
              0.3333333333333333,
              "#9c179e"
             ],
             [
              0.4444444444444444,
              "#bd3786"
             ],
             [
              0.5555555555555556,
              "#d8576b"
             ],
             [
              0.6666666666666666,
              "#ed7953"
             ],
             [
              0.7777777777777778,
              "#fb9f3a"
             ],
             [
              0.8888888888888888,
              "#fdca26"
             ],
             [
              1.0,
              "#f0f921"
             ]
            ],
            "type": "heatmap"
           }
          ],
          "heatmapgl": [
           {
            "colorbar": {
             "outlinewidth": 0,
             "ticks": ""
            },
            "colorscale": [
             [
              0.0,
              "#0d0887"
             ],
             [
              0.1111111111111111,
              "#46039f"
             ],
             [
              0.2222222222222222,
              "#7201a8"
             ],
             [
              0.3333333333333333,
              "#9c179e"
             ],
             [
              0.4444444444444444,
              "#bd3786"
             ],
             [
              0.5555555555555556,
              "#d8576b"
             ],
             [
              0.6666666666666666,
              "#ed7953"
             ],
             [
              0.7777777777777778,
              "#fb9f3a"
             ],
             [
              0.8888888888888888,
              "#fdca26"
             ],
             [
              1.0,
              "#f0f921"
             ]
            ],
            "type": "heatmapgl"
           }
          ],
          "histogram": [
           {
            "marker": {
             "pattern": {
              "fillmode": "overlay",
              "size": 10,
              "solidity": 0.2
             }
            },
            "type": "histogram"
           }
          ],
          "histogram2d": [
           {
            "colorbar": {
             "outlinewidth": 0,
             "ticks": ""
            },
            "colorscale": [
             [
              0.0,
              "#0d0887"
             ],
             [
              0.1111111111111111,
              "#46039f"
             ],
             [
              0.2222222222222222,
              "#7201a8"
             ],
             [
              0.3333333333333333,
              "#9c179e"
             ],
             [
              0.4444444444444444,
              "#bd3786"
             ],
             [
              0.5555555555555556,
              "#d8576b"
             ],
             [
              0.6666666666666666,
              "#ed7953"
             ],
             [
              0.7777777777777778,
              "#fb9f3a"
             ],
             [
              0.8888888888888888,
              "#fdca26"
             ],
             [
              1.0,
              "#f0f921"
             ]
            ],
            "type": "histogram2d"
           }
          ],
          "histogram2dcontour": [
           {
            "colorbar": {
             "outlinewidth": 0,
             "ticks": ""
            },
            "colorscale": [
             [
              0.0,
              "#0d0887"
             ],
             [
              0.1111111111111111,
              "#46039f"
             ],
             [
              0.2222222222222222,
              "#7201a8"
             ],
             [
              0.3333333333333333,
              "#9c179e"
             ],
             [
              0.4444444444444444,
              "#bd3786"
             ],
             [
              0.5555555555555556,
              "#d8576b"
             ],
             [
              0.6666666666666666,
              "#ed7953"
             ],
             [
              0.7777777777777778,
              "#fb9f3a"
             ],
             [
              0.8888888888888888,
              "#fdca26"
             ],
             [
              1.0,
              "#f0f921"
             ]
            ],
            "type": "histogram2dcontour"
           }
          ],
          "mesh3d": [
           {
            "colorbar": {
             "outlinewidth": 0,
             "ticks": ""
            },
            "type": "mesh3d"
           }
          ],
          "parcoords": [
           {
            "line": {
             "colorbar": {
              "outlinewidth": 0,
              "ticks": ""
             }
            },
            "type": "parcoords"
           }
          ],
          "pie": [
           {
            "automargin": true,
            "type": "pie"
           }
          ],
          "scatter": [
           {
            "fillpattern": {
             "fillmode": "overlay",
             "size": 10,
             "solidity": 0.2
            },
            "type": "scatter"
           }
          ],
          "scatter3d": [
           {
            "line": {
             "colorbar": {
              "outlinewidth": 0,
              "ticks": ""
             }
            },
            "marker": {
             "colorbar": {
              "outlinewidth": 0,
              "ticks": ""
             }
            },
            "type": "scatter3d"
           }
          ],
          "scattercarpet": [
           {
            "marker": {
             "colorbar": {
              "outlinewidth": 0,
              "ticks": ""
             }
            },
            "type": "scattercarpet"
           }
          ],
          "scattergeo": [
           {
            "marker": {
             "colorbar": {
              "outlinewidth": 0,
              "ticks": ""
             }
            },
            "type": "scattergeo"
           }
          ],
          "scattergl": [
           {
            "marker": {
             "colorbar": {
              "outlinewidth": 0,
              "ticks": ""
             }
            },
            "type": "scattergl"
           }
          ],
          "scattermapbox": [
           {
            "marker": {
             "colorbar": {
              "outlinewidth": 0,
              "ticks": ""
             }
            },
            "type": "scattermapbox"
           }
          ],
          "scatterpolar": [
           {
            "marker": {
             "colorbar": {
              "outlinewidth": 0,
              "ticks": ""
             }
            },
            "type": "scatterpolar"
           }
          ],
          "scatterpolargl": [
           {
            "marker": {
             "colorbar": {
              "outlinewidth": 0,
              "ticks": ""
             }
            },
            "type": "scatterpolargl"
           }
          ],
          "scatterternary": [
           {
            "marker": {
             "colorbar": {
              "outlinewidth": 0,
              "ticks": ""
             }
            },
            "type": "scatterternary"
           }
          ],
          "surface": [
           {
            "colorbar": {
             "outlinewidth": 0,
             "ticks": ""
            },
            "colorscale": [
             [
              0.0,
              "#0d0887"
             ],
             [
              0.1111111111111111,
              "#46039f"
             ],
             [
              0.2222222222222222,
              "#7201a8"
             ],
             [
              0.3333333333333333,
              "#9c179e"
             ],
             [
              0.4444444444444444,
              "#bd3786"
             ],
             [
              0.5555555555555556,
              "#d8576b"
             ],
             [
              0.6666666666666666,
              "#ed7953"
             ],
             [
              0.7777777777777778,
              "#fb9f3a"
             ],
             [
              0.8888888888888888,
              "#fdca26"
             ],
             [
              1.0,
              "#f0f921"
             ]
            ],
            "type": "surface"
           }
          ],
          "table": [
           {
            "cells": {
             "fill": {
              "color": "#EBF0F8"
             },
             "line": {
              "color": "white"
             }
            },
            "header": {
             "fill": {
              "color": "#C8D4E3"
             },
             "line": {
              "color": "white"
             }
            },
            "type": "table"
           }
          ]
         },
         "layout": {
          "annotationdefaults": {
           "arrowcolor": "#2a3f5f",
           "arrowhead": 0,
           "arrowwidth": 1
          },
          "autotypenumbers": "strict",
          "coloraxis": {
           "colorbar": {
            "outlinewidth": 0,
            "ticks": ""
           }
          },
          "colorscale": {
           "diverging": [
            [
             0,
             "#8e0152"
            ],
            [
             0.1,
             "#c51b7d"
            ],
            [
             0.2,
             "#de77ae"
            ],
            [
             0.3,
             "#f1b6da"
            ],
            [
             0.4,
             "#fde0ef"
            ],
            [
             0.5,
             "#f7f7f7"
            ],
            [
             0.6,
             "#e6f5d0"
            ],
            [
             0.7,
             "#b8e186"
            ],
            [
             0.8,
             "#7fbc41"
            ],
            [
             0.9,
             "#4d9221"
            ],
            [
             1,
             "#276419"
            ]
           ],
           "sequential": [
            [
             0.0,
             "#0d0887"
            ],
            [
             0.1111111111111111,
             "#46039f"
            ],
            [
             0.2222222222222222,
             "#7201a8"
            ],
            [
             0.3333333333333333,
             "#9c179e"
            ],
            [
             0.4444444444444444,
             "#bd3786"
            ],
            [
             0.5555555555555556,
             "#d8576b"
            ],
            [
             0.6666666666666666,
             "#ed7953"
            ],
            [
             0.7777777777777778,
             "#fb9f3a"
            ],
            [
             0.8888888888888888,
             "#fdca26"
            ],
            [
             1.0,
             "#f0f921"
            ]
           ],
           "sequentialminus": [
            [
             0.0,
             "#0d0887"
            ],
            [
             0.1111111111111111,
             "#46039f"
            ],
            [
             0.2222222222222222,
             "#7201a8"
            ],
            [
             0.3333333333333333,
             "#9c179e"
            ],
            [
             0.4444444444444444,
             "#bd3786"
            ],
            [
             0.5555555555555556,
             "#d8576b"
            ],
            [
             0.6666666666666666,
             "#ed7953"
            ],
            [
             0.7777777777777778,
             "#fb9f3a"
            ],
            [
             0.8888888888888888,
             "#fdca26"
            ],
            [
             1.0,
             "#f0f921"
            ]
           ]
          },
          "colorway": [
           "#636efa",
           "#EF553B",
           "#00cc96",
           "#ab63fa",
           "#FFA15A",
           "#19d3f3",
           "#FF6692",
           "#B6E880",
           "#FF97FF",
           "#FECB52"
          ],
          "font": {
           "color": "#2a3f5f"
          },
          "geo": {
           "bgcolor": "white",
           "lakecolor": "white",
           "landcolor": "white",
           "showlakes": true,
           "showland": true,
           "subunitcolor": "#C8D4E3"
          },
          "hoverlabel": {
           "align": "left"
          },
          "hovermode": "closest",
          "mapbox": {
           "style": "light"
          },
          "paper_bgcolor": "white",
          "plot_bgcolor": "white",
          "polar": {
           "angularaxis": {
            "gridcolor": "#EBF0F8",
            "linecolor": "#EBF0F8",
            "ticks": ""
           },
           "bgcolor": "white",
           "radialaxis": {
            "gridcolor": "#EBF0F8",
            "linecolor": "#EBF0F8",
            "ticks": ""
           }
          },
          "scene": {
           "xaxis": {
            "backgroundcolor": "white",
            "gridcolor": "#DFE8F3",
            "gridwidth": 2,
            "linecolor": "#EBF0F8",
            "showbackground": true,
            "ticks": "",
            "zerolinecolor": "#EBF0F8"
           },
           "yaxis": {
            "backgroundcolor": "white",
            "gridcolor": "#DFE8F3",
            "gridwidth": 2,
            "linecolor": "#EBF0F8",
            "showbackground": true,
            "ticks": "",
            "zerolinecolor": "#EBF0F8"
           },
           "zaxis": {
            "backgroundcolor": "white",
            "gridcolor": "#DFE8F3",
            "gridwidth": 2,
            "linecolor": "#EBF0F8",
            "showbackground": true,
            "ticks": "",
            "zerolinecolor": "#EBF0F8"
           }
          },
          "shapedefaults": {
           "line": {
            "color": "#2a3f5f"
           }
          },
          "ternary": {
           "aaxis": {
            "gridcolor": "#DFE8F3",
            "linecolor": "#A2B1C6",
            "ticks": ""
           },
           "baxis": {
            "gridcolor": "#DFE8F3",
            "linecolor": "#A2B1C6",
            "ticks": ""
           },
           "bgcolor": "white",
           "caxis": {
            "gridcolor": "#DFE8F3",
            "linecolor": "#A2B1C6",
            "ticks": ""
           }
          },
          "title": {
           "x": 0.05
          },
          "xaxis": {
           "automargin": true,
           "gridcolor": "#EBF0F8",
           "linecolor": "#EBF0F8",
           "ticks": "",
           "title": {
            "standoff": 15
           },
           "zerolinecolor": "#EBF0F8",
           "zerolinewidth": 2
          },
          "yaxis": {
           "automargin": true,
           "gridcolor": "#EBF0F8",
           "linecolor": "#EBF0F8",
           "ticks": "",
           "title": {
            "standoff": 15
           },
           "zerolinecolor": "#EBF0F8",
           "zerolinewidth": 2
          }
         }
        },
        "title": {
         "text": "Visualization of penguins species phenotypical clustering"
        },
        "xaxis": {
         "anchor": "y",
         "domain": [
          0.0,
          1.0
         ],
         "title": {
          "text": "Bill length (mm)"
         }
        },
        "yaxis": {
         "anchor": "x",
         "domain": [
          0.0,
          1.0
         ],
         "title": {
          "text": "Body mass (grams)"
         }
        }
       }
      },
      "text/html": [
       "<div>                            <div id=\"28ace23c-8bb5-4ac9-b90d-63afb0328c5a\" class=\"plotly-graph-div\" style=\"height:525px; width:100%;\"></div>            <script type=\"text/javascript\">                require([\"plotly\"], function(Plotly) {                    window.PLOTLYENV=window.PLOTLYENV || {};                                    if (document.getElementById(\"28ace23c-8bb5-4ac9-b90d-63afb0328c5a\")) {                    Plotly.newPlot(                        \"28ace23c-8bb5-4ac9-b90d-63afb0328c5a\",                        [{\"hovertemplate\":\"species=Adelie<br>Bill length (mm)=%{x}<br>Body mass (grams)=%{y}<extra></extra>\",\"legendgroup\":\"Adelie\",\"marker\":{\"color\":\"#636efa\",\"symbol\":\"circle\",\"size\":14},\"mode\":\"markers\",\"name\":\"Adelie\",\"orientation\":\"v\",\"showlegend\":true,\"x\":[39.1,39.5,40.3,null,36.7,39.3,38.9,39.2,34.1,42.0,37.8,37.8,41.1,38.6,34.6,36.6,38.7,42.5,34.4,46.0,37.8,37.7,35.9,38.2,38.8,35.3,40.6,40.5,37.9,40.5,39.5,37.2,39.5,40.9,36.4,39.2,38.8,42.2,37.6,39.8,36.5,40.8,36.0,44.1,37.0,39.6,41.1,37.5,36.0,42.3,39.6,40.1,35.0,42.0,34.5,41.4,39.0,40.6,36.5,37.6,35.7,41.3,37.6,41.1,36.4,41.6,35.5,41.1,35.9,41.8,33.5,39.7,39.6,45.8,35.5,42.8,40.9,37.2,36.2,42.1,34.6,42.9,36.7,35.1,37.3,41.3,36.3,36.9,38.3,38.9,35.7,41.1,34.0,39.6,36.2,40.8,38.1,40.3,33.1,43.2,35.0,41.0,37.7,37.8,37.9,39.7,38.6,38.2,38.1,43.2,38.1,45.6,39.7,42.2,39.6,42.7,38.6,37.3,35.7,41.1,36.2,37.7,40.2,41.4,35.2,40.6,38.8,41.5,39.0,44.1,38.5,43.1,36.8,37.5,38.1,41.1,35.6,40.2,37.0,39.7,40.2,40.6,32.1,40.7,37.3,39.0,39.2,36.6,36.0,37.8,36.0,41.5],\"xaxis\":\"x\",\"y\":[3750.0,3800.0,3250.0,null,3450.0,3650.0,3625.0,4675.0,3475.0,4250.0,3300.0,3700.0,3200.0,3800.0,4400.0,3700.0,3450.0,4500.0,3325.0,4200.0,3400.0,3600.0,3800.0,3950.0,3800.0,3800.0,3550.0,3200.0,3150.0,3950.0,3250.0,3900.0,3300.0,3900.0,3325.0,4150.0,3950.0,3550.0,3300.0,4650.0,3150.0,3900.0,3100.0,4400.0,3000.0,4600.0,3425.0,2975.0,3450.0,4150.0,3500.0,4300.0,3450.0,4050.0,2900.0,3700.0,3550.0,3800.0,2850.0,3750.0,3150.0,4400.0,3600.0,4050.0,2850.0,3950.0,3350.0,4100.0,3050.0,4450.0,3600.0,3900.0,3550.0,4150.0,3700.0,4250.0,3700.0,3900.0,3550.0,4000.0,3200.0,4700.0,3800.0,4200.0,3350.0,3550.0,3800.0,3500.0,3950.0,3600.0,3550.0,4300.0,3400.0,4450.0,3300.0,4300.0,3700.0,4350.0,2900.0,4100.0,3725.0,4725.0,3075.0,4250.0,2925.0,3550.0,3750.0,3900.0,3175.0,4775.0,3825.0,4600.0,3200.0,4275.0,3900.0,4075.0,2900.0,3775.0,3350.0,3325.0,3150.0,3500.0,3450.0,3875.0,3050.0,4000.0,3275.0,4300.0,3050.0,4000.0,3325.0,3500.0,3500.0,4475.0,3425.0,3900.0,3175.0,3975.0,3400.0,4250.0,3400.0,3475.0,3050.0,3725.0,3000.0,3650.0,4250.0,3475.0,3450.0,3750.0,3700.0,4000.0],\"yaxis\":\"y\",\"type\":\"scatter\"},{\"hovertemplate\":\"species=Chinstrap<br>Bill length (mm)=%{x}<br>Body mass (grams)=%{y}<extra></extra>\",\"legendgroup\":\"Chinstrap\",\"marker\":{\"color\":\"#EF553B\",\"symbol\":\"circle\",\"size\":14},\"mode\":\"markers\",\"name\":\"Chinstrap\",\"orientation\":\"v\",\"showlegend\":true,\"x\":[46.5,50.0,51.3,45.4,52.7,45.2,46.1,51.3,46.0,51.3,46.6,51.7,47.0,52.0,45.9,50.5,50.3,58.0,46.4,49.2,42.4,48.5,43.2,50.6,46.7,52.0,50.5,49.5,46.4,52.8,40.9,54.2,42.5,51.0,49.7,47.5,47.6,52.0,46.9,53.5,49.0,46.2,50.9,45.5,50.9,50.8,50.1,49.0,51.5,49.8,48.1,51.4,45.7,50.7,42.5,52.2,45.2,49.3,50.2,45.6,51.9,46.8,45.7,55.8,43.5,49.6,50.8,50.2],\"xaxis\":\"x\",\"y\":[3500.0,3900.0,3650.0,3525.0,3725.0,3950.0,3250.0,3750.0,4150.0,3700.0,3800.0,3775.0,3700.0,4050.0,3575.0,4050.0,3300.0,3700.0,3450.0,4400.0,3600.0,3400.0,2900.0,3800.0,3300.0,4150.0,3400.0,3800.0,3700.0,4550.0,3200.0,4300.0,3350.0,4100.0,3600.0,3900.0,3850.0,4800.0,2700.0,4500.0,3950.0,3650.0,3550.0,3500.0,3675.0,4450.0,3400.0,4300.0,3250.0,3675.0,3325.0,3950.0,3600.0,4050.0,3350.0,3450.0,3250.0,4050.0,3800.0,3525.0,3950.0,3650.0,3650.0,4000.0,3400.0,3775.0,4100.0,3775.0],\"yaxis\":\"y\",\"type\":\"scatter\"},{\"hovertemplate\":\"species=Gentoo<br>Bill length (mm)=%{x}<br>Body mass (grams)=%{y}<extra></extra>\",\"legendgroup\":\"Gentoo\",\"marker\":{\"color\":\"#00cc96\",\"symbol\":\"circle\",\"size\":14},\"mode\":\"markers\",\"name\":\"Gentoo\",\"orientation\":\"v\",\"showlegend\":true,\"x\":[46.1,50.0,48.7,50.0,47.6,46.5,45.4,46.7,43.3,46.8,40.9,49.0,45.5,48.4,45.8,49.3,42.0,49.2,46.2,48.7,50.2,45.1,46.5,46.3,42.9,46.1,44.5,47.8,48.2,50.0,47.3,42.8,45.1,59.6,49.1,48.4,42.6,44.4,44.0,48.7,42.7,49.6,45.3,49.6,50.5,43.6,45.5,50.5,44.9,45.2,46.6,48.5,45.1,50.1,46.5,45.0,43.8,45.5,43.2,50.4,45.3,46.2,45.7,54.3,45.8,49.8,46.2,49.5,43.5,50.7,47.7,46.4,48.2,46.5,46.4,48.6,47.5,51.1,45.2,45.2,49.1,52.5,47.4,50.0,44.9,50.8,43.4,51.3,47.5,52.1,47.5,52.2,45.5,49.5,44.5,50.8,49.4,46.9,48.4,51.1,48.5,55.9,47.2,49.1,47.3,46.8,41.7,53.4,43.3,48.1,50.5,49.8,43.5,51.5,46.2,55.1,44.5,48.8,47.2,null,46.8,50.4,45.2,49.9],\"xaxis\":\"x\",\"y\":[4500.0,5700.0,4450.0,5700.0,5400.0,4550.0,4800.0,5200.0,4400.0,5150.0,4650.0,5550.0,4650.0,5850.0,4200.0,5850.0,4150.0,6300.0,4800.0,5350.0,5700.0,5000.0,4400.0,5050.0,5000.0,5100.0,4100.0,5650.0,4600.0,5550.0,5250.0,4700.0,5050.0,6050.0,5150.0,5400.0,4950.0,5250.0,4350.0,5350.0,3950.0,5700.0,4300.0,4750.0,5550.0,4900.0,4200.0,5400.0,5100.0,5300.0,4850.0,5300.0,4400.0,5000.0,4900.0,5050.0,4300.0,5000.0,4450.0,5550.0,4200.0,5300.0,4400.0,5650.0,4700.0,5700.0,4650.0,5800.0,4700.0,5550.0,4750.0,5000.0,5100.0,5200.0,4700.0,5800.0,4600.0,6000.0,4750.0,5950.0,4625.0,5450.0,4725.0,5350.0,4750.0,5600.0,4600.0,5300.0,4875.0,5550.0,4950.0,5400.0,4750.0,5650.0,4850.0,5200.0,4925.0,4875.0,4625.0,5250.0,4850.0,5600.0,4975.0,5500.0,4725.0,5500.0,4700.0,5500.0,4575.0,5500.0,5000.0,5950.0,4650.0,5500.0,4375.0,5850.0,4875.0,6000.0,4925.0,null,4850.0,5750.0,5200.0,5400.0],\"yaxis\":\"y\",\"type\":\"scatter\"}],                        {\"template\":{\"data\":{\"barpolar\":[{\"marker\":{\"line\":{\"color\":\"white\",\"width\":0.5},\"pattern\":{\"fillmode\":\"overlay\",\"size\":10,\"solidity\":0.2}},\"type\":\"barpolar\"}],\"bar\":[{\"error_x\":{\"color\":\"#2a3f5f\"},\"error_y\":{\"color\":\"#2a3f5f\"},\"marker\":{\"line\":{\"color\":\"white\",\"width\":0.5},\"pattern\":{\"fillmode\":\"overlay\",\"size\":10,\"solidity\":0.2}},\"type\":\"bar\"}],\"carpet\":[{\"aaxis\":{\"endlinecolor\":\"#2a3f5f\",\"gridcolor\":\"#C8D4E3\",\"linecolor\":\"#C8D4E3\",\"minorgridcolor\":\"#C8D4E3\",\"startlinecolor\":\"#2a3f5f\"},\"baxis\":{\"endlinecolor\":\"#2a3f5f\",\"gridcolor\":\"#C8D4E3\",\"linecolor\":\"#C8D4E3\",\"minorgridcolor\":\"#C8D4E3\",\"startlinecolor\":\"#2a3f5f\"},\"type\":\"carpet\"}],\"choropleth\":[{\"colorbar\":{\"outlinewidth\":0,\"ticks\":\"\"},\"type\":\"choropleth\"}],\"contourcarpet\":[{\"colorbar\":{\"outlinewidth\":0,\"ticks\":\"\"},\"type\":\"contourcarpet\"}],\"contour\":[{\"colorbar\":{\"outlinewidth\":0,\"ticks\":\"\"},\"colorscale\":[[0.0,\"#0d0887\"],[0.1111111111111111,\"#46039f\"],[0.2222222222222222,\"#7201a8\"],[0.3333333333333333,\"#9c179e\"],[0.4444444444444444,\"#bd3786\"],[0.5555555555555556,\"#d8576b\"],[0.6666666666666666,\"#ed7953\"],[0.7777777777777778,\"#fb9f3a\"],[0.8888888888888888,\"#fdca26\"],[1.0,\"#f0f921\"]],\"type\":\"contour\"}],\"heatmapgl\":[{\"colorbar\":{\"outlinewidth\":0,\"ticks\":\"\"},\"colorscale\":[[0.0,\"#0d0887\"],[0.1111111111111111,\"#46039f\"],[0.2222222222222222,\"#7201a8\"],[0.3333333333333333,\"#9c179e\"],[0.4444444444444444,\"#bd3786\"],[0.5555555555555556,\"#d8576b\"],[0.6666666666666666,\"#ed7953\"],[0.7777777777777778,\"#fb9f3a\"],[0.8888888888888888,\"#fdca26\"],[1.0,\"#f0f921\"]],\"type\":\"heatmapgl\"}],\"heatmap\":[{\"colorbar\":{\"outlinewidth\":0,\"ticks\":\"\"},\"colorscale\":[[0.0,\"#0d0887\"],[0.1111111111111111,\"#46039f\"],[0.2222222222222222,\"#7201a8\"],[0.3333333333333333,\"#9c179e\"],[0.4444444444444444,\"#bd3786\"],[0.5555555555555556,\"#d8576b\"],[0.6666666666666666,\"#ed7953\"],[0.7777777777777778,\"#fb9f3a\"],[0.8888888888888888,\"#fdca26\"],[1.0,\"#f0f921\"]],\"type\":\"heatmap\"}],\"histogram2dcontour\":[{\"colorbar\":{\"outlinewidth\":0,\"ticks\":\"\"},\"colorscale\":[[0.0,\"#0d0887\"],[0.1111111111111111,\"#46039f\"],[0.2222222222222222,\"#7201a8\"],[0.3333333333333333,\"#9c179e\"],[0.4444444444444444,\"#bd3786\"],[0.5555555555555556,\"#d8576b\"],[0.6666666666666666,\"#ed7953\"],[0.7777777777777778,\"#fb9f3a\"],[0.8888888888888888,\"#fdca26\"],[1.0,\"#f0f921\"]],\"type\":\"histogram2dcontour\"}],\"histogram2d\":[{\"colorbar\":{\"outlinewidth\":0,\"ticks\":\"\"},\"colorscale\":[[0.0,\"#0d0887\"],[0.1111111111111111,\"#46039f\"],[0.2222222222222222,\"#7201a8\"],[0.3333333333333333,\"#9c179e\"],[0.4444444444444444,\"#bd3786\"],[0.5555555555555556,\"#d8576b\"],[0.6666666666666666,\"#ed7953\"],[0.7777777777777778,\"#fb9f3a\"],[0.8888888888888888,\"#fdca26\"],[1.0,\"#f0f921\"]],\"type\":\"histogram2d\"}],\"histogram\":[{\"marker\":{\"pattern\":{\"fillmode\":\"overlay\",\"size\":10,\"solidity\":0.2}},\"type\":\"histogram\"}],\"mesh3d\":[{\"colorbar\":{\"outlinewidth\":0,\"ticks\":\"\"},\"type\":\"mesh3d\"}],\"parcoords\":[{\"line\":{\"colorbar\":{\"outlinewidth\":0,\"ticks\":\"\"}},\"type\":\"parcoords\"}],\"pie\":[{\"automargin\":true,\"type\":\"pie\"}],\"scatter3d\":[{\"line\":{\"colorbar\":{\"outlinewidth\":0,\"ticks\":\"\"}},\"marker\":{\"colorbar\":{\"outlinewidth\":0,\"ticks\":\"\"}},\"type\":\"scatter3d\"}],\"scattercarpet\":[{\"marker\":{\"colorbar\":{\"outlinewidth\":0,\"ticks\":\"\"}},\"type\":\"scattercarpet\"}],\"scattergeo\":[{\"marker\":{\"colorbar\":{\"outlinewidth\":0,\"ticks\":\"\"}},\"type\":\"scattergeo\"}],\"scattergl\":[{\"marker\":{\"colorbar\":{\"outlinewidth\":0,\"ticks\":\"\"}},\"type\":\"scattergl\"}],\"scattermapbox\":[{\"marker\":{\"colorbar\":{\"outlinewidth\":0,\"ticks\":\"\"}},\"type\":\"scattermapbox\"}],\"scatterpolargl\":[{\"marker\":{\"colorbar\":{\"outlinewidth\":0,\"ticks\":\"\"}},\"type\":\"scatterpolargl\"}],\"scatterpolar\":[{\"marker\":{\"colorbar\":{\"outlinewidth\":0,\"ticks\":\"\"}},\"type\":\"scatterpolar\"}],\"scatter\":[{\"fillpattern\":{\"fillmode\":\"overlay\",\"size\":10,\"solidity\":0.2},\"type\":\"scatter\"}],\"scatterternary\":[{\"marker\":{\"colorbar\":{\"outlinewidth\":0,\"ticks\":\"\"}},\"type\":\"scatterternary\"}],\"surface\":[{\"colorbar\":{\"outlinewidth\":0,\"ticks\":\"\"},\"colorscale\":[[0.0,\"#0d0887\"],[0.1111111111111111,\"#46039f\"],[0.2222222222222222,\"#7201a8\"],[0.3333333333333333,\"#9c179e\"],[0.4444444444444444,\"#bd3786\"],[0.5555555555555556,\"#d8576b\"],[0.6666666666666666,\"#ed7953\"],[0.7777777777777778,\"#fb9f3a\"],[0.8888888888888888,\"#fdca26\"],[1.0,\"#f0f921\"]],\"type\":\"surface\"}],\"table\":[{\"cells\":{\"fill\":{\"color\":\"#EBF0F8\"},\"line\":{\"color\":\"white\"}},\"header\":{\"fill\":{\"color\":\"#C8D4E3\"},\"line\":{\"color\":\"white\"}},\"type\":\"table\"}]},\"layout\":{\"annotationdefaults\":{\"arrowcolor\":\"#2a3f5f\",\"arrowhead\":0,\"arrowwidth\":1},\"autotypenumbers\":\"strict\",\"coloraxis\":{\"colorbar\":{\"outlinewidth\":0,\"ticks\":\"\"}},\"colorscale\":{\"diverging\":[[0,\"#8e0152\"],[0.1,\"#c51b7d\"],[0.2,\"#de77ae\"],[0.3,\"#f1b6da\"],[0.4,\"#fde0ef\"],[0.5,\"#f7f7f7\"],[0.6,\"#e6f5d0\"],[0.7,\"#b8e186\"],[0.8,\"#7fbc41\"],[0.9,\"#4d9221\"],[1,\"#276419\"]],\"sequential\":[[0.0,\"#0d0887\"],[0.1111111111111111,\"#46039f\"],[0.2222222222222222,\"#7201a8\"],[0.3333333333333333,\"#9c179e\"],[0.4444444444444444,\"#bd3786\"],[0.5555555555555556,\"#d8576b\"],[0.6666666666666666,\"#ed7953\"],[0.7777777777777778,\"#fb9f3a\"],[0.8888888888888888,\"#fdca26\"],[1.0,\"#f0f921\"]],\"sequentialminus\":[[0.0,\"#0d0887\"],[0.1111111111111111,\"#46039f\"],[0.2222222222222222,\"#7201a8\"],[0.3333333333333333,\"#9c179e\"],[0.4444444444444444,\"#bd3786\"],[0.5555555555555556,\"#d8576b\"],[0.6666666666666666,\"#ed7953\"],[0.7777777777777778,\"#fb9f3a\"],[0.8888888888888888,\"#fdca26\"],[1.0,\"#f0f921\"]]},\"colorway\":[\"#636efa\",\"#EF553B\",\"#00cc96\",\"#ab63fa\",\"#FFA15A\",\"#19d3f3\",\"#FF6692\",\"#B6E880\",\"#FF97FF\",\"#FECB52\"],\"font\":{\"color\":\"#2a3f5f\"},\"geo\":{\"bgcolor\":\"white\",\"lakecolor\":\"white\",\"landcolor\":\"white\",\"showlakes\":true,\"showland\":true,\"subunitcolor\":\"#C8D4E3\"},\"hoverlabel\":{\"align\":\"left\"},\"hovermode\":\"closest\",\"mapbox\":{\"style\":\"light\"},\"paper_bgcolor\":\"white\",\"plot_bgcolor\":\"white\",\"polar\":{\"angularaxis\":{\"gridcolor\":\"#EBF0F8\",\"linecolor\":\"#EBF0F8\",\"ticks\":\"\"},\"bgcolor\":\"white\",\"radialaxis\":{\"gridcolor\":\"#EBF0F8\",\"linecolor\":\"#EBF0F8\",\"ticks\":\"\"}},\"scene\":{\"xaxis\":{\"backgroundcolor\":\"white\",\"gridcolor\":\"#DFE8F3\",\"gridwidth\":2,\"linecolor\":\"#EBF0F8\",\"showbackground\":true,\"ticks\":\"\",\"zerolinecolor\":\"#EBF0F8\"},\"yaxis\":{\"backgroundcolor\":\"white\",\"gridcolor\":\"#DFE8F3\",\"gridwidth\":2,\"linecolor\":\"#EBF0F8\",\"showbackground\":true,\"ticks\":\"\",\"zerolinecolor\":\"#EBF0F8\"},\"zaxis\":{\"backgroundcolor\":\"white\",\"gridcolor\":\"#DFE8F3\",\"gridwidth\":2,\"linecolor\":\"#EBF0F8\",\"showbackground\":true,\"ticks\":\"\",\"zerolinecolor\":\"#EBF0F8\"}},\"shapedefaults\":{\"line\":{\"color\":\"#2a3f5f\"}},\"ternary\":{\"aaxis\":{\"gridcolor\":\"#DFE8F3\",\"linecolor\":\"#A2B1C6\",\"ticks\":\"\"},\"baxis\":{\"gridcolor\":\"#DFE8F3\",\"linecolor\":\"#A2B1C6\",\"ticks\":\"\"},\"bgcolor\":\"white\",\"caxis\":{\"gridcolor\":\"#DFE8F3\",\"linecolor\":\"#A2B1C6\",\"ticks\":\"\"}},\"title\":{\"x\":0.05},\"xaxis\":{\"automargin\":true,\"gridcolor\":\"#EBF0F8\",\"linecolor\":\"#EBF0F8\",\"ticks\":\"\",\"title\":{\"standoff\":15},\"zerolinecolor\":\"#EBF0F8\",\"zerolinewidth\":2},\"yaxis\":{\"automargin\":true,\"gridcolor\":\"#EBF0F8\",\"linecolor\":\"#EBF0F8\",\"ticks\":\"\",\"title\":{\"standoff\":15},\"zerolinecolor\":\"#EBF0F8\",\"zerolinewidth\":2}}},\"xaxis\":{\"anchor\":\"y\",\"domain\":[0.0,1.0],\"title\":{\"text\":\"Bill length (mm)\"}},\"yaxis\":{\"anchor\":\"x\",\"domain\":[0.0,1.0],\"title\":{\"text\":\"Body mass (grams)\"}},\"legend\":{\"title\":{\"text\":\"species\"},\"tracegroupgap\":0},\"title\":{\"text\":\"Visualization of penguins species phenotypical clustering\"},\"font\":{\"size\":18}},                        {\"responsive\": true}                    ).then(function(){\n",
       "                            \n",
       "var gd = document.getElementById('28ace23c-8bb5-4ac9-b90d-63afb0328c5a');\n",
       "var x = new MutationObserver(function (mutations, observer) {{\n",
       "        var display = window.getComputedStyle(gd).display;\n",
       "        if (!display || display === 'none') {{\n",
       "            console.log([gd, 'removed!']);\n",
       "            Plotly.purge(gd);\n",
       "            observer.disconnect();\n",
       "        }}\n",
       "}});\n",
       "\n",
       "// Listen for the removal of the full notebook cells\n",
       "var notebookContainer = gd.closest('#notebook-container');\n",
       "if (notebookContainer) {{\n",
       "    x.observe(notebookContainer, {childList: true});\n",
       "}}\n",
       "\n",
       "// Listen for the clearing of the current output cell\n",
       "var outputEl = gd.closest('.output');\n",
       "if (outputEl) {{\n",
       "    x.observe(outputEl, {childList: true});\n",
       "}}\n",
       "\n",
       "                        })                };                });            </script>        </div>"
      ]
     },
     "metadata": {},
     "output_type": "display_data"
    }
   ],
   "source": [
    "import plotly.express as px\n",
    "import seaborn as sns\n",
    "\n",
    "# GET DATA\n",
    "df = sns.load_dataset(\"penguins\");  #print(df.keys())\n",
    "\n",
    "# GENERATE PLOTLY FIGURE\n",
    "fig = px.scatter(\n",
    "    data_frame=df,\n",
    "    x=\"bill_length_mm\",\n",
    "    y=\"body_mass_g\",\n",
    "    # color=\"body_mass_g\",\n",
    "    color=\"species\",\n",
    "    template=\"plotly_white\",  #THEME\n",
    "    labels={\"body_mass_g\": \"Body mass (grams)\", \"bill_length_mm\":\"Bill length (mm)\"},  \n",
    "    title=\"Visualization of penguins species phenotypical clustering\",\n",
    ")\n",
    "# MAKE POINTS LARGER AND CHANGE FONT\n",
    "fig.update_traces(marker_size=14)\n",
    "fig.update_layout(font={\"size\":18})\n",
    "fig.show()\n",
    "\n",
    "# # SAVE AND RENDER \n",
    "# file_name=\"./img/plotly-basic-customization.html\"\n",
    "# fig.write_html(file_name)\n",
    "# from IPython.display import IFrame\n",
    "# IFrame(src=file_name, width=1000, height=500)"
   ]
  },
  {
   "cell_type": "code",
   "execution_count": 7,
   "id": "e021354c",
   "metadata": {},
   "outputs": [
    {
     "data": {
      "text/html": [
       "\n",
       "        <iframe\n",
       "            width=\"500\"\n",
       "            height=\"400\"\n",
       "            src=\"./img/plotly-dict.html\"\n",
       "            frameborder=\"0\"\n",
       "            allowfullscreen\n",
       "            \n",
       "        ></iframe>\n",
       "        "
      ],
      "text/plain": [
       "<IPython.lib.display.IFrame at 0x156c9ce20>"
      ]
     },
     "execution_count": 22,
     "metadata": {},
     "output_type": "execute_result"
    }
   ],
   "source": [
    "# GENERATE PLOTLY FIGURE OBJECT\n",
    "import plotly.express as px\n",
    "import numpy as np \n",
    "dict = {'dates': ['2020-01-01', '2020-01-02'], 'y_vals': np.array([100,200])}\n",
    "fig = px.bar(dict, x='dates', y='y_vals')\n",
    "\n",
    "# SAVE AND RENDER\n",
    "file_name=\"./img/plotly-dict.html\"\n",
    "fig.write_html(file_name)\n",
    "from IPython.display import IFrame\n",
    "IFrame(src=file_name, width=500, height=400)"
   ]
  },
  {
   "cell_type": "code",
   "execution_count": 8,
   "id": "990b3e33",
   "metadata": {},
   "outputs": [
    {
     "name": "stdout",
     "output_type": "stream",
     "text": [
      "       country continent  year  lifeExp       pop   gdpPercap iso_alpha  \\\n",
      "0  Afghanistan      Asia  1952   28.801   8425333  779.445314       AFG   \n",
      "1  Afghanistan      Asia  1957   30.332   9240934  820.853030       AFG   \n",
      "2  Afghanistan      Asia  1962   31.997  10267083  853.100710       AFG   \n",
      "3  Afghanistan      Asia  1967   34.020  11537966  836.197138       AFG   \n",
      "4  Afghanistan      Asia  1972   36.088  13079460  739.981106       AFG   \n",
      "\n",
      "   iso_num  \n",
      "0        4  \n",
      "1        4  \n",
      "2        4  \n",
      "3        4  \n",
      "4        4  \n"
     ]
    }
   ],
   "source": [
    "import plotly.express as px\n",
    "df = px.data.gapminder()\n",
    "# print(df.keys())\n",
    "print(df.head())"
   ]
  },
  {
   "cell_type": "code",
   "execution_count": 9,
   "id": "ab0d329a",
   "metadata": {},
   "outputs": [
    {
     "data": {
      "text/html": [
       "\n",
       "        <iframe\n",
       "            width=\"1000\"\n",
       "            height=\"500\"\n",
       "            src=\"./img/plotly-theme-6.html\"\n",
       "            frameborder=\"0\"\n",
       "            allowfullscreen\n",
       "            \n",
       "        ></iframe>\n",
       "        "
      ],
      "text/plain": [
       "<IPython.lib.display.IFrame at 0x156b9b790>"
      ]
     },
     "execution_count": 24,
     "metadata": {},
     "output_type": "execute_result"
    }
   ],
   "source": [
    "# https://plotly.com/python/templates/\n",
    "import plotly.express as px\n",
    "\n",
    "df = px.data.gapminder()\n",
    "df_2007 = df.query(\"year==2007\")\n",
    "k=0\n",
    "for template in [\n",
    "    \"plotly\",\n",
    "    \"plotly_white\",\n",
    "    \"plotly_dark\",\n",
    "    \"ggplot2\",\n",
    "    \"seaborn\",\n",
    "    \"none\",\n",
    "    \"simple_white\",\n",
    "]:\n",
    "    fig = px.scatter(\n",
    "        df_2007,\n",
    "        x=\"gdpPercap\",\n",
    "        y=\"lifeExp\",\n",
    "        size=df_2007[\"pop\"] ,\n",
    "        color=\"continent\",\n",
    "        log_x=True,\n",
    "        size_max=60,\n",
    "        template=template,\n",
    "        title=\"Gapminder 2007: '%s' theme\" % template,\n",
    "    )\n",
    "    \n",
    "    file_name=\"./img/plotly-theme-\"+str(k)+\".html\"; # print(file_name)\n",
    "    fig.write_html(file_name)\n",
    "    k+=1\n",
    "\n",
    "from IPython.display import IFrame\n",
    "IFrame(src=file_name, width=1000, height=500)"
   ]
  },
  {
   "cell_type": "code",
   "execution_count": 10,
   "id": "fd580d8a",
   "metadata": {},
   "outputs": [
    {
     "name": "stdout",
     "output_type": "stream",
     "text": [
      "Figure({\n",
      "    'data': [{'hovertemplate': 'x=%{x}<br>y=%{y}<extra></extra>',\n",
      "              'legendgroup': '',\n",
      "              'line': {'color': '#636efa', 'dash': 'solid'},\n",
      "              'marker': {'symbol': 'circle'},\n",
      "              'mode': 'lines',\n",
      "              'name': '',\n",
      "              'orientation': 'v',\n",
      "              'showlegend': False,\n",
      "              'type': 'scatter',\n",
      "              'x': array(['a', 'b', 'c'], dtype=object),\n",
      "              'xaxis': 'x',\n",
      "              'y': array([1, 3, 2]),\n",
      "              'yaxis': 'y'}],\n",
      "    'layout': {'legend': {'tracegroupgap': 0},\n",
      "               'template': '...',\n",
      "               'title': {'text': 'sample figure'},\n",
      "               'xaxis': {'anchor': 'y', 'domain': [0.0, 1.0], 'title': {'text': 'x'}},\n",
      "               'yaxis': {'anchor': 'x', 'domain': [0.0, 1.0], 'title': {'text': 'y'}}}\n",
      "})\n"
     ]
    }
   ],
   "source": [
    "import plotly.express as px\n",
    "fig = px.line(x=[\"a\",\"b\",\"c\"], y=[1,3,2], title=\"sample figure\")\n",
    "print(fig)\n",
    "# fig.show()"
   ]
  },
  {
   "cell_type": "code",
   "execution_count": 11,
   "id": "e3741919",
   "metadata": {},
   "outputs": [
    {
     "data": {
      "text/html": [
       "\n",
       "        <iframe\n",
       "            width=\"1000\"\n",
       "            height=\"500\"\n",
       "            src=\"./img/line-plot-1.html\"\n",
       "            frameborder=\"0\"\n",
       "            allowfullscreen\n",
       "            \n",
       "        ></iframe>\n",
       "        "
      ],
      "text/plain": [
       "<IPython.lib.display.IFrame at 0x156b99f60>"
      ]
     },
     "execution_count": 26,
     "metadata": {},
     "output_type": "execute_result"
    }
   ],
   "source": [
    "import plotly.express as px\n",
    "\n",
    "# EXAMPLE-1\n",
    "gap = px.data.gapminder()\n",
    "df = gap.query(\"continent != 'Asia'\")\n",
    "fig = px.line(\n",
    "    df,\n",
    "    x=\"year\",\n",
    "    y=\"lifeExp\",\n",
    "    color=\"continent\",\n",
    "    line_group=\"country\",\n",
    "    hover_name=\"country\",\n",
    "    height=500,\n",
    "    width=1000,\n",
    "    template=\"presentation\",\n",
    "    labels={\"lifeExp\":\"Life expectancy\", \"year\":\"Year\"},\n",
    ")\n",
    "fig.update_layout(showlegend=False)\n",
    "# fig.show()\n",
    "\n",
    "\n",
    "# SAVE AND RENDER \n",
    "file_name=\"./img/line-plot-1.html\"\n",
    "fig.write_html(file_name)\n",
    "from IPython.display import IFrame\n",
    "IFrame(src=file_name, width=1000, height=500)"
   ]
  },
  {
   "cell_type": "code",
   "execution_count": 12,
   "id": "1dab8390",
   "metadata": {},
   "outputs": [
    {
     "data": {
      "text/html": [
       "\n",
       "        <iframe\n",
       "            width=\"1000\"\n",
       "            height=\"500\"\n",
       "            src=\"./img/facets.html\"\n",
       "            frameborder=\"0\"\n",
       "            allowfullscreen\n",
       "            \n",
       "        ></iframe>\n",
       "        "
      ],
      "text/plain": [
       "<IPython.lib.display.IFrame at 0x1495105b0>"
      ]
     },
     "execution_count": 27,
     "metadata": {},
     "output_type": "execute_result"
    }
   ],
   "source": [
    "import plotly.express as px\n",
    "\n",
    "# import seaborn as sns\n",
    "\n",
    "gap = px.data.gapminder()\n",
    "\n",
    "fig = px.line(\n",
    "    data_frame=gap,\n",
    "    x=\"year\",\n",
    "    y=\"lifeExp\",\n",
    "    color=\"continent\",\n",
    "    facet_col=\"continent\",\n",
    "    # line_group=\"country\",\n",
    "    facet_col_wrap=3,  # << facet_col is the key\n",
    "    labels={\"lifeExp\": \"Life expectancy\"}, #, \"year\" : 'Time (years)'},\n",
    "    template=\"plotly_white\",\n",
    "    width=1000,\n",
    "    height=1000,\n",
    ").update_layout(showlegend=False)\n",
    "# fig.show()\n",
    "\n",
    "# SAVE AND RENDER \n",
    "file_name=\"./img/facets.html\"\n",
    "fig.write_html(file_name)\n",
    "from IPython.display import IFrame\n",
    "IFrame(src=file_name, width=1000, height=500)"
   ]
  },
  {
   "cell_type": "code",
   "execution_count": 13,
   "id": "b00b32c4",
   "metadata": {},
   "outputs": [
    {
     "data": {
      "text/html": [
       "\n",
       "        <iframe\n",
       "            width=\"1000\"\n",
       "            height=\"500\"\n",
       "            src=\"./img/plotly-custom.html\"\n",
       "            frameborder=\"0\"\n",
       "            allowfullscreen\n",
       "            \n",
       "        ></iframe>\n",
       "        "
      ],
      "text/plain": [
       "<IPython.lib.display.IFrame at 0x156bebb50>"
      ]
     },
     "execution_count": 28,
     "metadata": {},
     "output_type": "execute_result"
    }
   ],
   "source": [
    "import plotly.express as px\n",
    "import seaborn as sns\n",
    "\n",
    "penguins = sns.load_dataset(\"penguins\")\n",
    "fig = px.scatter(\n",
    "    data_frame=penguins,\n",
    "    x=\"bill_length_mm\",\n",
    "    y=\"body_mass_g\",\n",
    "    color=\"species\",\n",
    "    template=\"plotly_white\",\n",
    "    labels={\n",
    "        \"bill_length_mm\":\"Bill length (mm)\",\n",
    "        \"body_mass_g\":\"Body mass (g)\",\n",
    "        \"species\":\"Species\"},\n",
    "    title=\"Palmer Penguins\",\n",
    ")\n",
    "\n",
    "# UPDATE TOOL TIP\n",
    "fig.update_traces(\n",
    "    customdata=penguins,\n",
    "    hovertemplate=\"Island: %{customdata[1]}<br>Sex: %{customdata[6]}\",\n",
    ")\n",
    "\n",
    "file_name=\"./img/plotly-custom.html\"\n",
    "fig.write_html(file_name)\n",
    "from IPython.display import IFrame\n",
    "IFrame(src=file_name, width=1000, height=500)"
   ]
  },
  {
   "cell_type": "code",
   "execution_count": 14,
   "id": "7098ca48",
   "metadata": {},
   "outputs": [
    {
     "data": {
      "text/html": [
       "\n",
       "        <iframe\n",
       "            width=\"1000\"\n",
       "            height=\"1000\"\n",
       "            src=\"./img/plotly-3D.html\"\n",
       "            frameborder=\"0\"\n",
       "            allowfullscreen\n",
       "            \n",
       "        ></iframe>\n",
       "        "
      ],
      "text/plain": [
       "<IPython.lib.display.IFrame at 0x149510790>"
      ]
     },
     "execution_count": 29,
     "metadata": {},
     "output_type": "execute_result"
    }
   ],
   "source": [
    "# SOURCE: https://towardsdatascience.com/cheat-codes-to-better-\n",
    "# visualisations-with-plotly-express-21caece3db01\n",
    "\n",
    "import plotly.express as px\n",
    "import seaborn as sns\n",
    "\n",
    "# GET DATA\n",
    "election = px.data.election()\n",
    "\n",
    "# GENERATE FIGURE\n",
    "fig = px.scatter_3d(\n",
    "    election,  # dataframe\n",
    "    x=\"Joly\",  # x-values column\n",
    "    y=\"Coderre\",  # y-values column\n",
    "    z=\"Bergeron\",  # z-values column\n",
    "    color=\"winner\",  # column shown by color\n",
    "    width=500,\n",
    "    height=500,\n",
    "    hover_name=\"district\",  # hover title\n",
    "    symbol=\"result\",  # column shown by shape\n",
    "    color_discrete_map={\"Joly\": \"blue\", \"Bergeron\": \"green\", \"Coderre\": \"red\"},\n",
    ")\n",
    "# specific colors for x,y,z values            )\n",
    "# fig.show()\n",
    "\n",
    "file_name=\"./img/plotly-3D.html\"\n",
    "fig.write_html(file_name)\n",
    "from IPython.display import IFrame\n",
    "IFrame(src=file_name, width=1000, height=1000)"
   ]
  },
  {
   "cell_type": "code",
   "execution_count": 15,
   "id": "c9091041",
   "metadata": {},
   "outputs": [
    {
     "data": {
      "text/html": [
       "\n",
       "        <iframe\n",
       "            width=\"800\"\n",
       "            height=\"800\"\n",
       "            src=\"./img/boken-2.html\"\n",
       "            frameborder=\"0\"\n",
       "            allowfullscreen\n",
       "            \n",
       "        ></iframe>\n",
       "        "
      ],
      "text/plain": [
       "<IPython.lib.display.IFrame at 0x156beab90>"
      ]
     },
     "execution_count": 30,
     "metadata": {},
     "output_type": "execute_result"
    }
   ],
   "source": [
    "# Source: https://buggyprogrammer.com/bokeh-vs-plotly-which-one-is-better-in-2022/\n",
    "\n",
    "from bokeh.plotting import figure, output_file, save\n",
    "# output_notebook()\n",
    "\n",
    "x = [0.1, 0.5, 1.0, 1.5, 2.0, 2.5, 3.0]\n",
    "y = [i**2 for i in x]\n",
    "\n",
    "fig = figure(\n",
    "    tools=\"pan,box_zoom,wheel_zoom,zoom_in,zoom_out,reset,save\",\n",
    "    title=\"Example Bokeh plot\",\n",
    "    y_axis_type=\"log\",\n",
    "    y_range=[0.001, 10**3],\n",
    "    x_axis_label='Sections',\n",
    "    y_axis_label='Particles (log)',\n",
    "    plot_width=600, plot_height=400,\n",
    ")\n",
    "\n",
    "fig.circle(x, x, legend_label=\"y=x\", fill_color=\"white\", size=8)\n",
    "fig.line(x, y, legend_label=\"y=x^2\", line_width=3, line_color=\"red\")\n",
    "\n",
    "# show(fig)\n",
    "file_name=\"./img/boken-2.html\"\n",
    "output_file(file_name)\n",
    "save(fig)\n",
    "from IPython.display import IFrame\n",
    "IFrame(src=file_name, width=800, height=800)"
   ]
  },
  {
   "cell_type": "code",
   "execution_count": 16,
   "id": "940a08a6",
   "metadata": {},
   "outputs": [
    {
     "data": {
      "text/html": [
       "\n",
       "        <iframe\n",
       "            width=\"800\"\n",
       "            height=\"800\"\n",
       "            src=\"./img/boken-1.html\"\n",
       "            frameborder=\"0\"\n",
       "            allowfullscreen\n",
       "            \n",
       "        ></iframe>\n",
       "        "
      ],
      "text/plain": [
       "<IPython.lib.display.IFrame at 0x15751a080>"
      ]
     },
     "execution_count": 31,
     "metadata": {},
     "output_type": "execute_result"
    }
   ],
   "source": [
    "# LINEPLOT\n",
    "# import libraries\n",
    "from bokeh.plotting import figure, output_file, show, save\n",
    "\n",
    "# Setup some data\n",
    "x = [1, 2, 3, 4, 5]\n",
    "y = [6, 7, 2, 4, 5]\n",
    "# output_file(\"lines2.html\")\n",
    "fig = figure(\n",
    "    title=\"Another Line Example\",\n",
    "    x_axis_label=\"x\",\n",
    "    y_axis_label=\"y\",\n",
    ")\n",
    "# Add two lines\n",
    "fig.line(\n",
    "    x,\n",
    "    y,\n",
    "    legend_label=\"Line 1\",\n",
    "    line_width=2,\n",
    "    line_color=\"green\",\n",
    ")\n",
    "fig.line(\n",
    "    x,\n",
    "    x,\n",
    "    legend_label=\"Line 2\",\n",
    "    line_width=2,\n",
    "    line_color=\"red\",\n",
    ")\n",
    "# Show the results\n",
    "# show(fig)\n",
    "\n",
    "file_name=\"./img/boken-1.html\"\n",
    "output_file(file_name)\n",
    "save(fig)\n",
    "from IPython.display import IFrame\n",
    "IFrame(src=file_name, width=800, height=800)"
   ]
  },
  {
   "cell_type": "code",
   "execution_count": 17,
   "id": "0b4b1635",
   "metadata": {},
   "outputs": [
    {
     "data": {
      "text/html": [
       "\n",
       "        <iframe\n",
       "            width=\"1000\"\n",
       "            height=\"1000\"\n",
       "            src=\"./img/boken-2.html\"\n",
       "            frameborder=\"0\"\n",
       "            allowfullscreen\n",
       "            \n",
       "        ></iframe>\n",
       "        "
      ],
      "text/plain": [
       "<IPython.lib.display.IFrame at 0x15737da20>"
      ]
     },
     "execution_count": 32,
     "metadata": {},
     "output_type": "execute_result"
    }
   ],
   "source": [
    "from bokeh.layouts import layout\n",
    "from bokeh.models import Div, RangeSlider, Spinner\n",
    "from bokeh.plotting import figure, show\n",
    "\n",
    "# prepare some data\n",
    "x = [1, 2, 3, 4, 5, 6, 7, 8, 9, 10]\n",
    "y = [4, 5, 5, 7, 2, 6, 4, 9, 1, 3]\n",
    "\n",
    "# create plot with circle glyphs\n",
    "p = figure(\n",
    "    x_range=(1, 9),\n",
    "    width=500,\n",
    "    height=250,\n",
    ")\n",
    "points = p.circle(\n",
    "    x=x,\n",
    "    y=y,\n",
    "    size=30,\n",
    "    fill_color=\"#21a7df\",\n",
    ")\n",
    "\n",
    "# set up textarea (div)\n",
    "div = Div(\n",
    "    text=\"\"\"\n",
    "            <p>Select the circle's size using this control element:</p>\n",
    "            \"\"\",\n",
    "    width=200,\n",
    "    height=30,\n",
    ")\n",
    "\n",
    "# set up spinner\n",
    "spinner = Spinner(\n",
    "    title=\"Circle size\",\n",
    "    low=0,\n",
    "    high=60,\n",
    "    step=5,\n",
    "    value=points.glyph.size,\n",
    "    width=200,\n",
    ")\n",
    "spinner.js_link(\"value\", points.glyph, \"size\")\n",
    "\n",
    "# set up RangeSlider\n",
    "range_slider = RangeSlider(\n",
    "    title=\"Adjust x-axis range\",\n",
    "    start=0,\n",
    "    end=10,\n",
    "    step=1,\n",
    "    value=(p.x_range.start, p.x_range.end),\n",
    ")\n",
    "range_slider.js_link(\n",
    "    \"value\",\n",
    "    p.x_range,\n",
    "    \"start\",\n",
    "    attr_selector=0,\n",
    ")\n",
    "range_slider.js_link(\n",
    "    \"value\",\n",
    "    p.x_range,\n",
    "    \"end\",\n",
    "    attr_selector=1,\n",
    ")\n",
    "\n",
    "# create layout\n",
    "layout = layout(\n",
    "    [\n",
    "        [div, spinner],\n",
    "        [range_slider],\n",
    "        [p],\n",
    "    ]\n",
    ")\n",
    "\n",
    "# show result\n",
    "# show(layout)\n",
    "\n",
    "file_name=\"./img/boken-2.html\"\n",
    "output_file(file_name)\n",
    "save(layout)\n",
    "from IPython.display import IFrame\n",
    "IFrame(src=file_name, width=1000, height=1000)"
   ]
  }
 ],
 "metadata": {
  "kernelspec": {
   "display_name": "Python 3 (ipykernel)",
   "language": "python",
   "name": "python3"
  }
 },
 "nbformat": 4,
 "nbformat_minor": 5
}