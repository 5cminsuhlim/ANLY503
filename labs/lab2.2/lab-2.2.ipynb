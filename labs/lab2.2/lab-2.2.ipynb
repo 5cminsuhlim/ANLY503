{
 "cells": [
  {
   "attachments": {},
   "cell_type": "markdown",
   "metadata": {},
   "source": [
    "# Lab-2.2: Tableau\n",
    "\n",
    "**Instructions**\n",
    "\n",
    "* Read and work through all tutorial content on the `Tableau` page, under the `slides` tab, on the course website.\n",
    "* Also complete the following assignment below \n",
    "  * [Click here](lab-2.2.zip) to download the notebook\n",
    "* The data for the assignment is in the file `mpg.xlsx` \n",
    "  \n",
    "**Submission:**\n",
    "\n",
    "* You need to upload ONE document to Canvas when you are done\n",
    "  * (1) An HTML (or PDF) version of the completed form of this notebook \n",
    "* All outputs must be visible in the uploaded version, including code-cell outputs, images, graphs, etc\n",
    "* i.e. replace the provided plots, with your plots, and then render to HTML.\n",
    "* The file should be \"self contained\", meaning no external dependencies are needed."
   ]
  },
  {
   "attachments": {},
   "cell_type": "markdown",
   "metadata": {},
   "source": [
    "### Lab-2.2.1: Create a worksheet\n",
    "\n",
    "* Re-create the following image generated using Tableau, do not use any other visualization tools.\n",
    "* The image should be more or less identical\n",
    "* However, **you must use a different color pallet** than shown in the provided image. \n",
    "* To save the image, click the `Workspace` tab and select `Export --> image`\n",
    "\n",
    "![](img/sheet-1.png)"
   ]
  },
  {
   "attachments": {},
   "cell_type": "markdown",
   "metadata": {},
   "source": [
    "### Lab-2.2.2: Create a dashboard\n",
    "\n",
    "* Re-create the following dashboard generated using Tableau, do not use any other visualization tools.\n",
    "* The image should be more or less identical\n",
    "* However, **you must use a different color pallet** than shown in the provided image. \n",
    "* Notice that you need to create additional worksheets on top of the one from `lab-2.2.2` to create the dashboard\n",
    "* To save the image, click the `Dashboard` tab and select `Export image`\n",
    "\n",
    "![](img/Dashboard-1.png)"
   ]
  },
  {
   "attachments": {},
   "cell_type": "markdown",
   "metadata": {},
   "source": [
    "### Lab-2.2.3: Dashboard Filtering\n",
    "\n",
    "* Re-create the following dashboard generated using Tableau, do not use any other visualization tools. You can filter the previous dashboard to get this effect. \n",
    "* The image should be more or less identical\n",
    "* However, **you must use a different color pallet** than shown in the provided image. \n",
    "\n",
    "![](img/Dashboard-2.png)\n",
    "![](img/Dashboard-3.png)"
   ]
  }
 ],
 "metadata": {
  "kernelspec": {
   "display_name": "anly591",
   "language": "python",
   "name": "python3"
  },
  "language_info": {
   "codemirror_mode": {
    "name": "ipython",
    "version": 3
   },
   "file_extension": ".py",
   "mimetype": "text/x-python",
   "name": "python",
   "nbconvert_exporter": "python",
   "pygments_lexer": "ipython3",
   "version": "3.10.9"
  },
  "orig_nbformat": 4,
  "vscode": {
   "interpreter": {
    "hash": "304b49f634090ab397c2917a52a1aa10bf8db2d3ade2c5693d59dc6b465fc0f4"
   }
  }
 },
 "nbformat": 4,
 "nbformat_minor": 2
}
